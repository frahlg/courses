{
 "cells": [
  {
   "cell_type": "markdown",
   "metadata": {
    "slideshow": {
     "slide_type": "slide"
    }
   },
   "source": [
    "# Lektion 2\n",
    "\n",
    "Date: 2021-09-01\n",
    "\n",
    "## 1DV501, Grundläggande programmering\n",
    "*Fredrik Ahlgren*\n",
    "\n",
    "---\n",
    " Start 10:15\n"
   ]
  },
  {
   "cell_type": "markdown",
   "metadata": {},
   "source": [
    "\n",
    "\n",
    "## Agenda\n",
    "\n",
    "\n",
    "- Variabler\n",
    "- Print statements\n",
    "- Strings\n",
    "- Number types\n",
    "- Type conversions\n",
    "- Integer operations\n",
    "- Read text from input\n",
    "\n",
    "Läsinstruktioner:\n",
    "- Kap. 2.1-2.8 och 3.1-3.8 Python Fundamentals, Halterman.\n",
    "Övningar: \n",
    "- Exercises 5-12 in Assignment 1\n",
    "\n",
    "---\n",
    "\n",
    "### Python is supposed to be fun\n",
    "\n",
    "Released in 1991. \n",
    "\n",
    "Python is:\n",
    "\n",
    "- interpreted\n",
    "- high-level\n",
    "- general-purpose\n",
    "\n",
    "Can be used for: back end development, software development, data science (yes - it's really a replacement for Matlab in many ways), machine learning, embedded systems (yes - there is also MicroPython!) and writing system scripts, and whatever you can think of in software.\n",
    "\n",
    "*\"batteries included\"*\n",
    "\n",
    "Current Python version: 3.9.7 (2021-08-31)\n",
    "\n",
    "- Read the documentation, https://docs.python.org/3/\n",
    "\n",
    "---"
   ]
  },
  {
   "cell_type": "markdown",
   "metadata": {},
   "source": [
    "# The Zen of Python"
   ]
  },
  {
   "cell_type": "code",
   "execution_count": 6,
   "metadata": {},
   "outputs": [
    {
     "data": {
      "text/plain": [
       "2"
      ]
     },
     "execution_count": 6,
     "metadata": {},
     "output_type": "execute_result"
    }
   ],
   "source": [
    "1+1"
   ]
  },
  {
   "cell_type": "code",
   "execution_count": 5,
   "metadata": {},
   "outputs": [],
   "source": [
    "import this"
   ]
  },
  {
   "cell_type": "markdown",
   "metadata": {},
   "source": [
    "# Prepare VS Code for assignments\n",
    "\n",
    "You will need to set up your IDE (Integrated Development Environment). VSCode is recommended, but there are many alternatives. In this course, please use VSCode as it will be much easier to help out. In short - VSCode is just a glorified text editor, even Notepad or Textedit could be used (in theory - even MS Word can be used but don't go there ...).\n",
    "\n",
    "The actual program itself is run by the Python interpreter. That is a program that you install on your computer that reads the Python-code (which is just a plain text file, formatted to the correct syntax).\n",
    "\n"
   ]
  },
  {
   "cell_type": "markdown",
   "metadata": {},
   "source": [
    "## Suggested folder structure\n",
    "\n",
    "```\n",
    "..\n",
    "software\n",
    "        python_courses\n",
    "            1DV501 (or 1DT901)\n",
    "```\n",
    "         \n",
    "Create this structure using your operating system. We suggest that you place the folder software close to (or inside) your root folder. Then do the following:\n",
    "1. Start VS Code\n",
    "2. Use File → Open... and select folder 1DV501 ⇒ 1DV501 shows up in VC Code\n",
    "3. Right-click on 1DV501 and select New Folder and add your_lnu_username_assign1 as a new folder inside 1DV501\n",
    "4. Right-click on your_lnu_username_assign1 and select New File and add hello.py as a new file ⇒ the file hello.py opens up in the editor\n",
    "5. Enter program code (e.g. print(\"Hello\") in the editor window\n",
    "6. Right-click on the editor window and select: Run Python File in Terminal. The result, if everything works, is that Hello is printed on your terminal output.\n",
    "7. Repeat 4. for each new exercise\n",
    "8. Repeat 3. for each new assignment"
   ]
  },
  {
   "cell_type": "markdown",
   "metadata": {},
   "source": [
    "Pointers:\n",
    "\n",
    "- You can inside VSCode choose which interpreter you want to use. If you have several Python-versions installed you can switch by pressing the status bar botton left.\n",
    "- Always save before executing. Ctrl-S or Cmd-S.\n",
    "- The output is opened in an embedded terminal window inside VSCode. Note, this is NOT VScode running the program, it's just a terminal shown inside VSCode.\n",
    "- Using the \"Play\"-button inside VSCode is essentially the same thing as running `python filename.py` in a terminal session.\n",
    "- The `PATH` can be a bit confusing depending on your operating system. In a *NIX system this is set by the session variable when the Shell is started (Bash / Zsh, etc.). If you install Python with Anaconda or from Microsoft Store, or the Python.org website, often the PATH is automatically configured. Often no need to worry.\n",
    "- Some OS already have Python installed as default. That might be fine, as long as it's version 3.3+ it should not matter very much in this course. (If you have 2.7 it is a problem).\n",
    "- Get used to keyboard shortcuts. They are helpful. The IDE is your main worktool, customize it for your needs.\n"
   ]
  },
  {
   "cell_type": "markdown",
   "metadata": {
    "slideshow": {
     "slide_type": "slide"
    }
   },
   "source": [
    "\n",
    "##  Variabler, print()\n",
    "\n",
    "- Variabler sätts med ´=´\n",
    "- Python är \"intelligent\", behöver ej fördefinera (nedan *integer*)\n",
    "\n",
    "Example 1:\n",
    "```\n",
    "a = 10\n",
    "b = 5\n",
    "print(a+b)\n",
    "```\n",
    "\n",
    "Example 2:\n",
    "```\n",
    "a = 10\n",
    "b = a + 7\n",
    "print(a, b)\n",
    "```"
   ]
  },
  {
   "cell_type": "code",
   "execution_count": 8,
   "metadata": {
    "slideshow": {
     "slide_type": "slide"
    }
   },
   "outputs": [
    {
     "name": "stdout",
     "output_type": "stream",
     "text": [
      "15\n"
     ]
    }
   ],
   "source": [
    "# Exempel 1\n",
    "\n",
    "a = 10\n",
    "b = 5\n",
    "c = a+b\n",
    "print(c)"
   ]
  },
  {
   "cell_type": "code",
   "execution_count": 10,
   "metadata": {
    "slideshow": {
     "slide_type": "slide"
    }
   },
   "outputs": [
    {
     "ename": "SyntaxError",
     "evalue": "cannot assign to literal (3913959316.py, line 3)",
     "output_type": "error",
     "traceback": [
      "\u001b[0;36m  File \u001b[0;32m\"/var/folders/c2/0wzvtyxs7kd27czh1j640t4w0000gp/T/ipykernel_22079/3913959316.py\"\u001b[0;36m, line \u001b[0;32m3\u001b[0m\n\u001b[0;31m    10= 11\u001b[0m\n\u001b[0m    ^\u001b[0m\n\u001b[0;31mSyntaxError\u001b[0m\u001b[0;31m:\u001b[0m cannot assign to literal\n"
     ]
    }
   ],
   "source": [
    "# Exempel 2\n",
    "\n",
    "10= 11\n",
    "b = a + 7\n",
    "print(a, b)"
   ]
  },
  {
   "cell_type": "code",
   "execution_count": 5,
   "metadata": {},
   "outputs": [],
   "source": [
    "d = 1"
   ]
  },
  {
   "cell_type": "code",
   "execution_count": 8,
   "metadata": {},
   "outputs": [
    {
     "name": "stdout",
     "output_type": "stream",
     "text": [
      "1\n"
     ]
    }
   ],
   "source": [
    "print(d)"
   ]
  },
  {
   "cell_type": "markdown",
   "metadata": {},
   "source": [
    "\n",
    "\n",
    "- ``` a, b ``` --> *variabler*.\n",
    "- ``` a = 10 ```  --> assigment.\n",
    "- ``` b = a + 7 ``` --> a används för att assigna b\n",
    "\n",
    "- Variabler måste **assignas** före de används (ej defineras)\n",
    "- Variabel ensam på vänster sida\n",
    "\n",
    "- ```a + 1 = 10 # ERROR!```"
   ]
  },
  {
   "cell_type": "code",
   "execution_count": 12,
   "metadata": {},
   "outputs": [],
   "source": [
    "ny_variabel = 1"
   ]
  },
  {
   "cell_type": "code",
   "execution_count": 14,
   "metadata": {},
   "outputs": [
    {
     "ename": "NameError",
     "evalue": "name 'ny_variabel2' is not defined",
     "output_type": "error",
     "traceback": [
      "\u001b[0;31m---------------------------------------------------------------------------\u001b[0m",
      "\u001b[0;31mNameError\u001b[0m                                 Traceback (most recent call last)",
      "\u001b[0;32m/var/folders/c2/0wzvtyxs7kd27czh1j640t4w0000gp/T/ipykernel_22079/3881717899.py\u001b[0m in \u001b[0;36m<module>\u001b[0;34m\u001b[0m\n\u001b[0;32m----> 1\u001b[0;31m \u001b[0mny_variabel2\u001b[0m\u001b[0;34m\u001b[0m\u001b[0;34m\u001b[0m\u001b[0m\n\u001b[0m",
      "\u001b[0;31mNameError\u001b[0m: name 'ny_variabel2' is not defined"
     ]
    }
   ],
   "source": [
    "ny_variabel2"
   ]
  },
  {
   "cell_type": "markdown",
   "metadata": {},
   "source": [
    "\n",
    "- Variabler är 'containers' för data\n",
    "- En variabel skapas när ett värde 'assignas'.\n",
    "\n",
    "---\n",
    "\n",
    "## Variables are containers for storing data values\n",
    "* A variable is created the moment you first assign it a value\n",
    "\n",
    "### Python naming conventions (Recommended, not a rule)\n",
    "* Use a lowercase single letter, word, or words.\n",
    "* Separate words with underscores to improve readability.\n",
    "* Examples: x , height , my_variable\n",
    "* Use English, avoid strange characters like the Swedish  ̊a ̈a ̈o ̊AA ̈O ̈\n",
    "\n",
    "\n",
    "\n"
   ]
  },
  {
   "cell_type": "markdown",
   "metadata": {},
   "source": [
    "## Specifika regler för Python\n",
    "\n",
    "- Variable names must start with a letter or the underscore character ( )\n",
    "- A variable name cannot start with a number\n",
    "- A variable name **can only contain alpha-numeric characters and underscores** (a-z, A-Z, 0-9, and )\n",
    "- Python has certain reserved keywords, which can not be used for variables\n",
    "- Variable names are case-sensitive (age, Age and AGE are three different variables)\n",
    "\n",
    "## Python naming conventions (Recommended, not a rule):\n",
    "\n",
    "- Use a lowercase single letter, word, or words.\n",
    "- Separate words with underscores to improve readability.\n",
    "- Examples: ```x , height , my_variable```\n",
    "- Use English, avoid strange characters like the Swedish ÅÄÖ or other special letters"
   ]
  },
  {
   "cell_type": "markdown",
   "metadata": {},
   "source": [
    "**Important**\n",
    "\n",
    "Python keywords **can not be used** as variable names.\n",
    "\n",
    "```False, await, else, import, pass, None, break, except, in, raise, True, class, is, return, pass, global, and, for, while, elif, or, with ... etc ..```\n",
    "\n",
    "About half of the keywords above will be presented and used in this course."
   ]
  },
  {
   "cell_type": "markdown",
   "metadata": {},
   "source": [
    "## Function print()\n",
    "\n",
    "```\n",
    "print(100)\n",
    "print(1, end=\"\")\n",
    "print(2, end=\"x\")\n",
    "print(3, end=\"A\")\n",
    "print(4, end=\"\\n\")\n",
    "```\n",
    "\n",
    "- `print(100)`  default, prints 100 and breaks the line\n",
    "- `print(1, end=\"\")`  prints 1 with no line break\n",
    "- `print(3, end=\"A\")`  ends with A rather than line break\n",
    "- `print(4, end=\"\\n\")`  same as print(4), \\n symbolizes line break\n",
    "- `print(10,20,30,40,50)`  default, prints with a whitespace between each element and breaks the line\n",
    "- `print(1,2,3,4,5, sep=\", \")`  replaces separating whitespace with \", \" (a comma plus whitespace)\n",
    "\n"
   ]
  },
  {
   "cell_type": "code",
   "execution_count": 16,
   "metadata": {},
   "outputs": [
    {
     "name": "stdout",
     "output_type": "stream",
     "text": [
      "100\n",
      "12x3A4\n",
      "10 20 30 40 50\n",
      "1, nästa nummer: 2, nästa nummer: 3, nästa nummer: 4, nästa nummer: 15\n"
     ]
    }
   ],
   "source": [
    "print(100)\n",
    "print(1, end=\"\")\n",
    "print(2, end=\"x\")\n",
    "print(3, end=\"A\")\n",
    "print(4, end=\"\\n\")\n",
    "print(10,20,30,40,50) \n",
    "print(1,2,3,4,5+10, sep=\", nästa nummer: \")"
   ]
  },
  {
   "cell_type": "markdown",
   "metadata": {},
   "source": [
    "## Multiple assignments\n",
    "\n",
    "One assignment on each line (the standard approach):\n",
    "\n",
    "```\n",
    "a = 1\n",
    "b = 2\n",
    "c = 3\n",
    "print(a,b,c) # Output: 1 2 3\n",
    "```\n",
    "\n",
    "Equivalent using multi-assignment (a more compact version):\n",
    "\n",
    "```\n",
    "a,b,c = 1,2,3\n",
    "print(a,b,c) # Output: 1,2,3\n",
    "```\n",
    "\n",
    "\n",
    "\n",
    "- Using multi assignments like a,b,c = 1,2,3 you can assign multiple variables in a single row.\n",
    "- Use it only in trivial assignments like the one above, avoid it when having more complex expressions on the right-hand side."
   ]
  },
  {
   "cell_type": "code",
   "execution_count": 17,
   "metadata": {},
   "outputs": [
    {
     "name": "stdout",
     "output_type": "stream",
     "text": [
      "1 2 3\n"
     ]
    }
   ],
   "source": [
    "a = 1\n",
    "b = 2\n",
    "c = 3\n",
    "print(a,b,c)"
   ]
  },
  {
   "cell_type": "code",
   "execution_count": 19,
   "metadata": {},
   "outputs": [
    {
     "ename": "ValueError",
     "evalue": "not enough values to unpack (expected 4, got 3)",
     "output_type": "error",
     "traceback": [
      "\u001b[0;31m---------------------------------------------------------------------------\u001b[0m",
      "\u001b[0;31mValueError\u001b[0m                                Traceback (most recent call last)",
      "\u001b[0;32m/var/folders/c2/0wzvtyxs7kd27czh1j640t4w0000gp/T/ipykernel_22079/4070268202.py\u001b[0m in \u001b[0;36m<module>\u001b[0;34m\u001b[0m\n\u001b[0;32m----> 1\u001b[0;31m \u001b[0ma\u001b[0m\u001b[0;34m,\u001b[0m\u001b[0mb\u001b[0m\u001b[0;34m,\u001b[0m\u001b[0mc\u001b[0m\u001b[0;34m,\u001b[0m\u001b[0md\u001b[0m \u001b[0;34m=\u001b[0m \u001b[0;36m1\u001b[0m\u001b[0;34m,\u001b[0m\u001b[0;36m2\u001b[0m\u001b[0;34m,\u001b[0m\u001b[0;36m3\u001b[0m\u001b[0;34m\u001b[0m\u001b[0;34m\u001b[0m\u001b[0m\n\u001b[0m\u001b[1;32m      2\u001b[0m \u001b[0mprint\u001b[0m\u001b[0;34m(\u001b[0m\u001b[0ma\u001b[0m\u001b[0;34m,\u001b[0m\u001b[0mb\u001b[0m\u001b[0;34m,\u001b[0m\u001b[0mc\u001b[0m\u001b[0;34m)\u001b[0m\u001b[0;34m\u001b[0m\u001b[0;34m\u001b[0m\u001b[0m\n",
      "\u001b[0;31mValueError\u001b[0m: not enough values to unpack (expected 4, got 3)"
     ]
    }
   ],
   "source": [
    "a,b,c,d = 1,2,3\n",
    "print(a,b,c)"
   ]
  },
  {
   "cell_type": "markdown",
   "metadata": {},
   "source": [
    "## Strings\n",
    "\n",
    "- A string is a sequence of characters\n",
    "- character = letter, digit, whitespace, ... (all sorts of symbols)\n",
    "\n",
    "- String examples:\n",
    "\n",
    "```\n",
    "\"Are you suggesting that coconuts migrate?\"\n",
    "\n",
    "'Not at all. They could be carried.'\n",
    "\n",
    "\"What? A swallow carrying a coconut?\"\n",
    "\n",
    "```\n",
    "\n",
    "\n"
   ]
  },
  {
   "cell_type": "markdown",
   "metadata": {},
   "source": [
    "\n",
    "- A string is created using **\"...\" or '...'**\n",
    "\n"
   ]
  },
  {
   "cell_type": "code",
   "execution_count": 20,
   "metadata": {},
   "outputs": [
    {
     "name": "stdout",
     "output_type": "stream",
     "text": [
      "Dead Collector: Ere, he says he´s not dead. Large Man: Yes he is. 'Dead' Man\": I'm not.\n"
     ]
    }
   ],
   "source": [
    "s1 = 'Dead Collector: Ere, he says he´s not dead.' # Note -> ''\n",
    "s2 = \"Large Man: Yes he is.\" # Note -> \"\"\n",
    "s3 = \"'Dead' Man\\\": I\\'m not.\" # Note -> the Escape-character!\n",
    "print(s1,s2,s3)"
   ]
  },
  {
   "cell_type": "code",
   "execution_count": 23,
   "metadata": {},
   "outputs": [
    {
     "name": "stdout",
     "output_type": "stream",
     "text": [
      "Dead Collector: Ere, he says he´s not dead.\n",
      "Large Man: Yes he is.\n",
      "'Dead' Man\": I'm not.\n"
     ]
    }
   ],
   "source": [
    "s1 = \"Dead Collector: Ere, he says he´s not dead.\" # Note -> ''\n",
    "\n",
    "# Next I am assigning yet another string\n",
    "\n",
    "s2 = \"Large Man: Yes he is.\" # Note -> \"\"\n",
    "s3 = \"'Dead' Man\\\": I\\'m not.\" # Note -> the Escape-character!\n",
    "print(s1)\n",
    "print(s2)\n",
    "print(s3)"
   ]
  },
  {
   "cell_type": "code",
   "execution_count": 12,
   "metadata": {},
   "outputs": [
    {
     "name": "stdout",
     "output_type": "stream",
     "text": [
      "Dead Collector: Ere, he says he´s not dead. \n",
      "Large Man: Yes he is. \n",
      "'Dead' Man\": I'm not.\n"
     ]
    }
   ],
   "source": [
    "s1 = 'Dead Collector: Ere, he says he´s not dead.' # Note -> ''\n",
    "s2 = \"\\nLarge Man: Yes he is.\" # Note -> \"\"\n",
    "s3 = \"\\n'Dead' Man\\\": I\\'m not.\" # Note -> the Escape-character!\n",
    "print(s1,s2,s3)"
   ]
  },
  {
   "cell_type": "markdown",
   "metadata": {},
   "source": [
    "# String Concatenation"
   ]
  },
  {
   "cell_type": "code",
   "execution_count": 25,
   "metadata": {},
   "outputs": [
    {
     "name": "stdout",
     "output_type": "stream",
     "text": [
      "This sentence gives a string that according to me is too long to fiton a single line.\n"
     ]
    }
   ],
   "source": [
    "print(\"This sentence gives a string that\n",
    "      according to me is too long to \n",
    "      iton a single line.\")"
   ]
  },
  {
   "cell_type": "markdown",
   "metadata": {},
   "source": [
    "- You can **not** break a line in the middle of a string.\n",
    "- However, you can create a new string by adding two strings this is called string concatenation"
   ]
  },
  {
   "cell_type": "code",
   "execution_count": 29,
   "metadata": {},
   "outputs": [
    {
     "name": "stdout",
     "output_type": "stream",
     "text": [
      "This sentence gives a string that \n",
      "\n",
      "according to me is too long to fit on a single line.\n"
     ]
    }
   ],
   "source": [
    "print(\"This sentence gives a string that \\n\\n\"+\n",
    "      \"according to me is too long to fit \"\n",
    "      + \"on a single line.\")"
   ]
  },
  {
   "cell_type": "code",
   "execution_count": 30,
   "metadata": {},
   "outputs": [
    {
     "name": "stdout",
     "output_type": "stream",
     "text": [
      "ABC ABC ABC ABC ABC ABC ABC ABC ABC ABC \n"
     ]
    }
   ],
   "source": [
    "s = \"ABC\"\n",
    "print(10*(s+\" \"))"
   ]
  },
  {
   "cell_type": "markdown",
   "metadata": {},
   "source": [
    "# Escape Sequences\n",
    "\n",
    "Escape Sequences: Characters representing another character\n",
    "\n",
    "\n",
    "```\n",
    "\\\" -->  \" \n",
    "\\' -->  '\n",
    "\\\\ -->  \\\n",
    "\\n -->  line break\n",
    "\\t -->  tab\n",
    "```\n",
    "\n"
   ]
  },
  {
   "cell_type": "code",
   "execution_count": null,
   "metadata": {},
   "outputs": [],
   "source": []
  },
  {
   "cell_type": "code",
   "execution_count": 14,
   "metadata": {},
   "outputs": [
    {
     "name": "stdout",
     "output_type": "stream",
     "text": [
      "This sentence gives a string that according to me is too long to fit on a single line.\n"
     ]
    }
   ],
   "source": [
    "print(\"This sentence gives a string that \"+\n",
    "      \"according to me is too long to fit \"+\n",
    "      \"on a single line.\")"
   ]
  },
  {
   "cell_type": "markdown",
   "metadata": {},
   "source": [
    "Notice: string + string = new string\n",
    "\n",
    "```\n",
    "s = 'A'\n",
    "s = s + 'B'\n",
    "s = s + 'C'\n",
    "print(s) # Output: ABC\n",
    "```\n",
    "\n"
   ]
  },
  {
   "cell_type": "code",
   "execution_count": 18,
   "metadata": {},
   "outputs": [
    {
     "name": "stdout",
     "output_type": "stream",
     "text": [
      "ABC\n"
     ]
    }
   ],
   "source": [
    "s = 'A'\n",
    "s = s + 'B'\n",
    "s = s + 'C'\n",
    "print(s)"
   ]
  },
  {
   "cell_type": "markdown",
   "metadata": {},
   "source": [
    "## Escape Sequences"
   ]
  },
  {
   "cell_type": "code",
   "execution_count": 27,
   "metadata": {},
   "outputs": [
    {
     "ename": "SyntaxError",
     "evalue": "invalid syntax (<ipython-input-27-8eef0903064c>, line 1)",
     "output_type": "error",
     "traceback": [
      "\u001b[0;36m  File \u001b[0;32m\"<ipython-input-27-8eef0903064c>\"\u001b[0;36m, line \u001b[0;32m1\u001b[0m\n\u001b[0;31m    print(\"Black Knight: \"It's just a flesh wound.\"\") # Error!\u001b[0m\n\u001b[0m                           ^\u001b[0m\n\u001b[0;31mSyntaxError\u001b[0m\u001b[0;31m:\u001b[0m invalid syntax\n"
     ]
    }
   ],
   "source": [
    "print(\"Black Knight: \"It's just a flesh wound.\"\") # Error!"
   ]
  },
  {
   "cell_type": "markdown",
   "metadata": {},
   "source": [
    "- It is interpreted as: \"And then she said: \" followed by something strange ) Strings created with \"...\" can not contain the character \"\n",
    "- Escape Sequences: Characters representing another character\n",
    "\n",
    "- Most frequently used escape sequences in Python\n",
    "\n",
    "Escape Represents:\n",
    "\n",
    "- \\\" \"\n",
    "- \\' '\n",
    "- \\\\ \\\n",
    "- \\n line break\n",
    "- \\t tab"
   ]
  },
  {
   "cell_type": "code",
   "execution_count": 21,
   "metadata": {},
   "outputs": [
    {
     "name": "stdout",
     "output_type": "stream",
     "text": [
      "Black Knight:\t\"It´s just a flesh wound.\"\n"
     ]
    }
   ],
   "source": [
    "print('Black Knight:\\t\"It´s just a flesh wound.\"')"
   ]
  },
  {
   "cell_type": "markdown",
   "metadata": {},
   "source": [
    "----\n",
    "\n",
    "\n",
    "# Printing formatted strings\n",
    "\n",
    "----"
   ]
  },
  {
   "cell_type": "code",
   "execution_count": 28,
   "metadata": {},
   "outputs": [
    {
     "name": "stdout",
     "output_type": "stream",
     "text": [
      "Black Knight: \"It´s just a flesh wound.\"\n"
     ]
    }
   ],
   "source": [
    "print(\"Black Knight: \\\"It´s just a flesh wound.\\\"\")"
   ]
  },
  {
   "cell_type": "markdown",
   "metadata": {},
   "source": [
    "or ... by using "
   ]
  },
  {
   "cell_type": "markdown",
   "metadata": {},
   "source": [
    "Recommended approach, `f-strings`"
   ]
  },
  {
   "cell_type": "code",
   "execution_count": 29,
   "metadata": {},
   "outputs": [
    {
     "name": "stdout",
     "output_type": "stream",
     "text": [
      "Black Knight: \"It´s just a flesh wound.\"\n"
     ]
    }
   ],
   "source": [
    "print('Black Knight: \"It´s just a flesh wound.\"')"
   ]
  },
  {
   "cell_type": "markdown",
   "metadata": {},
   "source": [
    "# Escape examples"
   ]
  },
  {
   "cell_type": "markdown",
   "metadata": {},
   "source": [
    "# Dynamically typed language"
   ]
  },
  {
   "cell_type": "code",
   "execution_count": 31,
   "metadata": {},
   "outputs": [
    {
     "name": "stdout",
     "output_type": "stream",
     "text": [
      "One\n",
      " \tTwo\n",
      " \t\tThree\n",
      "\n"
     ]
    }
   ],
   "source": [
    "print(\"One\\n \\tTwo\\n \\t\\tThree\\n\")"
   ]
  },
  {
   "cell_type": "code",
   "execution_count": 23,
   "metadata": {},
   "outputs": [
    {
     "name": "stdout",
     "output_type": "stream",
     "text": [
      "King Arthur:\n",
      "\tLook stop that!:\n",
      "Black Knight:\n",
      "\tChicken.\n",
      "King Arthur:\n",
      "\tLook, I'll Have your Leg.\n",
      "Black Knight:\n",
      "\tRight, I'll do you for that.\n"
     ]
    }
   ],
   "source": [
    "print(\"King Arthur:\\n\\tLook stop that!:\\n\"+\"Black Knight:\\n\\tChicken.\\n\"+\"King Arthur:\"+\"\\n\\tLook, I'll Have your Leg.\\n\"+\"Black Knight:\"+\"\\n\\tRight, I'll do you for that.\")"
   ]
  },
  {
   "cell_type": "code",
   "execution_count": 32,
   "metadata": {},
   "outputs": [
    {
     "name": "stdout",
     "output_type": "stream",
     "text": [
      "King Arthur:\n",
      "\tLook stop that!:\n",
      "Black Knight:\n",
      "\tChicken.\n",
      "King Arthur:\n",
      "\tLook, I'll Have your Leg.\n",
      "Black Knight:\n",
      "\tRight, I'll do you for that.\n"
     ]
    }
   ],
   "source": [
    "# Readability counts!\n",
    "\n",
    "print(\"King Arthur:\\n\\tLook stop that!:\\n\"+\n",
    "      \"Black Knight:\\n\\tChicken.\\n\"+\n",
    "      \"King Arthur:\"+\n",
    "      \"\\n\\tLook, I'll Have your Leg.\\n\"+\n",
    "      \"Black Knight:\"\n",
    "      +\"\\n\\tRight, I'll do you for that.\")"
   ]
  },
  {
   "cell_type": "markdown",
   "metadata": {},
   "source": [
    "## Printing formatted strings\n",
    "- Output: height 3.5 and width 4.0 gives area 14.0 (in all three cases)"
   ]
  },
  {
   "cell_type": "code",
   "execution_count": null,
   "metadata": {},
   "outputs": [],
   "source": []
  },
  {
   "cell_type": "code",
   "execution_count": 22,
   "metadata": {},
   "outputs": [
    {
     "name": "stdout",
     "output_type": "stream",
     "text": [
      "height 3.5 and width 4.0 gives area 14.0\n",
      "height 3.5 and width 4.0 gives area 14.0\n",
      "height 3.5 and width 4.0 gives area 14.0\n"
     ]
    }
   ],
   "source": [
    "# Using multiprint\n",
    "h = 3.5\n",
    "w = 4.0 # note the decimal\n",
    "\n",
    "print(\"height\",h,\"and width\",w,\"gives area\",h*w)\n",
    "\n",
    "# Using format\n",
    "print(\"height {0} and width {1} gives area {2}\".format(h,w,h*w))\n",
    "\n",
    "# Using f-strings\n",
    "print(f\"height {h} and width {w} gives area {h*w}\")"
   ]
  },
  {
   "cell_type": "markdown",
   "metadata": {},
   "source": [
    "- The 2nd approach (formatted print) is now outdated and replaced with the 3rd approach\n",
    "- However, the textbook by Halterman sometimes uses the formatted print approach ) you should understand it. Introduced in section 2.8.\n",
    "- **We recommend 1st and 3rd approach**"
   ]
  },
  {
   "cell_type": "markdown",
   "metadata": {},
   "source": [
    "# Variables and Types"
   ]
  },
  {
   "cell_type": "code",
   "execution_count": 32,
   "metadata": {},
   "outputs": [
    {
     "name": "stdout",
     "output_type": "stream",
     "text": [
      "Peasant: Oh, she turned me into a newt! <class 'str'>\n"
     ]
    }
   ],
   "source": [
    "s = 'Peasant: Oh, she turned me into a newt!'\n",
    "print(s, type(s))"
   ]
  },
  {
   "cell_type": "code",
   "execution_count": 33,
   "metadata": {},
   "outputs": [],
   "source": [
    "a = \"5\""
   ]
  },
  {
   "cell_type": "code",
   "execution_count": 36,
   "metadata": {},
   "outputs": [
    {
     "data": {
      "text/plain": [
       "25"
      ]
     },
     "execution_count": 36,
     "metadata": {},
     "output_type": "execute_result"
    }
   ],
   "source": [
    "int(a)*5"
   ]
  },
  {
   "cell_type": "code",
   "execution_count": 44,
   "metadata": {},
   "outputs": [],
   "source": [
    "s = \"1.9a\""
   ]
  },
  {
   "cell_type": "code",
   "execution_count": 45,
   "metadata": {},
   "outputs": [
    {
     "ename": "ValueError",
     "evalue": "invalid literal for int() with base 10: '1.9a'",
     "output_type": "error",
     "traceback": [
      "\u001b[0;31m---------------------------------------------------------------------------\u001b[0m",
      "\u001b[0;31mValueError\u001b[0m                                Traceback (most recent call last)",
      "\u001b[0;32m/var/folders/c2/0wzvtyxs7kd27czh1j640t4w0000gp/T/ipykernel_22079/2179186071.py\u001b[0m in \u001b[0;36m<module>\u001b[0;34m\u001b[0m\n\u001b[0;32m----> 1\u001b[0;31m \u001b[0mint\u001b[0m\u001b[0;34m(\u001b[0m\u001b[0ms\u001b[0m\u001b[0;34m)\u001b[0m\u001b[0;34m\u001b[0m\u001b[0;34m\u001b[0m\u001b[0m\n\u001b[0m",
      "\u001b[0;31mValueError\u001b[0m: invalid literal for int() with base 10: '1.9a'"
     ]
    }
   ],
   "source": [
    "int(s)"
   ]
  },
  {
   "cell_type": "code",
   "execution_count": 40,
   "metadata": {},
   "outputs": [
    {
     "name": "stdout",
     "output_type": "stream",
     "text": [
      "42 <class 'int'>\n"
     ]
    }
   ],
   "source": [
    "s = 42\n",
    "print(s, type(s))"
   ]
  },
  {
   "cell_type": "code",
   "execution_count": 41,
   "metadata": {},
   "outputs": [
    {
     "name": "stdout",
     "output_type": "stream",
     "text": [
      "42.0 <class 'float'>\n"
     ]
    }
   ],
   "source": [
    "s = 42. # note the decimal\n",
    "print(s, type(s))"
   ]
  },
  {
   "cell_type": "markdown",
   "metadata": {},
   "source": [
    "- A variable has a current type depending on what type of value it contains\n",
    "- You can question a variable s of its current type using type(s)\n",
    "- The type function can also be applied on values"
   ]
  },
  {
   "cell_type": "code",
   "execution_count": 46,
   "metadata": {},
   "outputs": [
    {
     "name": "stdout",
     "output_type": "stream",
     "text": [
      "2.1999999999999997\n"
     ]
    }
   ],
   "source": [
    "# Simple math?\n",
    "print(3.3 - 1.1)\n",
    "\n",
    "# The answer .. ?"
   ]
  },
  {
   "cell_type": "code",
   "execution_count": 47,
   "metadata": {},
   "outputs": [
    {
     "name": "stdout",
     "output_type": "stream",
     "text": [
      "3.141592653589793\n"
     ]
    }
   ],
   "source": [
    "import math\n",
    "print(math.pi)"
   ]
  },
  {
   "cell_type": "markdown",
   "metadata": {},
   "source": [
    "## Mixing types\n"
   ]
  },
  {
   "cell_type": "code",
   "execution_count": 48,
   "metadata": {},
   "outputs": [],
   "source": [
    "text = 'Peasant: And the hat. ' + 'She´s a witch!!' # OK!\n",
    "n = 7 + 8 # OK!\n"
   ]
  },
  {
   "cell_type": "code",
   "execution_count": 51,
   "metadata": {},
   "outputs": [
    {
     "name": "stdout",
     "output_type": "stream",
     "text": [
      "Height = 123\n"
     ]
    }
   ],
   "source": [
    "result = \"Height = \" + str(123) # Error!\n",
    "print(result)"
   ]
  },
  {
   "cell_type": "markdown",
   "metadata": {},
   "source": [
    "- You can not concatenate a string with an integer\n",
    "- In general, you can not mix types in expressions\n",
    "- However, you can convert an integer to string and then concatenate them"
   ]
  },
  {
   "cell_type": "code",
   "execution_count": 45,
   "metadata": {},
   "outputs": [
    {
     "name": "stdout",
     "output_type": "stream",
     "text": [
      "Height = 123 <class 'str'>\n"
     ]
    }
   ],
   "source": [
    "h = 123\n",
    "result = \"Height = \" + str(h) # Converts h to a string\n",
    "print(result, type(result) )"
   ]
  },
  {
   "cell_type": "markdown",
   "metadata": {},
   "source": [
    "## Type Conversion\n",
    "\n",
    "- `str(n)` converts a number n to a string\n",
    "- `int(s)` converts a string s to an integer\n",
    "\n",
    "### Example\n",
    "\n",
    "- You will get an error if you try to convert an arbitrary string (e.g. \"hello\") to an integer."
   ]
  },
  {
   "cell_type": "code",
   "execution_count": 48,
   "metadata": {},
   "outputs": [
    {
     "name": "stdout",
     "output_type": "stream",
     "text": [
      "123 <class 'str'>\n",
      "123 <class 'int'>\n"
     ]
    }
   ],
   "source": [
    "s = str(123) # Convert integer to string\n",
    "print(s, type(s))\n",
    "n = int(\"123\") # Convert string to integer\n",
    "print(n, type(n))"
   ]
  },
  {
   "cell_type": "markdown",
   "metadata": {},
   "source": [
    "## Decimal Numbers (1)\n",
    "\n",
    "- Python can of course also handle decimal numbers\n"
   ]
  },
  {
   "cell_type": "code",
   "execution_count": 26,
   "metadata": {},
   "outputs": [
    {
     "data": {
      "text/plain": [
       "6.02214076e+23"
      ]
     },
     "execution_count": 26,
     "metadata": {},
     "output_type": "execute_result"
    }
   ],
   "source": [
    "6.02214076e23 = # * 10^n = e"
   ]
  },
  {
   "cell_type": "code",
   "execution_count": 52,
   "metadata": {},
   "outputs": [
    {
     "name": "stdout",
     "output_type": "stream",
     "text": [
      "3.14159265359 <class 'float'>\n",
      "6 <class 'int'>\n",
      "6.02214076e+23 <class 'float'>\n"
     ]
    }
   ],
   "source": [
    "pi = 3.14159265359\n",
    "print(pi, type(pi))\n",
    "d = 2*3\n",
    "print(d, type(d))\n",
    "Na = 6.02214076e23 # Avogadros number\n",
    "print(Na, type(Na))"
   ]
  },
  {
   "cell_type": "markdown",
   "metadata": {},
   "source": [
    "- Decimal numbers are called float in Python\n",
    "- 6.02214076e23 should be interpreted as 6.02214076 * 10^23"
   ]
  },
  {
   "cell_type": "markdown",
   "metadata": {},
   "source": [
    "## Decimal Numbers (2)\n",
    "\n",
    "- Operations involving floats always give a float\n",
    "- Division using = always give a float"
   ]
  },
  {
   "cell_type": "code",
   "execution_count": 54,
   "metadata": {},
   "outputs": [
    {
     "name": "stdout",
     "output_type": "stream",
     "text": [
      "2.0 <class 'float'>\n",
      "8 <class 'int'>\n",
      "6 <class 'int'>\n"
     ]
    }
   ],
   "source": [
    "print( 4/2 , type(4/2))\n",
    "print( 4*2 , type(4*2))\n",
    "print( 4+2 , type(4+2))"
   ]
  },
  {
   "cell_type": "markdown",
   "metadata": {},
   "source": [
    "## Decimal Numbers (3)\n",
    "\n",
    "- The function ```round()``` is used to round of decimals\n"
   ]
  },
  {
   "cell_type": "code",
   "execution_count": 57,
   "metadata": {},
   "outputs": [
    {
     "name": "stdout",
     "output_type": "stream",
     "text": [
      "1234 <class 'int'>\n",
      "1235 <class 'int'>\n",
      "1235.0 <class 'float'>\n"
     ]
    }
   ],
   "source": [
    "d = 1234.56789\n",
    "x = int(d) # Convert to integer\n",
    "print(x, type(x))\n",
    "x = round(d) # Correctly rounded off\n",
    "print(x, type(x))\n",
    "x = round(d,0) # Two decimals\n",
    "print(x, type(x))"
   ]
  },
  {
   "cell_type": "markdown",
   "metadata": {},
   "source": [
    "- Convert to integer using int(...) ) cuts o\u000b",
    "\n",
    " decimals\n",
    "- round(d) ) correctly rounded o\u000b",
    "\n",
    " integer\n",
    "- round(d,2) ) two decimal float correctly rounded"
   ]
  },
  {
   "cell_type": "markdown",
   "metadata": {},
   "source": [
    "# Programming Example: Circle Area\n",
    "\n",
    "The area A of a circle with radius r can be computed as A=π·r2 where π≈3.141593.\n",
    "\n",
    "Compute the area of a circle with radius r = 5.3 and present the result with 3 decimals (correctly rounded off)."
   ]
  },
  {
   "cell_type": "code",
   "execution_count": 58,
   "metadata": {},
   "outputs": [
    {
     "name": "stdout",
     "output_type": "stream",
     "text": [
      "Circle area: 88.247\n"
     ]
    }
   ],
   "source": [
    "pi = 3.141593\n",
    "r = 5.3\n",
    "A = pi*r*r\n",
    "#A = pi*r**2\n",
    "res = round(A,3)\n",
    "# Compute area\n",
    "# Using ** (raised to)\n",
    "# Round off\n",
    "print(\"Circle area:\", res)"
   ]
  },
  {
   "cell_type": "markdown",
   "metadata": {},
   "source": [
    "---\n",
    "\n",
    "# Integer Division and Modulus\n",
    "\n",
    "---"
   ]
  },
  {
   "cell_type": "markdown",
   "metadata": {},
   "source": [
    "- Integer Division A // B -> how many B fit inside A?\n",
    "\n",
    "### Integer division Example:\n"
   ]
  },
  {
   "cell_type": "code",
   "execution_count": 29,
   "metadata": {},
   "outputs": [
    {
     "data": {
      "text/plain": [
       "2"
      ]
     },
     "execution_count": 29,
     "metadata": {},
     "output_type": "execute_result"
    }
   ],
   "source": [
    "7 // 3"
   ]
  },
  {
   "cell_type": "code",
   "execution_count": 30,
   "metadata": {},
   "outputs": [
    {
     "data": {
      "text/plain": [
       "6"
      ]
     },
     "execution_count": 30,
     "metadata": {},
     "output_type": "execute_result"
    }
   ],
   "source": [
    "27 // 4"
   ]
  },
  {
   "cell_type": "code",
   "execution_count": 31,
   "metadata": {},
   "outputs": [
    {
     "data": {
      "text/plain": [
       "5"
      ]
     },
     "execution_count": 31,
     "metadata": {},
     "output_type": "execute_result"
    }
   ],
   "source": [
    "20 // 4"
   ]
  },
  {
   "cell_type": "code",
   "execution_count": 32,
   "metadata": {},
   "outputs": [
    {
     "data": {
      "text/plain": [
       "0"
      ]
     },
     "execution_count": 32,
     "metadata": {},
     "output_type": "execute_result"
    }
   ],
   "source": [
    "9 // 10"
   ]
  },
  {
   "cell_type": "code",
   "execution_count": 59,
   "metadata": {},
   "outputs": [
    {
     "data": {
      "text/plain": [
       "9.4"
      ]
     },
     "execution_count": 59,
     "metadata": {},
     "output_type": "execute_result"
    }
   ],
   "source": [
    "94 / 10"
   ]
  },
  {
   "cell_type": "code",
   "execution_count": 37,
   "metadata": {},
   "outputs": [
    {
     "data": {
      "text/plain": [
       "-10"
      ]
     },
     "execution_count": 37,
     "metadata": {},
     "output_type": "execute_result"
    }
   ],
   "source": [
    "(-94) // 10"
   ]
  },
  {
   "cell_type": "markdown",
   "metadata": {},
   "source": [
    "...\n",
    "\n",
    "\n",
    "\n",
    "\n",
    "- Wait ... what happened here ???\n",
    "\n",
    "http://python-history.blogspot.com/2010/08/why-pythons-integer-division-floors.html\n",
    "\n",
    "*But if one of the operands is negative, the result is floored, i.e., rounded away from zero (towards negative infinity)*"
   ]
  },
  {
   "cell_type": "markdown",
   "metadata": {},
   "source": [
    "# Modulus\n",
    "\n",
    "- remainder of A in A//B\n",
    "\n",
    "Remainder of the Euclidean division of *a* by *n*, where *a* is the dividend and *n* is the divisor.\n",
    "\n",
    "*\"5 mod 2\"* would evaluate to 1. \n",
    "\n",
    "(RSA (Rivest–Shamir–Adleman) public-key crypto)"
   ]
  },
  {
   "cell_type": "code",
   "execution_count": 62,
   "metadata": {},
   "outputs": [
    {
     "data": {
      "text/plain": [
       "1"
      ]
     },
     "execution_count": 62,
     "metadata": {},
     "output_type": "execute_result"
    }
   ],
   "source": [
    "13%3"
   ]
  },
  {
   "cell_type": "code",
   "execution_count": 40,
   "metadata": {},
   "outputs": [
    {
     "data": {
      "text/plain": [
       "0"
      ]
     },
     "execution_count": 40,
     "metadata": {},
     "output_type": "execute_result"
    }
   ],
   "source": [
    "15%5"
   ]
  },
  {
   "cell_type": "code",
   "execution_count": 41,
   "metadata": {},
   "outputs": [
    {
     "data": {
      "text/plain": [
       "1"
      ]
     },
     "execution_count": 41,
     "metadata": {},
     "output_type": "execute_result"
    }
   ],
   "source": [
    "16%5"
   ]
  },
  {
   "cell_type": "code",
   "execution_count": 42,
   "metadata": {},
   "outputs": [
    {
     "data": {
      "text/plain": [
       "2"
      ]
     },
     "execution_count": 42,
     "metadata": {},
     "output_type": "execute_result"
    }
   ],
   "source": [
    "17%5"
   ]
  },
  {
   "cell_type": "code",
   "execution_count": 43,
   "metadata": {},
   "outputs": [
    {
     "data": {
      "text/plain": [
       "7"
      ]
     },
     "execution_count": 43,
     "metadata": {},
     "output_type": "execute_result"
    }
   ],
   "source": [
    "77%10"
   ]
  },
  {
   "cell_type": "markdown",
   "metadata": {},
   "source": [
    "## Example - Arithmetics"
   ]
  },
  {
   "cell_type": "code",
   "execution_count": 59,
   "metadata": {},
   "outputs": [
    {
     "name": "stdout",
     "output_type": "stream",
     "text": [
      "X = 2.5 , Y = 52.5 , Z = 131.25\n",
      "\n",
      "Division of 17 by 5\n",
      "5 fits 3 times in 17 and reminder is 2\n"
     ]
    }
   ],
   "source": [
    "x = 2.5\n",
    "y = x + 50.0\n",
    "z = x * y\n",
    "\n",
    "print(\"X =\", x, \", Y =\", y, \", Z =\", z)\n",
    "\n",
    "m = 17\n",
    "n = 5\n",
    "\n",
    "div = m // n\n",
    "mod = m % n\n",
    "print(f\"\\nDivision of {m} by {n}\")\n",
    "print(f\"{n} fits {div} times in {m} and reminder is {mod}\")"
   ]
  },
  {
   "cell_type": "markdown",
   "metadata": {},
   "source": [
    "## Operator shortcuts\n",
    "\n",
    "- Python allows certain short cuts for frequently used statements.\n",
    "\n",
    "- The following statements\n"
   ]
  },
  {
   "cell_type": "code",
   "execution_count": 60,
   "metadata": {},
   "outputs": [],
   "source": [
    "n = n + 1 # Increase value of n by 1\n",
    "m = m - 1 # Decrease value of m by 1\n",
    "a = a + 2 # Increase value of a by 2"
   ]
  },
  {
   "cell_type": "markdown",
   "metadata": {},
   "source": [
    "- can also be written as"
   ]
  },
  {
   "cell_type": "code",
   "execution_count": 61,
   "metadata": {},
   "outputs": [],
   "source": [
    "n += 1 # Increase value of n by 1\n",
    "m -= 1 # Decrease value of m by 1\n",
    "a += 2 # Increase value of a by 2"
   ]
  },
  {
   "cell_type": "markdown",
   "metadata": {},
   "source": [
    "- The short cuts above also works for other operators like *,/,%, ...\n",
    "- Many other programming languages use n++ (and ) to increase/decrease by 1, this does not work in Python."
   ]
  },
  {
   "cell_type": "code",
   "execution_count": 63,
   "metadata": {},
   "outputs": [],
   "source": [
    "n /= 2 # Divide\n",
    "m *= 3 # Multiply\n",
    "a %= 3 # Modulus"
   ]
  },
  {
   "cell_type": "markdown",
   "metadata": {},
   "source": [
    "## Reading User Input"
   ]
  },
  {
   "cell_type": "code",
   "execution_count": 64,
   "metadata": {},
   "outputs": [
    {
     "name": "stdout",
     "output_type": "stream",
     "text": [
      "Guard: Halt! Who goes there? 1\n",
      "1\n",
      "Type:  <class 'str'>\n"
     ]
    }
   ],
   "source": [
    "s = input('Guard: Halt! Who goes there? ' )\n",
    "print(s)\n",
    "print('Type: ', type(s))"
   ]
  },
  {
   "cell_type": "markdown",
   "metadata": {},
   "source": [
    "- We can read user input using the function input()\n",
    "- When executed, it halts execution and waits for user input (from the keyboard)\n",
    "- Note: `input()` always returns a string"
   ]
  },
  {
   "cell_type": "markdown",
   "metadata": {},
   "source": [
    "## Reading Numbers\n",
    "\n"
   ]
  },
  {
   "cell_type": "code",
   "execution_count": 66,
   "metadata": {},
   "outputs": [
    {
     "name": "stdout",
     "output_type": "stream",
     "text": [
      "Enter an integer: h\n"
     ]
    },
    {
     "ename": "ValueError",
     "evalue": "invalid literal for int() with base 10: 'h'",
     "output_type": "error",
     "traceback": [
      "\u001b[0;31m---------------------------------------------------------------------------\u001b[0m",
      "\u001b[0;31mValueError\u001b[0m                                Traceback (most recent call last)",
      "\u001b[0;32m/var/folders/c2/0wzvtyxs7kd27czh1j640t4w0000gp/T/ipykernel_22079/2836495826.py\u001b[0m in \u001b[0;36m<module>\u001b[0;34m\u001b[0m\n\u001b[1;32m      1\u001b[0m \u001b[0;31m# Read string and then convert to integer\u001b[0m\u001b[0;34m\u001b[0m\u001b[0;34m\u001b[0m\u001b[0;34m\u001b[0m\u001b[0m\n\u001b[1;32m      2\u001b[0m \u001b[0ms\u001b[0m \u001b[0;34m=\u001b[0m \u001b[0minput\u001b[0m\u001b[0;34m(\u001b[0m\u001b[0;34m\"Enter an integer: \"\u001b[0m\u001b[0;34m)\u001b[0m \u001b[0;31m# A string like \"123\"\u001b[0m\u001b[0;34m\u001b[0m\u001b[0;34m\u001b[0m\u001b[0m\n\u001b[0;32m----> 3\u001b[0;31m \u001b[0mn\u001b[0m \u001b[0;34m=\u001b[0m \u001b[0mint\u001b[0m\u001b[0;34m(\u001b[0m\u001b[0ms\u001b[0m\u001b[0;34m)\u001b[0m \u001b[0;31m# Convert to int\u001b[0m\u001b[0;34m\u001b[0m\u001b[0;34m\u001b[0m\u001b[0m\n\u001b[0m\u001b[1;32m      4\u001b[0m \u001b[0;31m# Read and convert in one line\u001b[0m\u001b[0;34m\u001b[0m\u001b[0;34m\u001b[0m\u001b[0;34m\u001b[0m\u001b[0m\n\u001b[1;32m      5\u001b[0m \u001b[0mm\u001b[0m \u001b[0;34m=\u001b[0m \u001b[0mint\u001b[0m\u001b[0;34m(\u001b[0m \u001b[0minput\u001b[0m\u001b[0;34m(\u001b[0m\u001b[0;34m\"Enter another integer: \"\u001b[0m\u001b[0;34m)\u001b[0m \u001b[0;34m)\u001b[0m \u001b[0;31m# Shortcut\u001b[0m\u001b[0;34m\u001b[0m\u001b[0;34m\u001b[0m\u001b[0m\n",
      "\u001b[0;31mValueError\u001b[0m: invalid literal for int() with base 10: 'h'"
     ]
    }
   ],
   "source": [
    "# Read string and then convert to integer\n",
    "s = input(\"Enter an integer: \") # A string like \"123\"\n",
    "n = int(s) # Convert to int\n",
    "# Read and convert in one line\n",
    "m = int( input(\"Enter another integer: \") ) # Shortcut\n",
    "print(n, \" + \", m, \" = \", n+m)"
   ]
  },
  {
   "cell_type": "markdown",
   "metadata": {},
   "source": [
    "- ```input()``` returns a string -> must be converted before we continue\n",
    "- ```int( input(...) )``` -> read and convert in one go"
   ]
  },
  {
   "cell_type": "markdown",
   "metadata": {},
   "source": [
    "## Programming Examples - BMI\n",
    "\n",
    "### Exercise\n",
    "\n",
    "Write a program bmi.py which computes the BMI (Body Mass Index) for a\n",
    "person. The program will read length and weight from the keyboard and then\n",
    "present the result as output. The BMI is computed as ```weight/(length)^2```, where\n",
    "the length is given in meters and the weight in kilograms. The BMI is always a\n",
    "(correctly rounded) ```integer```.\n",
    "\n",
    "- Weight and length are ```floats```, BMI is an ```int```\n",
    "- How to round of a ```float``` to an ```integer```?\n",
    "\n",
    "\n",
    "- Try to have a plan before you start to program\n",
    "- Take small steps ) add a few lines ...\n",
    "-  ... and print intermediate results along the way"
   ]
  },
  {
   "cell_type": "code",
   "execution_count": 65,
   "metadata": {},
   "outputs": [
    {
     "name": "stdin",
     "output_type": "stream",
     "text": [
      "Your length in meters:  1.9\n",
      "Your weight in kilograms:  50\n"
     ]
    },
    {
     "name": "stdout",
     "output_type": "stream",
     "text": [
      "\n",
      "Your BMI is 14\n"
     ]
    }
   ],
   "source": [
    "# Read input\n",
    "length = float( input(\"Your length in meters: \") )\n",
    "weight = float( input(\"Your weight in kilograms: \") )\n",
    "# Compute BMI\n",
    "bmi = weight/length**2 # Note -> ** = ^\n",
    "bmi = round(bmi)\n",
    "# Present result\n",
    "print(\"\\nYour BMI is\",bmi)"
   ]
  },
  {
   "cell_type": "markdown",
   "metadata": {},
   "source": [
    "## Programming Examples - Pick a digit\n",
    "\n",
    "### Exercise\n",
    "\n",
    "Write a program ```pickdigit.py``` which reads a three-digit integer and then\n",
    "prints the middle digit.\n",
    "\n",
    "An example of an execution:\n",
    "\n",
    "```\n",
    "Enter a three-digit integer: 257\n",
    "The second digit is 5\n",
    "```\n",
    "\n",
    "- Q: How to extract middle digit from an integer?\n",
    "\n",
    "..."
   ]
  },
  {
   "cell_type": "markdown",
   "metadata": {},
   "source": [
    "- A: Remove last digit with integer division ```(n==10)``` and\n",
    "- ... then pick the last remaining digit with modulus ```(n%10)```"
   ]
  },
  {
   "cell_type": "markdown",
   "metadata": {},
   "source": [
    "## Pick a digit - Solution"
   ]
  },
  {
   "cell_type": "code",
   "execution_count": 2,
   "metadata": {},
   "outputs": [
    {
     "name": "stdout",
     "output_type": "stream",
     "text": [
      "Enter a three-digit number: 234\n",
      "The second digit is 3\n"
     ]
    }
   ],
   "source": [
    "# Read input, an integer\n",
    "n = int( input(\"Enter a three-digit number: \"))\n",
    "# Pick mid digit from n = 234\n",
    "n = n//10 # n = 23\n",
    "n = n%10 # n = 3\n",
    "# Present result\n",
    "print(\"The second digit is\",n)"
   ]
  },
  {
   "cell_type": "markdown",
   "metadata": {},
   "source": [
    "### Note\n",
    "\n",
    "- Try to have a plan before you start to program\n",
    "- Attack hard parts/problems first\n",
    "- then add the remaining parts\n",
    "\n",
    "Could the solution above be done in any other way ...?\n"
   ]
  },
  {
   "cell_type": "code",
   "execution_count": 5,
   "metadata": {},
   "outputs": [
    {
     "name": "stdout",
     "output_type": "stream",
     "text": [
      "Write a three digit number: 234\n",
      "3\n"
     ]
    }
   ],
   "source": [
    "a = input('Write a three digit number: ')\n",
    "print(a[1])"
   ]
  },
  {
   "cell_type": "markdown",
   "metadata": {},
   "source": [
    "## About the assignment exercises ...\n",
    "\n",
    "We have two goals with our assignment exercises\n",
    "1. **Practice Python programming**\n",
    "- a lot of exercises using different language constructs\n",
    "\n",
    "2. **Enhance problem solving skills**\n",
    "- Exercises often comes with a problem to solve\n",
    "\n",
    "\n",
    "**Suggested solution strategy**\n",
    "\n",
    "1. Solve the problem -> a solution idea (maybe a sketch on the paper)\n",
    "2. Translate your solution to a Python program\n",
    "\n",
    "- Do not start programming without a solution idea, it will most likely not show up as a miracle while programming\n",
    "- Solve the hard part first, add \"read input\" and \"present result\" afterwards"
   ]
  },
  {
   "cell_type": "markdown",
   "metadata": {},
   "source": [
    "## Until next lecture ...\n",
    "\n",
    "- Start working on the Lecture 2 exercises in Assignment 1\n",
    "- Visit the tutoring sessions\n",
    "- Bring your laptop to the tutoring sessions\n",
    "\n",
    "**For each lecture (recommended)**\n",
    "\n",
    "- Read corresponding sections in textbook by Halterman\n",
    "- Read and understand the lecture slides\n",
    "- Work on the corresponding programming exercises\n"
   ]
  }
 ],
 "metadata": {
  "interpreter": {
   "hash": "dca0ade3e726a953b501b15e8e990130d2b7799f14cfd9f4271676035ebe5511"
  },
  "kernelspec": {
   "display_name": "Python 3 (ipykernel)",
   "language": "python",
   "name": "python3"
  },
  "language_info": {
   "codemirror_mode": {
    "name": "ipython",
    "version": 3
   },
   "file_extension": ".py",
   "mimetype": "text/x-python",
   "name": "python",
   "nbconvert_exporter": "python",
   "pygments_lexer": "ipython3",
   "version": "3.8.11"
  }
 },
 "nbformat": 4,
 "nbformat_minor": 4
}
