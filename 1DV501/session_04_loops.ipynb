{
 "cells": [
  {
   "cell_type": "markdown",
   "metadata": {
    "slideshow": {
     "slide_type": "slide"
    }
   },
   "source": [
    "# Session 4\n",
    "## 1DV501 Python course\n",
    "\n",
    "## Loops"
   ]
  },
  {
   "cell_type": "markdown",
   "metadata": {
    "slideshow": {
     "slide_type": "subslide"
    }
   },
   "source": [
    " # Today\n",
    " \n",
    "- Iterations `while` and `for`\n",
    "- Built-in and library functions\n",
    "\n",
    "- A few built-in functions\n",
    "- The  `math` module\n",
    "- The `random` module\n",
    "\n",
    "Reading instructions: Sections 5.1-5.5, 6.1-6.4, 6.6"
   ]
  },
  {
   "cell_type": "markdown",
   "metadata": {},
   "source": [
    "# While\n",
    "\n",
    "- In Python: `while` and `for`-statements\n",
    "- Example: `while` \n",
    "\n",
    "\n",
    "Reading instructions: Sections 5.1-5.5, 6.1-6.8"
   ]
  },
  {
   "cell_type": "code",
   "execution_count": null,
   "metadata": {},
   "outputs": [],
   "source": [
    "print('1')\n",
    "print('2')\n",
    "print('3')\n",
    "print('4')"
   ]
  },
  {
   "cell_type": "code",
   "execution_count": null,
   "metadata": {},
   "outputs": [],
   "source": [
    "# Print 1 to 10 using while\n",
    "n = 1\n",
    "\n",
    "while n <= 10:\n",
    "    print(n, end=' ')  # No line-break\n",
    "    n += 1\n",
    "print()    # Add line break"
   ]
  },
  {
   "cell_type": "code",
   "execution_count": null,
   "metadata": {},
   "outputs": [],
   "source": [
    "# Print 1 to 10 using for\n",
    "\n",
    "for i in range(1,11):\n",
    "    print(i, end=' ')  # No line-break\n",
    "print() # Add line break"
   ]
  },
  {
   "cell_type": "code",
   "execution_count": null,
   "metadata": {},
   "outputs": [],
   "source": [
    "a = ['ett', 'två', 'tre']\n",
    "\n",
    "for bokstav in a:\n",
    "    print(bokstav)\n"
   ]
  },
  {
   "cell_type": "markdown",
   "metadata": {},
   "source": [
    "\n",
    "# The `while` statement\n",
    "\n",
    "\n",
    "```python\n",
    "\n",
    "while \"Test Condition\":\n",
    "   \"Statements\"\n",
    "```\n",
    "\n",
    "\n",
    "- The code \"Statements\" will be executed as long as \"Test Expression\"+ is `True`\n",
    "- The code in \"Statements\" must be intended to be a part of the while statement\n",
    "- \"Statements\" false execution jumps to the code after the while statement\n",
    "\n",
    "\n",
    "\n",
    "![While-statement](figures/while-loop.jpg)\n",
    "\n"
   ]
  },
  {
   "cell_type": "code",
   "execution_count": null,
   "metadata": {},
   "outputs": [],
   "source": [
    "# Find smallest N such \n",
    "# that 1+2+3+...+N > 100\n",
    "s = 0   # sum\n",
    "N = 0   \n",
    "while s <= 100:\n",
    "    N = N + 1  # N = 1,2,3,4, ...\n",
    "    s = s + N  # s = 1,3,6,10, ...\n",
    "print(\"Smallest N is\", N)"
   ]
  },
  {
   "cell_type": "markdown",
   "metadata": {},
   "source": [
    "- Repeat certain statements (the loop body) as long as a condition is false\n",
    "- The 2nd example (Smallest N) shows when to use a `while` statement, when we don't know how many iterations that are needed but we know when to stop.\n",
    "- The 1st example is better handled by a `for` statement (coming soon) since we know exactly how many iterations that are needed (10).\n",
    "\n"
   ]
  },
  {
   "cell_type": "markdown",
   "metadata": {},
   "source": [
    "# Nestled examples\n",
    "\n",
    "- Nestled statements within statement"
   ]
  },
  {
   "cell_type": "code",
   "execution_count": null,
   "metadata": {},
   "outputs": [],
   "source": [
    "# Numbers dividable by 7 in range 1 to 100\n",
    "n = 1\n",
    "\n",
    "while n <= 100:\n",
    "    if n % 7 == 0:  # Dividable by 7?\n",
    "        print(n, end=' ')  # 7 14 21 ...\n",
    "    n += 1\n",
    "print()    # Add final line-break"
   ]
  },
  {
   "cell_type": "code",
   "execution_count": null,
   "metadata": {},
   "outputs": [],
   "source": [
    "for n in range(0,101):\n",
    "    if n % 7 == 0: print(n)"
   ]
  },
  {
   "cell_type": "code",
   "execution_count": null,
   "metadata": {},
   "outputs": [],
   "source": [
    "# Do something while input is yes (y or Y)\n",
    "\n",
    "entry = 'y'\n",
    "\n",
    "while entry != 'N' and entry != 'n':\n",
    "    entry = input(\"Enter Y to continue or N to quit: \")\n",
    "    if entry == 'Y' or entry == 'y':\n",
    "        print(\"Hello\")    # Do something!\n",
    "    elif entry != 'N' and entry != 'n':\n",
    "        print(entry, \"is not a valid input\")\n",
    "print(\"Done!\")    "
   ]
  },
  {
   "cell_type": "code",
   "execution_count": null,
   "metadata": {},
   "outputs": [],
   "source": [
    "s = 'y'\n",
    "\n",
    "print(s.upper())"
   ]
  },
  {
   "cell_type": "markdown",
   "metadata": {},
   "source": [
    "# Infinite loops\n",
    "\n",
    "```python\n",
    "while True:\n",
    "    print(\"Hello\")\n",
    "```\n",
    "\n",
    "\n",
    "- `while True`: loop never stops\n",
    "- Q: What happens when executed?\n",
    "- A: It just runs and runs ... (You stop it by Ctrl-C in the Terminal window.)\n"
   ]
  },
  {
   "cell_type": "code",
   "execution_count": null,
   "metadata": {},
   "outputs": [],
   "source": [
    "n = 1\n",
    "str_ = \"\"    # empty string\n",
    "while n < 10 or n > 0:\n",
    "    n = n + 1\n",
    "    str_ = str_ + \"Hello\""
   ]
  },
  {
   "cell_type": "markdown",
   "metadata": {},
   "source": [
    "- A logical error\n",
    "- `n < 10 or n > 0+` is `True` for any `n`\n",
    "- Program will crash since the string will get larger and larger and we will eventually run out of memory.\n",
    "\n",
    "Infinite loops are often (but not always) a result of a logical error. They are sometimes useful when you want to do something (e.g. measure the temperature) without ever stopping. They do not harm your computer in any way.\n"
   ]
  },
  {
   "cell_type": "markdown",
   "metadata": {},
   "source": [
    "# The `for` Statement\n",
    "\n",
    "\n",
    "\n"
   ]
  },
  {
   "cell_type": "code",
   "execution_count": null,
   "metadata": {},
   "outputs": [],
   "source": [
    "# Print 0,2,4,6,8,10 \n",
    "for i in range(0,11,2):\n",
    "    print(i, end=' ') \n",
    "print()   "
   ]
  },
  {
   "cell_type": "code",
   "execution_count": null,
   "metadata": {},
   "outputs": [],
   "source": [
    "# Countdown from 10\n",
    "for i in range(10,0,-2):\n",
    "    print(i, end=' ')  \n",
    "print()    "
   ]
  },
  {
   "cell_type": "code",
   "execution_count": null,
   "metadata": {},
   "outputs": [],
   "source": [
    "for i in range(100):\n",
    "    print(i)"
   ]
  },
  {
   "cell_type": "markdown",
   "metadata": {},
   "source": [
    "- `for i in range(0,11,2)` for each integer `i` in the range 0 to 10 using step size 2.\n",
    "- **Notice:** The upper limit 11 is not included whereas the lower limit is.\n",
    "- The variable `i` is called the *for counter*"
   ]
  },
  {
   "cell_type": "markdown",
   "metadata": {},
   "source": [
    "# The `range` function\n",
    "\n",
    "\n",
    "The `range` function generates integer sequences and is rather powerful.\n",
    "\n",
    "It comes in three versions:\n",
    "\n",
    "- `range(stop)`: Considers by default the starting point as zero\n",
    "- `range(start, stop)`: From  `start` to `stop` with step size 1\n",
    "- `range(start, stop, step)`: From `start` to `stop` with `step` size step\n",
    "\n",
    "- **Notice**:  Rather straight forward except that thestopvalue is not included."
   ]
  },
  {
   "cell_type": "code",
   "execution_count": null,
   "metadata": {},
   "outputs": [],
   "source": [
    "for i in range(10): print(i,end=',')"
   ]
  },
  {
   "cell_type": "code",
   "execution_count": null,
   "metadata": {},
   "outputs": [],
   "source": [
    "for i in range(1,10): print(i,end=',')"
   ]
  },
  {
   "cell_type": "code",
   "execution_count": null,
   "metadata": {},
   "outputs": [],
   "source": [
    "for i in range(1,10,2): print(i,end=',')"
   ]
  },
  {
   "cell_type": "code",
   "execution_count": null,
   "metadata": {},
   "outputs": [],
   "source": [
    "for i in range(2,20,3): print(i,end=',')"
   ]
  },
  {
   "cell_type": "code",
   "execution_count": null,
   "metadata": {},
   "outputs": [],
   "source": [
    "for i in range(14,-5,-2): print(i,end=',')"
   ]
  },
  {
   "cell_type": "markdown",
   "metadata": {},
   "source": [
    "# The keywords `break` and `continue`\n",
    "\n",
    "\n",
    "- `break` and `continue` are used to jump out of a loop at an arbitrary position.\n",
    "\n",
    "\n",
    "```python\n",
    "\n",
    "while bool_expr:\n",
    "    ...\n",
    "    if bool_expr:\n",
    "      break  # End the loop, jump to next_statement\n",
    "       \n",
    "    if bool_expr:\n",
    "      continue # End this iteration, jump to while bool_expr:\n",
    "    ...\n",
    "\n",
    "```\n",
    "\n",
    "\n",
    "- `break` and `continue` are considered to make the code more difficult to understand ⇒ **use them with care!**"
   ]
  },
  {
   "cell_type": "code",
   "execution_count": null,
   "metadata": {},
   "outputs": [],
   "source": [
    "n = 1\n",
    "while True:\n",
    "    print(n)\n",
    "    if n > 10: continue\n",
    "    n += 1"
   ]
  },
  {
   "cell_type": "markdown",
   "metadata": {},
   "source": [
    "# Is it a prime number? (Part 1)\n",
    "\n",
    "\n",
    "$N>1$ is a prime number. Not dividable by any number in range 2 to $N-1$\n",
    "\n",
    "### Problem: Write a program that checks if a given $N$ is a prime number.\n",
    "\n",
    "### Basic solution idea\n",
    "\n",
    "- Error message if $N<2$\n",
    "- For each integer i in range 2 to $N-1$\n",
    "    - $N$ dividable by i $N$ is not a prime, interrupt loop\n",
    "- Not dividable by any i $N$ is a prime\n",
    "\n",
    "\n",
    "\n",
    "```\n",
    "Example runs\n",
    "\n",
    "Enter an integer larger than 1: 47\n",
    "47 is a prime number\n",
    "\n",
    "Enter an integer larger than 1: 49\n",
    "49 is NOT a prime number. It is dividable by  7\n",
    "\n",
    "Enter an integer larger than 1: -7\n",
    "Please follow the instructions!\n",
    "```"
   ]
  },
  {
   "cell_type": "markdown",
   "metadata": {},
   "source": [
    "# Prime part 2"
   ]
  },
  {
   "cell_type": "code",
   "execution_count": 3,
   "metadata": {},
   "outputs": [
    {
     "name": "stdin",
     "output_type": "stream",
     "text": [
      "Enter an integer larger than 1:  7\n"
     ]
    },
    {
     "name": "stdout",
     "output_type": "stream",
     "text": [
      "7 is a prime number\n"
     ]
    }
   ],
   "source": [
    "# Check if input is a prime number\n",
    "n = int( input(\"Enter an integer larger than 1: \"))\n",
    "\n",
    "if n < 2:    # Must be larger than 1\n",
    "    print(\"Please follow the instructions!\")\n",
    "else:\n",
    "    prime = True\n",
    "    for i in range(2,n):  # Check if prime\n",
    "        if n % i == 0:\n",
    "            prime = False\n",
    "            break         # Jump from loop when not prime\n",
    "    \n",
    "    if prime:             # Present result\n",
    "        print(n, \"is a prime number\")\n",
    "    else:\n",
    "         print(n, \"is NOT a prime number. It is dividable by \",i)"
   ]
  },
  {
   "cell_type": "markdown",
   "metadata": {},
   "source": [
    "# Nestled statements"
   ]
  },
  {
   "cell_type": "code",
   "execution_count": 6,
   "metadata": {},
   "outputs": [
    {
     "name": "stdin",
     "output_type": "stream",
     "text": [
      "Please enter a positive integer:  3\n"
     ]
    },
    {
     "name": "stdout",
     "output_type": "stream",
     "text": [
      "Multiplication table for  3\n",
      "1  x  1  =  1\n",
      "1  x  2  =  2\n",
      "1  x  3  =  3\n",
      "2  x  1  =  2\n",
      "2  x  2  =  4\n",
      "2  x  3  =  6\n",
      "3  x  1  =  3\n",
      "3  x  2  =  6\n",
      "3  x  3  =  9\n"
     ]
    }
   ],
   "source": [
    "# Print multiplication table\n",
    "n = int( input(\"Please enter a positive integer: \"))\n",
    "\n",
    "if n < 1:\n",
    "    print(\"Input must be positive!\")\n",
    "else:\n",
    "    print(\"Multiplication table for \", n)\n",
    "    for i in range(1,n+1):\n",
    "        for j in range(1, n+1):\n",
    "            print(i, \" x \", j, \" = \", i*j)"
   ]
  },
  {
   "cell_type": "markdown",
   "metadata": {},
   "source": [
    "# Problem solving with `if`, `while`, and `for`\n",
    "\n",
    "- Understanding each control statement by itself is rather easy\n",
    "- Solving problem requiring only one such statement is also often rather easy\n",
    "- However, many problems require multiple nestled control statements\n",
    "- Solution with nestled statements -> much harder -> much training needed\n",
    "- We have a large number of such problems in Assignment 2\n"
   ]
  },
  {
   "cell_type": "markdown",
   "metadata": {},
   "source": [
    "# Example: Count A\n",
    "\n",
    "Write a program `countA.py` that reads a string from the keyboard and then prints how many `a` and `A` the string contains. An example of what an execution might look like:\n",
    "\n",
    "```\n",
    "Provide text: \n",
    "\n",
    "Bedevere: What makes you think she is a witch?\n",
    "Peasant: Oh, she turned me into a newt!\n",
    "[Bedevere gives him a disbelieving look]\n",
    "Bedevere: A newt?\n",
    "[Silence]\n",
    "Peasant: Well, I got better.\n",
    "Peasant Crowd: Burn her anyway!.\n",
    "\n",
    "Number of 'a':  13\n",
    "Number of 'A':  1\n",
    "```\n"
   ]
  },
  {
   "cell_type": "markdown",
   "metadata": {},
   "source": [
    "\n",
    "\n",
    "## Sketch of a Solution\n",
    "\n",
    "\n",
    "1. Read a line of `text`  (a string text)\n",
    "1. For each character `c` in `text`\n",
    "    - if `c = 'A'` increase counter `nA` by 1\n",
    "    - `else if c = 'a'` increase counter `na` by 1\n",
    "\n",
    "1. Print result Print `+nA+ and `+na+\n",
    "\n",
    "**Hint:** I should have waited with 1 (read line of text) until the end. Why? "
   ]
  },
  {
   "cell_type": "code",
   "execution_count": 10,
   "metadata": {},
   "outputs": [
    {
     "name": "stdout",
     "output_type": "stream",
     "text": [
      "This is a string"
     ]
    }
   ],
   "source": [
    "s = 'This is a string'\n",
    "\n",
    "for n in s:\n",
    "    print(n,end='')\n"
   ]
  },
  {
   "cell_type": "code",
   "execution_count": 8,
   "metadata": {},
   "outputs": [
    {
     "name": "stdin",
     "output_type": "stream",
     "text": [
      "Please provide text:  aaAA\n"
     ]
    },
    {
     "name": "stdout",
     "output_type": "stream",
     "text": [
      "\n",
      "Number of 'a':  2\n",
      "Number of 'A':  2\n"
     ]
    }
   ],
   "source": [
    "# Count number of 'A' and 'a' in a string\n",
    "text = input(\"Please provide text: \")\n",
    "\n",
    "na, nA = 0, 0\n",
    "\n",
    "for c in text:\n",
    "    if c == 'a':\n",
    "        na += 1\n",
    "    elif c == 'A':\n",
    "        nA += 1\n",
    "print(\"\\nNumber of 'a': \", na)\n",
    "print(\"Number of 'A': \", nA)"
   ]
  },
  {
   "cell_type": "markdown",
   "metadata": {},
   "source": [
    "## Iterating over all characters in a string is simple using a for statement \n",
    "```python\n",
    "text = \"Peasant Woman: Didn't know we had a king. I thought we were an autonomous collective.\"\n",
    "for c in text:\n",
    "    \"Do something with character c\"\n",
    "```"
   ]
  },
  {
   "cell_type": "markdown",
   "metadata": {},
   "source": [
    "# `break`"
   ]
  },
  {
   "cell_type": "markdown",
   "metadata": {},
   "source": [
    "# Using library functions"
   ]
  },
  {
   "cell_type": "code",
   "execution_count": 11,
   "metadata": {},
   "outputs": [
    {
     "name": "stdin",
     "output_type": "stream",
     "text": [
      "Number of random numers:  4\n"
     ]
    },
    {
     "name": "stdout",
     "output_type": "stream",
     "text": [
      "4 random numbers:  327 763 596 300 \n"
     ]
    }
   ],
   "source": [
    "import random\n",
    "\n",
    "\n",
    "\n",
    "# Print random numbers\n",
    "n = int ( input(\"Number of random numers: \"))\n",
    "\n",
    "print(n, \"random numbers: \", end=\" \")\n",
    "for i in range(n):       # n iterations\n",
    "    r = random.randint(1,1000)\n",
    "    print(r, end=\" \")\n",
    "print()"
   ]
  },
  {
   "cell_type": "code",
   "execution_count": 14,
   "metadata": {},
   "outputs": [
    {
     "data": {
      "text/plain": [
       "6"
      ]
     },
     "execution_count": 14,
     "metadata": {},
     "output_type": "execute_result"
    }
   ],
   "source": [
    "import random\n",
    "random.getrandbits(4)"
   ]
  },
  {
   "cell_type": "markdown",
   "metadata": {},
   "source": [
    "- The program above uses 5 different functions\n",
    "- Built-in functions: `input()`, `int()`, `print()`, `range()`. These functions are always available\n",
    "- Library functions: `randint()`\n",
    "- `randint` belongs to the module `random`\n",
    "\n",
    "----\n",
    "\n",
    "- We will present a number of functions that might me useful in your assignments in the following slides.\n",
    "- Both built-in functions (always available) and library functions (requires import).\n"
   ]
  },
  {
   "cell_type": "markdown",
   "metadata": {},
   "source": [
    "## Built in functions\n",
    "\n",
    "- Built-in functions are always available ⇒ no import needed\n",
    "\n",
    "![Built in functions](figures/built-in-functions.png)\n",
    "\n",
    "- About a third of the functions above will be presented and used in this course\n"
   ]
  },
  {
   "cell_type": "markdown",
   "metadata": {},
   "source": [
    "## Common built in functions\n",
    "\n",
    "- `max(), min(), abs(), round()`\n",
    "- `float(), int(), bool(), str()` type conversion\n",
    "- `len(\"Hello\")` length of something. In this case a string\n",
    "- `type()` current type of variable or expression\n"
   ]
  },
  {
   "cell_type": "code",
   "execution_count": 15,
   "metadata": {},
   "outputs": [
    {
     "name": "stdout",
     "output_type": "stream",
     "text": [
      "Values:, 1.0, -2.2, 3.14\n",
      "Maximum: 3.14\n",
      "Minimum: -2.2\n",
      "Absolute value: 2.2\n",
      "Round off: 3\n",
      "Hello 5\n",
      "<class 'float'> <class 'str'>\n"
     ]
    }
   ],
   "source": [
    "a, b, c, = 1.0, -2.2, 3.14\n",
    "\n",
    "print(\"Values:\",a, b, c, sep=\", \")   # 1.0, -2.2, 3.14\n",
    "print(\"Maximum:\", max(a,b,c))        # 3.14\n",
    "print(\"Minimum:\", min(a,b,c))        # -2.2\n",
    "print(\"Absolute value:\", abs(b))     # 2.2\n",
    "print(\"Round off:\", round(c))        # 3      \n",
    "print(\"Hello\", len(\"Hello\"))         # Hello 5\n",
    "print(type(a), type(\"Hello\"))        # <class 'float'> <class 'str'>"
   ]
  },
  {
   "cell_type": "markdown",
   "metadata": {},
   "source": [
    "# The `math` module\n",
    "\n",
    "\n"
   ]
  },
  {
   "cell_type": "code",
   "execution_count": 16,
   "metadata": {},
   "outputs": [
    {
     "name": "stdout",
     "output_type": "stream",
     "text": [
      "3.141592653589793\n",
      "59.99999999999999\n",
      "0.5000000000000001\n",
      "(0.14159265358979312, 3.0)\n",
      "1.4142135623730951\n",
      "64.0\n",
      "3 4\n",
      "5\n"
     ]
    }
   ],
   "source": [
    "import math\n",
    "pi = math.pi                   # Pi as a float\n",
    "\n",
    "print(pi)                      # 3.141592653589793\n",
    "print( math.degrees(pi/3) )    # 60\n",
    "print( math.cos(pi/3) )        # 0.5\n",
    "print( math.modf(pi))          # Return the fractional and integer parts of x\n",
    "\n",
    "print( math.sqrt(2) )           # 1.4142135623730951\n",
    "print( math.pow(4,3) )          # 64.0\n",
    "print( math.floor(pi), math.ceil(pi) )         # 3 4\n",
    "print( math.gcd(15,20) )        # 5  the largest positive integer that divides each of the integers\n",
    "\n",
    "\n",
    "# https://docs.python.org/3/library/math.html"
   ]
  },
  {
   "cell_type": "markdown",
   "metadata": {},
   "source": [
    "- `math` is an external module \\ra must be imported\n",
    "    - Trigonometric functions: *sin(), cos(), tan(), asin(), acos(), atan()*, ....They work with radians by default\n",
    "- `math.degrees( pi/3)` convert radians to degrees\n",
    "- `sqrt(x), pow(x,p)` square root of x, x raised to the power of p\n",
    "- `floor(x), ceil(x)` Rounds off x downwards/upwards to the nearest integer\n",
    "- `gcd(n,p)` Greatest common devisor"
   ]
  },
  {
   "cell_type": "markdown",
   "metadata": {},
   "source": [
    "# Import modules and functions\n",
    "\n",
    "- Three equivalent import approaches \n",
    "\n",
    "---\n",
    "\n",
    "```python\n",
    "\n",
    "#1st approach\n",
    "\n",
    "import math                # Make math module available\n",
    "\n",
    "print( math.sqrt(2) )        # Must make reference to math module\n",
    "print( math.gcd(4,3) )\n",
    "\n",
    "```\n",
    "\n",
    "---\n",
    "\n",
    "```python\n",
    "# 2nd approach\n",
    "\n",
    "from math import sqrt, gcd  # Make sqrt and gcd from math available\n",
    "\n",
    "print( sqrt(2) )             # No math reference required\n",
    "print( gcd(10,15) )\n",
    "\n",
    "```\n",
    "\n",
    "---\n",
    "\n",
    "```python\n",
    "# 3rd approach (not recommended)\n",
    "\n",
    "from math import *         # Make all functions in math available\n",
    "\n",
    "print( sqrt(2) )            # No math reference required\n",
    "print( gcd(10,15) )\n",
    "\n",
    "```\n",
    "---\n",
    "\n",
    "\n",
    "### Note:\n",
    "\n",
    "- Use 1st approach when multiple math functions are needed.\n",
    "- Use 2nd approach when only 1-2 functions are needed\n",
    "- **Avoid 3rd approach since name collisions are more likely**\n",
    "\n"
   ]
  },
  {
   "cell_type": "markdown",
   "metadata": {},
   "source": [
    "# Short names for imported modules\n",
    "\n",
    "from math\n",
    "\n"
   ]
  },
  {
   "cell_type": "code",
   "execution_count": 18,
   "metadata": {},
   "outputs": [],
   "source": [
    "from math import sqrt as kvadratroten"
   ]
  },
  {
   "cell_type": "code",
   "execution_count": null,
   "metadata": {},
   "outputs": [],
   "source": []
  },
  {
   "cell_type": "code",
   "execution_count": 20,
   "metadata": {},
   "outputs": [
    {
     "name": "stdout",
     "output_type": "stream",
     "text": [
      "33\n",
      "20.92231572959579\n"
     ]
    }
   ],
   "source": [
    "import random                    # Make random module available\n",
    "\n",
    "print( random.randint(0,100) )   # Random int in [0,100]\n",
    "print( random.uniform(20,30) )   # Random float in [20,30]"
   ]
  },
  {
   "cell_type": "code",
   "execution_count": 21,
   "metadata": {},
   "outputs": [
    {
     "name": "stdout",
     "output_type": "stream",
     "text": [
      "96\n",
      "24.649620303216835\n"
     ]
    }
   ],
   "source": [
    "import random as rd              # Give random the name \"rd\"\n",
    "\n",
    "print( rd.randint(0,100) )       # Use \"rd\" to reference random\n",
    "print( rd.uniform(20,30) ) "
   ]
  },
  {
   "cell_type": "markdown",
   "metadata": {},
   "source": [
    "\n",
    "- Use 1st approach when module name is short (e.g. `math`)\n",
    "- Use 2nd approach when module name is lengthy (e.g. `matplotlib`)\n",
    "\n",
    "Common short names\n",
    "\n",
    "- `numpy as np`\n",
    "- `pandas as pd`\n",
    "- `matplotlib.pyplot as plt`\n",
    "\n"
   ]
  },
  {
   "cell_type": "code",
   "execution_count": 22,
   "metadata": {},
   "outputs": [
    {
     "name": "stdout",
     "output_type": "stream",
     "text": [
      "80\n"
     ]
    }
   ],
   "source": [
    "# Example\n",
    "\n",
    "from random import randint as slumpvis_siffra\n",
    "\n",
    "print(slumpvis_siffra(0,100) )"
   ]
  },
  {
   "cell_type": "markdown",
   "metadata": {},
   "source": [
    "## Time\n",
    "\n",
    "- We use function \\verb+time()+ in module \\verb+time+ to measure time\n",
    "- `time.time()` gives the time in seconds since epoch (January 1, 1970)\n",
    "- `start = time()` gives a starting point and ...\n",
    "- `elapsed = time() - start` gives elapsed time since `start`"
   ]
  },
  {
   "cell_type": "code",
   "execution_count": 23,
   "metadata": {},
   "outputs": [
    {
     "name": "stdin",
     "output_type": "stream",
     "text": [
      "Enter you name:  Fredrik\n"
     ]
    },
    {
     "name": "stdout",
     "output_type": "stream",
     "text": [
      "It took you 2.9 seconds to enter your name\n"
     ]
    }
   ],
   "source": [
    "# Measure time\n",
    "from time import time\n",
    "\n",
    "start = time()        # start timer\n",
    "name = input(\"Enter you name: \")\n",
    "elapsed = time() - start   # Measure time difference since start\n",
    "elapsed = round(elapsed,1)\n",
    "print(\"It took you\", elapsed, \"seconds to enter your name\")\n"
   ]
  },
  {
   "cell_type": "code",
   "execution_count": 27,
   "metadata": {},
   "outputs": [],
   "source": [
    "import time\n",
    "time.sleep(1)"
   ]
  },
  {
   "cell_type": "markdown",
   "metadata": {},
   "source": [
    "# Terminate execution using `exit()`\n",
    "\n",
    "\n",
    "- Handle initial check using `if-else`\n",
    "\n",
    "```python\n",
    "\n",
    "\n",
    "n = int( input(\"Enter a positive integer: \") )\n",
    "\n",
    "if n < 1:\n",
    "    print(\"Input must be positive\")\n",
    "else:\n",
    "    \"Do something with n ... ==> main part of program\"\n",
    "\n",
    "```\n",
    "\n",
    "----\n",
    "\n",
    "- Handle initial check using `if` and `sys.exit()`\n",
    "\n",
    "\n",
    "```python\n",
    "import sys\n",
    "\n",
    "n = int( input(\"Enter a positive integer: \") )\n",
    "\n",
    "if n < 1:\n",
    "    print(\"Input must be positive\")\n",
    "    sys.exit()   # Terminates program execution\n",
    "\n",
    "\"Do something with n ... ==> main part of program.\"\n",
    "\n",
    "```\n",
    "---\n",
    "\n",
    "- **Advantage:**  Avoid having to indent main part of program.\n",
    "- **Disadvantage:** `exit()` terminates program prematurely ⇒ sometimes a bit harder to understand.\n"
   ]
  },
  {
   "cell_type": "markdown",
   "metadata": {},
   "source": [
    "## ?segnälkaB\n",
    "\n",
    "- .netxet åp adnäv nak mos margorp tte virkS\n"
   ]
  },
  {
   "cell_type": "code",
   "execution_count": 28,
   "metadata": {},
   "outputs": [
    {
     "name": "stdin",
     "output_type": "stream",
     "text": [
      "Reverse: hej\n"
     ]
    },
    {
     "ename": "NameError",
     "evalue": "name 'out' is not defined",
     "output_type": "error",
     "traceback": [
      "\u001b[0;31m---------------------------------------------------------------------------\u001b[0m",
      "\u001b[0;31mNameError\u001b[0m                                 Traceback (most recent call last)",
      "\u001b[0;32m<ipython-input-28-0247d467ba0d>\u001b[0m in \u001b[0;36m<module>\u001b[0;34m\u001b[0m\n\u001b[1;32m      4\u001b[0m \u001b[0;34m\u001b[0m\u001b[0m\n\u001b[1;32m      5\u001b[0m \u001b[0;32mfor\u001b[0m \u001b[0mi\u001b[0m \u001b[0;32min\u001b[0m \u001b[0mrange\u001b[0m\u001b[0;34m(\u001b[0m\u001b[0mlen\u001b[0m\u001b[0;34m(\u001b[0m\u001b[0ms\u001b[0m\u001b[0;34m)\u001b[0m\u001b[0;34m)\u001b[0m\u001b[0;34m:\u001b[0m\u001b[0;34m\u001b[0m\u001b[0;34m\u001b[0m\u001b[0m\n\u001b[0;32m----> 6\u001b[0;31m     \u001b[0mout\u001b[0m \u001b[0;34m+=\u001b[0m \u001b[0ms\u001b[0m\u001b[0;34m[\u001b[0m\u001b[0mlen\u001b[0m\u001b[0;34m(\u001b[0m\u001b[0ms\u001b[0m\u001b[0;34m)\u001b[0m\u001b[0;34m-\u001b[0m \u001b[0;34m(\u001b[0m\u001b[0mi\u001b[0m\u001b[0;34m)\u001b[0m \u001b[0;34m]\u001b[0m\u001b[0;34m\u001b[0m\u001b[0;34m\u001b[0m\u001b[0m\n\u001b[0m\u001b[1;32m      7\u001b[0m \u001b[0;34m\u001b[0m\u001b[0m\n\u001b[1;32m      8\u001b[0m \u001b[0mprint\u001b[0m\u001b[0;34m(\u001b[0m\u001b[0mout\u001b[0m\u001b[0;34m)\u001b[0m\u001b[0;34m\u001b[0m\u001b[0;34m\u001b[0m\u001b[0m\n",
      "\u001b[0;31mNameError\u001b[0m: name 'out' is not defined"
     ]
    }
   ],
   "source": [
    "# First try\n",
    "\n",
    "s= input('Reverse:')\n",
    "\n",
    "for i in range(len(s)):\n",
    "    out += s[len(s)- (i) ]\n",
    "\n",
    "print(out)\n",
    "\n",
    "del out"
   ]
  },
  {
   "cell_type": "code",
   "execution_count": 34,
   "metadata": {},
   "outputs": [
    {
     "name": "stdin",
     "output_type": "stream",
     "text": [
      "Reverse: hej\n"
     ]
    },
    {
     "name": "stdout",
     "output_type": "stream",
     "text": [
      "jeh\n"
     ]
    }
   ],
   "source": [
    "\n",
    "s= input('Reverse:')\n",
    "\n",
    "out=''\n",
    "\n",
    "for i in range(len(s)):\n",
    "    out += s[len(s)-(i+1)]\n",
    "\n",
    "print(out)\n",
    "\n",
    "del out"
   ]
  },
  {
   "cell_type": "code",
   "execution_count": 32,
   "metadata": {},
   "outputs": [
    {
     "data": {
      "text/plain": [
       "3"
      ]
     },
     "execution_count": 32,
     "metadata": {},
     "output_type": "execute_result"
    }
   ],
   "source": [
    "len(s)"
   ]
  },
  {
   "cell_type": "code",
   "execution_count": null,
   "metadata": {},
   "outputs": [],
   "source": [
    "for i in range(26):\n",
    "    print((i + 5) % 26)\n"
   ]
  },
  {
   "cell_type": "markdown",
   "metadata": {},
   "source": [
    "# Example: Simple Encryption\n",
    "\n",
    "A very simple way to encrypt a text would be to just shift each letter one step in the alphabet. That is, replace all letters in the text with the next letter in the alphabet. **Caesar cipher**\n",
    "\n",
    "![Cipher](figures/1280px-CipherDisk2000.jpg)\n",
    "\n",
    "`\n",
    "a --> b, b --> c,    ...    , y --> z, z --> a\n",
    "A --> B, B --> C,    ...    , Y --> Z, Z --> A\n",
    "`\n",
    "\n",
    "- All non-letters, for example digits, ? ,!, \\%, and whitespace, are left unchanged.\n",
    "\n",
    "\n",
    "---\n",
    "\n",
    "\n",
    "## Exercise:\n",
    "\n",
    "- Write a program `stupidencryption.py` that reads a line of text from the user and presents an encrypted version of the text according to the encryption method outlined above. An execution might look like this:\n",
    "\n",
    "```\n",
    "Provide a line of text: Was it a rat I saw?\n",
    "Encrypted Text: Xbt ju b sbu J tbx?\n",
    "```\n",
    "\n",
    "\n",
    "- **Hints**: A-Z have ASCII codes in range [65,90], a-z are in range [97,122], built-in function `ord()` gives the ASCII code for a character, and function `chr()` gives the character for an ASCII.\n",
    "\n",
    "\n",
    "- **Basic idea:** Convert each letter to ASCII, add 1, and convert back to character\n",
    "\n",
    "## Encrypted message as follows:\n",
    "\n",
    "`J gbsu jo zpvs hfofsbm ejsfdujpo! Zpvs npuifs xbt b ibntufs boe zpvs gbuifs tnfmu pg fmefscfssjft!`\n",
    "\n",
    "---\n",
    "\n"
   ]
  },
  {
   "cell_type": "markdown",
   "metadata": {},
   "source": [
    "# ASCII Table\n",
    "\n",
    "![](figures/asciifull.gif)"
   ]
  },
  {
   "cell_type": "code",
   "execution_count": 38,
   "metadata": {},
   "outputs": [
    {
     "data": {
      "text/plain": [
       "65"
      ]
     },
     "execution_count": 38,
     "metadata": {},
     "output_type": "execute_result"
    }
   ],
   "source": [
    "ord('A')"
   ]
  },
  {
   "cell_type": "code",
   "execution_count": 39,
   "metadata": {},
   "outputs": [
    {
     "data": {
      "text/plain": [
       "'A'"
      ]
     },
     "execution_count": 39,
     "metadata": {},
     "output_type": "execute_result"
    }
   ],
   "source": [
    "chr(65)"
   ]
  },
  {
   "cell_type": "code",
   "execution_count": 40,
   "metadata": {},
   "outputs": [
    {
     "name": "stdin",
     "output_type": "stream",
     "text": [
      "Provide a line of text:  Hej\n"
     ]
    },
    {
     "name": "stdout",
     "output_type": "stream",
     "text": [
      "Encrypted text: Ifk\n"
     ]
    }
   ],
   "source": [
    "# str = \"abcdefghijklmnopqrstuvwxyz 123 ABCDEFGHIJKLMNOPQRSTUVWXYZ.;?\"\n",
    "str_ = input(\"Provide a line of text: \")\n",
    "\n",
    "result = \"\"\n",
    "for c in str_:\n",
    "    asc = ord(c)   # ASCII code\n",
    "    if c == 'z':   # z --> a\n",
    "        result += 'a'\n",
    "    elif c == 'Z': # Z --> A\n",
    "        result += 'A'\n",
    "    elif 65 <= asc <= 90:  # Upper case\n",
    "        result += chr(asc+1)\n",
    "    elif 97 <= asc <= 122: # Lower case\n",
    "        result += chr(asc+1)\n",
    "    else:                  # Handle non-characters\n",
    "        result += c\n",
    "print(\"Encrypted text:\", result)"
   ]
  },
  {
   "cell_type": "code",
   "execution_count": 42,
   "metadata": {},
   "outputs": [
    {
     "name": "stdin",
     "output_type": "stream",
     "text": [
      "Decrypt:  J gbsu jo zpvs hfofsbm ejsfdujpo! Zpvs npuifs xbt b ibntufs boe zpvs gbuifs tnfmu pg fmefscfssjft!\n"
     ]
    },
    {
     "name": "stdout",
     "output_type": "stream",
     "text": [
      "Decrypted text: I fart in your general direction! Your mother was a hamster and your father smelt of elderberries!\n"
     ]
    }
   ],
   "source": [
    "# str = \"abcdefghijklmnopqrstuvwxyz 123 ABCDEFGHIJKLMNOPQRSTUVWXYZ.;?\"\n",
    "str = input(\"Decrypt: \")\n",
    "\n",
    "result = \"\"\n",
    "for c in str:\n",
    "    asc = ord(c)   # ASCII code\n",
    "    if c == 'a':   # z --> a\n",
    "        result += 'z'\n",
    "    elif c == 'A': # Z --> A\n",
    "        result += 'Z'\n",
    "    elif 65 <= asc <= 90:  # Upper case\n",
    "        result += chr(asc-1)\n",
    "    elif 97 <= asc <= 122: # Lower case\n",
    "        result += chr(asc-1)\n",
    "    else:                  # Handle non-characters\n",
    "        result += c\n",
    "print(\"Decrypted text:\", result)"
   ]
  },
  {
   "cell_type": "markdown",
   "metadata": {},
   "source": [
    "# Old Java-test Exercise\n",
    "\n",
    "Write a Java program `square` that first reads any integer (higher than or equal to 3) from the keyboard\n",
    "and then prints a non-filled square of the type presented below.\n",
    "\n",
    "An execution might look like this:\n",
    "\n",
    "\n",
    "```\n",
    "Provide an integer 3 or higher: 5\n",
    "The square for number 5\n",
    "  *****\n",
    "  *   *\n",
    "  *   *\n",
    "  *   *\n",
    "  *****\n",
    "  \n",
    " ```\n",
    " \n",
    " \n",
    "- An error message should be given, and the program should terminate, if the user-provided integer value is below three.\n"
   ]
  },
  {
   "cell_type": "code",
   "execution_count": 43,
   "metadata": {},
   "outputs": [
    {
     "name": "stdin",
     "output_type": "stream",
     "text": [
      "Enter an integer 3 or higher:  5\n"
     ]
    },
    {
     "name": "stdout",
     "output_type": "stream",
     "text": [
      "\n",
      "The square for number 5\n",
      "*****\n",
      "*   *\n",
      "*   *\n",
      "*   *\n",
      "*****\n"
     ]
    }
   ],
   "source": [
    "sz = int ( input(\"Enter an integer 3 or higher: \"))\n",
    "\n",
    "if sz < 3:  # Check input\n",
    "    print(\"The size must 3 or higher\")\n",
    "else:\n",
    "    # Two types of square lines\n",
    "    stars = \"\"\n",
    "    for i in range(sz): \n",
    "        stars += \"*\"\n",
    "\n",
    "    line = \"*\"\n",
    "    for i in range(sz-2): \n",
    "        line += \" \"\n",
    "    line += \"*\"\n",
    "\n",
    "    # Print square\n",
    "    print(\"\\nThe square for number\", sz)\n",
    "    print(stars)\n",
    "    for i in range(sz-2): \n",
    "        print(line)\n",
    "    print(stars)"
   ]
  }
 ],
 "metadata": {
  "celltoolbar": "Slideshow",
  "kernelspec": {
   "display_name": "Python 3",
   "language": "python",
   "name": "python3"
  },
  "language_info": {
   "codemirror_mode": {
    "name": "ipython",
    "version": 3
   },
   "file_extension": ".py",
   "mimetype": "text/x-python",
   "name": "python",
   "nbconvert_exporter": "python",
   "pygments_lexer": "ipython3",
   "version": "3.8.2"
  }
 },
 "nbformat": 4,
 "nbformat_minor": 4
}
