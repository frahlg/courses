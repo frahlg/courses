{
 "cells": [
  {
   "cell_type": "markdown",
   "source": [
    "# File IO and Exceptions\n",
    "## 1DV501 - Introduction to Programming"
   ],
   "metadata": {}
  },
  {
   "cell_type": "markdown",
   "source": [
    "\n",
    "Recording of this lecture:\n",
    "- https://www.youtube.com/watch?v=3sqDNuaDKww\n",
    "\n",
    "Recordings of lecture last year (2020):\n",
    "- https://youtube.com/playlist?list=PLdXitOaYf2HAgjHNCfnosGw08AqzE2c4o\n"
   ],
   "metadata": {}
  },
  {
   "cell_type": "markdown",
   "source": [
    "### Sign up for the first Python Test on Friday, October 8.\n",
    "- Read information in Moodle.\n",
    "- **Registration is mandatory. Deadline October 5.**\n",
    "- Registration is now open in Moodle (Scroll down a bit to find it.)\n",
    "\n",
    "\n",
    "### For students staying in Sweden\n",
    "- The test will take place at Campus Växjö or at Campus Kalmar.\n",
    "- We will not allow any student living in Sweden to take the test remotely ...\n",
    "    - ...except students on the Physics distance program\n",
    "- Exact time and place for the test will be presented later on.\n",
    "\n",
    "### For students staying abroad\n",
    "- Will be given an opportunity to take the Python Test remotely.\n",
    "- The test will be monitored using Zoom. You will be asked to setup a webcam (or mobile phone) in such a way that you and your computer is in clear view during the test.\n",
    "\n",
    "- More instructions related to the distance version of the Python Test will be\n",
    "presented later on in Moodle."
   ],
   "metadata": {}
  },
  {
   "cell_type": "markdown",
   "source": [
    "## Today\n",
    "\n",
    "- Working with Files and Directories\n",
    "- File input/output (IO)\n",
    "    - Working text files\n",
    "    - Working with data files\n",
    "- Text Processing (Extra material, Assignment 3 preparation)\n",
    "\n",
    "**Reading instructions:** Chap. 9.3"
   ],
   "metadata": {}
  },
  {
   "cell_type": "markdown",
   "source": [
    "## Working with files and directories\n",
    "\n",
    "When programming we often need to access files and directories on our computer\n",
    "- For example, read data from a file in certain directory, or output processed text to a certain file in a certain directory.\n",
    "- The Python library os (operating system) can be used to quarry/access the file system on your computer.\n",
    "- For example, to print all the Python (.py) files in a certain directory.\n",
    "- The file system depends on your operating system (e.g. Mac or Windows) ⇒ The examples we show to today can look slightly different on different computers (operating systems)\n",
    "\n",
    "### The `os` module\n",
    "\n"
   ],
   "metadata": {}
  },
  {
   "cell_type": "markdown",
   "source": [
    "- Note . Windows and *nix systems differs in file structure / \\\n",
    "\n",
    "- Relative path -> the path relative to where your program runs.\n",
    "- Absolute path -> the actual full path of the file system.\n",
    "\n",
    "---\n",
    "\n",
    "- *Tips for advanced users. If you're running Windows, it's possible to install WSL (Windows Subsystem for Linux).*\n",
    "\n",
    "---"
   ],
   "metadata": {}
  },
  {
   "cell_type": "code",
   "execution_count": null,
   "source": [
    "import os\n",
    "path = os.getcwd()\n",
    "print(path)"
   ],
   "outputs": [],
   "metadata": {}
  },
  {
   "cell_type": "code",
   "execution_count": null,
   "source": [
    "os.chdir('figures')"
   ],
   "outputs": [],
   "metadata": {}
  },
  {
   "cell_type": "code",
   "execution_count": null,
   "source": [
    "os.getcwd()"
   ],
   "outputs": [],
   "metadata": {}
  },
  {
   "cell_type": "code",
   "execution_count": null,
   "source": [
    "os.chdir('..')"
   ],
   "outputs": [],
   "metadata": {}
  },
  {
   "cell_type": "code",
   "execution_count": null,
   "source": [
    "os.getcwd()"
   ],
   "outputs": [],
   "metadata": {}
  },
  {
   "cell_type": "code",
   "execution_count": null,
   "source": [
    "os.chdir('/Users/frahaa/dev/courses/1DV501')"
   ],
   "outputs": [],
   "metadata": {}
  },
  {
   "cell_type": "markdown",
   "source": [
    "- The `os` module gives support for queries related to files and directories\n",
    "- `os.getcwd()`  name of current working directory\n",
    "    - The virtual machine's start directory in this execution\n",
    "    - Not same as folder containing this program code\n",
    "    - Topmost directory inside Visual Studio Code \n",
    "- `os.chdir('figures')` change to child directory\n",
    "- `os.chdir('..')` change to parent directory\n"
   ],
   "metadata": {}
  },
  {
   "cell_type": "code",
   "execution_count": null,
   "source": [
    "import os                       # Operating system module\n",
    "os.chdir('/Users/frahaa/dev/courses/1DV501')\n",
    "\n",
    "path = os.getcwd()              # Get current working directory\n",
    "print(\"Current dir:\", path)     # ... /1DV501\n",
    "\n",
    "lst = os.listdir(path)  # List files and directories in path directory\n",
    "\n",
    "for s in lst:\n",
    "    print(s)       \n",
    "\n",
    "subdir = os.chdir('figures')\n",
    "print(\"\\nMoved to dir:\", os.getcwd())\n",
    "\n",
    "lst = os.listdir(subdir) # List files and folders in subdir\n",
    "\n",
    "for s in lst:\n",
    "    if s.endswith(\".py\"):     # Print files ending with \".py\"\n",
    "        print(s)              # time.py, tax.py, shortname.py, quote.py, "
   ],
   "outputs": [],
   "metadata": {}
  },
  {
   "cell_type": "markdown",
   "source": [
    "- `os.listdir(path)` List content (as strings) of directory `path`\n",
    "- Directory content -> files and directories \n",
    "- Hidden entities (e.g. `.vscode` or `.DS_Store`) have names starting with a `.` \n",
    "\n"
   ],
   "metadata": {}
  },
  {
   "cell_type": "markdown",
   "source": [
    "## Using `os.scandir()`\n",
    "\n"
   ],
   "metadata": {}
  },
  {
   "cell_type": "markdown",
   "source": [
    "`os.scandir()`\n",
    "\n",
    "`s.scandir(path='.')` Returns an iterator \n",
    "\n",
    "https://docs.python.org/3/library/os.html\n"
   ],
   "metadata": {}
  },
  {
   "cell_type": "code",
   "execution_count": null,
   "source": [
    "import os\n",
    "os.chdir('/Users/frahaa/dev/courses/1DV501')\n",
    "\n",
    "entries = os.scandir()\n",
    "\n",
    "for a in entries:\n",
    "    print('Class:', type(a))\n",
    "    print('Name:', a.name)\n",
    "    print('Ends with \\'g\\':', a.name.endswith('g'))\n",
    "    print('Is a file:', a.is_file())\n",
    "    print('Is a dir:', a.is_dir())\n",
    "    print()"
   ],
   "outputs": [],
   "metadata": {}
  },
  {
   "cell_type": "code",
   "execution_count": null,
   "source": [
    "# Example from PDF-slides\n",
    "import os\n",
    "os.chdir('/Users/frahaa/dev/courses/1DV501')\n",
    "\n",
    "def is_hidden(entry):\n",
    "    return entry.name.startswith(\".\")\n",
    "\n",
    "def print_entries(list_of_entries):\n",
    "    for entry in list_of_entries:\n",
    "        if entry.is_file() and not is_hidden(entry):\n",
    "            print(\"File: \", entry.name, type(entry) )\n",
    "        elif entry.is_dir() and not is_hidden(entry):\n",
    "            print(\"Dir: \", entry.name, entry.path)\n",
    "\n",
    "path = os.getcwd()\n",
    "entries = os.scandir(path)  # List of entries of type DirEntry\n",
    "print_entries(entries)      \n",
    "print()\n",
    "\n",
    "subdir = os.chdir('..')\n",
    "entries = os.scandir(subdir)  # List of entries of type DirEntry\n",
    "print_entries(entries)        "
   ],
   "outputs": [],
   "metadata": {}
  },
  {
   "cell_type": "markdown",
   "source": [
    "## Files and dirs, continued ...\n",
    "\n",
    "Note \"Portable Operating System Interface (POSIX)\"\n",
    "\n",
    "### The `os.listdir(...)` approach \n",
    "\n",
    "- `os.listdir(path)` -> all file and directory names in directory `path`\n",
    "- Problem: all names are given as `strings` -> hard to know if it is a file or a directory\n",
    "- Suitable approach when you quickly wants to find the content of a given directory\n",
    "\n",
    "### The `os.scandir(...)` approach \n",
    "\n",
    "- `os.scandir(path)` -> all files and directories in `path` as `DirEntry` objects\n",
    "- Each `DirEntry` object `entry`  comes with two attributes:\n",
    "    - `entry.name` -> short local name of file or directory\n",
    "    - `entry.path` -> fully qualified name of file or directory\n",
    "    and two methods\n",
    "\n",
    "- `entry.is_file()` -> True if `entry`  is a file \n",
    "- `entry.is_dir()` -> True if `entry`  is a directory\n",
    "\n",
    "- Suitable approach for more complex problems like:\n",
    "    - List all python files in a given directory\n",
    "    - Find all sub-directories (transitively)  of a given directory\n"
   ],
   "metadata": {}
  },
  {
   "cell_type": "code",
   "execution_count": null,
   "source": [
    "\n",
    "def count_dirs(path='.'):\n",
    "    c_ = 0\n",
    "    entries = os.scandir(path)\n",
    "    for entry in entries:\n",
    "        if entry.is_dir():\n",
    "            #print(entry.name)\n",
    "            c_ += 1 + count_dirs(entry.path)\n",
    "    return c_\n",
    "\n",
    "path = '/Users/frahaa/dev/courses/1DV501'\n",
    "print(f\"The path {path} contains {count_dirs(path)} subdirectories\")"
   ],
   "outputs": [],
   "metadata": {}
  },
  {
   "cell_type": "code",
   "execution_count": null,
   "source": [
    "path = '/Users/frahaa/dev'\n",
    "print(f\"Dir {path} contains {count_dirs(path)} subdirectories\")"
   ],
   "outputs": [],
   "metadata": {}
  },
  {
   "cell_type": "markdown",
   "source": [
    "- `count_dirs(path)` is a recursive function that visits all subdirectories\n",
    "- Visits all  subdirectories transitively -> subdirs to subdirs to subdirs ...\n",
    "- Difficult to handle without recursion (**perfect example when recursion is used**)\n"
   ],
   "metadata": {}
  },
  {
   "cell_type": "markdown",
   "source": [
    "## Reading text from file\n",
    "\n",
    "- `file =  open(path,\"r\")` open file `path` for reading (`r`)\n",
    "- `file` is here an object representing a connection to a file\n",
    "- `for line in file` -> read from file line by line\n",
    "\n",
    "\n"
   ],
   "metadata": {}
  },
  {
   "cell_type": "code",
   "execution_count": null,
   "source": [
    "\n",
    "path = '/Users/frahaa/dev/courses/1DV501'\n",
    "path += '/data/holy_grail_script_scene1.txt'\n",
    "print(\"Reading from \",path)\n",
    "\n",
    "file =  open(path,\"r\")\n",
    "line_count = 0\n",
    "for line in file:\n",
    "    line_count += 1\n",
    "    print(line)\n",
    "file.close()\n",
    "print(\"Line count: \",line_count)\n",
    "\n"
   ],
   "outputs": [],
   "metadata": {}
  },
  {
   "cell_type": "markdown",
   "source": [
    " \n",
    "---\n",
    "\n",
    "\n",
    "- Ugly printout since `line` includes a `\"\\n\"` and the file ends with a empty lines.\n",
    "\n"
   ],
   "metadata": {}
  },
  {
   "cell_type": "code",
   "execution_count": null,
   "source": [
    "#path = ...\n",
    "\n",
    "filelist=[]\n",
    "file =  open(path,\"r\")\n",
    "for x in file:\n",
    "    filelist.append(str(x).replace('\\n',''))\n",
    "file.close()"
   ],
   "outputs": [],
   "metadata": {}
  },
  {
   "cell_type": "code",
   "execution_count": null,
   "source": [
    "filelist[3]"
   ],
   "outputs": [],
   "metadata": {}
  },
  {
   "cell_type": "code",
   "execution_count": null,
   "source": [
    "file =  open(path,\"r\")\n",
    "\n",
    "type(file)"
   ],
   "outputs": [],
   "metadata": {}
  },
  {
   "cell_type": "markdown",
   "source": [
    "# Input/output modules\n",
    "\n",
    "https://docs.python.org/3/library/io.html\n",
    "\n",
    "The io module provides Python’s main facilities for dealing with various types of I/O. There are three main types of I/O: text I/O, binary I/O and raw I/O. These are generic categories, and various backing stores can be used for each of them. A concrete object belonging to any of these categories is called a file object. Other common terms are stream and file-like object.\n",
    "\n",
    "`(f = open(\"myfile.txt\", \"r\", encoding=\"utf-8\"))` Often not necessary on *nix systems.\n",
    "\n",
    "Note, text encoding is important. Use `utf-8` (Universal Coded Character Set) Transformation Format – 8-bit). "
   ],
   "metadata": {}
  },
  {
   "cell_type": "code",
   "execution_count": null,
   "source": [
    "#file = 'test'\n",
    "file =  open(path,\"r\")\n",
    "\n",
    "for x in file:\n",
    "    print(x)\n",
    "\n",
    "file.close()"
   ],
   "outputs": [],
   "metadata": {}
  },
  {
   "cell_type": "markdown",
   "source": [
    "- Ugly print problem solved by using `print(line.strip())` -> remove trailing `\"\\n\"`\n",
    "\n"
   ],
   "metadata": {}
  },
  {
   "cell_type": "code",
   "execution_count": null,
   "source": [
    "\n",
    "path = '/Users/frahaa/dev/courses/1DV501'\n",
    "path += \"/data/holy_grail_script_scene1.txt\"\n",
    "\n",
    "file =  open(path,\"r\")\n",
    "full_text = \"\"\n",
    "for line in file:\n",
    "    full_text += line\n",
    "file.close()\n",
    "print(full_text)"
   ],
   "outputs": [],
   "metadata": {}
  },
  {
   "cell_type": "markdown",
   "source": [
    "---\n",
    "\n",
    "- We first store entire text in a string (including linebreaks)\n",
    "\n",
    "- Reading text is easy, just remember:\n",
    "    - We read the text line by line,\n",
    "    -  Lines also includes a final `\"\\n\"` and\n",
    "    -  Empty lines are also included.\n",
    "\n",
    "---\n",
    "\n",
    "\n",
    "- It is important to close the file connections (`file.close()`) once reading/writing is done.\n",
    "- A non-closed connection might cause problems later on when you try to access a file.\n"
   ],
   "metadata": {}
  },
  {
   "cell_type": "markdown",
   "source": [
    "## Writing text to a file\n",
    "\n"
   ],
   "metadata": {}
  },
  {
   "cell_type": "code",
   "execution_count": null,
   "source": [
    "\n",
    "path = '/Users/frahaa/dev/courses/1DV501/output.txt'\n",
    "full_text = 'It is I, Arthur, son of Uther Pendragon, from the castle of Camelot. King of the Britons, defeator of the Saxons, sovereign of all England!'\n",
    "\n",
    "file = open(path,\"w\")\n",
    "file.write(full_text)\n",
    "file.close()\n"
   ],
   "outputs": [],
   "metadata": {}
  },
  {
   "cell_type": "code",
   "execution_count": null,
   "source": [
    "file = open(path,'r')\n",
    "for line in file:\n",
    "    print(line.strip())\n",
    "file.close()"
   ],
   "outputs": [],
   "metadata": {}
  },
  {
   "cell_type": "markdown",
   "source": [
    "- Write entire text to file.\n",
    "\n",
    "- Result: Text in file has same formatting as `full_text`.\n",
    "\n"
   ],
   "metadata": {}
  },
  {
   "cell_type": "code",
   "execution_count": null,
   "source": [
    "lines = [\"do\\n\",\"re\\n\",\"mi\\n\",\"fa\\n\",\"so\\n\",\"la\\n\"]\n",
    "\n",
    "file = open(path,\"w\")\n",
    "file.writelines(lines)\n",
    "file.close()\n"
   ],
   "outputs": [],
   "metadata": {}
  },
  {
   "cell_type": "code",
   "execution_count": null,
   "source": [
    "file = open(path,'r')\n",
    "for line in file:\n",
    "    print(line.strip())\n",
    "file.close()"
   ],
   "outputs": [],
   "metadata": {}
  },
  {
   "cell_type": "markdown",
   "source": [
    "- We write text line by line to file.\n",
    "- Result: do,re,mi,fa,so,la as six separate lines.\n",
    "\n",
    "- Writing text is also easy, just remember to handle the line breaks.\n",
    "---\n",
    "\n",
    "### Recommendations\n",
    "- Always look at the content of the file you are about to read to understand how it is organized\n",
    "- Always open the output file when writing to a file to inspect the result"
   ],
   "metadata": {}
  },
  {
   "cell_type": "markdown",
   "source": [
    "## Reading and Writing text - Summary\n",
    "\n",
    "We use `open(...)` to make a file connection\n",
    "-  `open(path,\"r\")` -> open file for reading. Program will crash is file doesn't exists (or is read protected)\n",
    "-  `open(path,\"w\")` -> open file for writing. The file will be created if it doesn't exist, or replaced if it does exist.\n",
    "-  `open(path,\"a\")` -> open file for appending -> add new text at the end of a file. The file will be created if it doesn't exist, or appended if it does exist.\n",
    "-  Default is `\"r\"` -> `open(path)` means open file for reading\n",
    "\n",
    "---\n",
    "\n",
    "- `file` in `file = open(...)` is a file object. File object usage:\n",
    "\n",
    "-  `for line in file:` -> read one line at the time\n",
    "-  `full_text = file.read()` -> read entire file content\n",
    "-  `file.write(full_text)` -> write entire text \n",
    "-  `file.writelines(lines)` where `lines` is a list of strings -> write line by line (but not adding any linebreaks) \n"
   ],
   "metadata": {}
  },
  {
   "cell_type": "markdown",
   "source": [
    "## Safe file handling with `with-as`\n",
    "\n"
   ],
   "metadata": {}
  },
  {
   "cell_type": "code",
   "execution_count": null,
   "source": [
    "path = '/Users/frahaa/dev/courses/1DV501/output3.txt'\n",
    "\n",
    "#with open(path, \"r\") as file:\n",
    "#   for line in file:\n",
    "#       print( line.strip() )     \n",
    "        \n",
    "\n",
    "# Safe file writing \n",
    "\n",
    "with open(path, \"a\") as file:\n",
    "   file.write(\"First line to add\\n\")\n",
    "   file.write(\"Last line to add\\n\")"
   ],
   "outputs": [],
   "metadata": {}
  },
  {
   "cell_type": "markdown",
   "source": [
    "- `with` and `as` are two Python keywords\n",
    "- The `with-as` statement includes file closing and was introduced to make sure that an open file is always closed (no matter what happens)\n",
    "- **Although a bit cryptic, it is the recommended approach to open a file.**\n"
   ],
   "metadata": {}
  },
  {
   "cell_type": "markdown",
   "source": [],
   "metadata": {}
  },
  {
   "cell_type": "markdown",
   "source": [
    "# Reading Data Files\n",
    "\n",
    "Two examples of numeric files with different formatting.\n",
    "\n",
    "- File: `integers1.dat` (show in text editor)\n",
    "- File: `integers2.dat` (show in text editor)\n",
    "\n",
    "**Task:** For each file, implement a function read_file(path) returning an integer list.\n",
    "\n",
    "\n",
    "*Notice*\n",
    "- Different formatting -> different versions of read_file(path)\n",
    "- We will get data as strings -> must be converted to integers"
   ],
   "metadata": {}
  },
  {
   "cell_type": "code",
   "execution_count": null,
   "source": [
    "import os\n",
    "\n",
    "def read_integers1(path):\n",
    "    lst = []\n",
    "    with open(path, \"r\") as file:\n",
    "        for line in file: # Read one line at the time\n",
    "            n = int(line.strip()) # Strip and convert to integer\n",
    "            lst.append(n)\n",
    "    return lst\n",
    "\n",
    "# Program starts\n",
    "path = '/Users/frahaa/dev/courses/1DV501' + \"/data/integers1.dat\"\n",
    "lst1 = read_integers1(path)\n",
    "print(\"integers1.dat: \", lst1)"
   ],
   "outputs": [],
   "metadata": {}
  },
  {
   "cell_type": "code",
   "execution_count": null,
   "source": [
    "import os\n",
    "\n",
    "def read_integers2(path):\n",
    "    lst = []\n",
    "    with open(path, \"r\") as file:\n",
    "        as_string = file.read() # Read entire file (as a long string) \n",
    "        string_list = as_string.split(\";\") # Split string into smaller strings\n",
    "        for s in string_list: # Convert each string to an integer\n",
    "            lst.append(int(s))\n",
    "    return lst\n",
    "\n",
    "# Program starts\n",
    "path = '/Users/frahaa/dev/courses/1DV501' + \"/data/integers2.dat\"\n",
    "lst2 = read_integers2(path)\n",
    "print(\"integers2.dat: \", lst2) "
   ],
   "outputs": [],
   "metadata": {}
  },
  {
   "cell_type": "markdown",
   "source": [
    "# File IO - Recommendations\n",
    "\n",
    "- Always look at the content of the file you are about to read to understand how it is organized\n",
    "- Text is often read line by line. Use `strip()` to remove line breaks (`\\n`)\n",
    "- Numeric data can be organized in many different ways. For example, comma-separated or one number per row.\n",
    "- Use the `split()` function to divide rows to lists\n",
    "- File reading gives data as a string -> must be converted to numbers when dealing with numeric data\n",
    "- Always open the output file when writing to a file to inspect the result\n",
    "- Start with small samples and print a lot to make sure that everything works"
   ],
   "metadata": {}
  },
  {
   "cell_type": "markdown",
   "source": [
    "# Assignment 3 - Exercise 4\n",
    "\n",
    "You can here download two large files containing English text:\n",
    "- `holy_grail.txt` containing the script of the Monty Python movie The Holy Grail. (It is a Python course after all!)\n",
    "- `eng_news_100K-sentences.txt` containing 100,000 sentences taken from English newspapers.\n",
    "\n",
    "## Task\n",
    "\n",
    "Write a program `find_words.py` that can identify individual words in a text and store these words (in lower case) in a separate text file.\n",
    "By a word we here mean strings containing only the English letters plus ”’” and ”-”. Hence, we consider words like ”can’t”, ”John’s”, and ”full-time” as valid words. Furthermore, a word doesn’t contain any digits, or symbols like ”.”, ”,”, ”!”, ”?”, etc.\n",
    "\n",
    "*Notice: The result of this exercise (two files containing only the words from the two text files) will be used later on in other exercises and the Mini-project.*"
   ],
   "metadata": {}
  },
  {
   "cell_type": "markdown",
   "source": [],
   "metadata": {}
  },
  {
   "cell_type": "markdown",
   "source": [
    "# Exercise 4 - Recommended Approach\n",
    "\n",
    "**Step 1**\n",
    "\n",
    "1. A function `read_file(file_path)` that reads the file specified by `file_path` and return a list of strings containing each row in the text file.\n",
    "2. A function `get_words(row)` that divides a row (a string) into words and returns a list of words (strings)\n",
    "3. A function `save_words(file_path, words)` that saves all the words in the list words in the file specified by file_path\n",
    "\n",
    "**Step 2**,\n",
    "- the function `get_words(row)`, is the hard part. How do you divide a row (text) into a list of words? How do you approach the problem?"
   ],
   "metadata": {}
  },
  {
   "cell_type": "markdown",
   "source": [
    "# Exercise 4 - Identifying words\n",
    "\n",
    "Input: A sentence from text as a string.\n",
    "\n",
    "### Steps to be taken\n",
    "\n",
    "1. Convert sentence to lower case sentence\n",
    "2. Replace punctuation marks (e.g. `\".\",\"!\",\"?\",\":\", ...`) not part of\n",
    "words with `\" \"`\n",
    "3. Split sentence into list of raw words using `split()`. Example raw words:\n",
    "    ```\n",
    "    '11', '53am', 'thursday', '13', '(january)', '2011', 'emotions',\n",
    "    'fly', 'during', 'ridge', 'lane', 'development', 'hearing', 'watfor\n",
    "    'town', 'hall', 'reached', 'boiling', 'point', 'when', 'x', 'i'\n",
    "    'controversial', 'plans', 'for', 'a', 'back', 'garden', 'john'\n",
    "    'development', 'resurfaced', 'last', 'night', '3mx3m',\n",
    "    '11am', 'this', 'probably', 'doesn’t', 'come', 'as', 'a', 'm'\n",
    "    ```\n",
    "4. Iterate over raw words and remove non-words -> our list of words\n",
    "5. Example of non-words\n",
    "    - Any raw word containing digits\n",
    "    - The only single letter words in English are ”a” and ”I”\n",
    "\n",
    "In general, look at printouts, identify non-words, and try to remove them"
   ],
   "metadata": {}
  },
  {
   "cell_type": "markdown",
   "source": [
    "# Exercise 4 - Results\n",
    "\n",
    "Result: A file containing words taken from the input text file.\n",
    "\n",
    "- No exact word definition -> no exact word count\n",
    "- We got the following word counts: 1896870 for `100k_sentences`, 10799 for `holy_grail`.\n",
    "- We don’t expect you to get these results exactly, but they should be about the same (say ±5%).\n",
    "- Switching from `100k_sentences` to `holy_grail` should be by switching input path. Not two different programs.\n",
    "\n",
    "## Suggestions\n",
    "- Do not start with large text files.\n",
    "- Start with text files with only (say) 20 sentences that allows manual inspection (printouts)\n",
    "- Try using multiple small text samples\n",
    "- Evaluate effect of, for example removing any raw word containing parentheses, by printing words that are removed -> make sure that proper words are not removed."
   ],
   "metadata": {}
  },
  {
   "cell_type": "markdown",
   "source": [
    "# Assignment 3\n",
    "- Assignment 3 is now available in Moodle\n",
    "- Assignment 3 should be submitted using Gitlab. This holds for all students -> campus, distance, as well as others ”Others”.\n",
    "- Instructions for how to use Gitlab will be published in Moodle. Post questions in Slack if you have problems.\n",
    "\n",
    "*Notice*\n",
    "- Assignment 3 contains fewer but larger and more complex exercises.\n",
    "\n",
    "Take a small step approach where you divide the problem into several smaller problems which you solve one at the time. Test that each part works before you move on to the next one. Also, be sure to read the entire exercise text before you start any coding."
   ],
   "metadata": {}
  },
  {
   "cell_type": "markdown",
   "source": [],
   "metadata": {}
  }
 ],
 "metadata": {
  "kernelspec": {
   "name": "python3",
   "display_name": "Python 3.8.11 64-bit ('base': conda)"
  },
  "language_info": {
   "codemirror_mode": {
    "name": "ipython",
    "version": 3
   },
   "file_extension": ".py",
   "mimetype": "text/x-python",
   "name": "python",
   "nbconvert_exporter": "python",
   "pygments_lexer": "ipython3",
   "version": "3.8.11"
  },
  "interpreter": {
   "hash": "dca0ade3e726a953b501b15e8e990130d2b7799f14cfd9f4271676035ebe5511"
  }
 },
 "nbformat": 4,
 "nbformat_minor": 4
}