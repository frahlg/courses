{
 "cells": [
  {
   "cell_type": "markdown",
   "source": [
    "# Session 5\n",
    "\n",
    "- 1DV501\n",
    "\n",
    "## Writing Functions"
   ],
   "metadata": {}
  },
  {
   "cell_type": "markdown",
   "source": [
    "- **Writing your own functions**\n",
    "- Parameter passing\n",
    "- Global variables\n",
    "- Default parameters\n",
    "- Organizing one file programs\n",
    "- A separate file with only functions \n",
    "- Recursion (Introduction)\n",
    "- If time permits\n",
    "\n",
    "\n",
    "- Documenting functions\n",
    "- Functions as parameters\n",
    "\n",
    "\n",
    "Reading instructions: 7.1-7.3, 8.1-8.5\n",
    "\n",
    "The important parts are 7.1-7.2, 8.1-8.4"
   ],
   "metadata": {}
  },
  {
   "cell_type": "code",
   "execution_count": 90,
   "source": [
    "# Function definition\n",
    "def increment(n):\n",
    "    p = n + 1         # Function body\n",
    "    return p+10\n"
   ],
   "outputs": [],
   "metadata": {}
  },
  {
   "cell_type": "code",
   "execution_count": 91,
   "source": [
    "# Program starts\n",
    "x = 1\n",
    "y = increment(x)  # Call function increment\n",
    "print(x,y)   # Output: 1 2\n",
    "\n",
    "p = 7\n",
    "q = increment(p)  # Call function increment\n",
    "print(p,q)   # Output: 7 8"
   ],
   "outputs": [
    {
     "output_type": "stream",
     "name": "stdout",
     "text": [
      "1 12\n",
      "7 18\n"
     ]
    }
   ],
   "metadata": {}
  },
  {
   "cell_type": "markdown",
   "source": [
    "- The code `def increment(...) ...` defines a new function named `increment`\n",
    "- We later **call** this function as `q = increment(p)` \n",
    "- A function must be defined before they are used -> above the code that is using it\n",
    "- Execution starts in the program and jumps temporarily to `increment` each time it is called."
   ],
   "metadata": {}
  },
  {
   "cell_type": "markdown",
   "source": [
    "## A function with no return values"
   ],
   "metadata": {}
  },
  {
   "cell_type": "code",
   "execution_count": 94,
   "source": [
    "# Function definition with no return\n",
    "def print_countdown(input_number):\n",
    "    if input_number < 1:\n",
    "        print(\"It must be a positive number!\")\n",
    "    else:\n",
    "        for i in range(input_number,-1,-1):\n",
    "            print(i, end=\" \")\n",
    "        print()    # line break\n",
    "   "
   ],
   "outputs": [],
   "metadata": {}
  },
  {
   "cell_type": "code",
   "execution_count": 95,
   "source": [
    "# Program starts\n",
    "print_countdown(10)     # Output: 10 9 8 7 6 5 4 3 2 1\n",
    "print_countdown(-1)     # Output: It must be a positive number!"
   ],
   "outputs": [
    {
     "output_type": "stream",
     "name": "stdout",
     "text": [
      "10 9 8 7 6 5 4 3 2 1 0 \n",
      "It must be a positive number!\n"
     ]
    }
   ],
   "metadata": {}
  },
  {
   "cell_type": "markdown",
   "source": [
    "- The variable `n` in the function definition is called a *parameter*\n",
    "- The values used the call (10 and -1) are called *arguments*\n",
    "- A function can have zero or more return values. The example above has zero return values."
   ],
   "metadata": {}
  },
  {
   "cell_type": "markdown",
   "source": [
    "## Multiple parameters and return values"
   ],
   "metadata": {}
  },
  {
   "cell_type": "code",
   "execution_count": 96,
   "source": [
    "# Function with multiple parameter values\n",
    "def add_all(a, b, c):\n",
    "    sum_no = a+b+c\n",
    "    return sum_no \n",
    "\n",
    "# Function with multiple return values\n",
    "def increase_decrease(n):\n",
    "    a = n + 1\n",
    "    b = n - 1\n",
    "    return a, b     # Return two values\n"
   ],
   "outputs": [],
   "metadata": {}
  },
  {
   "cell_type": "code",
   "execution_count": 97,
   "source": [
    "\n",
    "# Program starts\n",
    "x = add_all(1,2,3)            # x = 6\n",
    "p, q = increase_decrease(x)   # Take care of two return values\n",
    "print(p, q)                   # Output: 7 5"
   ],
   "outputs": [
    {
     "output_type": "stream",
     "name": "stdout",
     "text": [
      "7 5\n"
     ]
    }
   ],
   "metadata": {}
  },
  {
   "cell_type": "code",
   "execution_count": 108,
   "source": [
    "x = increase_decrease(10)"
   ],
   "outputs": [],
   "metadata": {}
  },
  {
   "cell_type": "code",
   "execution_count": 110,
   "source": [
    "x[0]"
   ],
   "outputs": [
    {
     "output_type": "execute_result",
     "data": {
      "text/plain": [
       "11"
      ]
     },
     "metadata": {},
     "execution_count": 110
    }
   ],
   "metadata": {}
  },
  {
   "cell_type": "code",
   "execution_count": 109,
   "source": [
    "type(x)"
   ],
   "outputs": [
    {
     "output_type": "execute_result",
     "data": {
      "text/plain": [
       "tuple"
      ]
     },
     "metadata": {},
     "execution_count": 109
    }
   ],
   "metadata": {}
  },
  {
   "cell_type": "code",
   "execution_count": 106,
   "source": [
    "print(x)"
   ],
   "outputs": [
    {
     "output_type": "stream",
     "name": "stdout",
     "text": [
      "11\n"
     ]
    }
   ],
   "metadata": {}
  },
  {
   "cell_type": "code",
   "execution_count": 107,
   "source": [
    "y"
   ],
   "outputs": [
    {
     "output_type": "execute_result",
     "data": {
      "text/plain": [
       "9"
      ]
     },
     "metadata": {},
     "execution_count": 107
    }
   ],
   "metadata": {}
  },
  {
   "cell_type": "markdown",
   "source": [
    "- Function `add_all` has three parameters and one return value\n",
    "- Function `increase_decrease` has one parameter and two return values \n",
    "- Returning two values -> handle the return values using a multi-assignment -> `p, q = increase_decrease(x)` "
   ],
   "metadata": {}
  },
  {
   "cell_type": "markdown",
   "source": [
    "## Functions - Rules\n",
    "\n",
    "\n",
    "- The `def` keyword marks the beginning of the function’s definition\n",
    "- Each functions has a name that we later on use to call it\n",
    "- A function may have zero or more parameters\n",
    "- A function with `N` parameters requires `N` arguments when called\n",
    "- The function body (`block` in figure above) makes use of the parameters to compute and return zero or more results\n",
    "- Keyword `return` -> function execution stops (and returns to the call site)\n",
    "- Functions must be defined before (in the code) they are called\n",
    "- Two functions in one file can not have the same name no function overriding"
   ],
   "metadata": {}
  },
  {
   "cell_type": "markdown",
   "source": [
    "## Functions - Best practice\n",
    "\n",
    "- Functions are named in the same way as variables. That is, they start with a lower case letter and words are separated by an underscore.\n",
    "     \n",
    "- **Try to make your methods reusable**. They should do one thing, and they should do it in a good way. Example: The function `sort_and_print(...)` should probably be split into functions `sort(...)` and `print(...)` since it is much more likely that each one of the shorter functions can be reused later on.\n",
    "\n",
    "### When to use functions?\n",
    "\n",
    "- When your program starts to get too long divide it into smaller parts divide into functions.\n",
    "- When you repeat the same type of computations many times make a function of the computation and call it many times.\n",
    "    *Advantages: Shorter code and easier to update function (than multiple occurrences of similar code) when error in computation discovered.*\n",
    "- Functions are name given computations makes program easier to understand. For example, consider a function `is_prime_number(n)`, the name says that we check if a given number is a prime number.\n"
   ],
   "metadata": {}
  },
  {
   "cell_type": "markdown",
   "source": [
    "## Parameter passing and local variables"
   ],
   "metadata": {}
  },
  {
   "cell_type": "code",
   "execution_count": 111,
   "source": [
    "def add_one(n):\n",
    "    n = n + 1\n"
   ],
   "outputs": [],
   "metadata": {}
  },
  {
   "cell_type": "markdown",
   "source": [
    "- Q: What is printed in the two cases?\n"
   ],
   "metadata": {}
  },
  {
   "cell_type": "code",
   "execution_count": 112,
   "source": [
    "# Program starts\n",
    "a = 10\n",
    "add_one(a)\n",
    "print(a)\n",
    "\n",
    "n = 5\n",
    "add_one(n)\n",
    "print(n)"
   ],
   "outputs": [
    {
     "output_type": "stream",
     "name": "stdout",
     "text": [
      "10\n",
      "5\n"
     ]
    }
   ],
   "metadata": {}
  },
  {
   "cell_type": "markdown",
   "source": [
    "\n",
    "- Parameter `n` in function `add_one` is a local variable -> not same `n` as in the program below \n",
    "- At the call `add_one(n)`, parameter `n` inside `add_one`  is assigned the value 5 and updates it. However, the update has no effect on the program since `n` is not the same variable as the program variables `n` and `a`. \n",
    "- Parameters and variables defined inside a function are **local** to that function they are not the same parameters/variables that are used in other functions or in the main program."
   ],
   "metadata": {}
  },
  {
   "cell_type": "markdown",
   "source": [
    "## Local variables\n",
    "\n",
    "1. Parameters and variables defined inside a function are **local** to that function they are not the same parameters/variables that are used in other functions or in the main program the same parameter/variable name can be used in different functions without any conflict.\n",
    "\n",
    "2. The memory required to store a local variable is used only when the variable function is executed.\n",
    " - When the program’s execution leaves the function, the memory for that variable is freed up. \n",
    "\n",
    "---\n",
    "\n",
    "- *Property 1* is very import for practical reasons\n",
    "- *Property 2* is only import for very large programs (or in programs with very many function calls). \n",
    "\n",
    "---"
   ],
   "metadata": {}
  },
  {
   "cell_type": "markdown",
   "source": [
    "## Global variables (1)\n",
    "\n"
   ],
   "metadata": {}
  },
  {
   "cell_type": "code",
   "execution_count": 117,
   "source": [
    "# Introduce two global variables\n",
    "n1 = 0\n",
    "n2 = 0\n",
    "\n",
    "\n",
    "def get_input():\n",
    "    global n1, n2\n",
    "    n1 = int( input(\"Enter integer 1: \") )  # Update global n1 \n",
    "    n2 = int( input(\"Enter integer 2: \") )\n"
   ],
   "outputs": [],
   "metadata": {}
  },
  {
   "cell_type": "code",
   "execution_count": 116,
   "source": [
    "# Program starts\n",
    "get_input()   # Assigns new values to n1 and n2\n",
    "print(f\"Integer 1 is {n1} and Integer 2 is {n2}\")  # Use global n1"
   ],
   "outputs": [
    {
     "output_type": "stream",
     "name": "stdout",
     "text": [
      "Integer 1 is 0 and Integer 2 is 0\n"
     ]
    }
   ],
   "metadata": {}
  },
  {
   "cell_type": "markdown",
   "source": [
    "- Variables defined before any functions are **global variables**\n",
    "- Global variables can be accessed in all functions and in the main program\n",
    "- **Warning:** Global variables makes program hard to read try to avoid them"
   ],
   "metadata": {}
  },
  {
   "cell_type": "code",
   "execution_count": 118,
   "source": [
    "z = 'I am a global variable.'\n",
    "\n",
    "\n",
    "def whats_in_me():\n",
    "    print(z)\n"
   ],
   "outputs": [],
   "metadata": {}
  },
  {
   "cell_type": "code",
   "execution_count": 119,
   "source": [
    "whats_in_me()"
   ],
   "outputs": [
    {
     "output_type": "stream",
     "name": "stdout",
     "text": [
      "I am a global variable.\n"
     ]
    }
   ],
   "metadata": {}
  },
  {
   "cell_type": "markdown",
   "source": [
    "## Global variables (2)\n",
    "\n"
   ],
   "metadata": {}
  },
  {
   "cell_type": "code",
   "execution_count": 120,
   "source": [
    "n = 0  # Global variable n\n",
    "\n",
    "def set_global_1(a):  \n",
    "    global n\n",
    "    n = a   # Updates global variable n\n",
    "\n",
    "\n",
    "def set_global_2(a): \n",
    "    n = a   # Updates local variable n\n",
    "\n",
    "    \n",
    "def get_global(): \n",
    "    return n   # Returns global n, no declaration needed\n"
   ],
   "outputs": [],
   "metadata": {}
  },
  {
   "cell_type": "code",
   "execution_count": 121,
   "source": [
    "set_global_1(5)\n",
    "print(n)       # Print global n, output: 5"
   ],
   "outputs": [
    {
     "output_type": "stream",
     "name": "stdout",
     "text": [
      "5\n"
     ]
    }
   ],
   "metadata": {}
  },
  {
   "cell_type": "code",
   "execution_count": null,
   "source": [
    "set_global_2(7)\n",
    "print(n)       # Print global n, output is still 5"
   ],
   "outputs": [],
   "metadata": {}
  },
  {
   "cell_type": "code",
   "execution_count": null,
   "source": [
    "print( get_global() )  # Print current global value ==> Output: 5"
   ],
   "outputs": [],
   "metadata": {}
  },
  {
   "cell_type": "markdown",
   "source": [
    "## Flake8 recommendations\n",
    "\n",
    "https://flake8.pycqa.org/en/latest/\n",
    "\n",
    "flake8 is a command-line utility for enforcing style consistency across Python projects. By default it includes lint checks provided by the PyFlakes project, PEP-0008 inspired style checks provided by the PyCodeStyle project, and McCabe complexity checking provided by the McCabe project.\n"
   ],
   "metadata": {}
  },
  {
   "cell_type": "code",
   "execution_count": null,
   "source": [
    "def add_all(a, b, c):\n",
    "    return a+b+c\n",
    "\n",
    "\n",
    "def increase_decrease(n):\n",
    "    a=n+1\n",
    "    b=n-1\n",
    "    return a, b # Return two values\n",
    "\n",
    "\n",
    "# Program starts\n",
    "x = add_all(1, 2, 3) # x = 6\n",
    "p, q = increase_decrease(x) # Take care of two return values\n",
    "print(p, q) # Output: 7 5\n"
   ],
   "outputs": [],
   "metadata": {}
  },
  {
   "cell_type": "markdown",
   "source": [
    "### Flake 8 requires\n",
    "- A space after each comma in parameter list (e.g. `add_all(a, b, c)`)\n",
    "- A space after each comma in call argument list (e.g. `add_all(1, 2, 3)`)\n",
    "- Two empty lines after each function definition"
   ],
   "metadata": {}
  },
  {
   "cell_type": "markdown",
   "source": [
    "- To update a global variable inside a function you need to declare it as `global`\n",
    "- Not declared as global -> considered as introducing a new local variable\n",
    "- No need to declare global when only reading a global variable "
   ],
   "metadata": {}
  },
  {
   "cell_type": "markdown",
   "source": [
    "# Organizing single file programs\n",
    "\n",
    "**Recommended file organization:**\n",
    "\n",
    "### Simplest possible\n",
    " 1. Import statements\n",
    " 2. Global variables\n",
    " 3. Function definitions\n",
    " 4. Program starts\n",
    " \n",
    "*This approach is used so far* \n",
    " \n",
    "or...\n",
    "\n",
    "### Using a main function\n",
    "\n",
    " 1. Import statements\n",
    " 2. Global variables\n",
    " 3. Function definitions\n",
    " 4. A function `main()` containing the program\n",
    " 5. A call to `main()` to start the program\n",
    " \n",
    "*This approach sometimes used in the textbook*\n",
    "\n",
    "---\n",
    "Motivation for using `main()`:\n",
    "\n",
    "- Functions help to organize our code.\n",
    "- The name `main` for the controlling function is arbitrary but traditional; several other popular programming languages (C, C``, Java, C#, Objective-C) require such a function and require it to be named main.\n"
   ],
   "metadata": {}
  },
  {
   "cell_type": "markdown",
   "source": [
    "# 5 minuter bensträckare."
   ],
   "metadata": {}
  },
  {
   "cell_type": "markdown",
   "source": [
    "## The `main()` function approach"
   ],
   "metadata": {}
  },
  {
   "cell_type": "code",
   "execution_count": 124,
   "source": [
    "def increase(n):\n",
    "    return n + 1\n",
    "\n",
    "def decrease(n):\n",
    "    return n - 1\n",
    "\n",
    "def main():      # Function representing program\n",
    "    p = 7\n",
    "    p = increase(p)\n",
    "    p = increase(p)\n",
    "\n",
    "    q = 7\n",
    "    q = decrease(q)\n",
    "    \n",
    "    print(p, q) \n",
    "\n",
    "main()"
   ],
   "outputs": [
    {
     "output_type": "stream",
     "name": "stdout",
     "text": [
      "9 6\n"
     ]
    }
   ],
   "metadata": {}
  },
  {
   "cell_type": "code",
   "execution_count": 123,
   "source": [],
   "outputs": [
    {
     "output_type": "stream",
     "name": "stdout",
     "text": [
      "9 6\n"
     ]
    }
   ],
   "metadata": {}
  },
  {
   "cell_type": "markdown",
   "source": [
    "**Note:** Feel free to use the `main()` function approach. No need for doing it in simple/short programs as long as the code is easy to read."
   ],
   "metadata": {}
  },
  {
   "cell_type": "markdown",
   "source": [
    "## Default Parameters (1)\n",
    "\n",
    "- Python allows us to give certain parameters a default value -> values to be used if parameter not used\n"
   ],
   "metadata": {}
  },
  {
   "cell_type": "code",
   "execution_count": 128,
   "source": [
    "def funktion1(n=10):\n",
    "    print(n)"
   ],
   "outputs": [],
   "metadata": {}
  },
  {
   "cell_type": "code",
   "execution_count": 130,
   "source": [
    "funktion1()"
   ],
   "outputs": [
    {
     "output_type": "stream",
     "name": "stdout",
     "text": [
      "10\n"
     ]
    }
   ],
   "metadata": {}
  },
  {
   "cell_type": "code",
   "execution_count": 131,
   "source": [
    "# Prints all integers in range [n,m] on a single line\n",
    "def print_range(n = 0, m = 5):\n",
    "    for i in range(n, m + 1):\n",
    "        print(i, end=\" \")"
   ],
   "outputs": [],
   "metadata": {}
  },
  {
   "cell_type": "code",
   "execution_count": 132,
   "source": [
    "print_range()       # Use default values ==> 0 1 2 3 4 5"
   ],
   "outputs": [
    {
     "output_type": "stream",
     "name": "stdout",
     "text": [
      "0 1 2 3 4 5 "
     ]
    }
   ],
   "metadata": {}
  },
  {
   "cell_type": "code",
   "execution_count": 133,
   "source": [
    "print_range(6, 10)  # Non-default values ==> 6 7 8 9 10"
   ],
   "outputs": [
    {
     "output_type": "stream",
     "name": "stdout",
     "text": [
      "6 7 8 9 10 "
     ]
    }
   ],
   "metadata": {}
  },
  {
   "cell_type": "code",
   "execution_count": 134,
   "source": [
    "print_range(3)     # n = 3, m = 5 ==>  3 4 5 "
   ],
   "outputs": [
    {
     "output_type": "stream",
     "name": "stdout",
     "text": [
      "3 4 5 "
     ]
    }
   ],
   "metadata": {}
  },
  {
   "cell_type": "markdown",
   "source": [
    "- The function parameters default values are `n = 0, m = 5`\n",
    "- Call `print_range()` -> both default values are used\n",
    "- Call `print_range(6, 10)` -> overrides default values -> defaults are not used  \n",
    "- Call `print_range(3)` -> overrides 1st default, 2nd default values is used  "
   ],
   "metadata": {}
  },
  {
   "cell_type": "markdown",
   "source": [
    "## Default Parameters (2)\n",
    "\n",
    "\n"
   ],
   "metadata": {}
  },
  {
   "cell_type": "code",
   "execution_count": 135,
   "source": [
    "def print_range(n, m = 5):    # Only 2nd parameter has default value - OK!\n",
    "    for i in range(n, m + 1):\n",
    "        print(i, end=\" \")"
   ],
   "outputs": [],
   "metadata": {}
  },
  {
   "cell_type": "code",
   "execution_count": 136,
   "source": [
    "def print_range(n = 0, m): # Only 1st parameter has default value - Error!\n",
    "    for i in range(n, m + 1):\n",
    "        print(i, end=\" \")"
   ],
   "outputs": [
    {
     "output_type": "error",
     "ename": "SyntaxError",
     "evalue": "non-default argument follows default argument (129413390.py, line 1)",
     "traceback": [
      "\u001b[0;36m  File \u001b[0;32m\"/var/folders/c2/0wzvtyxs7kd27czh1j640t4w0000gp/T/ipykernel_1523/129413390.py\"\u001b[0;36m, line \u001b[0;32m1\u001b[0m\n\u001b[0;31m    def print_range(n = 0, m): # Only 1st parameter has default value - Error!\u001b[0m\n\u001b[0m                    ^\u001b[0m\n\u001b[0;31mSyntaxError\u001b[0m\u001b[0;31m:\u001b[0m non-default argument follows default argument\n"
     ]
    }
   ],
   "metadata": {}
  },
  {
   "cell_type": "markdown",
   "source": [
    "- A parameter with a default value is called a *default parameter*\n",
    "- A function can have any number of default parameters\n",
    "- However, the default parameters must come in the end of the parameter list\n",
    "- A default parameter (`n = 0`) can not be followed by non-default parameter (`m`)"
   ],
   "metadata": {}
  },
  {
   "cell_type": "markdown",
   "source": [
    "## Using multiple `.py`-files\n",
    "\n",
    "- Dividing your program into several files is simple:\n",
    "\n",
    "My library (or module) file `B.py`\n",
    "\n",
    "```python\n",
    "def increase(n):\n",
    "    return n + 1\n",
    "\n",
    "def decrease(n):\n",
    "    return n - 1\n",
    "```\n",
    "\n",
    "\n",
    "- Simple library (or module) -> a collection of functions\n",
    "- Functions can be re-used in many programs\n",
    "- **The library file must be in the same directory as the program** for this simple approach to work\n",
    "- A necessary approach when your program gets larger \n"
   ],
   "metadata": {}
  },
  {
   "cell_type": "markdown",
   "source": [
    "### Using functions in `B.py` (Version 1)"
   ],
   "metadata": {}
  },
  {
   "cell_type": "code",
   "execution_count": 137,
   "source": [
    "import B   # Make all functions in B available\n",
    "\n",
    "p = 7\n",
    "p = B.increase(p)  # B must be referenced\n",
    "p = B.increase(p) \n",
    "p = B.decrease(p)"
   ],
   "outputs": [],
   "metadata": {}
  },
  {
   "cell_type": "code",
   "execution_count": null,
   "source": [],
   "outputs": [],
   "metadata": {}
  },
  {
   "cell_type": "code",
   "execution_count": 140,
   "source": [
    "math.sin(0.5)"
   ],
   "outputs": [
    {
     "output_type": "execute_result",
     "data": {
      "text/plain": [
       "0.479425538604203"
      ]
     },
     "metadata": {},
     "execution_count": 140
    }
   ],
   "metadata": {}
  },
  {
   "cell_type": "code",
   "execution_count": 138,
   "source": [
    "import math"
   ],
   "outputs": [],
   "metadata": {}
  },
  {
   "cell_type": "code",
   "execution_count": 141,
   "source": [
    "print(p)"
   ],
   "outputs": [
    {
     "output_type": "stream",
     "name": "stdout",
     "text": [
      "8\n"
     ]
    }
   ],
   "metadata": {}
  },
  {
   "cell_type": "markdown",
   "source": [
    "### Using functions in `B.py` (Version 2)"
   ],
   "metadata": {}
  },
  {
   "cell_type": "code",
   "execution_count": 142,
   "source": [
    "from B import increase, decrease \n",
    "\n",
    "p = 7\n",
    "p = increase(p)   # No need to reference B\n",
    "p = increase(p)\n",
    "p = decrease(p)"
   ],
   "outputs": [],
   "metadata": {}
  },
  {
   "cell_type": "code",
   "execution_count": null,
   "source": [
    "print(p)"
   ],
   "outputs": [],
   "metadata": {}
  },
  {
   "cell_type": "markdown",
   "source": [
    "## Programming example `has_XandY(str)`\n",
    "\n",
    "\n",
    "- Inside a file `xandy.py`, write a function `has_XandY(str)` returning `True` if the inp_ut string str contains both the upper case letters X and X (and False otherwise).\n",
    "    - That is, the strings `abbX`, `aYbx`, and `YYYY` should all return `False` whereas:\n",
    "    - `YbbX`, `XXYYXX`, and `XYlofon` should all return `True`.\n",
    "    \n",
    "    \n",
    "- Also,  inside file `xandy.py`, present a short program that demonstrates how the function can be used.\n"
   ],
   "metadata": {}
  },
  {
   "cell_type": "markdown",
   "source": [
    "## Solution: `has_XandY(str)`\n"
   ],
   "metadata": {}
  },
  {
   "cell_type": "code",
   "execution_count": 143,
   "source": [
    "def has_XandY(str):\n",
    "    x, y = False, False\n",
    "    for c in str:        # For each character in string\n",
    "        if c == 'X':\n",
    "            x = True\n",
    "        elif c == 'Y':\n",
    "            y = True\n",
    "    return x and y       # Both must be true\n",
    "\n",
    "def test_and_print(s):\n",
    "    if has_XandY(s):\n",
    "        print(s, \"contains both X and Y\")\n",
    "    else:\n",
    "        print(s, \"doesn't contain both X and Y\")"
   ],
   "outputs": [],
   "metadata": {}
  },
  {
   "cell_type": "code",
   "execution_count": 147,
   "source": [
    "has_XandY('YjfhskdjfhksdXjfkdsjh')"
   ],
   "outputs": [
    {
     "output_type": "execute_result",
     "data": {
      "text/plain": [
       "True"
      ]
     },
     "metadata": {},
     "execution_count": 147
    }
   ],
   "metadata": {}
  },
  {
   "cell_type": "code",
   "execution_count": 148,
   "source": [
    "test_and_print('b')"
   ],
   "outputs": [
    {
     "output_type": "stream",
     "name": "stdout",
     "text": [
      "b doesn't contain both X and Y\n"
     ]
    }
   ],
   "metadata": {}
  },
  {
   "cell_type": "markdown",
   "source": [
    "## Recursion - An introduction\n",
    "\n",
    "Recursion: A solution to a problem based on a smaller (but similar) problem.\n",
    "\n",
    "\n",
    "**Example:** The sum of all integers in range 1 to n\n",
    "\n",
    "$S(n) =\\sum_{i=1}^n i = 1 + 2 + 3 + \\cdots $"
   ],
   "metadata": {}
  },
  {
   "cell_type": "code",
   "execution_count": 149,
   "source": [
    "# Computes the sum 1+2+3+...n for any n > 0\n",
    "\n",
    "def sum(n):\n",
    "    s = 0\n",
    "    for i in range(1,n+1):\n",
    "        s = s + i\n",
    "    return s\n"
   ],
   "outputs": [],
   "metadata": {}
  },
  {
   "cell_type": "code",
   "execution_count": 150,
   "source": [
    "# Program starts\n",
    "p = sum(100)\n",
    "print(\"The sum 1+2+3+4+...+100 is \", p)"
   ],
   "outputs": [
    {
     "output_type": "stream",
     "name": "stdout",
     "text": [
      "The sum 1+2+3+4+...+100 is  5050\n"
     ]
    }
   ],
   "metadata": {}
  },
  {
   "cell_type": "markdown",
   "source": [
    "## Computing sum using smaller sums\n",
    "$S(n) =\\sum_{i=1}^n i = \\underbrace{1 + 2 + 3 + \\cdots + (n-2) +\n",
    "  (n-1)}_{S(n-1)} + n$\n",
    "  \n",
    "- The problem can be expressed using a smaller problem:  $S(n)= S(n-1) + n$\n",
    "\n",
    "\n",
    "- **Ex:** S(5) = S(4) + 5 \n",
    "    - And moving on ...\n",
    "\n",
    "\n",
    "    - S(4) = S(3) + 4\n",
    "    - S(3) = S(2) + 3\n",
    "    - S(2) = S(1) + 2\n",
    "    - S(1) = S(0) + 1\n",
    "    - S(0) = S(-1) + 0 ???   \n",
    "   "
   ],
   "metadata": {}
  },
  {
   "cell_type": "code",
   "execution_count": 151,
   "source": [
    "# Danger Zone :)\n",
    "\n",
    "def sum_rec(n):\n",
    "    return n + sum_rec(n-1)"
   ],
   "outputs": [],
   "metadata": {}
  },
  {
   "cell_type": "code",
   "execution_count": 152,
   "source": [
    "sum_rec(5)"
   ],
   "outputs": [
    {
     "output_type": "error",
     "ename": "RecursionError",
     "evalue": "maximum recursion depth exceeded",
     "traceback": [
      "\u001b[0;31m---------------------------------------------------------------------------\u001b[0m",
      "\u001b[0;31mRecursionError\u001b[0m                            Traceback (most recent call last)",
      "\u001b[0;32m/var/folders/c2/0wzvtyxs7kd27czh1j640t4w0000gp/T/ipykernel_1523/4165984998.py\u001b[0m in \u001b[0;36m<module>\u001b[0;34m\u001b[0m\n\u001b[0;32m----> 1\u001b[0;31m \u001b[0msum_rec\u001b[0m\u001b[0;34m(\u001b[0m\u001b[0;36m5\u001b[0m\u001b[0;34m)\u001b[0m\u001b[0;34m\u001b[0m\u001b[0;34m\u001b[0m\u001b[0m\n\u001b[0m",
      "\u001b[0;32m/var/folders/c2/0wzvtyxs7kd27czh1j640t4w0000gp/T/ipykernel_1523/3193935070.py\u001b[0m in \u001b[0;36msum_rec\u001b[0;34m(n)\u001b[0m\n\u001b[1;32m      2\u001b[0m \u001b[0;34m\u001b[0m\u001b[0m\n\u001b[1;32m      3\u001b[0m \u001b[0;32mdef\u001b[0m \u001b[0msum_rec\u001b[0m\u001b[0;34m(\u001b[0m\u001b[0mn\u001b[0m\u001b[0;34m)\u001b[0m\u001b[0;34m:\u001b[0m\u001b[0;34m\u001b[0m\u001b[0;34m\u001b[0m\u001b[0m\n\u001b[0;32m----> 4\u001b[0;31m     \u001b[0;32mreturn\u001b[0m \u001b[0mn\u001b[0m \u001b[0;34m+\u001b[0m \u001b[0msum_rec\u001b[0m\u001b[0;34m(\u001b[0m\u001b[0mn\u001b[0m\u001b[0;34m-\u001b[0m\u001b[0;36m1\u001b[0m\u001b[0;34m)\u001b[0m\u001b[0;34m\u001b[0m\u001b[0;34m\u001b[0m\u001b[0m\n\u001b[0m",
      "... last 1 frames repeated, from the frame below ...\n",
      "\u001b[0;32m/var/folders/c2/0wzvtyxs7kd27czh1j640t4w0000gp/T/ipykernel_1523/3193935070.py\u001b[0m in \u001b[0;36msum_rec\u001b[0;34m(n)\u001b[0m\n\u001b[1;32m      2\u001b[0m \u001b[0;34m\u001b[0m\u001b[0m\n\u001b[1;32m      3\u001b[0m \u001b[0;32mdef\u001b[0m \u001b[0msum_rec\u001b[0m\u001b[0;34m(\u001b[0m\u001b[0mn\u001b[0m\u001b[0;34m)\u001b[0m\u001b[0;34m:\u001b[0m\u001b[0;34m\u001b[0m\u001b[0;34m\u001b[0m\u001b[0m\n\u001b[0;32m----> 4\u001b[0;31m     \u001b[0;32mreturn\u001b[0m \u001b[0mn\u001b[0m \u001b[0;34m+\u001b[0m \u001b[0msum_rec\u001b[0m\u001b[0;34m(\u001b[0m\u001b[0mn\u001b[0m\u001b[0;34m-\u001b[0m\u001b[0;36m1\u001b[0m\u001b[0;34m)\u001b[0m\u001b[0;34m\u001b[0m\u001b[0;34m\u001b[0m\u001b[0m\n\u001b[0m",
      "\u001b[0;31mRecursionError\u001b[0m: maximum recursion depth exceeded"
     ]
    }
   ],
   "metadata": {}
  },
  {
   "cell_type": "markdown",
   "source": [
    "### Recursion limit in Python is 1000, which is the height of the Python interpreter stack!"
   ],
   "metadata": {}
  },
  {
   "cell_type": "markdown",
   "source": [
    " ## Arithmetic Sum: Introducing a Base Case\n",
    "\n",
    "- We need a *base case* to terminate the computation.\n",
    "- We choose to set the base case to $S(1) = 1$\n",
    "    - $S(0) = 0$ would also work.\n",
    "- The base case is expressed as a fact, not referring to any smaller problems.\n",
    "- We now have a **recursive definition**:\n",
    "\n",
    "$\\begin{align}\n",
    "S(n) = \\left\\{\n",
    "\\begin{array}{cl}\n",
    "1 & n = 1 (base\\ case) \\\\\n",
    "S(n-1) + n & n \\geq 2  (recursive\\ step) \\\\\n",
    "\\end{array}\n",
    "\\right.\n",
    "\\end{align}$\n",
    "\n",
    "- As a recursive Python function\n",
    "    \n",
    "We must find a **base case** -> a case where it all stops!"
   ],
   "metadata": {}
  },
  {
   "cell_type": "code",
   "execution_count": 153,
   "source": [
    "# A base case is needed!\n",
    "\n",
    "# Recursive computation 1+2+3+...n for any n > 0\n",
    "def sum_rec(n):\n",
    "    # Base case\n",
    "    if n == 1:\n",
    "        return 1\n",
    "    # Recursive case\n",
    "    else:\n",
    "        return n + sum_rec(n-1)     # A recursive call"
   ],
   "outputs": [],
   "metadata": {}
  },
  {
   "cell_type": "code",
   "execution_count": 155,
   "source": [
    "sum_rec(5)"
   ],
   "outputs": [
    {
     "output_type": "execute_result",
     "data": {
      "text/plain": [
       "15"
      ]
     },
     "metadata": {},
     "execution_count": 155
    }
   ],
   "metadata": {}
  },
  {
   "cell_type": "markdown",
   "source": [
    "- Recursion in practice -> a function calls itself\n",
    "\n",
    "- the function will continue to call itself and repeat its behavior until some condition is met to return a result."
   ],
   "metadata": {}
  },
  {
   "cell_type": "markdown",
   "source": [
    "## Executing recursive sum\n",
    "\n",
    "```\n",
    "sum_rec(5)\n",
    "   sum_rec(4)\n",
    "      sum_rec(3)\n",
    "         sum_rec(2)\n",
    "            sum_rec(1)\n",
    "            return 1                        // base case\n",
    "         return 2 + 1                     (= 3)\n",
    "      return 3 + 3                      (= 6)\n",
    "   return 4 + 6                     (= 10)\n",
    "return 5 + 10                    (= 15)\n",
    "```\n"
   ],
   "metadata": {}
  },
  {
   "cell_type": "markdown",
   "source": [
    "## Recursion\n",
    "\n",
    "- Compute a solution to a problem using a smaller (but similar) problem is called *recursion*.\n",
    "\n",
    "- In general, recursion -> a method calls itself.\n",
    "\n",
    "- In order not to be trapped in an inifinite loop, a base case (at least one) must be part of the definition.\n",
    "\n",
    "- Everything that can be done recursively, can also be done iteratively but not always as easy.\n",
    "\n",
    "- Recursive definitions and algorithms are common in mathematics and computer science.\n",
    "\n",
    "- Well-known problems where recursion helps: Fibonacci numbers, Binary search trees\n"
   ],
   "metadata": {}
  },
  {
   "cell_type": "markdown",
   "source": [
    "## Simple palindrome: A recursive definition\n",
    "\n",
    "- A string is a *simple palindrome* if it has the same text in reverse.\n",
    "- Examples: x, anna, madam, abcdefedcba, yyyyyyyy\n",
    "\n",
    "- A palindrome can be defined as:\n",
    "    - An empty string is a palindrome\n",
    "    - A string with the length 1 is a palindrome.\n",
    "    - A string is a palindrome if the first and last characters are equal, and all characters in between is a palindrome.\n",
    "\n",
    "- 1 and 2 are our base cases\n",
    "- 3 is our recursive step"
   ],
   "metadata": {}
  },
  {
   "cell_type": "code",
   "execution_count": null,
   "source": [
    "# inp_ is text to be checked,\n",
    "# p and q are first and last positions in text\n",
    "\n",
    "def is_palindrome_rec(inp_, p, q):\n",
    "    if q <= p:\n",
    "        return True\n",
    "    elif inp_[p] != inp_[q]:\n",
    "        return False\n",
    "    else:\n",
    "        return is_palindrome_rec(inp_, p+1, q-1)"
   ],
   "outputs": [],
   "metadata": {}
  },
  {
   "cell_type": "code",
   "execution_count": null,
   "source": [
    "# Programs starts\n",
    "s = \"madam\"\n",
    "\n",
    "if is_palindrome_rec(s,0,4):\n",
    "    print(s, \"is a palindrome\")\n",
    "else:\n",
    "    print(s, \"is not a palindrome\")"
   ],
   "outputs": [],
   "metadata": {}
  },
  {
   "cell_type": "markdown",
   "source": [
    "Notice: We must not only call `is_palindrome_rec` with the text to be checked, \n",
    "we must also provide the first and last positions in the text"
   ],
   "metadata": {}
  },
  {
   "cell_type": "markdown",
   "source": [
    "## Recursive helper functions\n",
    "\n",
    "Avoid having to provide (the rather ugly) first and last positions in the text to be checked using a recursive help function\n"
   ],
   "metadata": {}
  },
  {
   "cell_type": "code",
   "execution_count": null,
   "source": [
    "# Help function that initializes the recursive function\n",
    "\n",
    "def is_palindrome(str):\n",
    "    p = 0               # First position\n",
    "    q = len(str) - 1    # Last position\n",
    "    return is_palindrome_rec(str, p, q)"
   ],
   "outputs": [],
   "metadata": {}
  },
  {
   "cell_type": "code",
   "execution_count": null,
   "source": [
    "# Programs starts\n",
    "\n",
    "s = \"King Arthur\"\n",
    "\n",
    "if is_palindrome(s):    # A better looking call\n",
    "    print(s, \"is a palindrome\")\n",
    "else:\n",
    "    print(s, \"is not a palindrome\")"
   ],
   "outputs": [],
   "metadata": {}
  },
  {
   "cell_type": "markdown",
   "source": [
    "- Hence, by introducing a help function we can avoid providing first and last positions in the text to be checked -> a better looking function `is_palindrome`"
   ],
   "metadata": {}
  },
  {
   "cell_type": "markdown",
   "source": [
    "## Example: The Fibonacci Sequence\n",
    "\n",
    "- In the *Fibonacci* sequence the first two numbers are 0 and 1 and the others are the sum of the two previous numbers.\n",
    "\n",
    "```  0, 1, 1, 2, 3, 5, 8, 13, 21, 34, 55, ...```\n",
    "\n",
    "- The next number is found by adding up the two numbers before it\n",
    "\n",
    "\n",
    "![](figures/fibonacci-spiral.svg)\n",
    "\n",
    "- **Exercise:** Write a recursive function `fib(n)` computing the n:th number in the Fibonacci sequence. For example `fib(0) = 0`, `fib(1) = 1`, and `fib(6) = 8`.\n"
   ],
   "metadata": {}
  },
  {
   "cell_type": "code",
   "execution_count": 156,
   "source": [
    "def fib(n):\n",
    "    if n == 0:\n",
    "        return 0\n",
    "    elif n == 1:\n",
    "        return 1\n",
    "    else:\n",
    "        return fib(n-1) + fib(n-2)\n"
   ],
   "outputs": [],
   "metadata": {}
  },
  {
   "cell_type": "code",
   "execution_count": 157,
   "source": [
    "print( fib(6) )   \n",
    "print( fib(15) ) "
   ],
   "outputs": [
    {
     "output_type": "stream",
     "name": "stdout",
     "text": [
      "8\n",
      "610\n"
     ]
    }
   ],
   "metadata": {}
  },
  {
   "cell_type": "code",
   "execution_count": 158,
   "source": [
    "\n",
    "### !!! \n",
    "\n",
    "for i in range(0, 51):\n",
    "    print(i, fib(i) )"
   ],
   "outputs": [
    {
     "output_type": "stream",
     "name": "stdout",
     "text": [
      "0 0\n",
      "1 1\n",
      "2 1\n",
      "3 2\n",
      "4 3\n",
      "5 5\n",
      "6 8\n",
      "7 13\n",
      "8 21\n",
      "9 34\n",
      "10 55\n",
      "11 89\n",
      "12 144\n",
      "13 233\n",
      "14 377\n",
      "15 610\n",
      "16 987\n",
      "17 1597\n",
      "18 2584\n",
      "19 4181\n",
      "20 6765\n",
      "21 10946\n",
      "22 17711\n",
      "23 28657\n",
      "24 46368\n",
      "25 75025\n",
      "26 121393\n",
      "27 196418\n",
      "28 317811\n",
      "29 514229\n",
      "30 832040\n",
      "31 1346269\n",
      "32 2178309\n",
      "33 3524578\n",
      "34 5702887\n",
      "35 9227465\n",
      "36 14930352\n",
      "37 24157817\n",
      "38 39088169\n",
      "39 63245986\n"
     ]
    },
    {
     "output_type": "error",
     "ename": "KeyboardInterrupt",
     "evalue": "",
     "traceback": [
      "\u001b[0;31m---------------------------------------------------------------------------\u001b[0m",
      "\u001b[0;31mKeyboardInterrupt\u001b[0m                         Traceback (most recent call last)",
      "\u001b[0;32m/var/folders/c2/0wzvtyxs7kd27czh1j640t4w0000gp/T/ipykernel_1523/3009963204.py\u001b[0m in \u001b[0;36m<module>\u001b[0;34m\u001b[0m\n\u001b[1;32m      2\u001b[0m \u001b[0;34m\u001b[0m\u001b[0m\n\u001b[1;32m      3\u001b[0m \u001b[0;32mfor\u001b[0m \u001b[0mi\u001b[0m \u001b[0;32min\u001b[0m \u001b[0mrange\u001b[0m\u001b[0;34m(\u001b[0m\u001b[0;36m0\u001b[0m\u001b[0;34m,\u001b[0m \u001b[0;36m51\u001b[0m\u001b[0;34m)\u001b[0m\u001b[0;34m:\u001b[0m\u001b[0;34m\u001b[0m\u001b[0;34m\u001b[0m\u001b[0m\n\u001b[0;32m----> 4\u001b[0;31m     \u001b[0mprint\u001b[0m\u001b[0;34m(\u001b[0m\u001b[0mi\u001b[0m\u001b[0;34m,\u001b[0m \u001b[0mfib\u001b[0m\u001b[0;34m(\u001b[0m\u001b[0mi\u001b[0m\u001b[0;34m)\u001b[0m \u001b[0;34m)\u001b[0m\u001b[0;34m\u001b[0m\u001b[0;34m\u001b[0m\u001b[0m\n\u001b[0m",
      "\u001b[0;32m/var/folders/c2/0wzvtyxs7kd27czh1j640t4w0000gp/T/ipykernel_1523/3445147239.py\u001b[0m in \u001b[0;36mfib\u001b[0;34m(n)\u001b[0m\n\u001b[1;32m      5\u001b[0m         \u001b[0;32mreturn\u001b[0m \u001b[0;36m1\u001b[0m\u001b[0;34m\u001b[0m\u001b[0;34m\u001b[0m\u001b[0m\n\u001b[1;32m      6\u001b[0m     \u001b[0;32melse\u001b[0m\u001b[0;34m:\u001b[0m\u001b[0;34m\u001b[0m\u001b[0;34m\u001b[0m\u001b[0m\n\u001b[0;32m----> 7\u001b[0;31m         \u001b[0;32mreturn\u001b[0m \u001b[0mfib\u001b[0m\u001b[0;34m(\u001b[0m\u001b[0mn\u001b[0m\u001b[0;34m-\u001b[0m\u001b[0;36m1\u001b[0m\u001b[0;34m)\u001b[0m \u001b[0;34m+\u001b[0m \u001b[0mfib\u001b[0m\u001b[0;34m(\u001b[0m\u001b[0mn\u001b[0m\u001b[0;34m-\u001b[0m\u001b[0;36m2\u001b[0m\u001b[0;34m)\u001b[0m\u001b[0;34m\u001b[0m\u001b[0;34m\u001b[0m\u001b[0m\n\u001b[0m",
      "\u001b[0;32m/var/folders/c2/0wzvtyxs7kd27czh1j640t4w0000gp/T/ipykernel_1523/3445147239.py\u001b[0m in \u001b[0;36mfib\u001b[0;34m(n)\u001b[0m\n\u001b[1;32m      5\u001b[0m         \u001b[0;32mreturn\u001b[0m \u001b[0;36m1\u001b[0m\u001b[0;34m\u001b[0m\u001b[0;34m\u001b[0m\u001b[0m\n\u001b[1;32m      6\u001b[0m     \u001b[0;32melse\u001b[0m\u001b[0;34m:\u001b[0m\u001b[0;34m\u001b[0m\u001b[0;34m\u001b[0m\u001b[0m\n\u001b[0;32m----> 7\u001b[0;31m         \u001b[0;32mreturn\u001b[0m \u001b[0mfib\u001b[0m\u001b[0;34m(\u001b[0m\u001b[0mn\u001b[0m\u001b[0;34m-\u001b[0m\u001b[0;36m1\u001b[0m\u001b[0;34m)\u001b[0m \u001b[0;34m+\u001b[0m \u001b[0mfib\u001b[0m\u001b[0;34m(\u001b[0m\u001b[0mn\u001b[0m\u001b[0;34m-\u001b[0m\u001b[0;36m2\u001b[0m\u001b[0;34m)\u001b[0m\u001b[0;34m\u001b[0m\u001b[0;34m\u001b[0m\u001b[0m\n\u001b[0m",
      "\u001b[0;32m/var/folders/c2/0wzvtyxs7kd27czh1j640t4w0000gp/T/ipykernel_1523/3445147239.py\u001b[0m in \u001b[0;36mfib\u001b[0;34m(n)\u001b[0m\n\u001b[1;32m      5\u001b[0m         \u001b[0;32mreturn\u001b[0m \u001b[0;36m1\u001b[0m\u001b[0;34m\u001b[0m\u001b[0;34m\u001b[0m\u001b[0m\n\u001b[1;32m      6\u001b[0m     \u001b[0;32melse\u001b[0m\u001b[0;34m:\u001b[0m\u001b[0;34m\u001b[0m\u001b[0;34m\u001b[0m\u001b[0m\n\u001b[0;32m----> 7\u001b[0;31m         \u001b[0;32mreturn\u001b[0m \u001b[0mfib\u001b[0m\u001b[0;34m(\u001b[0m\u001b[0mn\u001b[0m\u001b[0;34m-\u001b[0m\u001b[0;36m1\u001b[0m\u001b[0;34m)\u001b[0m \u001b[0;34m+\u001b[0m \u001b[0mfib\u001b[0m\u001b[0;34m(\u001b[0m\u001b[0mn\u001b[0m\u001b[0;34m-\u001b[0m\u001b[0;36m2\u001b[0m\u001b[0;34m)\u001b[0m\u001b[0;34m\u001b[0m\u001b[0;34m\u001b[0m\u001b[0m\n\u001b[0m",
      "\u001b[0;32m/var/folders/c2/0wzvtyxs7kd27czh1j640t4w0000gp/T/ipykernel_1523/3445147239.py\u001b[0m in \u001b[0;36mfib\u001b[0;34m(n)\u001b[0m\n\u001b[1;32m      5\u001b[0m         \u001b[0;32mreturn\u001b[0m \u001b[0;36m1\u001b[0m\u001b[0;34m\u001b[0m\u001b[0;34m\u001b[0m\u001b[0m\n\u001b[1;32m      6\u001b[0m     \u001b[0;32melse\u001b[0m\u001b[0;34m:\u001b[0m\u001b[0;34m\u001b[0m\u001b[0;34m\u001b[0m\u001b[0m\n\u001b[0;32m----> 7\u001b[0;31m         \u001b[0;32mreturn\u001b[0m \u001b[0mfib\u001b[0m\u001b[0;34m(\u001b[0m\u001b[0mn\u001b[0m\u001b[0;34m-\u001b[0m\u001b[0;36m1\u001b[0m\u001b[0;34m)\u001b[0m \u001b[0;34m+\u001b[0m \u001b[0mfib\u001b[0m\u001b[0;34m(\u001b[0m\u001b[0mn\u001b[0m\u001b[0;34m-\u001b[0m\u001b[0;36m2\u001b[0m\u001b[0;34m)\u001b[0m\u001b[0;34m\u001b[0m\u001b[0;34m\u001b[0m\u001b[0m\n\u001b[0m",
      "\u001b[0;32m/var/folders/c2/0wzvtyxs7kd27czh1j640t4w0000gp/T/ipykernel_1523/3445147239.py\u001b[0m in \u001b[0;36mfib\u001b[0;34m(n)\u001b[0m\n\u001b[1;32m      5\u001b[0m         \u001b[0;32mreturn\u001b[0m \u001b[0;36m1\u001b[0m\u001b[0;34m\u001b[0m\u001b[0;34m\u001b[0m\u001b[0m\n\u001b[1;32m      6\u001b[0m     \u001b[0;32melse\u001b[0m\u001b[0;34m:\u001b[0m\u001b[0;34m\u001b[0m\u001b[0;34m\u001b[0m\u001b[0m\n\u001b[0;32m----> 7\u001b[0;31m         \u001b[0;32mreturn\u001b[0m \u001b[0mfib\u001b[0m\u001b[0;34m(\u001b[0m\u001b[0mn\u001b[0m\u001b[0;34m-\u001b[0m\u001b[0;36m1\u001b[0m\u001b[0;34m)\u001b[0m \u001b[0;34m+\u001b[0m \u001b[0mfib\u001b[0m\u001b[0;34m(\u001b[0m\u001b[0mn\u001b[0m\u001b[0;34m-\u001b[0m\u001b[0;36m2\u001b[0m\u001b[0;34m)\u001b[0m\u001b[0;34m\u001b[0m\u001b[0;34m\u001b[0m\u001b[0m\n\u001b[0m",
      "\u001b[0;32m/var/folders/c2/0wzvtyxs7kd27czh1j640t4w0000gp/T/ipykernel_1523/3445147239.py\u001b[0m in \u001b[0;36mfib\u001b[0;34m(n)\u001b[0m\n\u001b[1;32m      5\u001b[0m         \u001b[0;32mreturn\u001b[0m \u001b[0;36m1\u001b[0m\u001b[0;34m\u001b[0m\u001b[0;34m\u001b[0m\u001b[0m\n\u001b[1;32m      6\u001b[0m     \u001b[0;32melse\u001b[0m\u001b[0;34m:\u001b[0m\u001b[0;34m\u001b[0m\u001b[0;34m\u001b[0m\u001b[0m\n\u001b[0;32m----> 7\u001b[0;31m         \u001b[0;32mreturn\u001b[0m \u001b[0mfib\u001b[0m\u001b[0;34m(\u001b[0m\u001b[0mn\u001b[0m\u001b[0;34m-\u001b[0m\u001b[0;36m1\u001b[0m\u001b[0;34m)\u001b[0m \u001b[0;34m+\u001b[0m \u001b[0mfib\u001b[0m\u001b[0;34m(\u001b[0m\u001b[0mn\u001b[0m\u001b[0;34m-\u001b[0m\u001b[0;36m2\u001b[0m\u001b[0;34m)\u001b[0m\u001b[0;34m\u001b[0m\u001b[0;34m\u001b[0m\u001b[0m\n\u001b[0m",
      "\u001b[0;32m/var/folders/c2/0wzvtyxs7kd27czh1j640t4w0000gp/T/ipykernel_1523/3445147239.py\u001b[0m in \u001b[0;36mfib\u001b[0;34m(n)\u001b[0m\n\u001b[1;32m      5\u001b[0m         \u001b[0;32mreturn\u001b[0m \u001b[0;36m1\u001b[0m\u001b[0;34m\u001b[0m\u001b[0;34m\u001b[0m\u001b[0m\n\u001b[1;32m      6\u001b[0m     \u001b[0;32melse\u001b[0m\u001b[0;34m:\u001b[0m\u001b[0;34m\u001b[0m\u001b[0;34m\u001b[0m\u001b[0m\n\u001b[0;32m----> 7\u001b[0;31m         \u001b[0;32mreturn\u001b[0m \u001b[0mfib\u001b[0m\u001b[0;34m(\u001b[0m\u001b[0mn\u001b[0m\u001b[0;34m-\u001b[0m\u001b[0;36m1\u001b[0m\u001b[0;34m)\u001b[0m \u001b[0;34m+\u001b[0m \u001b[0mfib\u001b[0m\u001b[0;34m(\u001b[0m\u001b[0mn\u001b[0m\u001b[0;34m-\u001b[0m\u001b[0;36m2\u001b[0m\u001b[0;34m)\u001b[0m\u001b[0;34m\u001b[0m\u001b[0;34m\u001b[0m\u001b[0m\n\u001b[0m",
      "\u001b[0;32m/var/folders/c2/0wzvtyxs7kd27czh1j640t4w0000gp/T/ipykernel_1523/3445147239.py\u001b[0m in \u001b[0;36mfib\u001b[0;34m(n)\u001b[0m\n\u001b[1;32m      5\u001b[0m         \u001b[0;32mreturn\u001b[0m \u001b[0;36m1\u001b[0m\u001b[0;34m\u001b[0m\u001b[0;34m\u001b[0m\u001b[0m\n\u001b[1;32m      6\u001b[0m     \u001b[0;32melse\u001b[0m\u001b[0;34m:\u001b[0m\u001b[0;34m\u001b[0m\u001b[0;34m\u001b[0m\u001b[0m\n\u001b[0;32m----> 7\u001b[0;31m         \u001b[0;32mreturn\u001b[0m \u001b[0mfib\u001b[0m\u001b[0;34m(\u001b[0m\u001b[0mn\u001b[0m\u001b[0;34m-\u001b[0m\u001b[0;36m1\u001b[0m\u001b[0;34m)\u001b[0m \u001b[0;34m+\u001b[0m \u001b[0mfib\u001b[0m\u001b[0;34m(\u001b[0m\u001b[0mn\u001b[0m\u001b[0;34m-\u001b[0m\u001b[0;36m2\u001b[0m\u001b[0;34m)\u001b[0m\u001b[0;34m\u001b[0m\u001b[0;34m\u001b[0m\u001b[0m\n\u001b[0m",
      "\u001b[0;32m/var/folders/c2/0wzvtyxs7kd27czh1j640t4w0000gp/T/ipykernel_1523/3445147239.py\u001b[0m in \u001b[0;36mfib\u001b[0;34m(n)\u001b[0m\n\u001b[1;32m      5\u001b[0m         \u001b[0;32mreturn\u001b[0m \u001b[0;36m1\u001b[0m\u001b[0;34m\u001b[0m\u001b[0;34m\u001b[0m\u001b[0m\n\u001b[1;32m      6\u001b[0m     \u001b[0;32melse\u001b[0m\u001b[0;34m:\u001b[0m\u001b[0;34m\u001b[0m\u001b[0;34m\u001b[0m\u001b[0m\n\u001b[0;32m----> 7\u001b[0;31m         \u001b[0;32mreturn\u001b[0m \u001b[0mfib\u001b[0m\u001b[0;34m(\u001b[0m\u001b[0mn\u001b[0m\u001b[0;34m-\u001b[0m\u001b[0;36m1\u001b[0m\u001b[0;34m)\u001b[0m \u001b[0;34m+\u001b[0m \u001b[0mfib\u001b[0m\u001b[0;34m(\u001b[0m\u001b[0mn\u001b[0m\u001b[0;34m-\u001b[0m\u001b[0;36m2\u001b[0m\u001b[0;34m)\u001b[0m\u001b[0;34m\u001b[0m\u001b[0;34m\u001b[0m\u001b[0m\n\u001b[0m",
      "\u001b[0;32m/var/folders/c2/0wzvtyxs7kd27czh1j640t4w0000gp/T/ipykernel_1523/3445147239.py\u001b[0m in \u001b[0;36mfib\u001b[0;34m(n)\u001b[0m\n\u001b[1;32m      5\u001b[0m         \u001b[0;32mreturn\u001b[0m \u001b[0;36m1\u001b[0m\u001b[0;34m\u001b[0m\u001b[0;34m\u001b[0m\u001b[0m\n\u001b[1;32m      6\u001b[0m     \u001b[0;32melse\u001b[0m\u001b[0;34m:\u001b[0m\u001b[0;34m\u001b[0m\u001b[0;34m\u001b[0m\u001b[0m\n\u001b[0;32m----> 7\u001b[0;31m         \u001b[0;32mreturn\u001b[0m \u001b[0mfib\u001b[0m\u001b[0;34m(\u001b[0m\u001b[0mn\u001b[0m\u001b[0;34m-\u001b[0m\u001b[0;36m1\u001b[0m\u001b[0;34m)\u001b[0m \u001b[0;34m+\u001b[0m \u001b[0mfib\u001b[0m\u001b[0;34m(\u001b[0m\u001b[0mn\u001b[0m\u001b[0;34m-\u001b[0m\u001b[0;36m2\u001b[0m\u001b[0;34m)\u001b[0m\u001b[0;34m\u001b[0m\u001b[0;34m\u001b[0m\u001b[0m\n\u001b[0m",
      "\u001b[0;32m/var/folders/c2/0wzvtyxs7kd27czh1j640t4w0000gp/T/ipykernel_1523/3445147239.py\u001b[0m in \u001b[0;36mfib\u001b[0;34m(n)\u001b[0m\n\u001b[1;32m      5\u001b[0m         \u001b[0;32mreturn\u001b[0m \u001b[0;36m1\u001b[0m\u001b[0;34m\u001b[0m\u001b[0;34m\u001b[0m\u001b[0m\n\u001b[1;32m      6\u001b[0m     \u001b[0;32melse\u001b[0m\u001b[0;34m:\u001b[0m\u001b[0;34m\u001b[0m\u001b[0;34m\u001b[0m\u001b[0m\n\u001b[0;32m----> 7\u001b[0;31m         \u001b[0;32mreturn\u001b[0m \u001b[0mfib\u001b[0m\u001b[0;34m(\u001b[0m\u001b[0mn\u001b[0m\u001b[0;34m-\u001b[0m\u001b[0;36m1\u001b[0m\u001b[0;34m)\u001b[0m \u001b[0;34m+\u001b[0m \u001b[0mfib\u001b[0m\u001b[0;34m(\u001b[0m\u001b[0mn\u001b[0m\u001b[0;34m-\u001b[0m\u001b[0;36m2\u001b[0m\u001b[0;34m)\u001b[0m\u001b[0;34m\u001b[0m\u001b[0;34m\u001b[0m\u001b[0m\n\u001b[0m",
      "\u001b[0;32m/var/folders/c2/0wzvtyxs7kd27czh1j640t4w0000gp/T/ipykernel_1523/3445147239.py\u001b[0m in \u001b[0;36mfib\u001b[0;34m(n)\u001b[0m\n\u001b[1;32m      5\u001b[0m         \u001b[0;32mreturn\u001b[0m \u001b[0;36m1\u001b[0m\u001b[0;34m\u001b[0m\u001b[0;34m\u001b[0m\u001b[0m\n\u001b[1;32m      6\u001b[0m     \u001b[0;32melse\u001b[0m\u001b[0;34m:\u001b[0m\u001b[0;34m\u001b[0m\u001b[0;34m\u001b[0m\u001b[0m\n\u001b[0;32m----> 7\u001b[0;31m         \u001b[0;32mreturn\u001b[0m \u001b[0mfib\u001b[0m\u001b[0;34m(\u001b[0m\u001b[0mn\u001b[0m\u001b[0;34m-\u001b[0m\u001b[0;36m1\u001b[0m\u001b[0;34m)\u001b[0m \u001b[0;34m+\u001b[0m \u001b[0mfib\u001b[0m\u001b[0;34m(\u001b[0m\u001b[0mn\u001b[0m\u001b[0;34m-\u001b[0m\u001b[0;36m2\u001b[0m\u001b[0;34m)\u001b[0m\u001b[0;34m\u001b[0m\u001b[0;34m\u001b[0m\u001b[0m\n\u001b[0m",
      "\u001b[0;32m/var/folders/c2/0wzvtyxs7kd27czh1j640t4w0000gp/T/ipykernel_1523/3445147239.py\u001b[0m in \u001b[0;36mfib\u001b[0;34m(n)\u001b[0m\n\u001b[1;32m      5\u001b[0m         \u001b[0;32mreturn\u001b[0m \u001b[0;36m1\u001b[0m\u001b[0;34m\u001b[0m\u001b[0;34m\u001b[0m\u001b[0m\n\u001b[1;32m      6\u001b[0m     \u001b[0;32melse\u001b[0m\u001b[0;34m:\u001b[0m\u001b[0;34m\u001b[0m\u001b[0;34m\u001b[0m\u001b[0m\n\u001b[0;32m----> 7\u001b[0;31m         \u001b[0;32mreturn\u001b[0m \u001b[0mfib\u001b[0m\u001b[0;34m(\u001b[0m\u001b[0mn\u001b[0m\u001b[0;34m-\u001b[0m\u001b[0;36m1\u001b[0m\u001b[0;34m)\u001b[0m \u001b[0;34m+\u001b[0m \u001b[0mfib\u001b[0m\u001b[0;34m(\u001b[0m\u001b[0mn\u001b[0m\u001b[0;34m-\u001b[0m\u001b[0;36m2\u001b[0m\u001b[0;34m)\u001b[0m\u001b[0;34m\u001b[0m\u001b[0;34m\u001b[0m\u001b[0m\n\u001b[0m",
      "\u001b[0;32m/var/folders/c2/0wzvtyxs7kd27czh1j640t4w0000gp/T/ipykernel_1523/3445147239.py\u001b[0m in \u001b[0;36mfib\u001b[0;34m(n)\u001b[0m\n\u001b[1;32m      5\u001b[0m         \u001b[0;32mreturn\u001b[0m \u001b[0;36m1\u001b[0m\u001b[0;34m\u001b[0m\u001b[0;34m\u001b[0m\u001b[0m\n\u001b[1;32m      6\u001b[0m     \u001b[0;32melse\u001b[0m\u001b[0;34m:\u001b[0m\u001b[0;34m\u001b[0m\u001b[0;34m\u001b[0m\u001b[0m\n\u001b[0;32m----> 7\u001b[0;31m         \u001b[0;32mreturn\u001b[0m \u001b[0mfib\u001b[0m\u001b[0;34m(\u001b[0m\u001b[0mn\u001b[0m\u001b[0;34m-\u001b[0m\u001b[0;36m1\u001b[0m\u001b[0;34m)\u001b[0m \u001b[0;34m+\u001b[0m \u001b[0mfib\u001b[0m\u001b[0;34m(\u001b[0m\u001b[0mn\u001b[0m\u001b[0;34m-\u001b[0m\u001b[0;36m2\u001b[0m\u001b[0;34m)\u001b[0m\u001b[0;34m\u001b[0m\u001b[0;34m\u001b[0m\u001b[0m\n\u001b[0m",
      "\u001b[0;32m/var/folders/c2/0wzvtyxs7kd27czh1j640t4w0000gp/T/ipykernel_1523/3445147239.py\u001b[0m in \u001b[0;36mfib\u001b[0;34m(n)\u001b[0m\n\u001b[1;32m      5\u001b[0m         \u001b[0;32mreturn\u001b[0m \u001b[0;36m1\u001b[0m\u001b[0;34m\u001b[0m\u001b[0;34m\u001b[0m\u001b[0m\n\u001b[1;32m      6\u001b[0m     \u001b[0;32melse\u001b[0m\u001b[0;34m:\u001b[0m\u001b[0;34m\u001b[0m\u001b[0;34m\u001b[0m\u001b[0m\n\u001b[0;32m----> 7\u001b[0;31m         \u001b[0;32mreturn\u001b[0m \u001b[0mfib\u001b[0m\u001b[0;34m(\u001b[0m\u001b[0mn\u001b[0m\u001b[0;34m-\u001b[0m\u001b[0;36m1\u001b[0m\u001b[0;34m)\u001b[0m \u001b[0;34m+\u001b[0m \u001b[0mfib\u001b[0m\u001b[0;34m(\u001b[0m\u001b[0mn\u001b[0m\u001b[0;34m-\u001b[0m\u001b[0;36m2\u001b[0m\u001b[0;34m)\u001b[0m\u001b[0;34m\u001b[0m\u001b[0;34m\u001b[0m\u001b[0m\n\u001b[0m",
      "\u001b[0;32m/var/folders/c2/0wzvtyxs7kd27czh1j640t4w0000gp/T/ipykernel_1523/3445147239.py\u001b[0m in \u001b[0;36mfib\u001b[0;34m(n)\u001b[0m\n\u001b[1;32m      5\u001b[0m         \u001b[0;32mreturn\u001b[0m \u001b[0;36m1\u001b[0m\u001b[0;34m\u001b[0m\u001b[0;34m\u001b[0m\u001b[0m\n\u001b[1;32m      6\u001b[0m     \u001b[0;32melse\u001b[0m\u001b[0;34m:\u001b[0m\u001b[0;34m\u001b[0m\u001b[0;34m\u001b[0m\u001b[0m\n\u001b[0;32m----> 7\u001b[0;31m         \u001b[0;32mreturn\u001b[0m \u001b[0mfib\u001b[0m\u001b[0;34m(\u001b[0m\u001b[0mn\u001b[0m\u001b[0;34m-\u001b[0m\u001b[0;36m1\u001b[0m\u001b[0;34m)\u001b[0m \u001b[0;34m+\u001b[0m \u001b[0mfib\u001b[0m\u001b[0;34m(\u001b[0m\u001b[0mn\u001b[0m\u001b[0;34m-\u001b[0m\u001b[0;36m2\u001b[0m\u001b[0;34m)\u001b[0m\u001b[0;34m\u001b[0m\u001b[0;34m\u001b[0m\u001b[0m\n\u001b[0m",
      "\u001b[0;32m/var/folders/c2/0wzvtyxs7kd27czh1j640t4w0000gp/T/ipykernel_1523/3445147239.py\u001b[0m in \u001b[0;36mfib\u001b[0;34m(n)\u001b[0m\n\u001b[1;32m      5\u001b[0m         \u001b[0;32mreturn\u001b[0m \u001b[0;36m1\u001b[0m\u001b[0;34m\u001b[0m\u001b[0;34m\u001b[0m\u001b[0m\n\u001b[1;32m      6\u001b[0m     \u001b[0;32melse\u001b[0m\u001b[0;34m:\u001b[0m\u001b[0;34m\u001b[0m\u001b[0;34m\u001b[0m\u001b[0m\n\u001b[0;32m----> 7\u001b[0;31m         \u001b[0;32mreturn\u001b[0m \u001b[0mfib\u001b[0m\u001b[0;34m(\u001b[0m\u001b[0mn\u001b[0m\u001b[0;34m-\u001b[0m\u001b[0;36m1\u001b[0m\u001b[0;34m)\u001b[0m \u001b[0;34m+\u001b[0m \u001b[0mfib\u001b[0m\u001b[0;34m(\u001b[0m\u001b[0mn\u001b[0m\u001b[0;34m-\u001b[0m\u001b[0;36m2\u001b[0m\u001b[0;34m)\u001b[0m\u001b[0;34m\u001b[0m\u001b[0;34m\u001b[0m\u001b[0m\n\u001b[0m",
      "\u001b[0;32m/var/folders/c2/0wzvtyxs7kd27czh1j640t4w0000gp/T/ipykernel_1523/3445147239.py\u001b[0m in \u001b[0;36mfib\u001b[0;34m(n)\u001b[0m\n\u001b[1;32m      5\u001b[0m         \u001b[0;32mreturn\u001b[0m \u001b[0;36m1\u001b[0m\u001b[0;34m\u001b[0m\u001b[0;34m\u001b[0m\u001b[0m\n\u001b[1;32m      6\u001b[0m     \u001b[0;32melse\u001b[0m\u001b[0;34m:\u001b[0m\u001b[0;34m\u001b[0m\u001b[0;34m\u001b[0m\u001b[0m\n\u001b[0;32m----> 7\u001b[0;31m         \u001b[0;32mreturn\u001b[0m \u001b[0mfib\u001b[0m\u001b[0;34m(\u001b[0m\u001b[0mn\u001b[0m\u001b[0;34m-\u001b[0m\u001b[0;36m1\u001b[0m\u001b[0;34m)\u001b[0m \u001b[0;34m+\u001b[0m \u001b[0mfib\u001b[0m\u001b[0;34m(\u001b[0m\u001b[0mn\u001b[0m\u001b[0;34m-\u001b[0m\u001b[0;36m2\u001b[0m\u001b[0;34m)\u001b[0m\u001b[0;34m\u001b[0m\u001b[0;34m\u001b[0m\u001b[0m\n\u001b[0m",
      "\u001b[0;32m/var/folders/c2/0wzvtyxs7kd27czh1j640t4w0000gp/T/ipykernel_1523/3445147239.py\u001b[0m in \u001b[0;36mfib\u001b[0;34m(n)\u001b[0m\n\u001b[1;32m      5\u001b[0m         \u001b[0;32mreturn\u001b[0m \u001b[0;36m1\u001b[0m\u001b[0;34m\u001b[0m\u001b[0;34m\u001b[0m\u001b[0m\n\u001b[1;32m      6\u001b[0m     \u001b[0;32melse\u001b[0m\u001b[0;34m:\u001b[0m\u001b[0;34m\u001b[0m\u001b[0;34m\u001b[0m\u001b[0m\n\u001b[0;32m----> 7\u001b[0;31m         \u001b[0;32mreturn\u001b[0m \u001b[0mfib\u001b[0m\u001b[0;34m(\u001b[0m\u001b[0mn\u001b[0m\u001b[0;34m-\u001b[0m\u001b[0;36m1\u001b[0m\u001b[0;34m)\u001b[0m \u001b[0;34m+\u001b[0m \u001b[0mfib\u001b[0m\u001b[0;34m(\u001b[0m\u001b[0mn\u001b[0m\u001b[0;34m-\u001b[0m\u001b[0;36m2\u001b[0m\u001b[0;34m)\u001b[0m\u001b[0;34m\u001b[0m\u001b[0;34m\u001b[0m\u001b[0m\n\u001b[0m",
      "\u001b[0;32m/var/folders/c2/0wzvtyxs7kd27czh1j640t4w0000gp/T/ipykernel_1523/3445147239.py\u001b[0m in \u001b[0;36mfib\u001b[0;34m(n)\u001b[0m\n\u001b[1;32m      5\u001b[0m         \u001b[0;32mreturn\u001b[0m \u001b[0;36m1\u001b[0m\u001b[0;34m\u001b[0m\u001b[0;34m\u001b[0m\u001b[0m\n\u001b[1;32m      6\u001b[0m     \u001b[0;32melse\u001b[0m\u001b[0;34m:\u001b[0m\u001b[0;34m\u001b[0m\u001b[0;34m\u001b[0m\u001b[0m\n\u001b[0;32m----> 7\u001b[0;31m         \u001b[0;32mreturn\u001b[0m \u001b[0mfib\u001b[0m\u001b[0;34m(\u001b[0m\u001b[0mn\u001b[0m\u001b[0;34m-\u001b[0m\u001b[0;36m1\u001b[0m\u001b[0;34m)\u001b[0m \u001b[0;34m+\u001b[0m \u001b[0mfib\u001b[0m\u001b[0;34m(\u001b[0m\u001b[0mn\u001b[0m\u001b[0;34m-\u001b[0m\u001b[0;36m2\u001b[0m\u001b[0;34m)\u001b[0m\u001b[0;34m\u001b[0m\u001b[0;34m\u001b[0m\u001b[0m\n\u001b[0m",
      "\u001b[0;32m/var/folders/c2/0wzvtyxs7kd27czh1j640t4w0000gp/T/ipykernel_1523/3445147239.py\u001b[0m in \u001b[0;36mfib\u001b[0;34m(n)\u001b[0m\n\u001b[1;32m      5\u001b[0m         \u001b[0;32mreturn\u001b[0m \u001b[0;36m1\u001b[0m\u001b[0;34m\u001b[0m\u001b[0;34m\u001b[0m\u001b[0m\n\u001b[1;32m      6\u001b[0m     \u001b[0;32melse\u001b[0m\u001b[0;34m:\u001b[0m\u001b[0;34m\u001b[0m\u001b[0;34m\u001b[0m\u001b[0m\n\u001b[0;32m----> 7\u001b[0;31m         \u001b[0;32mreturn\u001b[0m \u001b[0mfib\u001b[0m\u001b[0;34m(\u001b[0m\u001b[0mn\u001b[0m\u001b[0;34m-\u001b[0m\u001b[0;36m1\u001b[0m\u001b[0;34m)\u001b[0m \u001b[0;34m+\u001b[0m \u001b[0mfib\u001b[0m\u001b[0;34m(\u001b[0m\u001b[0mn\u001b[0m\u001b[0;34m-\u001b[0m\u001b[0;36m2\u001b[0m\u001b[0;34m)\u001b[0m\u001b[0;34m\u001b[0m\u001b[0;34m\u001b[0m\u001b[0m\n\u001b[0m",
      "\u001b[0;32m/var/folders/c2/0wzvtyxs7kd27czh1j640t4w0000gp/T/ipykernel_1523/3445147239.py\u001b[0m in \u001b[0;36mfib\u001b[0;34m(n)\u001b[0m\n\u001b[1;32m      5\u001b[0m         \u001b[0;32mreturn\u001b[0m \u001b[0;36m1\u001b[0m\u001b[0;34m\u001b[0m\u001b[0;34m\u001b[0m\u001b[0m\n\u001b[1;32m      6\u001b[0m     \u001b[0;32melse\u001b[0m\u001b[0;34m:\u001b[0m\u001b[0;34m\u001b[0m\u001b[0;34m\u001b[0m\u001b[0m\n\u001b[0;32m----> 7\u001b[0;31m         \u001b[0;32mreturn\u001b[0m \u001b[0mfib\u001b[0m\u001b[0;34m(\u001b[0m\u001b[0mn\u001b[0m\u001b[0;34m-\u001b[0m\u001b[0;36m1\u001b[0m\u001b[0;34m)\u001b[0m \u001b[0;34m+\u001b[0m \u001b[0mfib\u001b[0m\u001b[0;34m(\u001b[0m\u001b[0mn\u001b[0m\u001b[0;34m-\u001b[0m\u001b[0;36m2\u001b[0m\u001b[0;34m)\u001b[0m\u001b[0;34m\u001b[0m\u001b[0;34m\u001b[0m\u001b[0m\n\u001b[0m",
      "\u001b[0;32m/var/folders/c2/0wzvtyxs7kd27czh1j640t4w0000gp/T/ipykernel_1523/3445147239.py\u001b[0m in \u001b[0;36mfib\u001b[0;34m(n)\u001b[0m\n\u001b[1;32m      5\u001b[0m         \u001b[0;32mreturn\u001b[0m \u001b[0;36m1\u001b[0m\u001b[0;34m\u001b[0m\u001b[0;34m\u001b[0m\u001b[0m\n\u001b[1;32m      6\u001b[0m     \u001b[0;32melse\u001b[0m\u001b[0;34m:\u001b[0m\u001b[0;34m\u001b[0m\u001b[0;34m\u001b[0m\u001b[0m\n\u001b[0;32m----> 7\u001b[0;31m         \u001b[0;32mreturn\u001b[0m \u001b[0mfib\u001b[0m\u001b[0;34m(\u001b[0m\u001b[0mn\u001b[0m\u001b[0;34m-\u001b[0m\u001b[0;36m1\u001b[0m\u001b[0;34m)\u001b[0m \u001b[0;34m+\u001b[0m \u001b[0mfib\u001b[0m\u001b[0;34m(\u001b[0m\u001b[0mn\u001b[0m\u001b[0;34m-\u001b[0m\u001b[0;36m2\u001b[0m\u001b[0;34m)\u001b[0m\u001b[0;34m\u001b[0m\u001b[0;34m\u001b[0m\u001b[0m\n\u001b[0m",
      "\u001b[0;32m/var/folders/c2/0wzvtyxs7kd27czh1j640t4w0000gp/T/ipykernel_1523/3445147239.py\u001b[0m in \u001b[0;36mfib\u001b[0;34m(n)\u001b[0m\n\u001b[1;32m      5\u001b[0m         \u001b[0;32mreturn\u001b[0m \u001b[0;36m1\u001b[0m\u001b[0;34m\u001b[0m\u001b[0;34m\u001b[0m\u001b[0m\n\u001b[1;32m      6\u001b[0m     \u001b[0;32melse\u001b[0m\u001b[0;34m:\u001b[0m\u001b[0;34m\u001b[0m\u001b[0;34m\u001b[0m\u001b[0m\n\u001b[0;32m----> 7\u001b[0;31m         \u001b[0;32mreturn\u001b[0m \u001b[0mfib\u001b[0m\u001b[0;34m(\u001b[0m\u001b[0mn\u001b[0m\u001b[0;34m-\u001b[0m\u001b[0;36m1\u001b[0m\u001b[0;34m)\u001b[0m \u001b[0;34m+\u001b[0m \u001b[0mfib\u001b[0m\u001b[0;34m(\u001b[0m\u001b[0mn\u001b[0m\u001b[0;34m-\u001b[0m\u001b[0;36m2\u001b[0m\u001b[0;34m)\u001b[0m\u001b[0;34m\u001b[0m\u001b[0;34m\u001b[0m\u001b[0m\n\u001b[0m",
      "\u001b[0;32m/var/folders/c2/0wzvtyxs7kd27czh1j640t4w0000gp/T/ipykernel_1523/3445147239.py\u001b[0m in \u001b[0;36mfib\u001b[0;34m(n)\u001b[0m\n\u001b[1;32m      5\u001b[0m         \u001b[0;32mreturn\u001b[0m \u001b[0;36m1\u001b[0m\u001b[0;34m\u001b[0m\u001b[0;34m\u001b[0m\u001b[0m\n\u001b[1;32m      6\u001b[0m     \u001b[0;32melse\u001b[0m\u001b[0;34m:\u001b[0m\u001b[0;34m\u001b[0m\u001b[0;34m\u001b[0m\u001b[0m\n\u001b[0;32m----> 7\u001b[0;31m         \u001b[0;32mreturn\u001b[0m \u001b[0mfib\u001b[0m\u001b[0;34m(\u001b[0m\u001b[0mn\u001b[0m\u001b[0;34m-\u001b[0m\u001b[0;36m1\u001b[0m\u001b[0;34m)\u001b[0m \u001b[0;34m+\u001b[0m \u001b[0mfib\u001b[0m\u001b[0;34m(\u001b[0m\u001b[0mn\u001b[0m\u001b[0;34m-\u001b[0m\u001b[0;36m2\u001b[0m\u001b[0;34m)\u001b[0m\u001b[0;34m\u001b[0m\u001b[0;34m\u001b[0m\u001b[0m\n\u001b[0m",
      "\u001b[0;32m/var/folders/c2/0wzvtyxs7kd27czh1j640t4w0000gp/T/ipykernel_1523/3445147239.py\u001b[0m in \u001b[0;36mfib\u001b[0;34m(n)\u001b[0m\n\u001b[1;32m      5\u001b[0m         \u001b[0;32mreturn\u001b[0m \u001b[0;36m1\u001b[0m\u001b[0;34m\u001b[0m\u001b[0;34m\u001b[0m\u001b[0m\n\u001b[1;32m      6\u001b[0m     \u001b[0;32melse\u001b[0m\u001b[0;34m:\u001b[0m\u001b[0;34m\u001b[0m\u001b[0;34m\u001b[0m\u001b[0m\n\u001b[0;32m----> 7\u001b[0;31m         \u001b[0;32mreturn\u001b[0m \u001b[0mfib\u001b[0m\u001b[0;34m(\u001b[0m\u001b[0mn\u001b[0m\u001b[0;34m-\u001b[0m\u001b[0;36m1\u001b[0m\u001b[0;34m)\u001b[0m \u001b[0;34m+\u001b[0m \u001b[0mfib\u001b[0m\u001b[0;34m(\u001b[0m\u001b[0mn\u001b[0m\u001b[0;34m-\u001b[0m\u001b[0;36m2\u001b[0m\u001b[0;34m)\u001b[0m\u001b[0;34m\u001b[0m\u001b[0;34m\u001b[0m\u001b[0m\n\u001b[0m",
      "\u001b[0;32m/var/folders/c2/0wzvtyxs7kd27czh1j640t4w0000gp/T/ipykernel_1523/3445147239.py\u001b[0m in \u001b[0;36mfib\u001b[0;34m(n)\u001b[0m\n\u001b[1;32m      5\u001b[0m         \u001b[0;32mreturn\u001b[0m \u001b[0;36m1\u001b[0m\u001b[0;34m\u001b[0m\u001b[0;34m\u001b[0m\u001b[0m\n\u001b[1;32m      6\u001b[0m     \u001b[0;32melse\u001b[0m\u001b[0;34m:\u001b[0m\u001b[0;34m\u001b[0m\u001b[0;34m\u001b[0m\u001b[0m\n\u001b[0;32m----> 7\u001b[0;31m         \u001b[0;32mreturn\u001b[0m \u001b[0mfib\u001b[0m\u001b[0;34m(\u001b[0m\u001b[0mn\u001b[0m\u001b[0;34m-\u001b[0m\u001b[0;36m1\u001b[0m\u001b[0;34m)\u001b[0m \u001b[0;34m+\u001b[0m \u001b[0mfib\u001b[0m\u001b[0;34m(\u001b[0m\u001b[0mn\u001b[0m\u001b[0;34m-\u001b[0m\u001b[0;36m2\u001b[0m\u001b[0;34m)\u001b[0m\u001b[0;34m\u001b[0m\u001b[0;34m\u001b[0m\u001b[0m\n\u001b[0m",
      "\u001b[0;32m/var/folders/c2/0wzvtyxs7kd27czh1j640t4w0000gp/T/ipykernel_1523/3445147239.py\u001b[0m in \u001b[0;36mfib\u001b[0;34m(n)\u001b[0m\n\u001b[1;32m      5\u001b[0m         \u001b[0;32mreturn\u001b[0m \u001b[0;36m1\u001b[0m\u001b[0;34m\u001b[0m\u001b[0;34m\u001b[0m\u001b[0m\n\u001b[1;32m      6\u001b[0m     \u001b[0;32melse\u001b[0m\u001b[0;34m:\u001b[0m\u001b[0;34m\u001b[0m\u001b[0;34m\u001b[0m\u001b[0m\n\u001b[0;32m----> 7\u001b[0;31m         \u001b[0;32mreturn\u001b[0m \u001b[0mfib\u001b[0m\u001b[0;34m(\u001b[0m\u001b[0mn\u001b[0m\u001b[0;34m-\u001b[0m\u001b[0;36m1\u001b[0m\u001b[0;34m)\u001b[0m \u001b[0;34m+\u001b[0m \u001b[0mfib\u001b[0m\u001b[0;34m(\u001b[0m\u001b[0mn\u001b[0m\u001b[0;34m-\u001b[0m\u001b[0;36m2\u001b[0m\u001b[0;34m)\u001b[0m\u001b[0;34m\u001b[0m\u001b[0;34m\u001b[0m\u001b[0m\n\u001b[0m",
      "\u001b[0;32m/var/folders/c2/0wzvtyxs7kd27czh1j640t4w0000gp/T/ipykernel_1523/3445147239.py\u001b[0m in \u001b[0;36mfib\u001b[0;34m(n)\u001b[0m\n\u001b[1;32m      2\u001b[0m     \u001b[0;32mif\u001b[0m \u001b[0mn\u001b[0m \u001b[0;34m==\u001b[0m \u001b[0;36m0\u001b[0m\u001b[0;34m:\u001b[0m\u001b[0;34m\u001b[0m\u001b[0;34m\u001b[0m\u001b[0m\n\u001b[1;32m      3\u001b[0m         \u001b[0;32mreturn\u001b[0m \u001b[0;36m0\u001b[0m\u001b[0;34m\u001b[0m\u001b[0;34m\u001b[0m\u001b[0m\n\u001b[0;32m----> 4\u001b[0;31m     \u001b[0;32melif\u001b[0m \u001b[0mn\u001b[0m \u001b[0;34m==\u001b[0m \u001b[0;36m1\u001b[0m\u001b[0;34m:\u001b[0m\u001b[0;34m\u001b[0m\u001b[0;34m\u001b[0m\u001b[0m\n\u001b[0m\u001b[1;32m      5\u001b[0m         \u001b[0;32mreturn\u001b[0m \u001b[0;36m1\u001b[0m\u001b[0;34m\u001b[0m\u001b[0;34m\u001b[0m\u001b[0m\n\u001b[1;32m      6\u001b[0m     \u001b[0;32melse\u001b[0m\u001b[0;34m:\u001b[0m\u001b[0;34m\u001b[0m\u001b[0;34m\u001b[0m\u001b[0m\n",
      "\u001b[0;31mKeyboardInterrupt\u001b[0m: "
     ]
    }
   ],
   "metadata": {}
  },
  {
   "cell_type": "code",
   "execution_count": 159,
   "source": [
    "%timeit fib(6)"
   ],
   "outputs": [
    {
     "output_type": "stream",
     "name": "stdout",
     "text": [
      "2.8 µs ± 138 ns per loop (mean ± std. dev. of 7 runs, 100000 loops each)\n"
     ]
    }
   ],
   "metadata": {}
  },
  {
   "cell_type": "code",
   "execution_count": 160,
   "source": [
    "%timeit fib(15)"
   ],
   "outputs": [
    {
     "output_type": "stream",
     "name": "stdout",
     "text": [
      "234 µs ± 14.4 µs per loop (mean ± std. dev. of 7 runs, 1000 loops each)\n"
     ]
    }
   ],
   "metadata": {}
  },
  {
   "cell_type": "code",
   "execution_count": 161,
   "source": [
    "import time\n",
    "no_ = 34\n",
    "t1 = time.time()\n",
    "print(f'Fibonacci number sequence {no_} is {fib(no_)}. calculated in: {time.time()-t1} seconds')"
   ],
   "outputs": [
    {
     "output_type": "stream",
     "name": "stdout",
     "text": [
      "Fibonacci number sequence 34 is 5702887. calculated in: 2.205167055130005 seconds\n"
     ]
    }
   ],
   "metadata": {}
  },
  {
   "cell_type": "code",
   "execution_count": null,
   "source": [
    "%%timeit\n",
    "fib(34)"
   ],
   "outputs": [],
   "metadata": {}
  },
  {
   "cell_type": "markdown",
   "source": [
    "## The First 50 Fibonacci Numbers"
   ],
   "metadata": {}
  },
  {
   "cell_type": "markdown",
   "source": [
    "- Result: The printing goes slower and slower and then dies."
   ],
   "metadata": {}
  },
  {
   "cell_type": "markdown",
   "source": [
    "## Exponential Number of Calls\n",
    "\n",
    "Computing `fib(5)`\n",
    "\n",
    "![](figures/fib-rec.png)\n"
   ],
   "metadata": {}
  },
  {
   "cell_type": "markdown",
   "source": [
    "- fib(5) takes 15 calls to fib(N).\n",
    "- fib(6) takes 25 calls to fib(N).\n",
    "- fib(50) takes an enormous amount of calls to fib(N).\n",
    "- All values between 1 and N -> the number is proportional to $2^N$ -> the computer crashes for $N = 50$."
   ],
   "metadata": {}
  },
  {
   "cell_type": "code",
   "execution_count": 162,
   "source": [
    "2**51"
   ],
   "outputs": [
    {
     "output_type": "execute_result",
     "data": {
      "text/plain": [
       "2251799813685248"
      ]
     },
     "metadata": {},
     "execution_count": 162
    }
   ],
   "metadata": {}
  },
  {
   "cell_type": "markdown",
   "source": [
    "## This has to be done in another way"
   ],
   "metadata": {}
  },
  {
   "cell_type": "code",
   "execution_count": 164,
   "source": [
    "f0, f1  = 0, 1\n",
    "for i in range(2,101):\n",
    "    f = f0 + f1\n",
    "    print(i, f)\n",
    "    f0 = f1\n",
    "    f1 = f"
   ],
   "outputs": [
    {
     "output_type": "stream",
     "name": "stdout",
     "text": [
      "2 1\n",
      "3 2\n",
      "4 3\n",
      "5 5\n",
      "6 8\n",
      "7 13\n",
      "8 21\n",
      "9 34\n",
      "10 55\n",
      "11 89\n",
      "12 144\n",
      "13 233\n",
      "14 377\n",
      "15 610\n",
      "16 987\n",
      "17 1597\n",
      "18 2584\n",
      "19 4181\n",
      "20 6765\n",
      "21 10946\n",
      "22 17711\n",
      "23 28657\n",
      "24 46368\n",
      "25 75025\n",
      "26 121393\n",
      "27 196418\n",
      "28 317811\n",
      "29 514229\n",
      "30 832040\n",
      "31 1346269\n",
      "32 2178309\n",
      "33 3524578\n",
      "34 5702887\n",
      "35 9227465\n",
      "36 14930352\n",
      "37 24157817\n",
      "38 39088169\n",
      "39 63245986\n",
      "40 102334155\n",
      "41 165580141\n",
      "42 267914296\n",
      "43 433494437\n",
      "44 701408733\n",
      "45 1134903170\n",
      "46 1836311903\n",
      "47 2971215073\n",
      "48 4807526976\n",
      "49 7778742049\n",
      "50 12586269025\n",
      "51 20365011074\n",
      "52 32951280099\n",
      "53 53316291173\n",
      "54 86267571272\n",
      "55 139583862445\n",
      "56 225851433717\n",
      "57 365435296162\n",
      "58 591286729879\n",
      "59 956722026041\n",
      "60 1548008755920\n",
      "61 2504730781961\n",
      "62 4052739537881\n",
      "63 6557470319842\n",
      "64 10610209857723\n",
      "65 17167680177565\n",
      "66 27777890035288\n",
      "67 44945570212853\n",
      "68 72723460248141\n",
      "69 117669030460994\n",
      "70 190392490709135\n",
      "71 308061521170129\n",
      "72 498454011879264\n",
      "73 806515533049393\n",
      "74 1304969544928657\n",
      "75 2111485077978050\n",
      "76 3416454622906707\n",
      "77 5527939700884757\n",
      "78 8944394323791464\n",
      "79 14472334024676221\n",
      "80 23416728348467685\n",
      "81 37889062373143906\n",
      "82 61305790721611591\n",
      "83 99194853094755497\n",
      "84 160500643816367088\n",
      "85 259695496911122585\n",
      "86 420196140727489673\n",
      "87 679891637638612258\n",
      "88 1100087778366101931\n",
      "89 1779979416004714189\n",
      "90 2880067194370816120\n",
      "91 4660046610375530309\n",
      "92 7540113804746346429\n",
      "93 12200160415121876738\n",
      "94 19740274219868223167\n",
      "95 31940434634990099905\n",
      "96 51680708854858323072\n",
      "97 83621143489848422977\n",
      "98 135301852344706746049\n",
      "99 218922995834555169026\n",
      "100 354224848179261915075\n"
     ]
    }
   ],
   "metadata": {}
  },
  {
   "cell_type": "markdown",
   "source": [
    "## Recursive functions (in general)\n",
    "\n",
    "- A recursive method consists of:\n",
    "\n",
    "    - One or more *base cases* where \"simple\" results are given explicitly.\n",
    "    - One or more recursive rules (or steps) where \"larger\" results are expressed using \"smaller\" results.\n",
    "\n",
    "\n",
    "- We use *recursive rules* until a problem has been reduced to size where a base case can be used.\n",
    "- No base case -> infinite recursion -> program will crash."
   ],
   "metadata": {}
  },
  {
   "cell_type": "markdown",
   "source": [
    "## Crash"
   ],
   "metadata": {}
  },
  {
   "cell_type": "code",
   "execution_count": 165,
   "source": [
    "# Start an infinite recursive call\n",
    "def infinite(n):\n",
    "    infinite(n+1)  # No base case ==> will never stop"
   ],
   "outputs": [],
   "metadata": {}
  },
  {
   "cell_type": "code",
   "execution_count": 166,
   "source": [
    "# Program starts\n",
    "infinite(0)"
   ],
   "outputs": [
    {
     "output_type": "error",
     "ename": "RecursionError",
     "evalue": "maximum recursion depth exceeded",
     "traceback": [
      "\u001b[0;31m---------------------------------------------------------------------------\u001b[0m",
      "\u001b[0;31mRecursionError\u001b[0m                            Traceback (most recent call last)",
      "\u001b[0;32m/var/folders/c2/0wzvtyxs7kd27czh1j640t4w0000gp/T/ipykernel_1523/97270413.py\u001b[0m in \u001b[0;36m<module>\u001b[0;34m\u001b[0m\n\u001b[1;32m      1\u001b[0m \u001b[0;31m# Program starts\u001b[0m\u001b[0;34m\u001b[0m\u001b[0;34m\u001b[0m\u001b[0;34m\u001b[0m\u001b[0m\n\u001b[0;32m----> 2\u001b[0;31m \u001b[0minfinite\u001b[0m\u001b[0;34m(\u001b[0m\u001b[0;36m0\u001b[0m\u001b[0;34m)\u001b[0m\u001b[0;34m\u001b[0m\u001b[0;34m\u001b[0m\u001b[0m\n\u001b[0m",
      "\u001b[0;32m/var/folders/c2/0wzvtyxs7kd27czh1j640t4w0000gp/T/ipykernel_1523/1737545100.py\u001b[0m in \u001b[0;36minfinite\u001b[0;34m(n)\u001b[0m\n\u001b[1;32m      1\u001b[0m \u001b[0;31m# Start an infinite recursive call\u001b[0m\u001b[0;34m\u001b[0m\u001b[0;34m\u001b[0m\u001b[0;34m\u001b[0m\u001b[0m\n\u001b[1;32m      2\u001b[0m \u001b[0;32mdef\u001b[0m \u001b[0minfinite\u001b[0m\u001b[0;34m(\u001b[0m\u001b[0mn\u001b[0m\u001b[0;34m)\u001b[0m\u001b[0;34m:\u001b[0m\u001b[0;34m\u001b[0m\u001b[0;34m\u001b[0m\u001b[0m\n\u001b[0;32m----> 3\u001b[0;31m     \u001b[0minfinite\u001b[0m\u001b[0;34m(\u001b[0m\u001b[0mn\u001b[0m\u001b[0;34m+\u001b[0m\u001b[0;36m1\u001b[0m\u001b[0;34m)\u001b[0m  \u001b[0;31m# No base case ==> will never stop\u001b[0m\u001b[0;34m\u001b[0m\u001b[0;34m\u001b[0m\u001b[0m\n\u001b[0m",
      "... last 1 frames repeated, from the frame below ...\n",
      "\u001b[0;32m/var/folders/c2/0wzvtyxs7kd27czh1j640t4w0000gp/T/ipykernel_1523/1737545100.py\u001b[0m in \u001b[0;36minfinite\u001b[0;34m(n)\u001b[0m\n\u001b[1;32m      1\u001b[0m \u001b[0;31m# Start an infinite recursive call\u001b[0m\u001b[0;34m\u001b[0m\u001b[0;34m\u001b[0m\u001b[0;34m\u001b[0m\u001b[0m\n\u001b[1;32m      2\u001b[0m \u001b[0;32mdef\u001b[0m \u001b[0minfinite\u001b[0m\u001b[0;34m(\u001b[0m\u001b[0mn\u001b[0m\u001b[0;34m)\u001b[0m\u001b[0;34m:\u001b[0m\u001b[0;34m\u001b[0m\u001b[0;34m\u001b[0m\u001b[0m\n\u001b[0;32m----> 3\u001b[0;31m     \u001b[0minfinite\u001b[0m\u001b[0;34m(\u001b[0m\u001b[0mn\u001b[0m\u001b[0;34m+\u001b[0m\u001b[0;36m1\u001b[0m\u001b[0;34m)\u001b[0m  \u001b[0;31m# No base case ==> will never stop\u001b[0m\u001b[0;34m\u001b[0m\u001b[0;34m\u001b[0m\u001b[0m\n\u001b[0m",
      "\u001b[0;31mRecursionError\u001b[0m: maximum recursion depth exceeded"
     ]
    }
   ],
   "metadata": {}
  },
  {
   "cell_type": "markdown",
   "source": [
    "### If time permits\n",
    "\n",
    "## Function documentation\n",
    "\n",
    "\n"
   ],
   "metadata": {}
  },
  {
   "cell_type": "code",
   "execution_count": null,
   "source": [
    "def gcd(a, b):\n",
    "    \"\"\"The Euclidean algorithm for computing the greatest \n",
    "       common divisor of integers a and b. First presented 300 BC.   \"\"\"\n",
    "\n",
    "    while a != b: # this is this\n",
    "        if a > b:\n",
    "            a = a - b\n",
    "        else:\n",
    "            b = b - a\n",
    "    return a\n"
   ],
   "outputs": [],
   "metadata": {}
  },
  {
   "cell_type": "code",
   "execution_count": null,
   "source": [
    "# Program starts\n",
    "p = gcd(60,45)\n",
    "print(p)   # Output: 15"
   ],
   "outputs": [],
   "metadata": {}
  },
  {
   "cell_type": "markdown",
   "source": [
    "- The recommended approach to document a function in Python\n",
    "    is inside `\"\"\" ... \"\"\"` (triple quotes) in the beginning of the function body.\n",
    "- Software tools can extract this information and generate code documentation\n",
    "- One usually document\n",
    "    - a) the purpose of the function\n",
    "    - b) The role of each parameter (value type and what it means)\n",
    "    - c) the return value (value types and what it means)\n",
    "    - d) a reference (if idea taken from someone else)\n"
   ],
   "metadata": {}
  },
  {
   "cell_type": "markdown",
   "source": [
    "## Functions as values\n",
    "\n"
   ],
   "metadata": {}
  },
  {
   "cell_type": "code",
   "execution_count": null,
   "source": [
    "from math import sqrt\n",
    "\n",
    "x = sqrt                   # Assign function sqrt to variable\n",
    "print(x(16), type(x))      # Apply function sqrt using variable x\n",
    "\n",
    "sqrt = 7                   # Redefine sqrt ==> sqrt no ...\n",
    "print(sqrt, type(sqrt))    # longer a function (in this program)"
   ],
   "outputs": [],
   "metadata": {}
  },
  {
   "cell_type": "code",
   "execution_count": null,
   "source": [
    "print = 7           # Redefine print\n",
    "print(\"hello\")      # Error, print function no longer available"
   ],
   "outputs": [],
   "metadata": {}
  },
  {
   "cell_type": "code",
   "execution_count": null,
   "source": [
    "del print"
   ],
   "outputs": [],
   "metadata": {}
  },
  {
   "cell_type": "markdown",
   "source": [
    "- Functions are also a type of values in Python. They can be assigned to variables and used as parameters in calls.\n",
    "- Function names can be redefined -> they lose the original functionality *(Be careful, redefining function names is usually a bad idea.)*"
   ],
   "metadata": {}
  },
  {
   "cell_type": "markdown",
   "source": [
    "## Functions as parameters"
   ],
   "metadata": {}
  },
  {
   "cell_type": "code",
   "execution_count": null,
   "source": [
    "def plus(a, b):\n",
    "    return a + b\n",
    "\n",
    "def minus(a, b):\n",
    "    return a - b\n",
    "\n",
    "def apply_op(a, b, op):   # Expects two numbers and a function \n",
    "    return op(a,b)        # with two parameters as input\n"
   ],
   "outputs": [],
   "metadata": {}
  },
  {
   "cell_type": "code",
   "execution_count": null,
   "source": [
    "\n",
    "# Program starts\n",
    "p = apply_op(6, 3, plus)  # Use plus(a,b) as argument\n",
    "q = apply_op(6, 3, minus) # Use minus(a,b) as argument\n",
    "print(p, q)               # Output: 9 3"
   ],
   "outputs": [],
   "metadata": {}
  },
  {
   "cell_type": "markdown",
   "source": [
    "- The function `apply_op(a, b, op)` expects two numbers and a function with two parameters as input\n",
    "- We call it by providing a two-parameter function (like `plus`) as an argument\n",
    "- An \"advanced\" concept\" that will be used later on, not part of Assignment 2"
   ],
   "metadata": {}
  },
  {
   "cell_type": "markdown",
   "source": [
    "## Programming Example - Multiplication\n",
    "\n",
    "**Exercise:**\n",
    "\n",
    "Write a recursive method `mult(a,b)` that computes the multiplication $a\\cdot b$ with the use of addition. You can assume that both $a$ and $b$ are positive. Add also code that show how the recursive function `mult` can be used."
   ],
   "metadata": {}
  },
  {
   "cell_type": "markdown",
   "source": [
    "## Solution idea\n",
    "\n",
    "\n",
    "\\begin{align}\n",
    "a\\cdot b = \\left\\{\n",
    "\\begin{array}{cl}\n",
    "a & b = 1 (base\\ case) \\\\\n",
    "a + a\\cdot (b-1) & b > 1  (recursive\\ step) \\\\\n",
    "\\end{array}\n",
    "\\right.\n",
    "\\end{align}\n",
    "\n",
    "\n",
    "- The recursive step decreases the value of $b$\n",
    "- Hence, repeat the recursive step until we reach the base case"
   ],
   "metadata": {}
  },
  {
   "cell_type": "markdown",
   "source": [
    "## Solution - Recursive multiplication"
   ],
   "metadata": {}
  },
  {
   "cell_type": "code",
   "execution_count": null,
   "source": [
    "def mult(a,b):\n",
    "    if b == 1:\n",
    "        return a\n",
    "    else:\n",
    "        return a + mult(a,b-1)\n"
   ],
   "outputs": [],
   "metadata": {}
  },
  {
   "cell_type": "code",
   "execution_count": null,
   "source": [
    "# Program starts\n",
    "print( mult(3,7) )\n",
    "print( mult(15,15) )"
   ],
   "outputs": [],
   "metadata": {}
  },
  {
   "cell_type": "markdown",
   "source": [
    "- Recursive solutions are not that hard to understand. However, coming up with the solution idea takes a bit more practice. "
   ],
   "metadata": {}
  },
  {
   "cell_type": "code",
   "execution_count": null,
   "source": [
    "print( mult(3,5))"
   ],
   "outputs": [],
   "metadata": {}
  },
  {
   "cell_type": "markdown",
   "source": [
    "![](figures/recursive-handdraw-mult.png)"
   ],
   "metadata": {}
  },
  {
   "cell_type": "markdown",
   "source": [
    "![](figures/google_recursion.png)\n",
    "\n",
    "And worth looking at:\n",
    "\n",
    "Intro to recursion: https://youtu.be/AfBqVVKg4GE"
   ],
   "metadata": {}
  },
  {
   "cell_type": "code",
   "execution_count": null,
   "source": [],
   "outputs": [],
   "metadata": {}
  }
 ],
 "metadata": {
  "kernelspec": {
   "name": "python3",
   "display_name": "Python 3.8.11 64-bit ('base': conda)"
  },
  "language_info": {
   "codemirror_mode": {
    "name": "ipython",
    "version": 3
   },
   "file_extension": ".py",
   "mimetype": "text/x-python",
   "name": "python",
   "nbconvert_exporter": "python",
   "pygments_lexer": "ipython3",
   "version": "3.8.11"
  },
  "interpreter": {
   "hash": "dca0ade3e726a953b501b15e8e990130d2b7799f14cfd9f4271676035ebe5511"
  }
 },
 "nbformat": 4,
 "nbformat_minor": 4
}