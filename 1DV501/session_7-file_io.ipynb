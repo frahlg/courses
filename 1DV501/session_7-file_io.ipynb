{
 "cells": [
  {
   "cell_type": "markdown",
   "metadata": {},
   "source": [
    "# File IO and Exceptions\n",
    "## 1DV501 - Introduction to Programming"
   ]
  },
  {
   "cell_type": "markdown",
   "metadata": {},
   "source": [
    "\n",
    "### The Python Test\n",
    "\n",
    "- Sign up for the first Python Test on Friday, October 23. \n",
    "- Read information posted (as News) in Moodle.\n",
    "- Registration is mandatory. **Deadline October 16**\n",
    "- Registration is now open in Moodle (Scroll down a bit to find it.)\n",
    "\n",
    "### Select courses for the spring semester\n",
    "\n",
    "- All students must apply for spring semester courses (Also students in programs where all courses are mandatory.)\n",
    "- Application period: October 1 to October 15\n",
    "- Program specific details should have been mailed to you, it is also available in Program Moodle room."
   ]
  },
  {
   "cell_type": "markdown",
   "metadata": {},
   "source": [
    "## Today\n",
    "\n",
    "- Working with Files and Directories\n",
    "- File input/output (IO)\n",
    "- Working text files\n",
    "- Working with data files\n",
    "- Errors and Exceptions\n",
    "\n",
    "**Reading instructions:** 9.3, 12.1-12.6, 12.8"
   ]
  },
  {
   "cell_type": "markdown",
   "metadata": {},
   "source": [
    "## Working with files and directories\n",
    "\n",
    "### The `os` module\n",
    "\n"
   ]
  },
  {
   "cell_type": "code",
   "execution_count": 1,
   "metadata": {},
   "outputs": [
    {
     "name": "stdout",
     "output_type": "stream",
     "text": [
      "/Users/fredrik/Github/courses/1DV501\n"
     ]
    }
   ],
   "source": [
    "import os\n",
    "path = os.getcwd()\n",
    "print(path)"
   ]
  },
  {
   "cell_type": "code",
   "execution_count": 2,
   "metadata": {},
   "outputs": [],
   "source": [
    "os.chdir('figures')"
   ]
  },
  {
   "cell_type": "code",
   "execution_count": 3,
   "metadata": {},
   "outputs": [
    {
     "data": {
      "text/plain": [
       "'/Users/fredrik/Github/courses/1DV501/figures'"
      ]
     },
     "execution_count": 3,
     "metadata": {},
     "output_type": "execute_result"
    }
   ],
   "source": [
    "os.getcwd()"
   ]
  },
  {
   "cell_type": "code",
   "execution_count": 4,
   "metadata": {},
   "outputs": [],
   "source": [
    "os.chdir('..')"
   ]
  },
  {
   "cell_type": "code",
   "execution_count": 5,
   "metadata": {},
   "outputs": [
    {
     "data": {
      "text/plain": [
       "'/Users/fredrik/Github/courses/1DV501'"
      ]
     },
     "execution_count": 5,
     "metadata": {},
     "output_type": "execute_result"
    }
   ],
   "source": [
    "os.getcwd()"
   ]
  },
  {
   "cell_type": "code",
   "execution_count": 6,
   "metadata": {},
   "outputs": [],
   "source": [
    "os.chdir('/Users/fredrik/Github/courses/1DV501')"
   ]
  },
  {
   "cell_type": "markdown",
   "metadata": {},
   "source": [
    "- The `os` module gives support for queries related to files and directories\n",
    "- `os.getcwd()`  name of current working directory\n",
    "    - The virtual machine's start directory in this execution\n",
    "    - Not same as folder containing this program code\n",
    "    - Topmost directory inside Visual Studio Code \n",
    "- `os.chdir('figures')` change to child directory\n",
    "- `os.chdir('..')` change to parent directory\n"
   ]
  },
  {
   "cell_type": "code",
   "execution_count": 7,
   "metadata": {},
   "outputs": [
    {
     "name": "stdout",
     "output_type": "stream",
     "text": [
      "Current dir: /Users/fredrik/Github/courses/1DV501\n",
      "session_5.ipynb\n",
      "session_7-fileio.py\n",
      ".DS_Store\n",
      "session_3_bool_if.ipynb\n",
      "session_4_loops.ipynb\n",
      "__pycache__\n",
      "session_6-lists.ipynb\n",
      "session_2_variables.ipynb\n",
      "session_7-file_io.ipynb\n",
      "figures\n",
      "B.py\n",
      ".ipynb_checkpoints\n",
      "\n",
      "Moved to dir: /Users/fredrik/Github/courses/1DV501/figures\n"
     ]
    }
   ],
   "source": [
    "import os                       # Operating system module\n",
    "os.chdir('/Users/fredrik/Github/courses/1DV501')\n",
    "\n",
    "path = os.getcwd()              # Get current working directory\n",
    "print(\"Current dir:\", path)     # ... /1DV501\n",
    "\n",
    "lst = os.listdir(path)  # List files and directories in path directory\n",
    "\n",
    "for s in lst:\n",
    "    print(s)       \n",
    "\n",
    "subdir = os.chdir('figures')\n",
    "print(\"nMoved to dir:\", os.getcwd())\n",
    "\n",
    "lst = os.listdir(subdir) # List files and folders in subdir\n",
    "\n",
    "for s in lst:\n",
    "    if s.endswith(\".py\"):     # Print files ending with \".py\"\n",
    "        print(s)              # time.py, tax.py, shortname.py, quote.py, "
   ]
  },
  {
   "cell_type": "markdown",
   "metadata": {},
   "source": [
    "- `os.listdir(path)` List content (as strings) of directory `path`\n",
    "- Directory content -> files and directories \n",
    "- Hidden entities (e.g. `.vscode` or `.DS_Store`) have names starting with a `.` \n",
    "\n"
   ]
  },
  {
   "cell_type": "markdown",
   "metadata": {},
   "source": [
    "## Using `os.scandir()`\n",
    "\n"
   ]
  },
  {
   "cell_type": "markdown",
   "metadata": {},
   "source": [
    "`os.scandir()`\n",
    "\n",
    "`s.scandir(path='.')` Returns an iterator \n",
    "\n",
    "https://docs.python.org/3/library/os.html\n"
   ]
  },
  {
   "cell_type": "code",
   "execution_count": 8,
   "metadata": {},
   "outputs": [
    {
     "name": "stdout",
     "output_type": "stream",
     "text": [
      "Class: <class 'posix.DirEntry'>\n",
      "Name: session_5.ipynb\n",
      "Ends with 'g': False\n",
      "Is a file: True\n",
      "Is a dir: False\n",
      "\n",
      "Class: <class 'posix.DirEntry'>\n",
      "Name: session_7-fileio.py\n",
      "Ends with 'g': False\n",
      "Is a file: True\n",
      "Is a dir: False\n",
      "\n",
      "Class: <class 'posix.DirEntry'>\n",
      "Name: .DS_Store\n",
      "Ends with 'g': False\n",
      "Is a file: True\n",
      "Is a dir: False\n",
      "\n",
      "Class: <class 'posix.DirEntry'>\n",
      "Name: session_3_bool_if.ipynb\n",
      "Ends with 'g': False\n",
      "Is a file: True\n",
      "Is a dir: False\n",
      "\n",
      "Class: <class 'posix.DirEntry'>\n",
      "Name: session_4_loops.ipynb\n",
      "Ends with 'g': False\n",
      "Is a file: True\n",
      "Is a dir: False\n",
      "\n",
      "Class: <class 'posix.DirEntry'>\n",
      "Name: __pycache__\n",
      "Ends with 'g': False\n",
      "Is a file: False\n",
      "Is a dir: True\n",
      "\n",
      "Class: <class 'posix.DirEntry'>\n",
      "Name: session_6-lists.ipynb\n",
      "Ends with 'g': False\n",
      "Is a file: True\n",
      "Is a dir: False\n",
      "\n",
      "Class: <class 'posix.DirEntry'>\n",
      "Name: session_2_variables.ipynb\n",
      "Ends with 'g': False\n",
      "Is a file: True\n",
      "Is a dir: False\n",
      "\n",
      "Class: <class 'posix.DirEntry'>\n",
      "Name: session_7-file_io.ipynb\n",
      "Ends with 'g': False\n",
      "Is a file: True\n",
      "Is a dir: False\n",
      "\n",
      "Class: <class 'posix.DirEntry'>\n",
      "Name: figures\n",
      "Ends with 'g': False\n",
      "Is a file: False\n",
      "Is a dir: True\n",
      "\n",
      "Class: <class 'posix.DirEntry'>\n",
      "Name: B.py\n",
      "Ends with 'g': False\n",
      "Is a file: True\n",
      "Is a dir: False\n",
      "\n",
      "Class: <class 'posix.DirEntry'>\n",
      "Name: .ipynb_checkpoints\n",
      "Ends with 'g': False\n",
      "Is a file: False\n",
      "Is a dir: True\n",
      "\n"
     ]
    }
   ],
   "source": [
    "import os\n",
    "os.chdir('/Users/fredrik/Github/courses/1DV501')\n",
    "\n",
    "entries = os.scandir('.')\n",
    "\n",
    "for a in entries:\n",
    "    print('Class:', type(a))\n",
    "    print('Name:', a.name)\n",
    "    print('Ends with 'g':', a.name.endswith('g'))\n",
    "    print('Is a file:', a.is_file())\n",
    "    print('Is a dir:', a.is_dir())\n",
    "    print()"
   ]
  },
  {
   "cell_type": "code",
   "execution_count": 9,
   "metadata": {},
   "outputs": [
    {
     "name": "stdout",
     "output_type": "stream",
     "text": [
      "File:  session_5.ipynb <class 'posix.DirEntry'>\n",
      "File:  session_7-fileio.py <class 'posix.DirEntry'>\n",
      "File:  session_3_bool_if.ipynb <class 'posix.DirEntry'>\n",
      "File:  session_4_loops.ipynb <class 'posix.DirEntry'>\n",
      "Dir:  __pycache__ /Users/fredrik/Github/courses/1DV501/__pycache__\n",
      "File:  session_6-lists.ipynb <class 'posix.DirEntry'>\n",
      "File:  session_2_variables.ipynb <class 'posix.DirEntry'>\n",
      "File:  session_7-file_io.ipynb <class 'posix.DirEntry'>\n",
      "Dir:  figures /Users/fredrik/Github/courses/1DV501/figures\n",
      "File:  B.py <class 'posix.DirEntry'>\n",
      "\n",
      "File:  LICENSE <class 'posix.DirEntry'>\n",
      "File:  README.md <class 'posix.DirEntry'>\n",
      "File:  PNG image 2020-09-15 18_55_58.png <class 'posix.DirEntry'>\n",
      "Dir:  1DV501 ./1DV501\n"
     ]
    }
   ],
   "source": [
    "\n",
    "# Example from PDF-slides\n",
    "import os\n",
    "os.chdir('/Users/fredrik/Github/courses/1DV501')\n",
    "\n",
    "def is_hidden(entry):\n",
    "    return entry.name.startswith(\".\")\n",
    "\n",
    "def print_entries(list_of_entries):\n",
    "    for entry in list_of_entries:\n",
    "        if entry.is_file() and not is_hidden(entry):\n",
    "            print(\"File: \", entry.name, type(entry) )\n",
    "        elif entry.is_dir() and not is_hidden(entry):\n",
    "            print(\"Dir: \", entry.name, entry.path)\n",
    "\n",
    "path = os.getcwd()\n",
    "entries = os.scandir(path)  # List of entries of type DirEntry\n",
    "print_entries(entries)      \n",
    "print()\n",
    "\n",
    "subdir = os.chdir('..')\n",
    "entries = os.scandir(subdir)  # List of entries of type DirEntry\n",
    "print_entries(entries)        "
   ]
  },
  {
   "cell_type": "markdown",
   "metadata": {},
   "source": [
    "## Files and dirs, continued ...\n",
    "\n",
    "### The `os.listdir(...)` approach \n",
    "\n",
    "- `os.listdir(path)` -> all file and directory names in directory `path`\n",
    "- Problem: all names are given as `strings` -> hard to know if it is a file or a directory\n",
    "- Suitable approach when you quickly wants to find the content of a given directory\n",
    "\n",
    "### The `os.scandir(...)` approach \n",
    "\n",
    "- `os.scandir(path)` -> all files and directories in `path` as `DirEntry` objects\n",
    "- Each `DirEntry` object `entry`  comes with two attributes:\n",
    "    - `entry.name` -> short local name of file or directory\n",
    "    - `entry.path` -> fully qualified name of file or directory\n",
    "    and two methods\n",
    "\n",
    "- `entry.is_file()` -> True if `entry`  is a file \n",
    "- `entry.is_dir()` -> True if `entry`  is a directory\n",
    "\n",
    "- Suitable approach for more complex problems like:\n",
    "    - List all python files in a given directory\n",
    "    - Find all sub-directories (transitively)  of a given directory\n"
   ]
  },
  {
   "cell_type": "code",
   "execution_count": 82,
   "metadata": {},
   "outputs": [
    {
     "name": "stdout",
     "output_type": "stream",
     "text": [
      "Dir /Users/fredrik/Github/courses contains 46 subdirectories\n"
     ]
    }
   ],
   "source": [
    "\n",
    "def count_dirs(path='.'):\n",
    "    c_ = 0\n",
    "    entries = os.scandir(path)\n",
    "    for entry in entries:\n",
    "        if entry.is_dir():\n",
    "            #print(entry.name)\n",
    "            c_ += 1 + count_dirs(entry.path)\n",
    "    return c_\n",
    "\n",
    "path = '/Users/fredrik/Github/courses'\n",
    "print(f\"Dir {path} contains {count_dirs(path)} subdirectories\")"
   ]
  },
  {
   "cell_type": "markdown",
   "metadata": {},
   "source": [
    "- `count_dirs(path)` is a recursive function that visits all subdirectories\n",
    "- Visits all  subdirectories transitively -> subdirs to subdirs to subdirs ...\n",
    "- Difficult to handle without recursion (**perfect example when it's needed**)\n"
   ]
  },
  {
   "cell_type": "markdown",
   "metadata": {},
   "source": [
    "## "
   ]
  }
 ],
 "metadata": {
  "kernelspec": {
   "display_name": "Python 3",
   "language": "python",
   "name": "python3"
  },
  "language_info": {
   "codemirror_mode": {
    "name": "ipython",
    "version": 3
   },
   "file_extension": ".py",
   "mimetype": "text/x-python",
   "name": "python",
   "nbconvert_exporter": "python",
   "pygments_lexer": "ipython3",
   "version": "3.7.7"
  }
 },
 "nbformat": 4,
 "nbformat_minor": 4
}
