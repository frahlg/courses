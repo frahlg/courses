{
 "cells": [
  {
   "cell_type": "markdown",
   "metadata": {},
   "source": [
    "## Session 9\n",
    "## 1DV501 Data structures 2\n",
    "\n",
    "\n",
    "\n",
    "- Implementing linked lists\n",
    "- Algorithms and Time Complexity\n",
    "- Hashing\n",
    "- Binary search trees\n",
    "- Mini-project information\n",
    "\n",
    "\n",
    "---"
   ]
  },
  {
   "cell_type": "markdown",
   "metadata": {},
   "source": [
    "## Implementing linked lists\n",
    "\n",
    "List can be implemented using a technique called **Linked Lists**\n",
    "\n",
    "- Usually made up of two entities (list + node)\n",
    "- The list holds a reference to the first node (the list field *head*)\n",
    "- Each element is stored in a node (the node field *value*)\n",
    "- Each node knows its predecessor node (the node field *next*)\n",
    "- A user interacts with the list, nodes are encapsulated within the list class.\n",
    "\n",
    "\n",
    "![](figures/linked_list.pdf)"
   ]
  },
  {
   "cell_type": "markdown",
   "metadata": {},
   "source": [
    "## One linked list implementation\n",
    "\n",
    "\n",
    "Example from the linked list implementation `linked_list.py`. The implementation (`.py`-files) is also available in Moodle.\n",
    "\n",
    "**Notice**\n",
    "-  An implementation using only Python features presented in the course\n",
    "-  Each node is a list of *length 2*: `[value,next]`\n",
    "-  The `head` node is our list reference ->\n",
    "    -  -> all list operations are applied on the head node\n",
    "\n",
    "**User scenario:**\n",
    "\n",
    "```python\n",
    "\n",
    "# Program starts\n",
    "head = ll.get_new_head()         # Gives access to head node\n",
    "\n",
    "# Add and print\n",
    "for i in range(1,21):\n",
    "    ll.add(head,i)               # Add elements to list\n",
    "print( ll.to_string(head) )      # Print list content\n",
    "\n",
    "\n",
    "```\n",
    "\n",
    "\n",
    "- Notice that we use the head node as argument in all calls.\n"
   ]
  },
  {
   "cell_type": "markdown",
   "metadata": {},
   "source": [
    "## A Linked Implementation\n",
    "\n",
    "Start of file `linked_list.py`\n",
    "\n",
    "\n"
   ]
  },
  {
   "cell_type": "code",
   "execution_count": 188,
   "metadata": {},
   "outputs": [],
   "source": [
    "# A linked list using lists of size 2 as nodes. The head node \n",
    "# looks like [None,next], the last node (tail) looks like \n",
    "# [value,None], all other nodes look like [value,next] \n",
    "\n",
    "# Returns head node to be used in subsequent calls\n",
    "def get_new_head():\n",
    "    return [None,None]\n",
    "\n",
    "# Append value n to the end of the list\n",
    "def append(head, n):\n",
    "    node = head\n",
    "    while node[1] != None:    # Find tail node\n",
    "        node = node[1]        # Move to next node\n",
    "    node[1] = [n,None]        # Attach new node to tail node\n"
   ]
  },
  {
   "cell_type": "code",
   "execution_count": 189,
   "metadata": {},
   "outputs": [],
   "source": [
    "ll = get_new_head()"
   ]
  },
  {
   "cell_type": "code",
   "execution_count": 190,
   "metadata": {},
   "outputs": [],
   "source": [
    "append(ll,5)\n",
    "append(ll,2)\n",
    "append(ll,8)\n",
    "append(ll,6)"
   ]
  },
  {
   "cell_type": "code",
   "execution_count": 191,
   "metadata": {},
   "outputs": [
    {
     "data": {
      "text/plain": [
       "[None, [5, [2, [8, [6, None]]]]]"
      ]
     },
     "execution_count": 191,
     "metadata": {},
     "output_type": "execute_result"
    }
   ],
   "source": [
    "ll"
   ]
  },
  {
   "cell_type": "markdown",
   "metadata": {},
   "source": [
    "`while node[1] != None: node = node[1]`\n",
    "- move along the node chain until we find tail node identified as having `None` as next node (`node[1]`)."
   ]
  },
  {
   "cell_type": "markdown",
   "metadata": {},
   "source": [
    "## The function `to_string(head)`"
   ]
  },
  {
   "cell_type": "code",
   "execution_count": 192,
   "metadata": {},
   "outputs": [],
   "source": [
    "# Returns a string representation of the list content\n",
    "def to_string(head):\n",
    "    result = \"\"\n",
    "    node = head[1]    # Node following head\n",
    "    while node != None:\n",
    "        result += str(node[0]) + ' '  # Add to result string\n",
    "        node = node[1]                # Move to next node\n",
    "    return result"
   ]
  },
  {
   "cell_type": "code",
   "execution_count": 193,
   "metadata": {},
   "outputs": [
    {
     "data": {
      "text/plain": [
       "'5 2 8 6 '"
      ]
     },
     "execution_count": 193,
     "metadata": {},
     "output_type": "execute_result"
    }
   ],
   "source": [
    "to_string(ll)"
   ]
  },
  {
   "cell_type": "markdown",
   "metadata": {},
   "source": [
    "- Hence, we move along the node chain and add `str(node[0]) + \" \" ` to the result string for each node."
   ]
  },
  {
   "cell_type": "markdown",
   "metadata": {},
   "source": [
    "## `count(head)` and `contains(head, n)`"
   ]
  },
  {
   "cell_type": "code",
   "execution_count": 194,
   "metadata": {},
   "outputs": [],
   "source": [
    "# Returns the number of \n",
    "# elements stored in list\n",
    "def count(head):\n",
    "    c = 0\n",
    "    node = head[1]\n",
    "    while node != None:\n",
    "        c += 1\n",
    "        node = node[1]\n",
    "    return c\n"
   ]
  },
  {
   "cell_type": "code",
   "execution_count": 195,
   "metadata": {},
   "outputs": [],
   "source": [
    "# Returns True if n is in \n",
    "# list, otherwise False\n",
    "def contains(head, n):\n",
    "    node = head[1]\n",
    "    while node != None:\n",
    "        if node[0] == n:\n",
    "            return True\n",
    "        node = node[1]\n",
    "    return False"
   ]
  },
  {
   "cell_type": "code",
   "execution_count": 196,
   "metadata": {},
   "outputs": [
    {
     "data": {
      "text/plain": [
       "4"
      ]
     },
     "execution_count": 196,
     "metadata": {},
     "output_type": "execute_result"
    }
   ],
   "source": [
    "count(ll)"
   ]
  },
  {
   "cell_type": "code",
   "execution_count": 197,
   "metadata": {},
   "outputs": [
    {
     "data": {
      "text/plain": [
       "True"
      ]
     },
     "execution_count": 197,
     "metadata": {},
     "output_type": "execute_result"
    }
   ],
   "source": [
    "contains(ll,2)"
   ]
  },
  {
   "cell_type": "markdown",
   "metadata": {},
   "source": [
    "- Same idea used twice, we start in node after head (`node = head[1]`) and move along node chain as long as we have more nodes (`while node != None:`).\n"
   ]
  },
  {
   "cell_type": "markdown",
   "metadata": {},
   "source": [
    "## Function `get(head, pos)` raises exception"
   ]
  },
  {
   "cell_type": "code",
   "execution_count": 198,
   "metadata": {},
   "outputs": [],
   "source": [
    "# Get element at position pos, raise IndexError\n",
    "# if position pos is out of range\n",
    "def get(head, pos):\n",
    "    n = count(head)               # Costly!\n",
    "    if 0 <= pos < n:              # If valid pos\n",
    "        node = head[1]\n",
    "        for i in range(pos):      # Move pos steps forward \n",
    "            node = node[1]\n",
    "        return node[0]\n",
    "    else:                         # Raise excepition\n",
    "        msg = f\"Index {pos} out valid range [0,{n-1}]\"\n",
    "        raise IndexError(msg)"
   ]
  },
  {
   "cell_type": "code",
   "execution_count": 201,
   "metadata": {},
   "outputs": [
    {
     "data": {
      "text/plain": [
       "8"
      ]
     },
     "execution_count": 201,
     "metadata": {},
     "output_type": "execute_result"
    }
   ],
   "source": [
    "get(ll,2)"
   ]
  },
  {
   "cell_type": "code",
   "execution_count": 200,
   "metadata": {},
   "outputs": [
    {
     "ename": "IndexError",
     "evalue": "Index 61 out valid range [0,3]",
     "output_type": "error",
     "traceback": [
      "\u001b[0;31m---------------------------------------------------------------------------\u001b[0m",
      "\u001b[0;31mIndexError\u001b[0m                                Traceback (most recent call last)",
      "\u001b[0;32m<ipython-input-200-2c50ff27805c>\u001b[0m in \u001b[0;36m<module>\u001b[0;34m\u001b[0m\n\u001b[0;32m----> 1\u001b[0;31m \u001b[0mget\u001b[0m\u001b[0;34m(\u001b[0m\u001b[0mll\u001b[0m\u001b[0;34m,\u001b[0m\u001b[0;36m61\u001b[0m\u001b[0;34m)\u001b[0m\u001b[0;34m\u001b[0m\u001b[0;34m\u001b[0m\u001b[0m\n\u001b[0m",
      "\u001b[0;32m<ipython-input-198-5a6e819497b3>\u001b[0m in \u001b[0;36mget\u001b[0;34m(head, pos)\u001b[0m\n\u001b[1;32m     10\u001b[0m     \u001b[0;32melse\u001b[0m\u001b[0;34m:\u001b[0m                         \u001b[0;31m# Raise excepition\u001b[0m\u001b[0;34m\u001b[0m\u001b[0;34m\u001b[0m\u001b[0m\n\u001b[1;32m     11\u001b[0m         \u001b[0mmsg\u001b[0m \u001b[0;34m=\u001b[0m \u001b[0;34mf\"Index {pos} out valid range [0,{n-1}]\"\u001b[0m\u001b[0;34m\u001b[0m\u001b[0;34m\u001b[0m\u001b[0m\n\u001b[0;32m---> 12\u001b[0;31m         \u001b[0;32mraise\u001b[0m \u001b[0mIndexError\u001b[0m\u001b[0;34m(\u001b[0m\u001b[0mmsg\u001b[0m\u001b[0;34m)\u001b[0m\u001b[0;34m\u001b[0m\u001b[0;34m\u001b[0m\u001b[0m\n\u001b[0m",
      "\u001b[0;31mIndexError\u001b[0m: Index 61 out valid range [0,3]"
     ]
    }
   ],
   "source": [
    "get(ll,61)"
   ]
  },
  {
   "cell_type": "markdown",
   "metadata": {},
   "source": [
    "- Calling `count(head)` (which traverses the list) for each call to `get(head, pos)` is costly. Solution: Introduce global variable `size` keeping track of the current list size"
   ]
  },
  {
   "cell_type": "markdown",
   "metadata": {},
   "source": [
    "## The `remove(pos)` function\n",
    "\n",
    "\n",
    "![](figures/remove_node.pdf)\n",
    "\n",
    "\n",
    "- **Note:** We can't move backwards -> we must operate from the node *before* the node we want to remove."
   ]
  },
  {
   "cell_type": "code",
   "execution_count": 185,
   "metadata": {},
   "outputs": [],
   "source": [
    "def remove(head, pos):\n",
    "    # Find node before pos\n",
    "    before = head[1]\n",
    "    print(f'head[1]: {head[1]}')\n",
    "    for i in range(pos-1):# Move pos-1 steps forward\n",
    "        before = before[1]\n",
    "        print(f'i: {i} and before: {before}')\n",
    "        \n",
    "    #By-pass pos node\n",
    "    delete = before[1]         # Node to be removed\n",
    "    print(f'delete: {delete}')\n",
    "    before[1] = delete[1]      # By-pass \"delete\"\n",
    "    print(f'delete[0]: {delete[0]}')\n",
    "    return delete[0]"
   ]
  },
  {
   "cell_type": "code",
   "execution_count": 202,
   "metadata": {},
   "outputs": [
    {
     "name": "stdout",
     "output_type": "stream",
     "text": [
      "head[1]: [5, [2, [8, [6, None]]]]\n",
      "delete: [2, [8, [6, None]]]\n",
      "delete[0]: 2\n"
     ]
    },
    {
     "data": {
      "text/plain": [
       "2"
      ]
     },
     "execution_count": 202,
     "metadata": {},
     "output_type": "execute_result"
    }
   ],
   "source": [
    "remove(ll,1)"
   ]
  },
  {
   "cell_type": "code",
   "execution_count": 203,
   "metadata": {},
   "outputs": [
    {
     "data": {
      "text/plain": [
       "[None, [5, [8, [6, None]]]]"
      ]
     },
     "execution_count": 203,
     "metadata": {},
     "output_type": "execute_result"
    }
   ],
   "source": [
    "ll"
   ]
  },
  {
   "cell_type": "markdown",
   "metadata": {},
   "source": [
    "## Variant 1: Head and tail\n",
    "\n",
    "- **Problem:** `append()` -> step through the whole list -> very slow\n",
    "   - (Serious since `append()` is a frequently used operation.)\n",
    "\n",
    "\n",
    "- **Solution:** Keep also track of the tail node -> we can jump there directly\n",
    "\n",
    "![](figures/headtail_list.pdf)"
   ]
  },
  {
   "cell_type": "markdown",
   "metadata": {},
   "source": [
    "## Variant 2: Double-linked List\n",
    "\n",
    "- **Problem:** We can only traverse list in one direction\n",
    "    - (for example) printing the list content backwards is very slow\n",
    "\n",
    "\n",
    "- **Solution:** Each node has a field `prev` that references the previous node.\n",
    "\n",
    "\n",
    "![](figures/double_list.pdf)"
   ]
  },
  {
   "cell_type": "markdown",
   "metadata": {},
   "source": [
    "## My linked list vs Pythons list\n",
    "\n",
    "\n",
    "- Python lists are *not* linked lists\n",
    "- Python lists are implemented as **dynamic arrays**\n",
    "    - (They start using a mutable C array of size (say) 1000 to store the data. They then double the size every time we need more size -> sizes are 1000, 2000, 4000, 8000, ...)\n",
    "- Faster than linked lists in operations like `append` and `get` (since we don't need to move along the chain of nodes).\n",
    "- Slower than linked list in operations like `remove(0)` since it must shuffle all elements one step left to cover for the hole at position 0.\n",
    "- **Python lists are much (much!) faster since implemented in C**\n",
    "    - Many time critical parts in Python are implemented in highly optimized C code and called from the main program by the virtual machine.\n",
    "\n",
    "However, linked data structures (one node referencing others) is an important concept that are used in trees and graphs."
   ]
  },
  {
   "cell_type": "markdown",
   "metadata": {},
   "source": [
    "## How do we recognize a good algorithm?\n",
    "\n",
    "\n",
    "- We expect each algorithm to be *correct* ...\n",
    "- ... but there might be more than one correct algorithm. \n",
    "\n",
    "\n",
    "### Which one is the best?\n",
    "\n",
    "Possible criteria:\n",
    "\t\n",
    "- The algorithm is easy to understand and implement\n",
    "    - simple\n",
    "    - clearly written\n",
    "    - well documented\n",
    "    - ...\n",
    "\n",
    "- The algorithm is **efficient**\n",
    "    - uses resources efficiently, for example memory or network capacity\n",
    "    - time efficient -> fast!\n",
    "\n",
    "\n",
    "\n",
    "We will concentrate on time efficiency but that does NOT mean that the other criteria are not important. (As a first try I will always go for the simple solution. It might be good enough.)\n",
    "\n"
   ]
  },
  {
   "cell_type": "markdown",
   "metadata": {},
   "source": [
    "## Asymptotic Analysis\n",
    "\n",
    "**We would like to:**\n",
    "\n",
    "\n",
    "- Analyse algorithms without knowing on which computer they will execute.\n",
    "- Answer questions like \"Which of these two algorithms are faster if the input size is big?\" \n",
    "- Answer questions like \"How much will the computation time increase if the size of the input is multiplied by 2?\"\n",
    "\n",
    "We will achieve this by using *asymptotic analysis* and the big-oh notation -> a **Time Complexity** estimate.\n",
    "\n",
    "Asymptotic Analysis -> Behaviour when input size is big.\n",
    "\n",
    "- Using asymptotic analysis, we can conclude the best case, average case, and worst case scenario of an algorithm.\n",
    "\n",
    "--- \n",
    "**NOTE The naive approach** The naive way of doing this is – implement the algorithms and run the programs on your computer for different inputs and see which one takes less time\n",
    "\n",
    "1) It might be possible that for some inputs, one algorithm performs better than the other, and for some inputs the second performs best.\n",
    "\n",
    "2) It might also be possible that for some inputs, first algorithm perform better on one machine and the second works better on other machine for some other inputs.\n",
    "\n"
   ]
  },
  {
   "cell_type": "code",
   "execution_count": 70,
   "metadata": {},
   "outputs": [
    {
     "name": "stdout",
     "output_type": "stream",
     "text": [
      "70.5 µs ± 4.09 µs per loop (mean ± std. dev. of 7 runs, 10000 loops each)\n"
     ]
    }
   ],
   "source": [
    "%%timeit\n",
    "\n",
    "a_list = []\n",
    "\n",
    "for i in range(1000):\n",
    "    a_list.append(i)"
   ]
  },
  {
   "cell_type": "code",
   "execution_count": 71,
   "metadata": {},
   "outputs": [
    {
     "name": "stdout",
     "output_type": "stream",
     "text": [
      "39.8 ms ± 3.84 ms per loop (mean ± std. dev. of 7 runs, 10 loops each)\n"
     ]
    }
   ],
   "source": [
    "%%timeit\n",
    "\n",
    "b_list = get_new_head()\n",
    "\n",
    "for i in range(1000):\n",
    "    append(b_list,i)"
   ]
  },
  {
   "cell_type": "code",
   "execution_count": 72,
   "metadata": {},
   "outputs": [
    {
     "data": {
      "text/plain": [
       "540.6562054208275"
      ]
     },
     "execution_count": 72,
     "metadata": {},
     "output_type": "execute_result"
    }
   ],
   "source": [
    "(37.9e-3)/(70.1e-6)"
   ]
  },
  {
   "cell_type": "markdown",
   "metadata": {},
   "source": [
    "## Time Complexity (Introduction)\n",
    "\n",
    "### Time Complexity: An estimate of required computation time.\n",
    "\n",
    "- **Number of required computations often depend on input data**\n",
    "\n",
    "    - Find integer in a list -> time depends on list size N\n",
    "    - Check if N is a prime number -> time depends on N size\n",
    "    - Sort list -> time depends on list size N\n",
    "\n",
    "- **We say that an algorithm have time complexity**\n",
    "\n",
    "    - $O(N)$ if computation time is proportional to $N$\n",
    "    - $O(N^2)$ if computation time is proportional to  $N^2$\n",
    "    - $O(1)$ if computation time is constant\n",
    "    - in general,  $O(F(N))$ if computation time is proportional to $F(N)$\n",
    "\n",
    "\n",
    "- $O(...)$ is pronounced *Big-Oh of* ... Example Big-Oh of N-square\n",
    "    - or sometimes *Ordo of* ...\n",
    "\n",
    "---\n",
    "\n",
    "- **Basic assumption:** Each simple computation takes time 1\n",
    "- Simple operations: + - / * %  assignment  ...\n",
    "- We are always interested in the **worst case scenario** -> the case requiring most computations "
   ]
  },
  {
   "cell_type": "markdown",
   "metadata": {},
   "source": [
    "## Time Complexity: Examples\n",
    "\n",
    "\n",
    "- Print multiplication table for N -> $O(N^2)$\n"
   ]
  },
  {
   "cell_type": "code",
   "execution_count": 53,
   "metadata": {},
   "outputs": [],
   "source": [
    "def print_table(N):\n",
    "    for i in range(1,N+1):       # O(N)\n",
    "        for j in range(1,N+1):   # O(N)\n",
    "            print(i*j)"
   ]
  },
  {
   "cell_type": "code",
   "execution_count": 55,
   "metadata": {},
   "outputs": [
    {
     "name": "stdout",
     "output_type": "stream",
     "text": [
      "1\n",
      "2\n",
      "3\n",
      "4\n",
      "2\n",
      "4\n",
      "6\n",
      "8\n",
      "3\n",
      "6\n",
      "9\n",
      "12\n",
      "4\n",
      "8\n",
      "12\n",
      "16\n"
     ]
    }
   ],
   "source": [
    "print_table(4)"
   ]
  },
  {
   "cell_type": "markdown",
   "metadata": {},
   "source": [
    "\n",
    "(1)\n",
    "- print statement is executed $N\\times N$ times -> $O(N^2)$\n",
    "\n",
    "(2)\n",
    "- Search for X in list of size N -> $O(N)$ "
   ]
  },
  {
   "cell_type": "code",
   "execution_count": 56,
   "metadata": {},
   "outputs": [],
   "source": [
    "def search(X, lst): \n",
    "   for n in lst:        # O(N)\n",
    "      if n == X:        # O(1) executed N times\n",
    "         return True\n",
    "   return False"
   ]
  },
  {
   "cell_type": "markdown",
   "metadata": {},
   "source": [
    "**Note:** A loop with N iterations over a body with time complexity $O(X)$ -> time complexity $O(N\\cdot X)$"
   ]
  },
  {
   "cell_type": "markdown",
   "metadata": {},
   "source": [
    "## Asymptotic Handling in Practise\n",
    "\n",
    "Assume time $T(n) =$ in terms of input size $n$.\n",
    "\n",
    "1. **Constant factors do not matter.**\n",
    "2. In a sum, **only the term that grows fastest is important**.\n",
    "\n",
    "- $T(n)=3n$ -> $O(n)$\n",
    "- $T(n)=4n^4 - 45n^3 + 102n + 5$ -> $O(n^4)$\n",
    "- $T(n)=16n - 3n\\cdot\\log_2(n) + 102$ -> $O(n\\cdot\\log_2(n))$\n",
    "- $T(n)=9168n^{88} - 3n\\cdot\\log_2(n) + 5\\cdot 2^n$ -> $O(2^n)$\n",
    "\n",
    "- The $O(...)$ notation describes the behaviour when input size is big\n",
    "- We are always interested in the *worst-case scenario* -> Not when we are finding an element at the first position in a list \n"
   ]
  },
  {
   "cell_type": "markdown",
   "metadata": {},
   "source": [
    "## Frequent Big-Oh Expressions\n",
    "\n",
    "- $O(1)$ At most constant time, i.e. not dependent on the size of the input.\n",
    "\n",
    "- $O(\\log n)$ At most a constant times the logarithm of the input size.\n",
    "\n",
    "- $O(n)$ At most proportional to $n$.\n",
    "\n",
    "- $O(n \\log n)$ At most a constant times $n$ times the logarithm of $n$.\n",
    "\n",
    "- $O(n^2)$ At most a constant times the square of $n$.\n",
    "\n",
    "- $O(n^3)$ At most a constant times the cube of $n$.\n",
    "\n",
    "- $O(2^n)$ At most exponential to $n$. \n",
    "\n",
    "They are ordered from fastest ($O(1)$) to slowest ($O(2^n)$)."
   ]
  },
  {
   "cell_type": "markdown",
   "metadata": {},
   "source": [
    "## Linear Search\n",
    "\n",
    "\n",
    "Problem: Find $x$ in list with $N$ elements\n",
    "\n",
    "- Basic Idea: Sequential search"
   ]
  },
  {
   "cell_type": "code",
   "execution_count": 73,
   "metadata": {},
   "outputs": [],
   "source": [
    "def search(X, lst): \n",
    "   for n in lst:        # O(N)\n",
    "      if n == X:        # O(1) executed N times\n",
    "         return True\n",
    "   return False"
   ]
  },
  {
   "cell_type": "markdown",
   "metadata": {},
   "source": [
    "- We must check every element in the list -> $O(N)$  where N is the list/array size.\n",
    "\n",
    "Q: Do we have better algorithms?\n",
    "\n",
    "A: No, not for an arbitrary list (in a single-core machine)."
   ]
  },
  {
   "cell_type": "markdown",
   "metadata": {},
   "source": [
    "## Binary Search\n",
    "\n",
    "*Problem:* Find $n$ in list with $N$ elements\n",
    "\n",
    "- *Assumption* The list is sorted\n",
    "\n",
    "- Basic idea: Look at the middle element $m = arr[M]$\n",
    "\n",
    "    - If `n = m` , return `True`\n",
    "    - If `n < m` , repeat search in `[0,M-1]`\n",
    "    - If `n > m` , repeat search in `[M+1,N]`\n",
    "\n"
   ]
  },
  {
   "cell_type": "markdown",
   "metadata": {},
   "source": [
    "\n",
    "- Each \"search\" halves the problem\n",
    "\n",
    "- -> $T(N) = T(N/2) + O(1)$\n",
    "\n",
    "- $n$ not in list -> empty list in next search\n",
    "\n",
    "```\n",
    "Find 8 i [1,3,5,7,8,9,10] ==> middle element is 7 ==> \n",
    "Find 8 i [8,9,10] ==> middle element is 9 ==> \n",
    "Find 8 i [8] ==> OK!\n",
    "```\n",
    "\n",
    "- Much faster than linear search -> Might be worth sorting the list if searched many times.\n",
    "\n"
   ]
  },
  {
   "cell_type": "markdown",
   "metadata": {},
   "source": [
    "## Binary Search\n",
    "\n",
    "- Steps (time) required to search list of different sizes\n",
    "\n",
    "- Size: 1  -> Time $=$ 1\n",
    "- Size: 2  -> Time $=$ 2\n",
    "- Size: 4  -> Time $=$ 3\n",
    "- Size: 8  -> Time $=$ 4\n",
    "- Size: 16  -> Time $=$ 5\n",
    "- Size: 32  -> Time $=$ 6\n",
    "- ...\n",
    "- Size: $2^p$ -> Time $= p+1$\n",
    "\n",
    "---\n",
    "\n",
    "- Thus, $N \\propto 2^t$ (Size as a function of time)\n",
    "- -> $t \\propto \\log_2(N)$ (Time as a function of size)\n",
    "- -> $T(N) = O(\\log_2(N))$\n",
    "\n",
    "In general, an algorithm that halves the problem in a fix number of computations\n",
    "has time-complexity $O(\\log_2(N))$\n"
   ]
  },
  {
   "cell_type": "markdown",
   "metadata": {},
   "source": [
    "## Recursive Binary Search\n"
   ]
  },
  {
   "cell_type": "code",
   "execution_count": 95,
   "metadata": {},
   "outputs": [
    {
     "name": "stdout",
     "output_type": "stream",
     "text": [
      "10 is at position: 3\n"
     ]
    }
   ],
   "source": [
    "\n",
    "def binary_search(lst, low, high, x):\n",
    "    if high < low:  # Element is not present in the list \n",
    "        return False\n",
    "    else: \n",
    "        mid = (high + low) // 2   # Find mid position\n",
    "        if lst[mid] == x: \n",
    "            return mid\n",
    "        elif lst[mid] > x:        # Search lower half\n",
    "            return binary_search(lst, low, mid - 1, x) \n",
    "        else:                     # Search higher half\n",
    "            return binary_search(lst, mid + 1, high, x) \n",
    "  \n",
    "# Program starts \n",
    "arr = [ 2, 3, 4, 10, 40 ] \n",
    "x = 10\n",
    "\n",
    "pos = binary_search(arr, 0, len(arr)-1, x)\n",
    "\n",
    "if pos != False:\n",
    "    print(f'{x} is at position: {pos}')\n",
    "else:\n",
    "    print('Not in list.')\n"
   ]
  },
  {
   "cell_type": "code",
   "execution_count": 80,
   "metadata": {},
   "outputs": [
    {
     "data": {
      "text/plain": [
       "3"
      ]
     },
     "execution_count": 80,
     "metadata": {},
     "output_type": "execute_result"
    }
   ],
   "source": [
    "binary_search(arr, 0, len(arr)-1, x)"
   ]
  },
  {
   "cell_type": "markdown",
   "metadata": {},
   "source": [
    "## Hashing -- A Brief Presentation\n",
    "\n",
    "![](figures/hashing.pdf)\n",
    "\n",
    "\n",
    "\n",
    "- A hash based set implementation\n",
    "\n",
    "Assume table with N *buckets* (A pair position/list)\n",
    "\n",
    "\n",
    "- Associate each element with a hash value (an integer): `element --> int`\n",
    "- Apply hash function (maps hash value to a bucket): `int --> bucket`\n",
    "- Add to the bucket (the list part) if not already added"
   ]
  },
  {
   "cell_type": "markdown",
   "metadata": {},
   "source": [
    "## A hash table for strings\n",
    "\n",
    "**Hashing -- A Concrete Example**\n",
    "\n",
    "- We have a table with 64 *buckets* (current bucket size)\n",
    "- We compute the hash value for a string by summing up the ASCII codes for each character\n",
    "- We use a simple modulus operator (`... % 64`) as our hash function\n",
    "\n",
    "**Example**\n",
    "\n",
    "- Adding `\"Hello\"` -> hash value 500 ($=72+101+108+108+111$) bucket 52 (since `500 % 64 = 52`) -> insert `\"Hello\"` in bucket 52 (if not already added)\n",
    "\n",
    "- Adding `\"Fredrik\"` -> hash value 711 -> bucket 7 (`= 711 % 64`) -> insert `\"Fredrik\"` in bucket 7 (if not already added)\n",
    "\n"
   ]
  },
  {
   "cell_type": "code",
   "execution_count": 136,
   "metadata": {},
   "outputs": [
    {
     "name": "stdout",
     "output_type": "stream",
     "text": [
      "F 70\n",
      "r 114\n",
      "e 101\n",
      "d 100\n",
      "r 114\n",
      "i 105\n",
      "k 107\n",
      "Sum: 711 bucket 7\n"
     ]
    }
   ],
   "source": [
    "sum_=0\n",
    "for i in str('Fredrik'):\n",
    "    sum_ += ord(i)\n",
    "    print(f'{i} {ord(i)}')\n",
    "\n",
    "print(f'Sum: {sum_} bucket {sum_%64}')"
   ]
  },
  {
   "cell_type": "markdown",
   "metadata": {},
   "source": [
    "## Hashing -- Result\n",
    "\n",
    "Assume that:\n",
    "\n",
    "- all elements are evenly distributed across all buckets -> puts demands on the hash values/functions\n",
    "- number of elements $\\approx$ number of buckets -> average bucket size is $\\approx 1$\n",
    "\n",
    "Table access then involves:\n",
    "\n",
    "1. Compute hash value\n",
    "2. Decide which bucket to use\n",
    "3. Search list (of average size 1)\n",
    "\n",
    "**Result:** `add/contains/remove` executes in fix number of steps independent of the number of stored elements -> $O(1)$"
   ]
  },
  {
   "cell_type": "markdown",
   "metadata": {},
   "source": [
    "## Rehashing\n",
    "\n",
    "- Number of elements $\\approx$ number of buckets in order to maintain $O(1)$ for `add/contains/remove`\n",
    "\n",
    "- Hence, number of buckets must increase when we add more elements\n",
    "- This process is called *rehashing*\n",
    "- For example, each time number of elements equals number of buckets\n",
    "\n",
    "- Make a copy of bucket list\n",
    "- Clear bucket list and and make it twice as large\n",
    "- For each element in the copy: add it to enlarged bucket list using the add function\n",
    "- Continue with the enlarged bucket list\n",
    "\n",
    "**NOTICE**\n",
    "\n",
    "- Rehashing only occurs at certain points (when number of elements equals number of buckets)\n",
    "- We double the bucket list size each time -> 100, 200, 400, 800, 1600, 3200, ...\n",
    "- **It is important that you add all elements using the add function to make sure that each of them is inserted in the correct bucket in the new enlarged bucket list.**"
   ]
  },
  {
   "cell_type": "markdown",
   "metadata": {},
   "source": [
    "## Binary Search Trees (BST)\n",
    "\n",
    "- Anything that is stored in a BST must be comparable!\n",
    "- search on a BST is performed in $O(log(n))$ time on average\n",
    "\n",
    "![](figures/first_bst.pdf)\n",
    "\n",
    "- A *tree* consists of *nodes*\n",
    "- The top-most node (4) is called the *root*\n",
    "- *Binary trees* -> a maximum of two children for each node\n",
    "- *Binary search trees* -> left child is always smaller than right child\n",
    "\n",
    "**Question:** Where should 7 be placed?\n",
    "\n",
    "\n"
   ]
  },
  {
   "cell_type": "markdown",
   "metadata": {},
   "source": [
    "\n",
    "## Implementing Binary Search Trees (BST)\n",
    "\n",
    "basic ideas for how to implement \n",
    "a set using binary search tree.\n",
    "\n",
    "- **It is not Python code! (Starting point is Java)**\n",
    "\n",
    "- Each `node` has three attributes: `node.value`, `node.left`, `node.right` storing the node value, and it's left and right child\n",
    "- `node.left` (or `node.right`) equals `null` -> no such child\n",
    "- In a BST based dictionary (map or table) each node would have four attributes:\n",
    "    - `node.key`, `node.value`, `node.left`, `node.right`\n",
    "    - Implementing a BST based map is a part of the mini-project\n",
    "    - Implementing a hashing based set is a part of the mini-project\n"
   ]
  },
  {
   "cell_type": "markdown",
   "metadata": {},
   "source": [
    "## The recursive function `add(node, n)`\n",
    "\n",
    "Add value `n` to the tree. Initially called as `add(root, n)`\n",
    "\n",
    "\n",
    "---\n",
    "\n",
    "*NOTE Java*\n",
    "\n",
    "```java\n",
    "\n",
    "\n",
    "      add(node, n) {  // recursive add\n",
    "         if (n < node.value) {            // add to left branch\n",
    "            if (node.left == null) \n",
    "               node.left = new Node(null,null,n)\n",
    "            else \n",
    "               add(node.left, n)          // Recursive call\n",
    "         }\n",
    "         else if (n > node.value) {       // add to right branch\n",
    "            if (node.right == null)\t\n",
    "               node.right = new Node(null,null,n)\n",
    "            else \n",
    "               add(node.right, n)         // Recursive call\n",
    "         }\n",
    "      }   \n",
    "\n",
    "```\n",
    "\n",
    "- The recursive functions describes what we do in each node\n",
    "- If value n less than current node value:\n",
    "    1. If node has no left child -> attach new node as left child\n",
    "    2. If node has left child -> call \\verb+add+ with left child as input\n",
    "\n",
    "- Note: `n == node.value` -> duplicate element -> we do nothing\n"
   ]
  },
  {
   "cell_type": "markdown",
   "metadata": {},
   "source": [
    "## Binary Search Trees: Two Examples\n",
    "\n",
    "**Example 1:** [22,19,41,52,37,16,12,14,32] and **Example 2:** [37,19,16,12,14,32,41,52,22]\n",
    "\n",
    "![](figures/second_bst.pdf)\n",
    "\n",
    "\n",
    "\n",
    "---\n",
    "\n",
    "\n",
    "**Notice:**\n",
    "- **Error** in first figure! 16 is at wrong position!\n",
    "- Same elements added in different order -> two different trees\n",
    "- No duplicated entries\n",
    "\n",
    "\n",
    "Recursive method for look-up?"
   ]
  },
  {
   "cell_type": "markdown",
   "metadata": {},
   "source": [
    "## The recursive function `contains(node, n)`\n",
    "\n",
    "Returns true if value `n` is in the tree, otherwise false. \n",
    "Initially called as `contains(root, n)`\n",
    "\n",
    "\n",
    "```java\n",
    "\n",
    "     contains(node, n) { // recursive look-up\n",
    "         if (n < node.value) {      // search left branch\n",
    "            if (node.left == null) \n",
    "               return false\n",
    "            else \n",
    "               return contains(node.left, n);\n",
    "         }\n",
    "         else if (n > node.value) { // search right branch\n",
    "            if (right == null)\t\n",
    "               return false\n",
    "            else \n",
    "              return contains(node.right, n);\n",
    "         }\n",
    "         return true;                 // Found!\n",
    "      }\n",
    "```\n",
    "\n",
    "- Similar to `add` but returns false when we find a missing child.\n"
   ]
  },
  {
   "cell_type": "markdown",
   "metadata": {},
   "source": [
    "## Binary Search Trees: Two Examples\n",
    "\n",
    "Ex1: Search for 14, Ex2: Search for 34 \n",
    "\n",
    "\n",
    "![](figures/search_bst.pdf)\n",
    "\n",
    "\n",
    "- Search 14: completed after 4 steps\n",
    "- Search 34: completed after 3 steps\n",
    "\n",
    "- Similar to Binary Search in sorted list\n",
    "- In general: A search in a tree with $N$ elements requires $\\log_2(N)$ steps\n",
    "- Time-Complexity for `add, remove, contains` is $O(\\log_2(N))$\n"
   ]
  },
  {
   "cell_type": "markdown",
   "metadata": {},
   "source": [
    "\n",
    "## Exercise:\n",
    "\n",
    "Find insertion order for `1,2,3,4,5,6,7` that (on average) gives:\n",
    "\n",
    "a) the fastest search?\n",
    "\n",
    "b) the slowest search?"
   ]
  },
  {
   "cell_type": "markdown",
   "metadata": {},
   "source": [
    "## Balanced Trees and Speed\n",
    "\n",
    "\n",
    "---\n",
    "\n",
    "\n",
    "From previous slide: *fastest search: 4,3,5,1,2,6,7, slowest search: 1,2,3,4,5,6,7*\n",
    "\n",
    "\n",
    "\n",
    "- Balanced tree -> uniform tree with minimum depth -> every level of the tree is full\n",
    "- A balanced tree with depth $n$ contains $2^{n+1}-1$ elements\n",
    "- depth $n$ ->  $2^{n+1}-1$ elements can be searched  in $n$ steps\n",
    "\n",
    "    - $n=10$ -> tree size  2047\n",
    "    - $n=15$ -> tree size  65535\n",
    "    - $n=30$ -> tree size  2147483647\n",
    "    - $n=40$ -> tree size 2199023255551 \n",
    "\n",
    "\n",
    "- This is very fast compared to sequential search for larger sets \n",
    "- Microseconds rather than seconds\n",
    "- More advanced BST algorithms (e.g. Red-Black Trees) always keep the tree balanced -> no need to worry about adding elements in a certain order. \n"
   ]
  },
  {
   "cell_type": "code",
   "execution_count": 121,
   "metadata": {},
   "outputs": [
    {
     "data": {
      "text/plain": [
       "40.0"
      ]
     },
     "execution_count": 121,
     "metadata": {},
     "output_type": "execute_result"
    }
   ],
   "source": [
    "import math\n",
    "math.log2(2**40)"
   ]
  },
  {
   "cell_type": "markdown",
   "metadata": {},
   "source": [
    "## Time-complexity for Hashing and BSTs?\n",
    "\n",
    "- Time-complexity for lookup in hash tables and binary search trees?\n",
    "\n",
    "**Hash tables**\n",
    "\n",
    "- Assume number of buckets $\\geq$ number of elements and that elements are evenly distributed over all buckets. \n",
    "- We can then look up an element in three steps\n",
    "\n",
    "1. compute hash value\n",
    "2. identify bucket\n",
    "3. traverse (very short) list\n",
    "\n",
    "-> A fix number of computations (independent of table size) -> $O(1)$\n",
    "\n",
    "**Binary Search Trees**\n",
    "\n",
    "1) Each visited node halves the number of remaining elements, and\n",
    "2) The number of operations performed in each node is fix\n",
    "\n",
    "Very similar to binary search -> $O(\\log_2(N))$\n"
   ]
  },
  {
   "cell_type": "markdown",
   "metadata": {},
   "source": [
    "## `remove(...)`-- A nightmare, dropped!\n",
    "\n",
    "\n",
    "```java\n",
    "\n",
    "   remove(int n) {\n",
    "      if (n<value) {\n",
    "         if (left != null)  left = left.remove(n);\n",
    "      }\n",
    "      else if (n>value) {\n",
    "         if (right != null) right = right.remove(n);\n",
    "      }\n",
    "      else {  // remove this node value\n",
    "         if (left==null) return right;\n",
    "         else if (right==null) return left;\n",
    "         else {                      // The tricky part!\n",
    "            if (right.left == null) {\n",
    "               value = right.value;\n",
    "               right = right.right; }\n",
    "            else \n",
    "               value = right.delete_min();\n",
    "         }\t\t\n",
    "      }\n",
    "      return this;\n",
    "   }\t\n",
    "   int delete_min() {  // more code here ...\n",
    "      if (left.left==null) {\n",
    "         int min = left.value;\n",
    "         left = null;\n",
    "         return min; }\n",
    "      else {\n",
    "         return left.delete_min();\n",
    "      }\n",
    "   }\n",
    "```\n"
   ]
  },
  {
   "cell_type": "markdown",
   "metadata": {},
   "source": [
    "\n",
    "## Example of printing nodes\n",
    "\n",
    "```java\n",
    "\n",
    "      print_tree(node) {\n",
    "         if (node.left != null)      // visit left child\n",
    "            print_tree(node.left)\t\t\t\n",
    "         print(\" \", node.value)      // in-order print value\t\t\t\n",
    "         if (node.right != null)     // visit right child\n",
    "            print_tree(node.right)\n",
    "      }\t\n",
    "```\n",
    "\n",
    "\n",
    "- Apply function on the following tree: What is printed?\n",
    "\n",
    "![](figures/first_bst.pdf)\n"
   ]
  },
  {
   "cell_type": "markdown",
   "metadata": {},
   "source": [
    "## In-order visit\n",
    "\n",
    "![](figures/print.pdf)\n",
    "\n",
    "\n",
    "**Print-out:** `1,2,3,4,5,6,8,9,` -> BST are sorted in principle.\n",
    "\n",
    "**Find min/max:**\n",
    "\n",
    "- Always pick the left-most child -> the lowest added number\n",
    "- Always pick the right-most child -> the highest added number\n"
   ]
  },
  {
   "cell_type": "markdown",
   "metadata": {},
   "source": [
    "## Binary Tree Visiting Strategies\n",
    "\n",
    "**Left-to-Right, In-order**\n",
    "   - visit left subtree (if exist)\n",
    "   - visit node (Do something, e.g., print node value)\n",
    "   - visit right subtree (if exist) \n",
    "\n",
    "and ..\n",
    "\n",
    "\n",
    "**Right-to-Left, Post-order**\n",
    "   - visit right subtree (if exist)\n",
    "   - visit left subtree (if exist) \n",
    "   - visit node"
   ]
  },
  {
   "cell_type": "markdown",
   "metadata": {},
   "source": [
    "- `Left-to-Right, Right-to-Left` -> traversal strategies -> decides in which order we visit the children, a left or right traversal around the tree\n",
    "- `Pre-order, In-order, Post-order` -> decides when we do something in the node -> before (pre), in between (in), or after (post) we visit the children.\n"
   ]
  },
  {
   "cell_type": "markdown",
   "metadata": {},
   "source": [
    "\n"
   ]
  },
  {
   "cell_type": "markdown",
   "metadata": {},
   "source": [
    "- The mini-project starts on Wednesday -> problem task is published in Moodle\n",
    "- Today (later on,  Monday) we will present the project teams.\n",
    "- Each team has three members\n",
    "- The tutoring supervisors are putting together the teams\n",
    "\n",
    "\n",
    "- **Basic ideas:**\n",
    "\n",
    "    - A team consists of students from same program\n",
    "    - Campus students with campus students\n",
    "    - Distance students with distance students\n",
    "    - Kalmar students with Kalmar students\n",
    "\n",
    "---\n",
    "\n",
    "- Thus, we will try to put together students having a similar study situation\n",
    "- Contact your tutoring supervisor if you end up in \"wrong\" team.\n"
   ]
  },
  {
   "cell_type": "code",
   "execution_count": null,
   "metadata": {},
   "outputs": [],
   "source": []
  }
 ],
 "metadata": {
  "kernelspec": {
   "display_name": "Python 3",
   "language": "python",
   "name": "python3"
  },
  "language_info": {
   "codemirror_mode": {
    "name": "ipython",
    "version": 3
   },
   "file_extension": ".py",
   "mimetype": "text/x-python",
   "name": "python",
   "nbconvert_exporter": "python",
   "pygments_lexer": "ipython3",
   "version": "3.8.3"
  }
 },
 "nbformat": 4,
 "nbformat_minor": 4
}
