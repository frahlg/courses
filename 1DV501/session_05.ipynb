{
 "cells": [
  {
   "cell_type": "markdown",
   "metadata": {},
   "source": [
    "# Session 5\n",
    "\n",
    "- 1DV501\n",
    "\n",
    "## Writing Functions"
   ]
  },
  {
   "cell_type": "markdown",
   "metadata": {},
   "source": [
    "- **Writing your own functions**\n",
    "- Parameter passing\n",
    "- Global variables\n",
    "- Default parameters\n",
    "- Organizing one file programs\n",
    "- A separate file with only functions \n",
    "- Recursion (Introduction)\n",
    "- If time permits\n",
    "\n",
    "\n",
    "- Documenting functions\n",
    "- Functions as parameters\n",
    "\n",
    "\n",
    "Reading instructions: 7.1-7.3, 8.1-8.5\n",
    "\n",
    "The important parts are 7.1-7.2, 8.1-8.4"
   ]
  },
  {
   "cell_type": "code",
   "execution_count": null,
   "metadata": {},
   "outputs": [],
   "source": [
    "# Function definition\n",
    "def increment(n):\n",
    "    p = n + 1         # Function body\n",
    "    return p\n"
   ]
  },
  {
   "cell_type": "code",
   "execution_count": null,
   "metadata": {},
   "outputs": [],
   "source": [
    "\n",
    "# Program starts\n",
    "x = 1\n",
    "y = increment(x)  # Call function increment\n",
    "print(x,y)   # Output: 1 2\n",
    "\n",
    "p = 7\n",
    "q = increment(p)  # Call function increment\n",
    "print(p,q)   # Output: 7 8"
   ]
  },
  {
   "cell_type": "markdown",
   "metadata": {},
   "source": [
    "- The code `def increment(...) ...` defines a new function named `increment`\n",
    "- We later **call** this function as `q = increment(p)` \n",
    "- A function must be defined before they are used -> above the code that is using it\n",
    "- Execution starts in the program and jumps temporarily to `increment` each time it is called."
   ]
  },
  {
   "cell_type": "markdown",
   "metadata": {},
   "source": [
    "## A function with no return values"
   ]
  },
  {
   "cell_type": "code",
   "execution_count": null,
   "metadata": {},
   "outputs": [],
   "source": [
    "# Function definition with no return\n",
    "def print_countdown(n):\n",
    "    if n < 1:\n",
    "        print(\"It must be a positive number!\")\n",
    "    else:\n",
    "        for i in range(n,-1,-1):\n",
    "            print(i, end=\" \")\n",
    "        print()    # line break\n",
    "   "
   ]
  },
  {
   "cell_type": "code",
   "execution_count": null,
   "metadata": {},
   "outputs": [],
   "source": [
    " \n",
    "# Program starts\n",
    "print_countdown(10)     # Output: 10 9 8 7 6 5 4 3 2 1\n",
    "print_countdown(-1)     # Output: It must be a positive number!"
   ]
  },
  {
   "cell_type": "markdown",
   "metadata": {},
   "source": [
    "- The variable `n` in the function definition is called a *parameter*\n",
    "- The values used the call (10 and -1) are called *arguments*\n",
    "- A function can have zero or more return values. The example above has zero return values."
   ]
  },
  {
   "cell_type": "markdown",
   "metadata": {},
   "source": [
    "## Multiple parameters and return values"
   ]
  },
  {
   "cell_type": "code",
   "execution_count": null,
   "metadata": {},
   "outputs": [],
   "source": [
    "# Function with multiple parameter values\n",
    "def add_all(a, b, c):\n",
    "    return a+b+c \n",
    "\n",
    "# Function with multiple return values\n",
    "def increase_decrease(n):\n",
    "    a = n + 1\n",
    "    b = n - 1\n",
    "    return a, b     # Return two values\n"
   ]
  },
  {
   "cell_type": "code",
   "execution_count": null,
   "metadata": {},
   "outputs": [],
   "source": [
    "\n",
    "# Program starts\n",
    "x = add_all(1,2,3)            # x = 6\n",
    "p, q = increase_decrease(x)   # Take care of two return values\n",
    "print(p, q)                   # Output: 7 5"
   ]
  },
  {
   "cell_type": "markdown",
   "metadata": {},
   "source": [
    "- Function `add_all` has three parameters and one return value\n",
    "- Function `increase_decrease` has one parameter and two return values \n",
    "- Returning two values -> handle the return values using a multi-assignment `p, q = increase_decrease(x)` "
   ]
  },
  {
   "cell_type": "markdown",
   "metadata": {},
   "source": [
    "## Functions - Rules\n",
    "\n",
    "\n",
    "- The `def` keyword marks the beginning of the function’s definition\n",
    "- Each functions has a name that we later on use to call it\n",
    "- A function may have zero or more parameters\n",
    "- A function with N parameters requires N arguments when called\n",
    "- The function body (`block` in figure above) makes use of the parameters to compute and return zero or more results\n",
    "- Keyword `return` -> function execution stops (and returns to the call site)\n",
    "- Functions must be defined before (in the code) they are called\n",
    "- Two functions in one file can not have the same name \\ra no function overriding\n",
    "\n"
   ]
  },
  {
   "cell_type": "markdown",
   "metadata": {},
   "source": [
    "## Functions - Best practice\n",
    "\n",
    "\n",
    "- Functions are named in the same way as variables. That is, they start with a lower case letter and words are separated by an underscore.\n",
    "     \n",
    "- \\textbf{Try to make your methods reusable}. They should do one thing, and they should do it in a good way. Example: The function `sort_and_print(...)` should probably be split into functions `sort(...)` and `print(...)` since it is much more likely that each one of the shorter functions can be reused later on\n",
    "- When to use functions?\n",
    "    \\begin{itemize}\n",
    "    \\footnotesize\n",
    "- When your program starts to get too long \\ra divide it into smaller parts \\ra divide into functions\n",
    "- When you repeat the same type of computations many times \\ra make a function of the computation and call it many times.\\\\\n",
    "    Advantages: Shorter code and easier to update function (than multiple occurrences of similar code) when error in computation discovered.\n",
    "- Functions are name given computations \\ra makes program easier to understand. For example, consider a function `is_prime_number(n)`, the name says that we check if a given number is a prime number.\n"
   ]
  },
  {
   "cell_type": "markdown",
   "metadata": {},
   "source": [
    "## Parameter passing and local variables"
   ]
  },
  {
   "cell_type": "code",
   "execution_count": null,
   "metadata": {},
   "outputs": [],
   "source": [
    "def add_one(n):\n",
    "    n = n + 1\n"
   ]
  },
  {
   "cell_type": "code",
   "execution_count": null,
   "metadata": {},
   "outputs": [],
   "source": [
    "# Program starts\n",
    "a = 10\n",
    "add_one(a)\n",
    "print(a)\n",
    "\n",
    "n = 5\n",
    "add_one(n)\n",
    "print(n)"
   ]
  },
  {
   "cell_type": "markdown",
   "metadata": {},
   "source": [
    "- Q: What is printed in the two cases?\n",
    "\n",
    "\n",
    "----\n",
    "\n",
    "- Parameter `n` in function `add_one` is a local variable -> not same `n` as in the program below \n",
    "- At the call `add_one(n)`, parameter `n` inside `add_one`  is assigned the value 5 and updates it. However, the update has no effect on the program since `n` is not the same variable as the program variables `n` and `a`. \n",
    "- Parameters and variables defined inside a function are **local** to that function \\ra they are not the same parameters/variables that are used in other functions or in the main program."
   ]
  },
  {
   "cell_type": "markdown",
   "metadata": {},
   "source": [
    "## Local variables\n",
    "\n",
    "1. Parameters and variables defined inside a function are **local** to that function they are not the same parameters/variables that are used in other functions or in the main program the same parameter/variable name can be used in different functions without any conflict.\n",
    "\n",
    "2. The memory required to store a local variable is used only when the variable function is executed.\n",
    " - When the program’s execution leaves the function, the memory for that variable is freed up. \n",
    " \n",
    "*Property 1* is very import for practical reasons, *property 2* is only import for very large programs (or in programs with very many function calls). "
   ]
  },
  {
   "cell_type": "markdown",
   "metadata": {},
   "source": [
    "## Global variables (1)\n",
    "\n"
   ]
  },
  {
   "cell_type": "code",
   "execution_count": null,
   "metadata": {},
   "outputs": [],
   "source": [
    "# Introduce two global variables\n",
    "n1 = 0\n",
    "n2 = 0\n",
    "\n",
    "def get_input():\n",
    "    global n1, n2\n",
    "    n1 = int( input(\"Enter integer 1: \") )  # Update global n1 \n",
    "    n2 = int( input(\"Enter integer 2: \") )\n"
   ]
  },
  {
   "cell_type": "code",
   "execution_count": null,
   "metadata": {},
   "outputs": [],
   "source": [
    "# Program starts\n",
    "get_input()   # Assigns new values to n1 and n2\n",
    "print(f\"Integer 1 is {n1} and Integer 2 is {n1}\")  # Use global n1"
   ]
  },
  {
   "cell_type": "markdown",
   "metadata": {},
   "source": [
    "- Variables defined before any functions are *global variables*\n",
    "- Global variables can be accessed in all functions and in the main program\n",
    "- **Warning:** Global variables makes program hard to read try to avoid them"
   ]
  },
  {
   "cell_type": "code",
   "execution_count": null,
   "metadata": {},
   "outputs": [],
   "source": [
    "z = 'Jag är inne i en funktion.'\n",
    "\n",
    "def whats_in_me():\n",
    "    print(z)\n"
   ]
  },
  {
   "cell_type": "code",
   "execution_count": null,
   "metadata": {},
   "outputs": [],
   "source": [
    "whats_in_me()"
   ]
  },
  {
   "cell_type": "markdown",
   "metadata": {},
   "source": [
    "## Global variables (2)\n",
    "\n"
   ]
  },
  {
   "cell_type": "code",
   "execution_count": null,
   "metadata": {},
   "outputs": [],
   "source": [
    "n = 0  # Global variable n\n",
    "\n",
    "def set_global_1(a):  \n",
    "    global n\n",
    "    n = a   # Updates global variable n\n",
    "def set_global_2(a): \n",
    "    n = a   # Updates local variable n\n",
    "def get_global(): \n",
    "    return n   # Returns global n, no declaration needed\n"
   ]
  },
  {
   "cell_type": "code",
   "execution_count": null,
   "metadata": {},
   "outputs": [],
   "source": [
    "set_global_1(5)\n",
    "print(n)       # Print global n, output: 5"
   ]
  },
  {
   "cell_type": "code",
   "execution_count": null,
   "metadata": {},
   "outputs": [],
   "source": [
    "set_global_2(7)\n",
    "print(n)       # Print global n, output is still 5"
   ]
  },
  {
   "cell_type": "code",
   "execution_count": null,
   "metadata": {},
   "outputs": [],
   "source": [
    "print( get_global() )  # Print current global value ==> Output: 5"
   ]
  },
  {
   "cell_type": "markdown",
   "metadata": {},
   "source": [
    "- To update a global variable inside a function you need to declare it as `global`\n",
    "- Not declared as global -> considered as introducing a new local variable\n",
    "- No need to declare global when only reading a global variable "
   ]
  },
  {
   "cell_type": "markdown",
   "metadata": {},
   "source": [
    "# Organizing single file programs\n",
    "\n",
    "**Recommended file organization:**\n",
    "\n",
    "### Simplest possible\n",
    " 1. Import statements\n",
    " 2. Global variables\n",
    " 3. Function definitions\n",
    " 4. Program starts\n",
    " \n",
    "*This approach is used so far* \n",
    " \n",
    "or...\n",
    "\n",
    "### Using a main function\n",
    "\n",
    " 1. Import statements\n",
    " 2. Global variables\n",
    " 3. Function definitions\n",
    " 4. A function `main()` containing the program\n",
    " 5. A call to `main()` to start the program\n",
    " \n",
    "*This approach sometimes used in the textbook*\n",
    "\n",
    "---\n",
    "Motivation for using `main()`:\n",
    "\n",
    "- Functions help to organize our code.\n",
    "- The name `main` for the controlling function is arbitrary but traditional; several other popular programming languages (C, C``, Java, C#, Objective-C) require such a function and require it to be named main.\n"
   ]
  },
  {
   "cell_type": "markdown",
   "metadata": {},
   "source": [
    "## The `main()` function approach"
   ]
  },
  {
   "cell_type": "code",
   "execution_count": null,
   "metadata": {},
   "outputs": [],
   "source": [
    "def increase(n):\n",
    "    return n + 1\n",
    "\n",
    "def decrease(n):\n",
    "    return n - 1\n",
    "\n",
    "def main():      # Function representing program\n",
    "    p = 7\n",
    "    p = increase(p)\n",
    "    p = increase(p)\n",
    "\n",
    "    q = 7\n",
    "    q = decrease(q)\n",
    "    \n",
    "    print(p, q) "
   ]
  },
  {
   "cell_type": "code",
   "execution_count": null,
   "metadata": {},
   "outputs": [],
   "source": [
    "main()"
   ]
  },
  {
   "cell_type": "markdown",
   "metadata": {},
   "source": [
    "**Note:** Feel free to use the `main()` function approach. No need for doing it in simple/short programs as long as the code is easy to read."
   ]
  },
  {
   "cell_type": "markdown",
   "metadata": {},
   "source": [
    "## Default Parameters (1)\n",
    "\n",
    "- Python allows us to give certain parameters a default value -> values to be used if parameter not used\n"
   ]
  },
  {
   "cell_type": "code",
   "execution_count": null,
   "metadata": {},
   "outputs": [],
   "source": [
    "# Prints all integers in range [n,m] on a single line\n",
    "def print_range(n = 0, m = 5):\n",
    "    for i in range(n, m + 1):\n",
    "        print(i, end=\" \")"
   ]
  },
  {
   "cell_type": "code",
   "execution_count": null,
   "metadata": {},
   "outputs": [],
   "source": [
    "print_range()       # Use default values ==> 0 1 2 3 4 5"
   ]
  },
  {
   "cell_type": "code",
   "execution_count": null,
   "metadata": {},
   "outputs": [],
   "source": [
    "print_range(6, 10)  # Non-default values ==> 6 7 8 9 10"
   ]
  },
  {
   "cell_type": "code",
   "execution_count": null,
   "metadata": {},
   "outputs": [],
   "source": [
    "print_range(3)      # n = 3, m = 5 ==>  3 4 5 "
   ]
  },
  {
   "cell_type": "markdown",
   "metadata": {},
   "source": [
    "- The function parameters default values are `n = 0, m = 5`\n",
    "- Call `print_range()` -> both default values are used\n",
    "- Call `print_range(6, 10)` -> overrides default values -> defaults are not used  \n",
    "- Call `print_range(3)` -> overrides 1st default, 2nd default values is used  "
   ]
  },
  {
   "cell_type": "markdown",
   "metadata": {},
   "source": [
    "## Default Parameters (2)\n",
    "\n",
    "\n"
   ]
  },
  {
   "cell_type": "code",
   "execution_count": null,
   "metadata": {},
   "outputs": [],
   "source": [
    "def print_range(n, m = 5):    # Only 2nd parameter has default value - OK!\n",
    "    for i in range(n, m + 1):\n",
    "        print(i, end=\" \")"
   ]
  },
  {
   "cell_type": "code",
   "execution_count": null,
   "metadata": {},
   "outputs": [],
   "source": [
    "def print_range(n = 0, m): # Only 1st parameter has default value - Error!\n",
    "    for i in range(n, m + 1):\n",
    "        print(i, end=\" \")"
   ]
  },
  {
   "cell_type": "markdown",
   "metadata": {},
   "source": [
    "- A parameter with a default value is called a *default parameter*\n",
    "- A function can have any number of default parameters\n",
    "- However, the default parameters must come in the end of the parameter list\n",
    "- A default parameter (`n = 0`) can not be followed by non-default parameter (`m`)"
   ]
  },
  {
   "cell_type": "markdown",
   "metadata": {},
   "source": [
    "## Using multiple `.py`-files\n",
    "\n",
    "- Dividing your program into several files is simple:\n",
    "\n",
    "My library (or module) file `B.py`\n",
    "\n",
    "```python\n",
    "def increase(n):\n",
    "    return n ` 1\n",
    "\n",
    "def decrease(n):\n",
    "    return n - 1\n",
    "```\n",
    "\n",
    "\n",
    "- Simple library (or module) -> a collection of functions\n",
    "- Functions can be re-used in many programs\n",
    "- **The library file must be in the same directory as the program** for this simple approach to work\n",
    "- A necessary approach when your program gets larger \n"
   ]
  },
  {
   "cell_type": "markdown",
   "metadata": {},
   "source": [
    "### Using functions in `B.py` (Version 1)"
   ]
  },
  {
   "cell_type": "code",
   "execution_count": null,
   "metadata": {},
   "outputs": [],
   "source": [
    "import B   # Make all functions in B available\n",
    "\n",
    "p = 7\n",
    "p = B.increase(p)  # B must be referenced\n",
    "p = B.increase(p) \n",
    "p = B.decrease(p)"
   ]
  },
  {
   "cell_type": "code",
   "execution_count": null,
   "metadata": {},
   "outputs": [],
   "source": [
    "print(p)"
   ]
  },
  {
   "cell_type": "markdown",
   "metadata": {},
   "source": [
    "### Using functions in `B.py` (Version 2)"
   ]
  },
  {
   "cell_type": "code",
   "execution_count": null,
   "metadata": {},
   "outputs": [],
   "source": [
    "from B import increase, decrease \n",
    "\n",
    "p = 7\n",
    "p = increase(p)   # No need to reference B\n",
    "p = increase(p)\n",
    "p = decrease(p)"
   ]
  },
  {
   "cell_type": "code",
   "execution_count": null,
   "metadata": {},
   "outputs": [],
   "source": [
    "print(p)\n"
   ]
  },
  {
   "cell_type": "markdown",
   "metadata": {},
   "source": [
    "## Programming example `has_XandY(str)`\n",
    "\n",
    "\n",
    "- Inside a file `xandy.py`, write a function `has_XandY(str)` returning `True` if the inp_ut string str contains both the upper case letters X and X (and False otherwise).\n",
    "    - That is, the strings `abbX`, `aYbx`, and `YYYY` should all return `False` whereas:\n",
    "    - `YbbX`, `XXYYXX`, and `XYlofon` should all return `True`.\n",
    "    \n",
    "    \n",
    "- Also,  inside file `xandy.py`, present a short program that demonstrates how the function can be used.\n"
   ]
  },
  {
   "cell_type": "markdown",
   "metadata": {},
   "source": [
    "## Solution: `has_XandY(str)`\n"
   ]
  },
  {
   "cell_type": "code",
   "execution_count": null,
   "metadata": {},
   "outputs": [],
   "source": [
    "\n",
    "def has_XandY(str):\n",
    "    x, y = False, False\n",
    "    for c in str:        # For each character in string\n",
    "        if c == 'X':\n",
    "            x = True\n",
    "        elif c == 'Y':\n",
    "            y = True\n",
    "    return x and y       # Both must be true\n",
    "\n",
    "def test_and_print(s):\n",
    "    if has_XandY(s):\n",
    "        print(s, \"contains both X and Y\")\n",
    "    else:\n",
    "        print(s, \"doesn't contain both X and Y\")\n"
   ]
  },
  {
   "cell_type": "code",
   "execution_count": null,
   "metadata": {},
   "outputs": [],
   "source": [
    "has_XandY('XY')"
   ]
  },
  {
   "cell_type": "code",
   "execution_count": null,
   "metadata": {},
   "outputs": [],
   "source": [
    "test_and_print('b')"
   ]
  },
  {
   "cell_type": "markdown",
   "metadata": {},
   "source": [
    "## Recursion - An introduction\n",
    "\n",
    "Recursion: A solution to a problem based on a smaller (but similar) problem.\n",
    "\n",
    "\n",
    "**Example:** The sum of all integers in range 1 to n\n",
    "\n",
    "$S(n) =\\sum_{i=1}^n i = 1 + 2 + 3 + \\cdots $"
   ]
  },
  {
   "cell_type": "code",
   "execution_count": null,
   "metadata": {},
   "outputs": [],
   "source": [
    "# Computes the sum 1+2+3+...n for any n > 0\n",
    "\n",
    "def sum(n):\n",
    "    s = 0\n",
    "    for i in range(1,n+1):\n",
    "        s = s + i\n",
    "    return s\n"
   ]
  },
  {
   "cell_type": "code",
   "execution_count": null,
   "metadata": {},
   "outputs": [],
   "source": [
    "# Program starts\n",
    "p = sum(100)\n",
    "print(\"The sum 1+2+3+4+...+100 is \", p)"
   ]
  },
  {
   "cell_type": "markdown",
   "metadata": {},
   "source": [
    "## Computing sum using smaller sums\n",
    "$S(n) =\\sum_{i=1}^n i = \\underbrace{1 + 2 + 3 + \\cdots + (n-2) +\n",
    "  (n-1)}_{S(n-1)} + n$\n",
    "  \n",
    "- The problem can be expressed using a smaller problem:  $S(n)= S(n-1) + n$\n",
    "\n",
    "\n",
    "- **Ex:** S(5) = S(4) + 5 \n",
    "    - And moving on ...\n",
    "\n",
    "\n",
    "    - S(4) = S(3) + 4\n",
    "    - S(3) = S(2) + 3\n",
    "    - S(2) = S(1) + 2\n",
    "    - S(1) = S(0) + 1\n",
    "    - S(0) = S(-1) + 0 ???   \n",
    "   "
   ]
  },
  {
   "cell_type": "code",
   "execution_count": null,
   "metadata": {},
   "outputs": [],
   "source": [
    "# WARNING\n",
    "\n",
    "def sum_rec(n):\n",
    "    return n + sum_rec(n-1)"
   ]
  },
  {
   "cell_type": "code",
   "execution_count": null,
   "metadata": {},
   "outputs": [],
   "source": [
    "sum_rec(5)"
   ]
  },
  {
   "cell_type": "markdown",
   "metadata": {},
   "source": [
    "### Recursion limit in Python is 1000, which is the height of the Python interpreter stack!"
   ]
  },
  {
   "cell_type": "markdown",
   "metadata": {},
   "source": [
    " ## Arithmetic Sum: Introducing a Base Case\n",
    "\n",
    "\n",
    "- We need a *base case* to terminate the computation.\n",
    "- We choose to set the base case to $S(1) = 1$\n",
    "    - $S(0) = 0$ would also work.\n",
    "- The base case is expressed as a fact, not referring to any smaller problems.\n",
    "- We now have a **recursive definition**:\n",
    "\n",
    "\\begin{align}\n",
    "S(n) = \\left\\{\n",
    "\\begin{array}{cl}\n",
    "1 & n = 1 (base\\ case) \\\\\n",
    "S(n-1) + n & n \\geq 2  (recursive\\ step) \\\\\n",
    "\\end{array}\n",
    "\\right.\n",
    "\\end{align}\n",
    "\n",
    "- As a recursive Python function\n",
    "    \n",
    "We must find a **base case** -> a case where it all stops!"
   ]
  },
  {
   "cell_type": "code",
   "execution_count": null,
   "metadata": {},
   "outputs": [],
   "source": [
    "# A base case is needed!\n",
    "\n",
    "# Recursive computation 1+2+3+...n for any n > 0\n",
    "def sum_rec(n):\n",
    "    # Base case\n",
    "    if n == 1:\n",
    "        return 1\n",
    "    # Recursive case\n",
    "    else:\n",
    "        return n + sum_rec(n-1)     # A recursive call"
   ]
  },
  {
   "cell_type": "code",
   "execution_count": null,
   "metadata": {},
   "outputs": [],
   "source": [
    "sum_rec(100)"
   ]
  },
  {
   "cell_type": "markdown",
   "metadata": {},
   "source": [
    "- Recursion in practice -> a function calls itself\n",
    "\n",
    "- the function will continue to call itself and repeat its behavior until some condition is met to return a result."
   ]
  },
  {
   "cell_type": "markdown",
   "metadata": {},
   "source": [
    "## Executing recursive sum\n",
    "\n",
    "```\n",
    "sum_rec(5)\n",
    "   sum_rec(4)\n",
    "      sum_rec(3)\n",
    "         sum_rec(2)\n",
    "            sum_rec(1)\n",
    "            return 1                        // base case\n",
    "         return 2 + 1                     (= 3)\n",
    "      return 3 + 3                      (= 6)\n",
    "   return 4 + 6                     (= 10)\n",
    "return 5 + 10                    (= 15)\n",
    "```\n"
   ]
  },
  {
   "cell_type": "markdown",
   "metadata": {},
   "source": [
    "## Recursion\n",
    "\n",
    "- Compute a solution to a problem using a smaller (but similar) problem is called *recursion*.\n",
    "\n",
    "- In general, recursion -> a method calls itself.\n",
    "\n",
    "- In order not to be trapped in an inifinite loop, a base case (at least one) must be part of the definition.\n",
    "\n",
    "- Everything that can be done recursively, can also be done iteratively but not always as easy.\n",
    "\n",
    "- Recursive definitions and algorithms are common in mathematics and computer science.\n",
    "\n",
    "- Well-known problems where recursion helps: Fibonacci numbers, Binary search trees\n"
   ]
  },
  {
   "cell_type": "markdown",
   "metadata": {},
   "source": [
    "## Simple palindrome: A recursive definition\n",
    "\n",
    "- A string is a *simple palindrome* if it has the same text in reverse.\n",
    "- Examples: x, anna, madam, abcdefedcba, yyyyyyyy\n",
    "\n",
    "- A palindrome can be defined as:\n",
    "    - An empty string is a palindrome\n",
    "    - A string with the length 1 is a palindrome.\n",
    "    - A string is a palindrome if the first and last characters are equal, and all characters in between is a palindrome.\n",
    "\n",
    "- 1 and 2 are our base cases\n",
    "- 3 is our recursive step"
   ]
  },
  {
   "cell_type": "code",
   "execution_count": null,
   "metadata": {},
   "outputs": [],
   "source": [
    "# inp_ is text to be checked,\n",
    "# p and q are first and last positions in text\n",
    "\n",
    "def is_palindrome_rec(inp_, p, q):\n",
    "    if q <= p:\n",
    "        return True\n",
    "    elif inp_[p] != inp_[q]:\n",
    "        return False\n",
    "    else:\n",
    "        return is_palindrome_rec(inp_, p+1, q-1)"
   ]
  },
  {
   "cell_type": "code",
   "execution_count": null,
   "metadata": {},
   "outputs": [],
   "source": [
    "# Programs starts\n",
    "s = \"madam\"\n",
    "\n",
    "if is_palindrome_rec(s,0,4):\n",
    "    print(s, \"is a palindrome\")\n",
    "else:\n",
    "    print(s, \"is not a palindrome\")"
   ]
  },
  {
   "cell_type": "markdown",
   "metadata": {},
   "source": [
    "Notice: We must not only call `is_palindrome_rec` with the text to be checked, \n",
    "we must also provide the first and last positions in the text"
   ]
  },
  {
   "cell_type": "markdown",
   "metadata": {},
   "source": [
    "## Recursive helper functions\n",
    "\n",
    "Avoid having to provide (the rather ugly) first and last positions in the text to be checked using a recursive help function\n"
   ]
  },
  {
   "cell_type": "code",
   "execution_count": null,
   "metadata": {},
   "outputs": [],
   "source": [
    "# Help function that initializes the recursive function\n",
    "\n",
    "def is_palindrome(str):\n",
    "    p = 0               # First position\n",
    "    q = len(str) - 1    # Last position\n",
    "    return is_palindrome_rec(str, p, q)"
   ]
  },
  {
   "cell_type": "code",
   "execution_count": null,
   "metadata": {},
   "outputs": [],
   "source": [
    "# Programs starts\n",
    "\n",
    "s = \"King Arthur\"\n",
    "\n",
    "if is_palindrome(s):    # A better looking call\n",
    "    print(s, \"is a palindrome\")\n",
    "else:\n",
    "    print(s, \"is not a palindrome\")"
   ]
  },
  {
   "cell_type": "markdown",
   "metadata": {},
   "source": [
    "- Hence, by introducing a help function we can avoid providing first and last positions in the text to be checked -> a better looking function `is_palindrome`"
   ]
  },
  {
   "cell_type": "markdown",
   "metadata": {},
   "source": [
    "## Example: The Fibonacci Sequence\n",
    "\n",
    "- In the *Fibonacci* sequence the first two numbers are 0 and 1 and the others are the sum of the two previous numbers.\n",
    "\n",
    "```  0, 1, 1, 2, 3, 5, 8, 13, 21, 34, 55, ...```\n",
    "\n",
    "- The next number is found by adding up the two numbers before it\n",
    "\n",
    "\n",
    "![](figures/fibonacci-spiral.svg)\n",
    "\n",
    "- **Exercise:** Write a recursive function `fib(n)` computing the n:th number in the Fibonacci sequence. For example `fib(0) = 0`, `fib(1) = 1`, and `fib(6) = 8`.\n"
   ]
  },
  {
   "cell_type": "code",
   "execution_count": null,
   "metadata": {},
   "outputs": [],
   "source": [
    "def fib(n):\n",
    "    if n == 0:\n",
    "        return 0\n",
    "    elif n == 1:\n",
    "        return 1\n",
    "    else:\n",
    "        return fib(n-1) + fib(n-2)\n"
   ]
  },
  {
   "cell_type": "code",
   "execution_count": null,
   "metadata": {},
   "outputs": [],
   "source": [
    "print( fib(6) )   \n",
    "print( fib(15) ) "
   ]
  },
  {
   "cell_type": "code",
   "execution_count": null,
   "metadata": {},
   "outputs": [],
   "source": [
    "\n",
    "### !!! \n",
    "\n",
    "for i in range(0, 51):\n",
    "    print(i, fib(i) )"
   ]
  },
  {
   "cell_type": "code",
   "execution_count": null,
   "metadata": {},
   "outputs": [],
   "source": [
    "%timeit fib(6)"
   ]
  },
  {
   "cell_type": "code",
   "execution_count": null,
   "metadata": {},
   "outputs": [],
   "source": [
    "%timeit fib(15)"
   ]
  },
  {
   "cell_type": "code",
   "execution_count": null,
   "metadata": {},
   "outputs": [],
   "source": [
    "import time\n",
    "no_ = 34\n",
    "t1 = time.time()\n",
    "print(f'Fibonacci number sequence {no_} is {fib(no_)}. calculated in: {time.time()-t1} seconds')"
   ]
  },
  {
   "cell_type": "code",
   "execution_count": null,
   "metadata": {},
   "outputs": [],
   "source": [
    "%%timeit\n",
    "fib(34)"
   ]
  },
  {
   "cell_type": "markdown",
   "metadata": {},
   "source": [
    "## The First 50 Fibonacci Numbers"
   ]
  },
  {
   "cell_type": "markdown",
   "metadata": {},
   "source": [
    "- Result: The printing goes slower and slower and then dies."
   ]
  },
  {
   "cell_type": "markdown",
   "metadata": {},
   "source": [
    "## Exponential Number of Calls\n",
    "\n",
    "Computing `fib(5)`\n",
    "\n",
    "![](figures/fib-rec.png)\n"
   ]
  },
  {
   "cell_type": "markdown",
   "metadata": {},
   "source": [
    "- fib(5) takes 15 calls to fib(N).\n",
    "- fib(6) takes 25 calls to fib(N).\n",
    "- fib(50) takes an enormous amount of calls to fib(N).\n",
    "- All values between 1 and N -> the number is proportional to $2^N$ -> the computer crashes for $N = 50$."
   ]
  },
  {
   "cell_type": "code",
   "execution_count": null,
   "metadata": {},
   "outputs": [],
   "source": [
    "2**51"
   ]
  },
  {
   "cell_type": "markdown",
   "metadata": {},
   "source": [
    "## This has to be done in another way"
   ]
  },
  {
   "cell_type": "code",
   "execution_count": null,
   "metadata": {},
   "outputs": [],
   "source": [
    "f0, f1  = 0, 1\n",
    "for i in range(2,51):\n",
    "    f = f0 + f1\n",
    "    print(i, f)\n",
    "    f0 = f1\n",
    "    f1 = f"
   ]
  },
  {
   "cell_type": "markdown",
   "metadata": {},
   "source": [
    "## Recursive functions (in general)\n",
    "\n",
    "- A recursive method consists of:\n",
    "\n",
    "    - One or more *base cases* where \"simple\" results are given explicitly.\n",
    "    - One or more recursive rules (or steps) where \"larger\" results are expressed using \"smaller\" results.\n",
    "\n",
    "\n",
    "- We use *recursive rules* until a problem has been reduced to size where a base case can be used.\n",
    "- No base case -> infinite recursion -> program will crash."
   ]
  },
  {
   "cell_type": "markdown",
   "metadata": {},
   "source": [
    "## Crash"
   ]
  },
  {
   "cell_type": "code",
   "execution_count": null,
   "metadata": {},
   "outputs": [],
   "source": [
    "# Start an infinite recursive call\n",
    "def infinite(n):\n",
    "    infinite(n+1)  # No base case ==> will never stop"
   ]
  },
  {
   "cell_type": "code",
   "execution_count": null,
   "metadata": {},
   "outputs": [],
   "source": [
    "# Program starts\n",
    "infinite(0)"
   ]
  },
  {
   "cell_type": "markdown",
   "metadata": {},
   "source": [
    "### If time permits\n",
    "\n",
    "## Function documentation\n",
    "\n",
    "\n"
   ]
  },
  {
   "cell_type": "code",
   "execution_count": null,
   "metadata": {},
   "outputs": [],
   "source": [
    "def gcd(a, b):\n",
    "    \"\"\"The Euclidean algorithm for computing the greatest \n",
    "       common divisor of integers a and b. First presented 300 BC.   \"\"\"\n",
    "\n",
    "    while a != b: \n",
    "        if a > b:\n",
    "            a = a - b\n",
    "        else:\n",
    "            b = b - a\n",
    "    return a\n"
   ]
  },
  {
   "cell_type": "code",
   "execution_count": null,
   "metadata": {},
   "outputs": [],
   "source": [
    "# Program starts\n",
    "p = gcd(60,45)\n",
    "print(p)   # Output: 15"
   ]
  },
  {
   "cell_type": "markdown",
   "metadata": {},
   "source": [
    "- The recommended approach to document a function in Python\n",
    "    is inside `\"\"\" ... \"\"\"` (triple quotes) in the beginning of the function body.\n",
    "- Software tools can extract this information and generate code documentation\n",
    "- One usually document\n",
    "    - a) the purpose of the function\n",
    "    - b) The role of each parameter (value type and what it means)\n",
    "    - c) the return value (value types and what it means)\n",
    "    - d) a reference (if idea taken from someone else)\n"
   ]
  },
  {
   "cell_type": "markdown",
   "metadata": {},
   "source": [
    "## Functions as values\n",
    "\n"
   ]
  },
  {
   "cell_type": "code",
   "execution_count": null,
   "metadata": {},
   "outputs": [],
   "source": [
    "from math import sqrt\n",
    "\n",
    "x = sqrt                   # Assign function sqrt to variable\n",
    "print(x(16), type(x))      # Apply function sqrt using variable x\n",
    "\n",
    "sqrt = 7                   # Redefine sqrt ==> sqrt no ...\n",
    "print(sqrt, type(sqrt))    # longer a function (in this program)"
   ]
  },
  {
   "cell_type": "code",
   "execution_count": null,
   "metadata": {},
   "outputs": [],
   "source": [
    "print = 7           # Redefine print\n",
    "print(\"hello\")      # Error, print function no longer available"
   ]
  },
  {
   "cell_type": "code",
   "execution_count": null,
   "metadata": {},
   "outputs": [],
   "source": [
    "del print"
   ]
  },
  {
   "cell_type": "markdown",
   "metadata": {},
   "source": [
    "- Functions are also a type of values in Python. They can be assigned to variables and used as parameters in calls.\n",
    "- Function names can be redefined -> they lose the original functionality *(Be careful, redefining function names is usually a bad idea.)*"
   ]
  },
  {
   "cell_type": "markdown",
   "metadata": {},
   "source": [
    "## Functions as parameters"
   ]
  },
  {
   "cell_type": "code",
   "execution_count": null,
   "metadata": {},
   "outputs": [],
   "source": [
    "def plus(a, b):\n",
    "    return a + b\n",
    "\n",
    "def minus(a, b):\n",
    "    return a - b\n",
    "\n",
    "def apply_op(a, b, op):   # Expects two numbers and a function \n",
    "    return op(a,b)        # with two parameters as input\n"
   ]
  },
  {
   "cell_type": "code",
   "execution_count": null,
   "metadata": {},
   "outputs": [],
   "source": [
    "\n",
    "# Program starts\n",
    "p = apply_op(6, 3, plus)  # Use plus(a,b) as argument\n",
    "q = apply_op(6, 3, minus) # Use minus(a,b) as argument\n",
    "print(p, q)               # Output: 9 3"
   ]
  },
  {
   "cell_type": "markdown",
   "metadata": {},
   "source": [
    "- The function `apply_op(a, b, op)` expects two numbers and a function with two parameters as input\n",
    "- We call it by providing a two-parameter function (like `plus`) as an argument\n",
    "- An \"advanced\" concept\" that will be used later on, not part of Assignment 2"
   ]
  },
  {
   "cell_type": "markdown",
   "metadata": {},
   "source": [
    "## Programming Example - Multiplication\n",
    "\n",
    "**Exercise:**\n",
    "\n",
    "Write a recursive method `mult(a,b)` that computes the multiplication $a\\cdot b$ with the use of addition. You can assume that both $a$ and $b$ are positive. Add also code that show how the recursive function `mult` can be used."
   ]
  },
  {
   "cell_type": "markdown",
   "metadata": {},
   "source": [
    "## Solution idea\n",
    "\n",
    "\n",
    "\\begin{align}\n",
    "a\\cdot b = \\left\\{\n",
    "\\begin{array}{cl}\n",
    "a & b = 1 (base\\ case) \\\\\n",
    "a + a\\cdot (b-1) & b > 1  (recursive\\ step) \\\\\n",
    "\\end{array}\n",
    "\\right.\n",
    "\\end{align}\n",
    "\n",
    "\n",
    "- The recursive step decreases the value of $b$\n",
    "- Hence, repeat the recursive step until we reach the base case"
   ]
  },
  {
   "cell_type": "markdown",
   "metadata": {},
   "source": [
    "## Solution - Recursive multiplication"
   ]
  },
  {
   "cell_type": "code",
   "execution_count": null,
   "metadata": {},
   "outputs": [],
   "source": [
    "def mult(a,b):\n",
    "    if b == 1:\n",
    "        return a\n",
    "    else:\n",
    "        return a + mult(a,b-1)\n"
   ]
  },
  {
   "cell_type": "code",
   "execution_count": null,
   "metadata": {},
   "outputs": [],
   "source": [
    "# Program starts\n",
    "print( mult(3,7) )\n",
    "print( mult(15,15) )"
   ]
  },
  {
   "cell_type": "markdown",
   "metadata": {},
   "source": [
    "- Recursive solutions are not that hard to understand. However, coming up with the solution idea takes a bit more practice. "
   ]
  },
  {
   "cell_type": "code",
   "execution_count": null,
   "metadata": {},
   "outputs": [],
   "source": [
    "print( mult(3,5))"
   ]
  },
  {
   "cell_type": "markdown",
   "metadata": {},
   "source": [
    "![](figures/recursive-handdraw-mult.png)"
   ]
  },
  {
   "cell_type": "markdown",
   "metadata": {},
   "source": [
    "![](figures/google_recursion.png)\n",
    "\n",
    "And worth looking at:\n",
    "\n",
    "Intro to recursion: https://youtu.be/AfBqVVKg4GE"
   ]
  },
  {
   "cell_type": "code",
   "execution_count": null,
   "metadata": {},
   "outputs": [],
   "source": []
  }
 ],
 "metadata": {
  "kernelspec": {
   "display_name": "Python 3",
   "language": "python",
   "name": "python3"
  },
  "language_info": {
   "codemirror_mode": {
    "name": "ipython",
    "version": 3
   },
   "file_extension": ".py",
   "mimetype": "text/x-python",
   "name": "python",
   "nbconvert_exporter": "python",
   "pygments_lexer": "ipython3",
   "version": "3.8.3"
  }
 },
 "nbformat": 4,
 "nbformat_minor": 4
}
