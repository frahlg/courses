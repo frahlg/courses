{
 "cells": [
  {
   "cell_type": "markdown",
   "metadata": {},
   "source": [
    "\n",
    "# 1DV501: Introduction to programming\n",
    "**Föreläsning 3**\n",
    "### Boolean Expressions and If-statements"
   ]
  },
  {
   "cell_type": "markdown",
   "metadata": {},
   "source": [
    "## Agenda\n",
    "\n",
    "- Boolean Values\n",
    "- Boolean Expressions\n",
    "- Logical Operators\n",
    "- If-statements\n",
    "- String indexing (extra material)\n",
    "- Random number generators (extra material)\n",
    "\n",
    "---\n",
    "\n",
    "- Reading Instructions: Sections 4.1-4.14 in textbook by Halterman\n",
    "- Exercises: Exercises 13-18 in Assignment 1"
   ]
  },
  {
   "cell_type": "markdown",
   "metadata": {},
   "source": [
    "## Control Statements\n",
    "By using control statements the program can choose one execution path out of several possible options or it can repeat a sequence of statements several times.\n",
    "\n",
    "\n",
    "### Until Now:\n",
    "\n",
    "- Sequential execution (from the top and downwards)\n",
    "\n",
    "\n",
    "### Control Statements:\n",
    "\n",
    "- Selective statements: *Choose one execution path out of several possible options*\n",
    "- In Python: if- statements\n",
    "- Iterative (or loop) statements: *Repeat a sequence of statements several times*\n",
    "- In Python: while- and for-statements (Next lecture!)"
   ]
  },
  {
   "cell_type": "markdown",
   "metadata": {},
   "source": [
    "## A first example\n",
    "\n",
    "Assign a Swedish grade (Fail, Pass, or Pass with distinction) to an exam result python\n",
    "\n",
    "```python\n",
    "MIN, MAX, PASS, VG  = 0, 100, 50, 75\n",
    "points = int( input(\"Enter exam result: \") )\n",
    "\n",
    "if points >= 0 and points < PASS:\n",
    "    print(\"Fail\")\n",
    "elif points >= PASS and points < VG:\n",
    "    print(\"Pass\")\n",
    "elif points >= VG and points <= MAX:\n",
    "    print(\"Pass with distinction - Very Good!\")\n",
    "else:\n",
    "    print(\"Invalid exam result: \", points)\n",
    "\n",
    "```\n",
    "\n",
    "\n",
    "### Output:\n",
    "\n",
    "```\n",
    "Enter exam result: 78\n",
    "Pass with distinction - Very Good\n",
    "```\n",
    "\n",
    "Details from this example will be discussed in the following slides"
   ]
  },
  {
   "cell_type": "code",
   "execution_count": 2,
   "metadata": {},
   "outputs": [
    {
     "name": "stdin",
     "output_type": "stream",
     "text": [
      "Enter exam result:  65\n"
     ]
    },
    {
     "name": "stdout",
     "output_type": "stream",
     "text": [
      "Pass\n"
     ]
    }
   ],
   "source": [
    "MIN, MAX, PASS, VG  = 0, 100, 50, 75\n",
    "points = int( input(\"Enter exam result: \") )\n",
    "\n",
    "if points >= 0 and points < PASS:\n",
    "    print(\"Fail\")\n",
    "elif points >= PASS and points < VG:\n",
    "    print(\"Pass\")\n",
    "elif points >= VG and points <= MAX:\n",
    "    print(\"Pass with distinction - Very Good!\")\n",
    "else:\n",
    "    print(\"Invalid exam result: \", points)"
   ]
  },
  {
   "cell_type": "markdown",
   "metadata": {},
   "source": [
    "## Boolean Variables\n",
    "\n",
    "```python\n",
    "a = True\n",
    "print(a, type(a))\n",
    "True <class 'bool'>\n",
    "\n",
    "\n",
    "b = False\n",
    "print(b, type(b))\n",
    "False <class 'bool'>\n",
    "```\n",
    "\n",
    "\n",
    "---\n",
    "\n"
   ]
  },
  {
   "cell_type": "code",
   "execution_count": 4,
   "metadata": {},
   "outputs": [
    {
     "name": "stdout",
     "output_type": "stream",
     "text": [
      "True <class 'bool'>\n"
     ]
    }
   ],
   "source": [
    "a = True\n",
    "print(a, type(a))\n",
    "\n",
    "\n"
   ]
  },
  {
   "cell_type": "markdown",
   "metadata": {},
   "source": [
    "## Boolean Expressions\n",
    "\n",
    "```python\n",
    "a = 10 < 7\n",
    "print(a, type(a))\n",
    "\n",
    "False <class 'bool'>\n",
    "\n",
    "\n",
    "b = 8 != 4\n",
    "print(b, type(b))\n",
    "\n",
    "True <class 'bool'>\n",
    "```\n"
   ]
  },
  {
   "cell_type": "code",
   "execution_count": 5,
   "metadata": {},
   "outputs": [
    {
     "name": "stdout",
     "output_type": "stream",
     "text": [
      "False <class 'bool'>\n"
     ]
    }
   ],
   "source": [
    "a = 10 < 7\n",
    "print(a, type(a))"
   ]
  },
  {
   "cell_type": "code",
   "execution_count": 6,
   "metadata": {},
   "outputs": [
    {
     "data": {
      "text/plain": [
       "True"
      ]
     },
     "execution_count": 6,
     "metadata": {},
     "output_type": "execute_result"
    }
   ],
   "source": [
    "8 is not 4"
   ]
  },
  {
   "cell_type": "markdown",
   "metadata": {},
   "source": [
    "- A boolean variable (typ e bool) can only take the values True or False\n",
    "- We can generate boolean values using comparison op erators like < or != ...\n",
    "- ... or by using logical operators like ```and``` or ```not```"
   ]
  },
  {
   "cell_type": "code",
   "execution_count": 7,
   "metadata": {},
   "outputs": [
    {
     "data": {
      "text/plain": [
       "True"
      ]
     },
     "execution_count": 7,
     "metadata": {},
     "output_type": "execute_result"
    }
   ],
   "source": [
    "b = 1\n",
    "c = 2\n",
    "\n",
    "b < 10 and c < 10"
   ]
  },
  {
   "cell_type": "code",
   "execution_count": 8,
   "metadata": {},
   "outputs": [
    {
     "data": {
      "text/plain": [
       "True"
      ]
     },
     "execution_count": 8,
     "metadata": {},
     "output_type": "execute_result"
    }
   ],
   "source": [
    "b != 2"
   ]
  },
  {
   "cell_type": "markdown",
   "metadata": {},
   "source": [
    "\n",
    "## Boolean expressions\n",
    "\n",
    "```python\n",
    "if points >= 0 and points < 50:\n",
    "    print(\"Fail\")\n",
    "```\n",
    "\n",
    "- ```points >= 0 and points < 5``` is a so-called boolean expression\n",
    "- Boolean expression returns the values ```True``` or ```False```\n",
    "- In an ```if```-statement, the statements after the boolean expression is only executed if the value of the boolean expression is ```True```.\n",
    "\n",
    "### A boolean expression usually consists of:\n",
    "\n",
    "1. Numerical values (such as 17, -100, 3.14) or numeric variables (such as MAX, PI, grade)\n",
    "2. Comparison-operators: ```<, <=, >, >=, ==, !=```\n",
    "3. Logical operators: ```and, or, not```\n",
    "4. Functions returning boolean (Not in this lecture)\n",
    "\n",
    "- **NOTE** The result of a comparison (such as ```points >= 0```) is ```True``` or ```False``` ) consider each boolean expression to be an assertion.\n",
    "\n",
    "\n"
   ]
  },
  {
   "cell_type": "code",
   "execution_count": 12,
   "metadata": {},
   "outputs": [
    {
     "ename": "SyntaxError",
     "evalue": "can't assign to literal (<ipython-input-12-074bbff55c4e>, line 1)",
     "output_type": "error",
     "traceback": [
      "\u001b[0;36m  File \u001b[0;32m\"<ipython-input-12-074bbff55c4e>\"\u001b[0;36m, line \u001b[0;32m1\u001b[0m\n\u001b[0;31m    1 = 1.1\u001b[0m\n\u001b[0m           ^\u001b[0m\n\u001b[0;31mSyntaxError\u001b[0m\u001b[0;31m:\u001b[0m can't assign to literal\n"
     ]
    }
   ],
   "source": [
    "1 = 1.1"
   ]
  },
  {
   "cell_type": "markdown",
   "metadata": {},
   "source": [
    "## Comparison Operators\n",
    "\n",
    "- Python **comparison operators** (also called **relational operators**)\n",
    "\n",
    "| Expression | Meaning |\n",
    "| --- | --- |\n",
    "| ```x == y```| ```True``` if x = y, else ```False```\n",
    "| ```x > y ```| ```True``` if x > y, else ```False```\n",
    "| ```x < y ```| ```True``` if x < y, else ```False```\n",
    "| ```x <= y ```| ```True``` if x = y or x < y, else ```False```\n",
    "| ```x != y ```| ```True``` if x not equal to y, else ```False```\n",
    "\n",
    "\n",
    "- **NOTE** Notice that ```!=``` means *\"not equal to\"* and ```==``` means *\"equal to\"*. Do not mix up the comparison operator ```==``` with the standard assignment operator ```=```\n",
    "\n",
    "\n",
    "---"
   ]
  },
  {
   "cell_type": "markdown",
   "metadata": {},
   "source": [
    "## Logical Operators\n",
    "\n",
    "\n",
    "- **```and```**:\n",
    "\n",
    "    -> ```A``` and ```B``` is ```True``` if both ```A``` and ```B``` are ```True```, otherwise it is ```False```\n",
    "\n",
    "- **```or```**:\n",
    "\n",
    "    -> ```A``` and ```B``` is ```True``` if at least one of ```A``` and ```B``` is ```True```, otherwise it is ```False```\n",
    "    \n",
    "- ***```not```***:\n",
    "\n",
    "    -> ```not A``` negates the logical value, that is ```not A``` is ```True``` if ```A``` is ```False```, and the other way around.\n",
    "    \n",
    "----\n",
    "    \n",
    "     A       B        A and B       A or B     not A\n",
    "     ====    ====     ========     ========    ====\n",
    "     true    true       true         true      false\n",
    "     true    false      false        true      \n",
    "     false   true       false        true      true\n",
    "     false   false      false        false\n",
    "     \n",
    "     \n",
    "----\n",
    "\n",
    "**NOTE** Logical operators can only be applied on Boolean values. Expressions like ```x>1 or 7``` gives an error since 7 is not a boolean value.\n",
    "\n"
   ]
  },
  {
   "cell_type": "markdown",
   "metadata": {},
   "source": [
    "## Tasks: True or false?"
   ]
  },
  {
   "cell_type": "code",
   "execution_count": 64,
   "metadata": {},
   "outputs": [
    {
     "data": {
      "text/plain": [
       "False"
      ]
     },
     "execution_count": 64,
     "metadata": {},
     "output_type": "execute_result"
    }
   ],
   "source": [
    "a = False\n",
    "b = False\n",
    "a and b"
   ]
  },
  {
   "cell_type": "code",
   "execution_count": 17,
   "metadata": {},
   "outputs": [
    {
     "data": {
      "text/plain": [
       "False"
      ]
     },
     "execution_count": 17,
     "metadata": {},
     "output_type": "execute_result"
    }
   ],
   "source": [
    "( 12 > 10 ) and ( 9 < 6 )"
   ]
  },
  {
   "cell_type": "code",
   "execution_count": 14,
   "metadata": {},
   "outputs": [
    {
     "data": {
      "text/plain": [
       "True"
      ]
     },
     "execution_count": 14,
     "metadata": {},
     "output_type": "execute_result"
    }
   ],
   "source": [
    "5 > 4 or 8 < 6"
   ]
  },
  {
   "cell_type": "code",
   "execution_count": 15,
   "metadata": {},
   "outputs": [
    {
     "data": {
      "text/plain": [
       "True"
      ]
     },
     "execution_count": 15,
     "metadata": {},
     "output_type": "execute_result"
    }
   ],
   "source": [
    "7 > 4 or 12 > 8 and 4 < 8"
   ]
  },
  {
   "cell_type": "code",
   "execution_count": 18,
   "metadata": {},
   "outputs": [
    {
     "data": {
      "text/plain": [
       "True"
      ]
     },
     "execution_count": 18,
     "metadata": {},
     "output_type": "execute_result"
    }
   ],
   "source": [
    "6 > 3 and not (5 < 3) and not not (8 > 3)"
   ]
  },
  {
   "cell_type": "code",
   "execution_count": 20,
   "metadata": {},
   "outputs": [
    {
     "data": {
      "text/plain": [
       "False"
      ]
     },
     "execution_count": 20,
     "metadata": {},
     "output_type": "execute_result"
    }
   ],
   "source": [
    "(10 + 20) < (3 + 4 * 5)"
   ]
  },
  {
   "cell_type": "code",
   "execution_count": 21,
   "metadata": {},
   "outputs": [
    {
     "data": {
      "text/plain": [
       "True"
      ]
     },
     "execution_count": 21,
     "metadata": {},
     "output_type": "execute_result"
    }
   ],
   "source": [
    "10 == 20 or 3 + 4 > 5"
   ]
  },
  {
   "cell_type": "code",
   "execution_count": 22,
   "metadata": {},
   "outputs": [
    {
     "data": {
      "text/plain": [
       "True"
      ]
     },
     "execution_count": 22,
     "metadata": {},
     "output_type": "execute_result"
    }
   ],
   "source": [
    "10 != 20 and not (7>5) or 5 >=5"
   ]
  },
  {
   "cell_type": "code",
   "execution_count": 23,
   "metadata": {},
   "outputs": [
    {
     "data": {
      "text/plain": [
       "True"
      ]
     },
     "execution_count": 23,
     "metadata": {},
     "output_type": "execute_result"
    }
   ],
   "source": [
    "# Not recommended\n",
    "\n",
    "10 != 30 and not not not ...\n",
    "not 4 < 2 or not 4 > 2 and ...\n",
    "not not not not...\n",
    "not not 1 != 0 or...\n",
    "5 < 10"
   ]
  },
  {
   "cell_type": "code",
   "execution_count": null,
   "metadata": {},
   "outputs": [],
   "source": []
  },
  {
   "cell_type": "markdown",
   "metadata": {},
   "source": [
    "---\n",
    "\n",
    "- 10 + 20 < 3 + 4 * 5        *(False since 30 > 23)*\n",
    "\n",
    "- 10 == 20 or 3 + 4 >  5     *(True since 7>5 is true)*\n",
    "\n",
    "- 10 != 20 and  not (7>5) or 5 >=5 *(True and False or True ==> True)*\n",
    "\n",
    "---\n",
    "\n",
    "- Different operators have different priorities.\n",
    "- The operators with highest priorities are computed first.\n",
    "\n",
    "- By using parentheses you can change the order.\n",
    "  Ex: `3+4*5` is not equal to `(3+4)*5`\n",
    "- Numerical operators: `*,/` are computed before `+,-` \n",
    "- Logical operators: `not` before  `and` before `or`\n",
    "    1. `not`\n",
    "    2. `and`\n",
    "    3. `or`\n",
    "    \n",
    "    \n",
    "    \n",
    "    \n",
    "- Generally: `NumOP > CompOP > LogOP`"
   ]
  },
  {
   "cell_type": "markdown",
   "metadata": {},
   "source": [
    "## Grades Example Revisited\n",
    "\n",
    "We should now be able to understand all boolean expressions in the grade example\n"
   ]
  },
  {
   "cell_type": "code",
   "execution_count": 25,
   "metadata": {},
   "outputs": [
    {
     "name": "stdin",
     "output_type": "stream",
     "text": [
      "Enter exam result:  200\n"
     ]
    },
    {
     "name": "stdout",
     "output_type": "stream",
     "text": [
      "Invalid exam result:  200\n"
     ]
    }
   ],
   "source": [
    "MIN, MAX, PASS, VG  = 0, 100, 50, 75\n",
    "points = int(input(\"Enter exam result: \"))\n",
    "\n",
    "if points >= 0 and points < PASS:\n",
    "    print(\"Fail\")\n",
    "elif points >= PASS and points < VG:\n",
    "    print(\"Pass\")\n",
    "elif points >= VG and points <= MAX:\n",
    "    print(\"Pass with distinction - Very Good!\")\n",
    "else:\n",
    "    print(\"Invalid exam result: \", points)"
   ]
  },
  {
   "cell_type": "markdown",
   "metadata": {},
   "source": [
    "# If-statements\n",
    "\n",
    "## Example: Simple if statement:\n",
    "\n",
    "```python\n",
    "\n",
    "print(\"Computes A divided by B (A/B)\")\n",
    "a = int(input(\"Please enter A: \"))\n",
    "b = int(input(\"Please enter B: \"))\n",
    "\n",
    "if b != 0:\n",
    "    print(a, \"/\", b, \"=\", a/b)\n",
    "```\n",
    "\n"
   ]
  },
  {
   "cell_type": "code",
   "execution_count": 27,
   "metadata": {},
   "outputs": [
    {
     "name": "stdout",
     "output_type": "stream",
     "text": [
      "Computes A divided by B (A/B)\n"
     ]
    },
    {
     "name": "stdin",
     "output_type": "stream",
     "text": [
      "Please enter A:  5\n",
      "Please enter B:  3\n"
     ]
    },
    {
     "name": "stdout",
     "output_type": "stream",
     "text": [
      "5 / 3 = 1.6666666666666667\n"
     ]
    }
   ],
   "source": [
    "print(\"Computes A divided by B (A/B)\")\n",
    "a = int(input(\"Please enter A: \"))\n",
    "b = int(input(\"Please enter B: \"))\n",
    "\n",
    "if b != 0:\n",
    "    print(a, \"/\", b, \"=\", a/b)"
   ]
  },
  {
   "cell_type": "code",
   "execution_count": 28,
   "metadata": {},
   "outputs": [
    {
     "ename": "ZeroDivisionError",
     "evalue": "division by zero",
     "output_type": "error",
     "traceback": [
      "\u001b[0;31m---------------------------------------------------------------------------\u001b[0m",
      "\u001b[0;31mZeroDivisionError\u001b[0m                         Traceback (most recent call last)",
      "\u001b[0;32m<ipython-input-28-0106664d39e8>\u001b[0m in \u001b[0;36m<module>\u001b[0;34m\u001b[0m\n\u001b[0;32m----> 1\u001b[0;31m \u001b[0;36m5\u001b[0m\u001b[0;34m/\u001b[0m\u001b[0;36m0\u001b[0m\u001b[0;34m\u001b[0m\u001b[0;34m\u001b[0m\u001b[0m\n\u001b[0m",
      "\u001b[0;31mZeroDivisionError\u001b[0m: division by zero"
     ]
    }
   ],
   "source": [
    "5/0"
   ]
  },
  {
   "cell_type": "markdown",
   "metadata": {},
   "source": [
    "- Executes the statement `print(a, \"/\", b, \"=\", a/b` only if the boolean condition `b != ` evaluates to `True`\n",
    "\n",
    "- b = 0 --> no output\n",
    "\n",
    "---"
   ]
  },
  {
   "cell_type": "markdown",
   "metadata": {},
   "source": [
    "## Example: Simple if-else statement"
   ]
  },
  {
   "cell_type": "code",
   "execution_count": 30,
   "metadata": {},
   "outputs": [
    {
     "name": "stdout",
     "output_type": "stream",
     "text": [
      "Computes A divided by B (A/B)\n"
     ]
    },
    {
     "name": "stdin",
     "output_type": "stream",
     "text": [
      "Please enter A:  5\n",
      "Please enter B:  0\n"
     ]
    },
    {
     "name": "stdout",
     "output_type": "stream",
     "text": [
      "B must not be zero!\n"
     ]
    }
   ],
   "source": [
    "print(\"Computes A divided by B (A/B)\")\n",
    "a = int( input(\"Please enter A: \") )\n",
    "b = int( input(\"Please enter B: \") )\n",
    "\n",
    "if b == 0:\n",
    "    print(\"B must not be zero!\")\n",
    "else:\n",
    "    print(a, \"/\", b, \"=\", a/b)"
   ]
  },
  {
   "cell_type": "markdown",
   "metadata": {},
   "source": [
    "\n",
    "- if branch `print(\"B must not be zero!\")` only if `b = 0`, ...`\n",
    "\n",
    "- ...otherwise (in all other cases) uses the else branch `print(a, \"/\", b, \"=\", a/b)`\n",
    "\n",
    "- One branch (if or else) is always executed\n",
    "\n",
    "---"
   ]
  },
  {
   "cell_type": "markdown",
   "metadata": {},
   "source": [
    "## if-else in general\n",
    "\n",
    "```python\n",
    "\n",
    "if \"condition\":\n",
    "    \"if body\"\n",
    "else:\n",
    "    \"else body\"\n",
    "    \n",
    "```\n",
    "\n",
    "- The reserved word `if` begins the if-else statement`\n",
    "- A colon `(:)` must follow the condition`\n",
    "- The reserved word `else` begins the second part of the `if/else` statement. \n",
    "- A colon `(:)` must follow the else.\n",
    "\n"
   ]
  },
  {
   "cell_type": "markdown",
   "metadata": {},
   "source": [
    "## Rules for indentation\n",
    "\n",
    "```python\n",
    "\n",
    "# OK!\n",
    "if n == 1: \n",
    "    print(\"One\")\n",
    "    \n",
    "# OK!\n",
    "if n == 1: print(\"One\")\n",
    "    \n",
    "# Not OK!\n",
    "if n == 1: \n",
    "print(\"One\")\n",
    "\n",
    "```\n",
    "---\n",
    "\n",
    "```python\n",
    "# OK!\n",
    "if n == 1: \n",
    "    n = n + 1  # indent 4\n",
    "    print(\"Increasing n\")\n",
    "    \n",
    "# OK!\n",
    "if n == 1: \n",
    "  n = n + 1  # indent 2\n",
    "  print(\"Increasing n\")\n",
    "    \n",
    "# Not OK!\n",
    "if n == 1: \n",
    "  n = n + 1  # indent 2\n",
    "    print(\"Increasing n\") # indent 4\n",
    "```\n",
    "\n"
   ]
  },
  {
   "cell_type": "code",
   "execution_count": 36,
   "metadata": {},
   "outputs": [
    {
     "name": "stdout",
     "output_type": "stream",
     "text": [
      "ett\n",
      "två\n"
     ]
    }
   ],
   "source": [
    "n = 1\n",
    "\n",
    "if n == 1:\n",
    "    print('ett')\n",
    "    print('två')"
   ]
  },
  {
   "cell_type": "code",
   "execution_count": null,
   "metadata": {},
   "outputs": [],
   "source": [
    "n=1\n",
    "if n == 1:\n",
    "                        print(n)"
   ]
  },
  {
   "cell_type": "code",
   "execution_count": null,
   "metadata": {},
   "outputs": [],
   "source": [
    "n=1\n",
    "if n == 1:\n",
    "                                                            print(n)"
   ]
  },
  {
   "cell_type": "markdown",
   "metadata": {},
   "source": [
    "- The content of an if (or else) body is defined by indentations\n",
    "- All statements must have the same indentation\n",
    "- The bodies must be indented *at least one step*. Some programmers consistently use two, but four is the most popular step size (VSCode tab key gives by default four steps use it!)\n"
   ]
  },
  {
   "cell_type": "markdown",
   "metadata": {},
   "source": [
    "## Multi-choice using if-elif-else\n",
    "\n",
    "- if-elif-else allows us to chose one out several option`\n",
    "\n",
    "- The keyword `elif` is a short version of \"else if\"\n",
    "- Always starts with `if` \"condition\": ...\n",
    "- ... followed by any number of `elif` \"condition\"\n",
    "- ... followed by a single `else:`\n",
    "- The use of `else:` is optional in an if-elif statement\n",
    "- Only the first branch that evaluates to `True` is executed\n"
   ]
  },
  {
   "cell_type": "code",
   "execution_count": 40,
   "metadata": {},
   "outputs": [
    {
     "name": "stdin",
     "output_type": "stream",
     "text": [
      "Please enter a positive integer:  4\n"
     ]
    },
    {
     "name": "stdout",
     "output_type": "stream",
     "text": [
      "A number larger than three:  4\n"
     ]
    }
   ],
   "source": [
    "n = int( input(\"Please enter a positive integer: \") )\n",
    "\n",
    "if n < 1:\n",
    "    print(\"The number must be positive!\")\n",
    "elif n == 1:\n",
    "    print(\"One\")\n",
    "elif n == 2:\n",
    "    print(\"Two\")\n",
    "elif n == 3:\n",
    "    print(\"Three\")\n",
    "else:\n",
    "    print(\"A number larger than three: \", n)\n"
   ]
  },
  {
   "cell_type": "markdown",
   "metadata": {},
   "source": [
    "## Python Simplifications\n",
    "\n",
    "- Python allows us to simplify certain boolean expressions\n"
   ]
  },
  {
   "cell_type": "code",
   "execution_count": 43,
   "metadata": {},
   "outputs": [
    {
     "name": "stdout",
     "output_type": "stream",
     "text": [
      "Fail\n"
     ]
    }
   ],
   "source": [
    "points = 20\n",
    "# From the grades example\n",
    "if points >= 0 and points < PASS:\n",
    "    print(\"Fail\")\n"
   ]
  },
  {
   "cell_type": "code",
   "execution_count": 44,
   "metadata": {},
   "outputs": [
    {
     "name": "stdout",
     "output_type": "stream",
     "text": [
      "Fail\n"
     ]
    }
   ],
   "source": [
    "\n",
    "# Equivalent and simpler\n",
    "if 0 <= points < PASS:\n",
    "    print(\"Fail\")\n"
   ]
  },
  {
   "cell_type": "code",
   "execution_count": 45,
   "metadata": {},
   "outputs": [
    {
     "name": "stdout",
     "output_type": "stream",
     "text": [
      "They are the same\n"
     ]
    }
   ],
   "source": [
    "x, y, z = 1, 1, 1\n",
    "\n",
    "# Are x,y,z all the same?\n",
    "if (x == y) and (y == z):\n",
    "    print(\"They are the same\")"
   ]
  },
  {
   "cell_type": "code",
   "execution_count": 46,
   "metadata": {},
   "outputs": [
    {
     "name": "stdout",
     "output_type": "stream",
     "text": [
      "They are the same\n"
     ]
    }
   ],
   "source": [
    "\n",
    "# Equivalent and simpler\n",
    "if x == y == z:\n",
    "    print(\"They are the same\")"
   ]
  },
  {
   "cell_type": "markdown",
   "metadata": {},
   "source": [
    "- **Case 1**: A logical expression `points >= 0 and points < PASS` is replaced with an interval `0 <= points < PASS`\n",
    "     \n",
    "- **Case 2**: Once again, a simplified expression that can be generalized to multiple variables `a == b == c == d == ....`\n",
    "\n",
    " \n"
   ]
  },
  {
   "cell_type": "code",
   "execution_count": 47,
   "metadata": {},
   "outputs": [
    {
     "name": "stdin",
     "output_type": "stream",
     "text": [
      "Enter exam result:  60\n"
     ]
    },
    {
     "name": "stdout",
     "output_type": "stream",
     "text": [
      "Pass\n"
     ]
    }
   ],
   "source": [
    "MIN, MAX, PASS, VG  = 0, 100, 50, 75\n",
    "points = int( input(\"Enter exam result: \") )\n",
    "\n",
    "if 0 <= points < PASS:\n",
    "    print(\"Fail\")\n",
    "elif PASS <= points < VG:\n",
    "    print(\"Pass\")\n",
    "elif VG <= points <= MAX:\n",
    "    print(\"Pass with distinction - Very Good!\")\n",
    "else:\n",
    "    print(\"Invalid exam result: \", grade)"
   ]
  },
  {
   "cell_type": "markdown",
   "metadata": {},
   "source": [
    "## Nestled example: Odd or even?\n",
    "\n"
   ]
  },
  {
   "cell_type": "code",
   "execution_count": 48,
   "metadata": {},
   "outputs": [
    {
     "name": "stdin",
     "output_type": "stream",
     "text": [
      "Please enter a positive integer: 7\n"
     ]
    },
    {
     "name": "stdout",
     "output_type": "stream",
     "text": [
      "7 is an odd number\n"
     ]
    }
   ],
   "source": [
    "\n",
    "# Check if a number is even or odd\n",
    "n = int(input(\"Please enter a positive integer:\"))\n",
    "\n",
    "if n < 1:  # Check if positive\n",
    "    print(\"The number must be positive!\")\n",
    "else:\n",
    "    if n%2 == 0: # Check if even\n",
    "        print(n, \"is an even number\")\n",
    "    else:\n",
    "        print(n, \"is an odd number\")\n"
   ]
  },
  {
   "cell_type": "markdown",
   "metadata": {},
   "source": [
    "- We have an if-else statement inside the else branch of an outer statement\n",
    "\n",
    "- Statements inside other statements are called *nestled statement*"
   ]
  },
  {
   "cell_type": "markdown",
   "metadata": {},
   "source": [
    "## Nestled Statements\n",
    "\n",
    "- Understanding each control statement by itself is rather easy\n",
    "- Solving problem requiring only one such statement is also often rather easy\n",
    "- However, many problems require multiple nestled control statements\n",
    "\n",
    "\n",
    "```python\n",
    "if n > 0: \n",
    "    if n % 2 == 0:\n",
    "        ...\n",
    "    else:\n",
    "        while n > 10:\n",
    "          ...\n",
    "else:\n",
    "    for i in range(2,6):\n",
    "```\n"
   ]
  },
  {
   "cell_type": "markdown",
   "metadata": {},
   "source": [
    "- Solution with nestled statements --> more complex --> more training needed\n",
    "- Assignment 2 has a large set of problems that *require nestled statements*\n",
    "- `while` and `for` statements will be presented in the next lecture"
   ]
  },
  {
   "cell_type": "markdown",
   "metadata": {},
   "source": [
    "## Conditional Expressions - A Python Shortcut\n",
    "\n"
   ]
  },
  {
   "cell_type": "code",
   "execution_count": 49,
   "metadata": {},
   "outputs": [],
   "source": [
    "a, b = 3, -5\n"
   ]
  },
  {
   "cell_type": "code",
   "execution_count": 53,
   "metadata": {},
   "outputs": [
    {
     "name": "stdout",
     "output_type": "stream",
     "text": [
      "Min is -5\n"
     ]
    }
   ],
   "source": [
    "\n",
    "# Find smallest number\n",
    "if a < b:\n",
    "    min1 = a\n",
    "else:\n",
    "    min1 = b \n",
    "print(\"Min is\", min1)  # Prints -5\n",
    "\n"
   ]
  },
  {
   "cell_type": "code",
   "execution_count": 54,
   "metadata": {},
   "outputs": [
    {
     "name": "stdout",
     "output_type": "stream",
     "text": [
      "Min is -5\n"
     ]
    }
   ],
   "source": [
    "# Equivalent\n",
    "min = a if a < b else b\n",
    "print(\"Min is\", min)"
   ]
  },
  {
   "cell_type": "code",
   "execution_count": 55,
   "metadata": {},
   "outputs": [
    {
     "name": "stdout",
     "output_type": "stream",
     "text": [
      "Min is -5\n"
     ]
    }
   ],
   "source": [
    "# Equivalent\n",
    "print(\"Min is\", a if a < b else b)"
   ]
  },
  {
   "cell_type": "code",
   "execution_count": 56,
   "metadata": {},
   "outputs": [
    {
     "name": "stdout",
     "output_type": "stream",
     "text": [
      "3 is odd\n"
     ]
    }
   ],
   "source": [
    "# Even or odd\n",
    "print(a, \"is\", \"even\" if a % 2 == 0 else \"odd\")"
   ]
  },
  {
   "cell_type": "markdown",
   "metadata": {},
   "source": [
    "## Conditional Expressions (cont.)\n",
    "\n",
    "Conditional expressions like \n",
    "\n",
    "```python\n",
    "min = a if a < b else b\n",
    "\n",
    "or\n",
    "\n",
    "s = \"even\" if a % 2 == 0 else \"odd\"\n",
    "```\n",
    "\n",
    "- is a **short version** of an if-else statement.\n",
    "- The general form is `\"true_expression\" if \"condition\" else \"false_expression`\n",
    "\n",
    "---\n",
    "\n",
    "- It evaluates to `true_expression` if `condition` is `True`\n",
    "- It evaluates to `false_expression` if `condition` is `False`\n",
    "- **Warning:** Use it with care! It is likely to produce code that is hard to read and understand\n",
    "\n",
    "\n",
    "\n"
   ]
  },
  {
   "cell_type": "markdown",
   "metadata": {},
   "source": [
    "## String Indexing\n",
    "\n",
    "```python\n",
    "s = \"Hello Python\"\n",
    "\n",
    "# Characters at positions 0 and 6\n",
    "print(s[0], s[6], type(s[0]))     # Output: H P <class 'str'>\n",
    "\n",
    "sub = s[1:4]  # Positions 1 to 3\n",
    "print(sub, type(sub))        # Output ell <class 'str'>\n",
    "\n",
    "length = len(s)  # String length\n",
    "print(length, type(length))     # Output: 12 <class 'int'>```\n"
   ]
  },
  {
   "cell_type": "code",
   "execution_count": 57,
   "metadata": {},
   "outputs": [
    {
     "name": "stdout",
     "output_type": "stream",
     "text": [
      "H P <class 'str'>\n",
      "ell <class 'str'>\n",
      "12 <class 'int'>\n"
     ]
    }
   ],
   "source": [
    "s = \"Hello Python\"\n",
    "\n",
    "# Characters at positions 0 and 6\n",
    "print(s[0], s[6], type(s[0]))     # Output: H P <class 'str'>\n",
    "\n",
    "sub = s[1:4]  # Positions 1 to 3\n",
    "print(sub, type(sub))        # Output ell <class 'str'>\n",
    "\n",
    "length = len(s)  # String length\n",
    "print(length, type(length))     # Output: 12 <class 'int'>```"
   ]
  },
  {
   "cell_type": "markdown",
   "metadata": {},
   "source": [
    "\n",
    "### String Indexing\n",
    "\n",
    "- `s[6]` select character at position 6\n",
    "- **Warning:** Positions start at position zero \\ra `s[0]` is the first character\n",
    "- `s[1:4]` strings with characters 1 to 3\n",
    "- **Warning:** First position (1) included, final position (4) **not** included \n",
    "- The function `len(...)` gives the length of a string\n"
   ]
  },
  {
   "cell_type": "markdown",
   "metadata": {},
   "source": [
    "## Random Numbers\n",
    "\n",
    "(NB. Pseudo-random, Mersenne Twister is one of the most extensively tested random number generators in existence. However, being completely deterministic, it is not suitable for all purposes, and is completely unsuitable for cryptographic purposes.)\n",
    "\n",
    "```python\n",
    "import random  # Always at start of programs\n",
    "\n",
    "n1 = random.randint(90,100)  # Random integer in interval [90,100]\n",
    "n2 = random.randint(-10,10)\n",
    "n3 = random.randint(-30,-20)\n",
    "print(n1, n2, n3)\n",
    "\n",
    "f1 = random.uniform(40, 50) # Random float in interval [40.0,50.0]\n",
    "f2 = random.uniform(0, 1)\n",
    "f3 = round( random.uniform(0, 10), 2) # Rounded to two decimals\n",
    "print(f1, f2, f3)\n",
    "```\n",
    "\n",
    "\n",
    "- Random functions are not available by default they must be imported\n",
    "- `import random` makes the `random` module available\n",
    "- `random.randint(90,100)` call function `randint` in module `random`\n",
    "- More about modules and imports later on ...\n"
   ]
  },
  {
   "cell_type": "code",
   "execution_count": 59,
   "metadata": {},
   "outputs": [
    {
     "name": "stdout",
     "output_type": "stream",
     "text": [
      "92 7 -30\n",
      "46.92390214297626 0.9745740547622217 9.67\n"
     ]
    }
   ],
   "source": [
    "import random  # Always at start of programs\n",
    "\n",
    "n1 = random.randint(90,100)  # Random integer in interval [90,100]\n",
    "n2 = random.randint(-10,10)\n",
    "n3 = random.randint(-30,-20)\n",
    "print(n1, n2, n3)\n",
    "\n",
    "f1 = random.uniform(40, 50) # Random float in interval [40.0,50.0]\n",
    "f2 = random.uniform(0, 1)\n",
    "f3 = round( random.uniform(0, 10), 2) # Rounded to two decimals\n",
    "print(f1, f2, f3)"
   ]
  },
  {
   "cell_type": "markdown",
   "metadata": {},
   "source": [
    "## Programming Examples - Duplicates\n",
    "\n",
    "Write a program *duplicates.py* which reads three integers from the keyboard and decides if they contain any duplicate elements or if they are all unique.\n",
    "\n",
    "Execution examples:\n",
    "\n",
    "```\n",
    "Enter three integers A, B, C\n",
    "Enter A: 2\n",
    "Enter B: 5\n",
    "Enter C: 5\n",
    "We have duplicates!\n",
    "\n",
    "Enter three integers A, B, C\n",
    "Enter A: 4\n",
    "Enter B: 6\n",
    "Enter C: 8\n",
    "They are all unique!\n",
    "```\n"
   ]
  },
  {
   "cell_type": "code",
   "execution_count": 60,
   "metadata": {},
   "outputs": [
    {
     "name": "stdout",
     "output_type": "stream",
     "text": [
      "Enter three integers A, B, C\n"
     ]
    },
    {
     "name": "stdin",
     "output_type": "stream",
     "text": [
      "Enter A:  2\n",
      "Enter B:  2\n",
      "Enter C:  2\n"
     ]
    },
    {
     "name": "stdout",
     "output_type": "stream",
     "text": [
      "We have duplicates!\n"
     ]
    }
   ],
   "source": [
    "\n",
    "print(\"Enter three integers A, B, C\")\n",
    "a = int( input(\"Enter A: \") )\n",
    "b = int( input(\"Enter B: \") )\n",
    "c = int( input(\"Enter C: \") )\n",
    "\n",
    "if a == b or b == c or c == a:\n",
    "    print(\"We have duplicates!\")\n",
    "else:\n",
    "    print(\"They are all unique!\")\n"
   ]
  },
  {
   "cell_type": "markdown",
   "metadata": {},
   "source": [
    "## Programming Examples - Dividable\n",
    "\n",
    "Write a program *dividable.py* which reads a positive integer from the keyboard and decides if it is dividable by 3 or 4, **but not both**.\n",
    "\n",
    "Execution examples: \n",
    "\n",
    "```\n",
    "Please provide a positive integer: 8\n",
    "8  is dividable by 4 (but not 3)\n",
    "\n",
    "Please provide a positive integer: 12\n",
    "12 does not fulfill the requirements\n",
    "\n",
    "Please provide a positive integer: -7\n",
    "The number must be positive!\n",
    "```\n"
   ]
  },
  {
   "cell_type": "code",
   "execution_count": 62,
   "metadata": {},
   "outputs": [
    {
     "name": "stdin",
     "output_type": "stream",
     "text": [
      "Please provide a positive integer: 8\n"
     ]
    },
    {
     "name": "stdout",
     "output_type": "stream",
     "text": [
      "8  is dividable by 4 (but not 3)\n"
     ]
    }
   ],
   "source": [
    "### # Read user input\n",
    "n = int( input(\"Please provide a positive integer:\") )\n",
    "\n",
    "if n < 0: # Check for positive\n",
    "    print(\"The number must be positive!\")\n",
    "else: \n",
    "    if n % 3 == 0 and n % 4 != 0: # by 3 but not by 4\n",
    "        print(n, \" is dividable by 3 (but not 4)\")\n",
    "    elif n % 4 == 0 and n % 3 != 0: # by 4 but not by 3\n",
    "        print(n, \" is dividable by 4 (but not 3)\")\n",
    "    else: # Not fulfilling requirements\n",
    "        print(n, \"does not fulfill the requirements\")\n"
   ]
  },
  {
   "cell_type": "markdown",
   "metadata": {},
   "source": [
    "# Course information\n",
    "\n",
    "---\n",
    "\n",
    "- Assignment 1 deadline: **Sunday September 13**\n",
    "\n",
    "---\n",
    "- Campus students must present their A1 solutions at the final tutoring session before the deadline \n",
    "- Distance students will be informed about a video meeting around (short before or after) the deadline\n",
    "- **Important:** Distance students must get in contact with their tutoring supervisor to register as an active distance students.  \n",
    "\n",
    "---\n",
    "\n",
    "### LNU Rule: Non-active students should be unregistered\n",
    "\n",
    "We will consider a student as active if they:\n",
    "\n",
    "   - Campus students that show up and are active (present Assignment 1 solutions)  at tutoring sessions, or\n",
    "   - Distance students that sign up for for video meeting to present their Assignment 1 solutions\n"
   ]
  }
 ],
 "metadata": {
  "kernelspec": {
   "display_name": "Python 3",
   "language": "python",
   "name": "python3"
  },
  "language_info": {
   "codemirror_mode": {
    "name": "ipython",
    "version": 3
   },
   "file_extension": ".py",
   "mimetype": "text/x-python",
   "name": "python",
   "nbconvert_exporter": "python",
   "pygments_lexer": "ipython3",
   "version": "3.8.2"
  }
 },
 "nbformat": 4,
 "nbformat_minor": 4
}
