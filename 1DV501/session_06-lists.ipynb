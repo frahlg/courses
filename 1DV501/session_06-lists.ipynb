{
 "cells": [
  {
   "cell_type": "markdown",
   "metadata": {},
   "source": [
    "# Session 6\n",
    "# 1DV501 Intro to programming\n",
    "\n",
    "\n",
    "\n"
   ]
  },
  {
   "cell_type": "markdown",
   "metadata": {},
   "source": [
    "- Software components are used like hardware components.\n",
    "- A software system can be built largely by assembling pre-existing software building blocks.\n",
    "\n",
    "- The simplest of these is the function (textbook Chapter 6 and Chapter 7)\n",
    "- A more powerful technique uses software objects.\n",
    "\n",
    "**Python is object oriented**\n",
    "\n",
    "- An Object Oriented programming language allows the programmer to define, create, and manipulate objects.\n",
    "- Objects bundle together data and functions. Like other variables, each Python object has a type, or class.\n",
    "- The terms `class` and `type` are synonymous.\n",
    "\n",
    "--- \n",
    "\n",
    "\n",
    "- An `object` is an instance of a `class`\n",
    "`\n",
    "- An object’s data consists of its `instance variables`\n",
    "- object is an instance of a class\n",
    "\n"
   ]
  },
  {
   "cell_type": "code",
   "execution_count": 2,
   "metadata": {},
   "outputs": [],
   "source": [
    "a = 1"
   ]
  },
  {
   "cell_type": "markdown",
   "metadata": {},
   "source": [
    "\n",
    "## Classes and Objects\n",
    "\n",
    "Primitive types (e.g. `int`) have simple values (e.g. 237+)  and operations (e.g. `|+, -, *, /`).\n",
    "\n",
    "Entities like for example a bank account have more complex values, they require a mixture of multiple values to be correctly described\n",
    "\n",
    "- A class is a definition of a more complex type\n",
    "- Values of a class are called objects (or instances of a class)\n",
    "\n",
    "| class bank_account | Object 1 | Object 2 | Object 3 |\n",
    "| --- | --- | --- | ---| \n",
    "| Owner: | Jonas | Henrik | Nils |\n",
    "| No: | 4758-8696  | 3246-9744 | 5432-2347\n",
    "| Balance: | 34.345 kr | 8.456kr | 97.654kr\n",
    "\n",
    "- Classes (e.g. **bank_account** have more complex values(e.g. Jonas, 4758-8696, 34.345kr)\n",
    "- The current values associated with an objects (e.g. Jonas, 4758-8696, 34.345kr) is called the **object state**"
   ]
  },
  {
   "cell_type": "markdown",
   "metadata": {},
   "source": [
    "## Methods\n",
    "\n",
    "- Types like `int` have simple values like `237` and operations like`*+`\n",
    "- Classes have complex values and a set of operators called **methods**\n",
    "- The class `string` has for example a method called `upper()`\n",
    "\n",
    "```python\n",
    "s = \"Hello\"       # \"Hello\" is an object of type/class string\n",
    "\n",
    "s = s.upper()     # Apply method on string object \"Hello\"\n",
    "print(s)          # Output: HELLO\n",
    "```"
   ]
  },
  {
   "cell_type": "code",
   "execution_count": 4,
   "metadata": {},
   "outputs": [
    {
     "name": "stdout",
     "output_type": "stream",
     "text": [
      "HELLO\n"
     ]
    }
   ],
   "source": [
    "s = \"Hello\"       # \"Hello\" is an object of type/class string\n",
    "\n",
    "print(s.upper())     # Apply method on string object \"Hello\"\n"
   ]
  },
  {
   "cell_type": "code",
   "execution_count": 7,
   "metadata": {},
   "outputs": [
    {
     "data": {
      "text/plain": [
       "False"
      ]
     },
     "execution_count": 7,
     "metadata": {},
     "output_type": "execute_result"
    }
   ],
   "source": [
    "s.isdecimal()"
   ]
  },
  {
   "cell_type": "markdown",
   "metadata": {},
   "source": [
    "- A class defines properties of a given type of objects\n",
    "- A class definition (often a separate file) is a bit of code defining:\n",
    "\n",
    "    - Attributes: The data we associate with the class (for example owner, account number, and saldo for a back account)\n",
    "    - Methods: Operations we can do on an object (for example `update_balance` on `bank_account` object)"
   ]
  },
  {
   "cell_type": "markdown",
   "metadata": {},
   "source": [
    "## Method Calls\n",
    "- Classes come with a specific set of operators called **methods**\n",
    "- The methods of class A can only be applied on objects of class A \n",
    "- Methods are called (applied) on variables referencing an object\n",
    "```python\n",
    "s = \"My name is Sir Lancelot of Camelot.\"             \n",
    "print( s.upper() )      \n",
    "```\n"
   ]
  },
  {
   "cell_type": "markdown",
   "metadata": {},
   "source": [
    "- General pattern for a method call\n",
    "\n",
    "![](figures/method_call.png)\n",
    "\n",
    "- object is an expression that represents object, above is a reference to a string object.\n",
    "- The **period**, pronounced **dot**, associates an object expression with the method to be called.\n",
    "- **methodname** is the name of the method to execute.\n",
    "- The **parameterlist** is comma-separated list of parameters to the **method**. For some methods the parameter list may be empty, but the **parentheses always are required**.\n",
    "\n",
    "- In this lecture we look at a few common classes from the Python library\n",
    "- We will *not* create our own classes"
   ]
  },
  {
   "cell_type": "markdown",
   "metadata": {},
   "source": [
    "## String objects and methods\n",
    "\n",
    "### The string class `str`\n",
    "\n",
    "\n",
    "- Strings are objects of a predefined class `str\n",
    "```python\n",
    "print( type(\"What… is your favourite colour?\") )      # Output: <class 'str'>\n",
    "```\n",
    "- We create new string objects using double `\"Hi\"` or single quotes`'Hi'`\n",
    "- The string class `str` has many methods \n",
    "\n",
    "```python\n",
    "\n",
    "s = \"Blue. Right. Off you go.\"  \n",
    "\n",
    "print( s.upper() )           \n",
    "print( s.count(\"l\") )     \n",
    "print( s.find(\"lo\") )      \n",
    "print( s.endswith(\"xxx\") )  \n",
    "print( s.isalpha() )       \n",
    "```\n",
    "\n",
    "- `s.count(\"l\")`  number of \"l\" in string `s`\n",
    "- `s.find(\"lo\")` first position of \"lo\" in string `s`\n",
    "- `s.endswith(\"xxx\"` is `True` if string `s` ends with \"xxx\"\n",
    "- `s.isalpha()` `True` if string `s` only contains letters"
   ]
  },
  {
   "cell_type": "code",
   "execution_count": 12,
   "metadata": {},
   "outputs": [
    {
     "name": "stdout",
     "output_type": "stream",
     "text": [
      "BLUE. RIGHT. OFF YOU GO.\n",
      "2\n",
      "3\n",
      "False\n",
      "False\n",
      "True\n"
     ]
    }
   ],
   "source": [
    "s = \"Blue. Right. Off you go.\"  \n",
    "\n",
    "print( s.upper() )           \n",
    "print( s.count(\"f\") )      \n",
    "print( s.find(\"e.\") )       \n",
    "print( s.endswith(\"xxx\") )   \n",
    "print( s.isalpha() )         \n",
    "\n",
    "s = \"Arthur\"  \n",
    "\n",
    "print( s.isalpha() )         \n",
    "\n",
    "\n"
   ]
  },
  {
   "cell_type": "markdown",
   "metadata": {},
   "source": [
    "## The Python Standard Library\n",
    "\n",
    "- The string class `str` comes with many methods \n",
    "- It is hard to remember all details about all method`\n",
    " \n",
    "- The official documentation for the string class is:\n",
    "- https://docs.python.org/3/library/\n",
    "- The documentation is called the **Python Standard Library**\n",
    "\n",
    "- The website documents all Python's built-in types, classes and functions\n",
    "- Hard reading since designed for professionals\n",
    "- **This documentation (and your IDE) will be your only help at the Python Test** -->Get familiar with it!"
   ]
  },
  {
   "cell_type": "markdown",
   "metadata": {},
   "source": [
    "## Methods vs Built-in Function\n",
    "\n",
    "- Many built-in functions in Python can also be applied on strings\n",
    "\n",
    "```python\n",
    "s = \"abcABC\" \n",
    "\n",
    "print( len(s) )          # Output:6\n",
    "print( min(s) )          # Output: A\n",
    "print( max(s) )          # Output: c\n",
    "print( min(\"aA1\"))       # Output: 1\n",
    "print( min(\"aA 1{\")).    # Output: \" \"   (whitespace)\n",
    "print( max(\"aA 1{\"))     # Output: {\n",
    "```\n",
    "\n",
    "- `min(s)` -> first character in alphabetical order (Returns a character which is alphabetically the lowest character in the string.)\n",
    "- `max(s)` -> last character in alphabetical order\n",
    "- alphabetical order: First digits, than upper case, then lower case, other character are sorted based on their ASCII number\n",
    "- Notice also how built-in functions are applied (e.g. `len(s)`) compared to how methods are applied (e.g. `s.upper()`)"
   ]
  },
  {
   "cell_type": "code",
   "execution_count": 13,
   "metadata": {},
   "outputs": [
    {
     "name": "stdout",
     "output_type": "stream",
     "text": [
      "6\n",
      "A\n",
      "c\n",
      "1\n",
      " \n",
      "{\n"
     ]
    }
   ],
   "source": [
    "s = \"abcABC\" \n",
    "\n",
    "print( len(s) )          \n",
    "print( min(s) )          \n",
    "print( max(s) )          \n",
    "print( min(\"aA1\"))      \n",
    "print( min(\"aA 1{\"))    \n",
    "print( max(\"aA 1{\"))   "
   ]
  },
  {
   "cell_type": "code",
   "execution_count": 14,
   "metadata": {
    "scrolled": true
   },
   "outputs": [
    {
     "name": "stdout",
     "output_type": "stream",
     "text": [
      "53\n",
      " \n",
      "y\n"
     ]
    }
   ],
   "source": [
    "s = 'What is the air-speed velocity of an unladen swallow?'\n",
    "\n",
    "print( len(s) )         \n",
    "print( min(s) )        \n",
    "print( max(s) )         "
   ]
  },
  {
   "cell_type": "code",
   "execution_count": 16,
   "metadata": {},
   "outputs": [
    {
     "data": {
      "text/plain": [
       "97"
      ]
     },
     "execution_count": 16,
     "metadata": {},
     "output_type": "execute_result"
    }
   ],
   "source": [
    "ord('a')"
   ]
  },
  {
   "cell_type": "markdown",
   "metadata": {},
   "source": [
    "### fractions — Rational numbers\n",
    "\n",
    "Source code: Lib/fractions.py\n",
    "\n",
    "https://docs.python.org/3/library/fractions.html\n",
    "\n",
    "The fractions module provides support for rational number arithmetic.\n",
    "\n",
    "A **Fraction instance** can be **constructed** from a pair of integers, from another rational number, or from a string.\n",
    "\n",
    "```\n",
    "class fractions.Fraction(numerator=0, denominator=1)\n",
    "class fractions.Fraction(other_fraction)\n",
    "class fractions.Fraction(float)\n",
    "class fractions.Fraction(decimal)\n",
    "class fractions.Fraction(string)\n",
    "```\n",
    "\n",
    "The first version requires that numerator and denominator are *instances* of numbers. Rational and returns a new Fraction instance with value numerator/denominator. "
   ]
  },
  {
   "cell_type": "code",
   "execution_count": 18,
   "metadata": {},
   "outputs": [
    {
     "data": {
      "text/plain": [
       "Fraction(1, 2)"
      ]
     },
     "execution_count": 18,
     "metadata": {},
     "output_type": "execute_result"
    }
   ],
   "source": [
    "from fractions import Fraction\n",
    "\n",
    "Fraction(0.5)"
   ]
  },
  {
   "cell_type": "markdown",
   "metadata": {},
   "source": [
    "# Fraction objects and methods\n",
    "\n",
    "## The class `Fraction`\n",
    "\n",
    "- The module fractions contains a class Fraction\n",
    "\n",
    "```python\n",
    "from fractions import Fraction\n",
    "\n",
    "f1 = Fraction(1,2)        # Create Fraction object 1/2\n",
    "f2 = Fraction(1,3)\n",
    "fsum = f1+f2              # Store 1/2 + 1/3 in variable fsum \n",
    "\n",
    "print(f1, type(f1))       # Output: 1/2 <class 'fractions.Fraction'>\n",
    "print(fsum)               # Output: 5/6\n",
    "print(fsum.numerator)     # Output: 5\n",
    "print(fsum.denominator)   # Output: 6\n",
    "```\n",
    "\n",
    "- We create a Fraction object 1/2 by calling a method `Fraction(1,2)`\n",
    "- Methods used to create new objects are called **constructors**\n",
    "- Creating a new object of class A using a constructor named A, is the standard approach\n",
    "- `fsum.numerator` is not a method call, we are accessing the **attribute** called `numerator` -> the data values representing the object state\n",
    "\n",
    "https://docs.python.org/3/library/fractions.html\n"
   ]
  },
  {
   "cell_type": "code",
   "execution_count": 19,
   "metadata": {},
   "outputs": [
    {
     "name": "stdout",
     "output_type": "stream",
     "text": [
      "1/2 <class 'fractions.Fraction'>\n",
      "5/6\n",
      "5\n",
      "6\n"
     ]
    }
   ],
   "source": [
    "from fractions import Fraction\n",
    "\n",
    "f1 = Fraction(1,2)        # Create Fraction object 1/2\n",
    "f2 = Fraction(1,3)\n",
    "fsum = f1+f2              # Store 1/2 + 1/3 in variable fsum \n",
    "\n",
    "print(f1, type(f1))       # Output: 1/2 <class 'fractions.Fraction'>\n",
    "print(fsum)               # Output: 5/6\n",
    "print(fsum.numerator)     # Output: 5\n",
    "print(fsum.denominator)   # Output: 6"
   ]
  },
  {
   "cell_type": "code",
   "execution_count": 26,
   "metadata": {},
   "outputs": [
    {
     "data": {
      "text/plain": [
       "5"
      ]
     },
     "execution_count": 26,
     "metadata": {},
     "output_type": "execute_result"
    }
   ],
   "source": [
    "fsum."
   ]
  },
  {
   "cell_type": "markdown",
   "metadata": {},
   "source": [
    "\n",
    "--- \n",
    "\n",
    "`limit_denominator(max_denominator=1000000)`\n",
    "\n",
    "Finds and returns the closest Fraction to self that has denominator at most *max_denominator*.\n",
    "\n",
    "- This method is useful for finding rational approximations to a given floating-point number:\n"
   ]
  },
  {
   "cell_type": "code",
   "execution_count": 27,
   "metadata": {},
   "outputs": [
    {
     "data": {
      "text/plain": [
       "Fraction(22, 7)"
      ]
     },
     "execution_count": 27,
     "metadata": {},
     "output_type": "execute_result"
    }
   ],
   "source": [
    "from fractions import Fraction\n",
    "Fraction('3.1415926535897932').limit_denominator(10)"
   ]
  },
  {
   "cell_type": "code",
   "execution_count": 32,
   "metadata": {},
   "outputs": [
    {
     "data": {
      "text/plain": [
       "Fraction(312689, 99532)"
      ]
     },
     "execution_count": 32,
     "metadata": {},
     "output_type": "execute_result"
    }
   ],
   "source": [
    "from math import pi\n",
    "Fraction(pi).limit_denominator(100000)"
   ]
  },
  {
   "cell_type": "code",
   "execution_count": 30,
   "metadata": {},
   "outputs": [
    {
     "data": {
      "text/plain": [
       "-0.0012644892673496777"
      ]
     },
     "execution_count": 30,
     "metadata": {},
     "output_type": "execute_result"
    }
   ],
   "source": [
    "pi-(22/7)"
   ]
  },
  {
   "cell_type": "code",
   "execution_count": 33,
   "metadata": {},
   "outputs": [
    {
     "name": "stdout",
     "output_type": "stream",
     "text": [
      "123/460\n",
      "1/230\n"
     ]
    }
   ],
   "source": [
    "f1 = Fraction(6,345)\n",
    "f2 = Fraction(53/212)\n",
    "print((f1+f2))\n",
    "print((f1*f2))\n"
   ]
  },
  {
   "cell_type": "code",
   "execution_count": null,
   "metadata": {},
   "outputs": [],
   "source": [
    "Fraction.from_float(0.3) # From Python 3.2 onwards, you can also construct a Fraction instance directly from a float."
   ]
  },
  {
   "cell_type": "markdown",
   "metadata": {},
   "source": [
    "- We introduce class `Fraction` just to show how a typical class is used\n",
    "- Objects in a typical class are created using constructors \n",
    "- String objects created using `\" \"` or `' '` is an exception\n",
    "    - The string object creation (and lists and tuples objects) is simplified since their creation is very common"
   ]
  },
  {
   "cell_type": "markdown",
   "metadata": {},
   "source": [
    "# Working with lists\n",
    "\n",
    "\n",
    "## Data Structures -- Introduction\n",
    "\n",
    "- We often need to handle large sets of data\n",
    "- A *data structure* is a model for storing/handling such data sets\n",
    "- Scenarios where data structures are needed \n",
    "    1. Students in a course\n",
    "    2. Measurements from an experiment\n",
    "    3. Queue to get an apartment at our campus\n",
    "    4. Telephone numbers in Stockholm\n",
    "\n",
    "---\n",
    "\n",
    "- Different scenarios require different data structure properties \n",
    "\n",
    "    1. Data should be ordered\n",
    "    2. Not the same element twice \n",
    "    3. Important that look-up is fast\n",
    "    4. In general: Important that operations X,Y,Z are fast\n",
    "\n",
    "\n",
    "- Selecting data structure is a design decision -> might affect performance, modifiability, and program comprehension.\n",
    "\n",
    "- **Today**: Lists, later on tuples, sets, and dictionaries"
   ]
  },
  {
   "cell_type": "markdown",
   "metadata": {},
   "source": [
    "## Introducing lists\n",
    "\n",
    "```python\n",
    "l = [1,2,3,4,5]             # A list containing 1,2,3,4,5\n",
    "\n",
    "print( l, type(l) )         # Output: [1, 2, 3, 4, 5] <class 'list'>\n",
    "print( l[0], type(l[0]) )   # Output: 1 <class 'int'>\n",
    "```\n",
    "\n",
    "\n",
    "- A list like `[1,2,3,4,5]` is an object of class `list`\n",
    "- We create lists using enclosing square brackets\n",
    "- They represent a sequence of data, each value is called an `element` \n",
    "- We can access individual element using square brackets like `l[0]` \n",
    "\n",
    "- The first position is `0` -> `l[0]` is the first element\n",
    "- `[1,2,3,4,5]` is an integer list, but we can create lists of any type (or with mixed types)\n",
    "- `list` is a built-in type -> no need for any import statemen`\n"
   ]
  },
  {
   "cell_type": "code",
   "execution_count": 37,
   "metadata": {},
   "outputs": [],
   "source": [
    "min_lista = [1,2,546564,3,4.5,'en string']"
   ]
  },
  {
   "cell_type": "code",
   "execution_count": 41,
   "metadata": {},
   "outputs": [
    {
     "name": "stdout",
     "output_type": "stream",
     "text": [
      "[1, 2, 546564, 3, 4.5]\n"
     ]
    }
   ],
   "source": [
    "print(min_lista[:-1])"
   ]
  },
  {
   "cell_type": "code",
   "execution_count": 43,
   "metadata": {},
   "outputs": [],
   "source": [
    "min_andra_lista = [0,2,3,min_lista,f1]"
   ]
  },
  {
   "cell_type": "code",
   "execution_count": 46,
   "metadata": {},
   "outputs": [
    {
     "name": "stdout",
     "output_type": "stream",
     "text": [
      "2\n"
     ]
    }
   ],
   "source": [
    "print(min_andra_lista[3][1])"
   ]
  },
  {
   "cell_type": "markdown",
   "metadata": {},
   "source": [
    "## Manipulating lists\n",
    "\n",
    "```python\n",
    "lst = [1,2,3,4,5]\n",
    "\n",
    "lst[2] = 99                # Replace element at position 2\n",
    "print(lst)                 # Output: [1, 2, 99, 4, 5]\n",
    "\n",
    "# Iterate over all list indices\n",
    "for i in range( len(lst) ):\n",
    "    print( lst[i], end=\" \")         # Output: 1 2 99 4 5\n",
    "print()\n",
    "\n",
    "# Iterate over all list elements\n",
    "for n in lst:\n",
    "    print( n, end=\" \")               # Output: 1 2 99 4 5\n",
    "print()\n",
    "```\n",
    "\n",
    "\n",
    "- We can replace a list element using `lst[2] = 99`\n",
    "- Iteration using indices: `for i in range( len(lst) ):`  \n",
    "- Iteration using element directly: `for n in lst:`\n",
    "\n",
    "---\n",
    "\n"
   ]
  },
  {
   "cell_type": "code",
   "execution_count": 47,
   "metadata": {},
   "outputs": [
    {
     "name": "stdout",
     "output_type": "stream",
     "text": [
      "[1, 2, 99, 4, 5]\n",
      "1 2 99 4 5 \n",
      "1 2 99 4 5 \n"
     ]
    }
   ],
   "source": [
    "lst = [1,2,3,4,5]\n",
    "\n",
    "lst[2] = 99                # Replace element at position 2\n",
    "print(lst)                 # Output: [1, 2, 99, 4, 5]\n",
    "\n",
    "# Iterate over all list indices\n",
    "for i in range( len(lst) ):\n",
    "    print( lst[i], end=\" \")         # Output: 1 2 99 4 5\n",
    "print()\n",
    "\n",
    "# Iterate over all list elements\n",
    "for n in lst:\n",
    "    print( n, end=\" \")               # Output: 1 2 99 4 5\n",
    "print()"
   ]
  },
  {
   "cell_type": "code",
   "execution_count": 48,
   "metadata": {},
   "outputs": [
    {
     "name": "stdout",
     "output_type": "stream",
     "text": [
      "Yes, there is a three\n",
      "And not King Arthur\n"
     ]
    }
   ],
   "source": [
    "my_list = [1,3,4,'Sir Lancelot of Camelot',2.5]\n",
    "\n",
    "if 3 in my_list: print('Yes, there is a three')\n",
    "if not 'King Arthur' in my_list: print('And not King Arthur')\n",
    "if 'Lancelot of Camelot' in my_list: print('And Sir Lancelot of Camelot') # note this"
   ]
  },
  {
   "cell_type": "markdown",
   "metadata": {},
   "source": [
    "## Building lists\n",
    "\n",
    "Python supports several ways of building a list besides enumerating all elements\n",
    "\n",
    "\n",
    "```python\n",
    "odd = [1,3,5]\n",
    "even = [2,4,6]\n",
    "zeros = 3*[0]                # List multiplication \n",
    "\n",
    "lst = odd + even + zeros    # List concatenation*\n",
    "print(lst)        \n",
    "\n",
    "lst += [10]\n",
    "print(lst)        \n",
    "\n",
    "for i in range(100,141,10):\n",
    "    odd += [i]\n",
    "print(odd)        \n",
    "```\n",
    "\n",
    "\n",
    "- Hence, we can construct new lists by adding two (or more) lists\n",
    "- Very much like string concatenation and string multiplication. You will see that strings and lists have a lot of properties in common. \n",
    "\n",
    "\n",
    "*the action of linking things together in a series"
   ]
  },
  {
   "cell_type": "code",
   "execution_count": 49,
   "metadata": {},
   "outputs": [
    {
     "name": "stdout",
     "output_type": "stream",
     "text": [
      "[1, 3, 5, 2, 4, 6, 0, 0, 0]\n"
     ]
    }
   ],
   "source": [
    "odd = [1,3,5]\n",
    "even = [2,4,6]\n",
    "zeros = 3*[0]                # List multiplication \n",
    "\n",
    "lst = odd + even + zeros    # List concatenation*\n",
    "print(lst)       "
   ]
  },
  {
   "cell_type": "code",
   "execution_count": 51,
   "metadata": {},
   "outputs": [
    {
     "name": "stdout",
     "output_type": "stream",
     "text": [
      "[1, 3, 5, 2, 4, 6, 0, 0, 0, 10, 10]\n"
     ]
    }
   ],
   "source": [
    "lst += [10]\n",
    "print(lst) "
   ]
  },
  {
   "cell_type": "code",
   "execution_count": 52,
   "metadata": {},
   "outputs": [
    {
     "name": "stdout",
     "output_type": "stream",
     "text": [
      "[1, 3, 5, 100, 110, 120, 130, 140]\n"
     ]
    }
   ],
   "source": [
    "for i in range(100,141,10):\n",
    "    odd += [i]\n",
    "print(odd)      "
   ]
  },
  {
   "cell_type": "markdown",
   "metadata": {},
   "source": [
    "## Example with list methods\n",
    "\n",
    "- The list class comes with several methods\n",
    "\n",
    "```python\n",
    "animals = ['dog', 'cat', 'rabbit', 'wolf']\n",
    "animals.append('tiger')  # Add 'tiger' at the end of the list\n",
    "print(animals)          \n",
    "\n",
    "animals.insert(0,'fox')  # Insert 'fox' at position 0\n",
    "print(animals)           \n",
    "\n",
    "animals.remove('rabbit') # Remove first instance of 'rabbit'\n",
    "print(animals)           \n",
    "\n",
    "animals.pop(1)          # Remove element at position 1\n",
    "print(animals)           \n",
    "\n",
    "animals.sort()           # Sort alphabetically\n",
    "print(animals)          \n",
    "\n",
    "```\n",
    "\n",
    "- All these methods manipulates (changes) the list content. \n"
   ]
  },
  {
   "cell_type": "code",
   "execution_count": 53,
   "metadata": {},
   "outputs": [
    {
     "name": "stdout",
     "output_type": "stream",
     "text": [
      "['dog', 'cat', 'rabbit', 'wolf', 'tiger']\n",
      "['fox', 'dog', 'cat', 'rabbit', 'wolf', 'tiger']\n",
      "['fox', 'dog', 'cat', 'wolf', 'tiger']\n",
      "['fox', 'cat', 'wolf', 'tiger']\n",
      "['cat', 'fox', 'tiger', 'wolf']\n"
     ]
    }
   ],
   "source": [
    "animals = ['dog', 'cat', 'rabbit', 'wolf']\n",
    "\n",
    "animals.append('tiger')  # Add 'tiger' at the end of the list\n",
    "print(animals)           # ['dog', 'cat', 'rabbit', 'wolf', 'tiger']\n",
    "\n",
    "animals.insert(0,'fox')  # Insert 'fox' at position 0\n",
    "print(animals)           # ['fox', 'dog', 'cat', 'rabbit', 'wolf', 'tiger']\n",
    "\n",
    "animals.remove('rabbit') # Remove first instance of 'rabbit'\n",
    "print(animals)           # ['fox', 'dog', 'cat', 'wolf', 'tiger']\n",
    "\n",
    "animals.pop(1)          # Remove element at position 1\n",
    "print(animals)           # ['fox', 'cat', 'wolf', 'tiger']\n",
    "\n",
    "animals.sort()           # Sort alphabetically\n",
    "print(animals)           # ['cat', 'fox', 'tiger', 'wolf']"
   ]
  },
  {
   "cell_type": "markdown",
   "metadata": {},
   "source": [
    "## More list methods\n",
    "\n",
    "List methods in addition to `append, insert, remove, pop` and `sort`\n",
    "\n",
    "- `count()`: Returns the number of elements in the list\n",
    "- `index()`: Returns the position where n first occurs\n",
    "-  `reverse()`: Reverses the order of the elements in the list\n",
    "-  `copy()`: Returns a copy of the list (a new list)\n",
    "-  `clear()`: Removes all elements from the list\n",
    "- `extend( list 2)`: Appends `list2` to this list"
   ]
  },
  {
   "cell_type": "code",
   "execution_count": 54,
   "metadata": {},
   "outputs": [
    {
     "name": "stdout",
     "output_type": "stream",
     "text": [
      "['cat', 'fox', 'tiger', 'wolf', 'cat', 'fox', 'tiger', 'wolf']\n"
     ]
    }
   ],
   "source": [
    "animals.extend(animals)\n",
    "print(animals)"
   ]
  },
  {
   "cell_type": "code",
   "execution_count": 55,
   "metadata": {},
   "outputs": [
    {
     "data": {
      "text/plain": [
       "2"
      ]
     },
     "execution_count": 55,
     "metadata": {},
     "output_type": "execute_result"
    }
   ],
   "source": [
    "animals.count('cat')"
   ]
  },
  {
   "cell_type": "code",
   "execution_count": 57,
   "metadata": {},
   "outputs": [],
   "source": [
    "animals2 = animals"
   ]
  },
  {
   "cell_type": "code",
   "execution_count": 60,
   "metadata": {},
   "outputs": [
    {
     "data": {
      "text/plain": [
       "'cat'"
      ]
     },
     "execution_count": 60,
     "metadata": {},
     "output_type": "execute_result"
    }
   ],
   "source": [
    "animals.pop(0)"
   ]
  },
  {
   "cell_type": "code",
   "execution_count": 63,
   "metadata": {},
   "outputs": [
    {
     "data": {
      "text/plain": [
       "'fox'"
      ]
     },
     "execution_count": 63,
     "metadata": {},
     "output_type": "execute_result"
    }
   ],
   "source": [
    "animals2.pop(0)"
   ]
  },
  {
   "cell_type": "code",
   "execution_count": 64,
   "metadata": {},
   "outputs": [
    {
     "data": {
      "text/plain": [
       "['tiger', 'wolf', 'cat', 'fox', 'tiger', 'wolf']"
      ]
     },
     "execution_count": 64,
     "metadata": {},
     "output_type": "execute_result"
    }
   ],
   "source": [
    "animals"
   ]
  },
  {
   "cell_type": "code",
   "execution_count": 65,
   "metadata": {},
   "outputs": [],
   "source": [
    "## Why not just assign the list to a new name? Not copy??? \n",
    "\n",
    "animals_copy = animals.copy()\n",
    "\n",
    "## or ?\n",
    "\n",
    "animals2 = animals"
   ]
  },
  {
   "cell_type": "code",
   "execution_count": null,
   "metadata": {},
   "outputs": [],
   "source": []
  },
  {
   "cell_type": "code",
   "execution_count": 66,
   "metadata": {},
   "outputs": [
    {
     "name": "stdout",
     "output_type": "stream",
     "text": [
      "6\n",
      "6\n"
     ]
    }
   ],
   "source": [
    "print(len(animals_copy))\n",
    "print(len(animals2))"
   ]
  },
  {
   "cell_type": "code",
   "execution_count": 67,
   "metadata": {},
   "outputs": [
    {
     "data": {
      "text/plain": [
       "'tiger'"
      ]
     },
     "execution_count": 67,
     "metadata": {},
     "output_type": "execute_result"
    }
   ],
   "source": [
    "animals.pop(4)"
   ]
  },
  {
   "cell_type": "code",
   "execution_count": 68,
   "metadata": {},
   "outputs": [
    {
     "name": "stdout",
     "output_type": "stream",
     "text": [
      "6\n",
      "5\n"
     ]
    }
   ],
   "source": [
    "print(len(animals_copy))\n",
    "print(len(animals2))\n",
    "\n",
    "#By assignment you are getting different names for the same object. "
   ]
  },
  {
   "cell_type": "markdown",
   "metadata": {},
   "source": [
    "## Example starting with an empty list\n",
    "\n",
    "```python\n",
    "from random import randint\n",
    "\n",
    "numbers = []                 # We start with an empty list\n",
    "for i in range(10):\n",
    "    rn = randint(1,100)\n",
    "    numbers.append( rn )     # Append one element at the time\n",
    "print( numbers )             \n",
    "\n",
    "numbers.reverse()            # Reverse order of element\n",
    "print( numbers )             \n",
    "\n",
    "numbers.sort()               # Sort in ascending order\n",
    "print( numbers )             \n",
    "\n",
    "numbers.sort(reverse = True) # Sort in descending order\n",
    "print( numbers )             \n",
    "```\n",
    "\n",
    "- We start with an empty list (`numbers = []`) and add new random numbers one at the time (`numbers.append( rn )`)\n",
    "- By overriding  default `reverse = True` in `sort` we change the sorting order"
   ]
  },
  {
   "cell_type": "code",
   "execution_count": 69,
   "metadata": {},
   "outputs": [
    {
     "name": "stdout",
     "output_type": "stream",
     "text": [
      "Random: \t [1, 78, 86, 99, 74, 47, 45, 62, 44, 84]\n",
      "Reverse: \t [84, 44, 62, 45, 47, 74, 99, 86, 78, 1]\n",
      "Ascending: \t [1, 44, 45, 47, 62, 74, 78, 84, 86, 99]\n",
      "Descending: \t [99, 86, 84, 78, 74, 62, 47, 45, 44, 1]\n"
     ]
    }
   ],
   "source": [
    "from random import randint\n",
    "\n",
    "numbers = []                 # We start with an empty list\n",
    "for i in range(10):\n",
    "    rn = randint(1,100)\n",
    "    numbers.append( rn )     # Append one element at the time\n",
    "print('Random: \\t', numbers )             #\n",
    "\n",
    "\n",
    "numbers.reverse()            # Reverse order of element\n",
    "print('Reverse: \\t', numbers )             #\n",
    "\n",
    "numbers.sort()               # Sort in ascending order\n",
    "print('Ascending: \\t', numbers )             #\n",
    "\n",
    "numbers.sort(reverse = True) # Sort in descending order\n",
    "print('Descending: \\t', numbers )             #\n"
   ]
  },
  {
   "cell_type": "markdown",
   "metadata": {},
   "source": [
    "# Slicing sequences\n",
    "\n",
    "## Sequences\n",
    "\n",
    "Strings and lists are both sequences and have a lot in common \n",
    "\n",
    "### String\n",
    "```python\n",
    "s = \"abcdef\"\n",
    "\n",
    "print( len(s) )       # 5\n",
    "print( max(s) )       # e\n",
    "print( min(s) )       # a\n",
    "print( s[3])          # d\n",
    "print( s[1:3])        # bc\n",
    "\n",
    "for c in s:\n",
    "    print(c, end=\" \") # a b c d e\n",
    "print()\n",
    "```\n",
    "\n",
    "---\n",
    "\n",
    "### List\n",
    "\n",
    "```python\n",
    "a = [1,2,3,4,5,6]\n",
    "\n",
    "print( len(a) )        # 5\n",
    "print( max(a) )        # 5\n",
    "print( min(a) )        # 1\n",
    "print( a[3])           # 4\n",
    "print( a[1:3])         # [2, 3]\n",
    "\n",
    "for n in a:\n",
    "    print(n, end=\" \")  # 1 2 3 4 5\n",
    "print()\n",
    "```\n",
    "\n",
    "\n",
    "- Something that works for strings often works for list.\n",
    "- However, certain things doesn't make sense in both cases, for example\n",
    "    - `split()` doesn't make sense for a list\n",
    "    - `sum()` doesn't make sense for a string\n"
   ]
  },
  {
   "cell_type": "markdown",
   "metadata": {},
   "source": [
    "## Slicing sequences\n",
    "\n",
    "Accessing certain parts using slicing works for all sequences\n",
    "\n",
    "- Accessing certain parts using slicing works for all sequences\n",
    "- Similar to range a slice looks like `[start: stop: step]`\n",
    "- ... where all of them has certain default values\n",
    "- Default values: `start = 0`, `stop = len(...)+1`, `step = 1`\n",
    "- Remember that `stop` is not included when used \n",
    "- Example: Various slices for list `a = [0,1,2,3,4,5,6,7,8,9]`\n",
    "\n",
    "```\n",
    "\n",
    "a[2:5] ==> [2, 3, 4]\n",
    "a[2:9:2] ==> [2, 4, 6, 8]\n",
    "a[6:2:-1] ==> [6, 5, 4, 3]\n",
    "a[:6:] ==> [0, 1, 2, 3, 4, 5]  (Uses default for start and step)\n",
    "a[5::] ==> [5, 6, 7, 8, 9]     (Uses default for stop and step\n",
    "a[::] ==> [0, 1, 2, 3, 4, 5, 6, 7, 8, 9] (All default ==> list copy)\n",
    "a[::-1] ==> [9, 8, 7, 6, 5, 4, 3, 2, 1, 0] (Reverse copy)\n",
    "```\n",
    "\n",
    "- Remember that it also works for strings\n",
    "- `a[::-1]` looks rather cryptic but is frequently used to reverse sequences"
   ]
  },
  {
   "cell_type": "markdown",
   "metadata": {},
   "source": [
    "## Example: Reversing strings\n",
    "\n",
    "- Two variants to reverse a string\n",
    "\n",
    "```python\n",
    "def reverse(s):\n",
    "    rev = \"\"\n",
    "    for c in s:   # Add characters in reverse order\n",
    "        rev = c + rev\n",
    "    return rev\n",
    "\n",
    "# Program starts\n",
    "s = \"Python\"\n",
    "rev1 = reverse(s)  # Call function reverse(s)\n",
    "print(rev1)        \n",
    "\n",
    "rev2 = s[::-1]     # Slicing\n",
    "print(rev2)        \n",
    "```\n",
    "\n",
    "- Version 1: We build a new string by adding the characters in reverse order\n",
    "- Version 2: We apply the slice `s[::-1]` -> the entire string (`start = 0`, `stop = len(s)+1`) in reverse order (`step = -1`)"
   ]
  },
  {
   "cell_type": "code",
   "execution_count": 70,
   "metadata": {},
   "outputs": [],
   "source": [
    "def reverse(s):\n",
    "    rev = \"\"\n",
    "    for c in s:   # Add characters in reverse order\n",
    "        rev = c + rev\n",
    "    return rev"
   ]
  },
  {
   "cell_type": "code",
   "execution_count": 71,
   "metadata": {},
   "outputs": [
    {
     "data": {
      "text/plain": [
       "'!edanerg dnah yloh eht htrof gnirb – dranyaM rehtorB'"
      ]
     },
     "execution_count": 71,
     "metadata": {},
     "output_type": "execute_result"
    }
   ],
   "source": [
    "reverse('Brother Maynard – bring forth the holy hand grenade!')"
   ]
  },
  {
   "cell_type": "code",
   "execution_count": 72,
   "metadata": {},
   "outputs": [
    {
     "data": {
      "text/plain": [
       "'!edanerg dnah yloh eht htrof gnirb – dranyaM rehtorB'"
      ]
     },
     "execution_count": 72,
     "metadata": {},
     "output_type": "execute_result"
    }
   ],
   "source": [
    "'Brother Maynard – bring forth the holy hand grenade!'[::-1]"
   ]
  },
  {
   "cell_type": "markdown",
   "metadata": {},
   "source": [
    "\n"
   ]
  },
  {
   "cell_type": "markdown",
   "metadata": {},
   "source": [
    "## Search using keyword `in`\n",
    "\n",
    "```python\n",
    "def contains(s,l):\n",
    "    for c in s:\n",
    "        if c == l:\n",
    "            return True\n",
    "    return False\n",
    "\n",
    "# Program starts\n",
    "s = \"Python\"\n",
    "c = 'y'\n",
    "if contains(s,c):\n",
    "    print(s, \"contains\", c)  # Output: Python contains y\n",
    "\n",
    "if c in s:    # Search for char c in string s\n",
    "    print(s, \"contains\", c)  # Output: Python contains y\n",
    "\n",
    "a = [1,2,3,4,5]\n",
    "n = 3\n",
    "if n in a:    # Search for number n in list a\n",
    "    print(a, \"contains\", n)  # Output: [1, 2, 3, 4, 5] contains 3\n",
    "```\n",
    "\n",
    "- Hence, the keyword `in` can also be used to search for elements in a sequence"
   ]
  },
  {
   "cell_type": "code",
   "execution_count": 73,
   "metadata": {},
   "outputs": [
    {
     "name": "stdout",
     "output_type": "stream",
     "text": [
      "Python contains y\n",
      "Python contains y\n",
      "[1, 2, 3, 4, 5] contains 3\n"
     ]
    }
   ],
   "source": [
    "def contains(s,l):\n",
    "    for c in s:\n",
    "        if c == l:\n",
    "            return True\n",
    "    return False\n",
    "\n",
    "# Program starts\n",
    "s = \"Python\"\n",
    "c = 'y'\n",
    "if contains(s,c):\n",
    "    print(s, \"contains\", c)  # Output: Python contains y\n",
    "\n",
    "if c in s:    # Search for char c in string s\n",
    "    print(s, \"contains\", c)  # Output: Python contains y\n",
    "\n",
    "a = [1,2,3,4,5]\n",
    "n = 3\n",
    "if n in a:    # Search for number n in list a\n",
    "    print(a, \"contains\", n)  # Output: [1, 2, 3, 4, 5] contains 3"
   ]
  },
  {
   "cell_type": "code",
   "execution_count": 75,
   "metadata": {},
   "outputs": [
    {
     "name": "stdout",
     "output_type": "stream",
     "text": [
      "Yes\n"
     ]
    }
   ],
   "source": [
    "s = 'Hello'\n",
    "if 'H' in s: print('Yes')"
   ]
  },
  {
   "cell_type": "markdown",
   "metadata": {},
   "source": [
    "## Convert ranges and strings to lists\n",
    "\n",
    "\n",
    "The function `list()` can convert strings and ranges to lists\n",
    "\n",
    "```python\n",
    "a = list(\"Nobody expects the Spanish Inquisition\")\n",
    "print( a, type(a) ) \n",
    "\n",
    "b = list( range(1,6) )\n",
    "print( b, type(b) ) \n",
    "```\n",
    "\n",
    "- `list()` is a convertion function like `int(), float(), str()`, and `bool()`\n",
    "- `list(x)` tries to convert `x` into a list \n",
    "- `list(...)` works for strings and ranges and a few other contsructs"
   ]
  },
  {
   "cell_type": "code",
   "execution_count": 76,
   "metadata": {},
   "outputs": [
    {
     "name": "stdout",
     "output_type": "stream",
     "text": [
      "['N', 'o', 'b', 'o', 'd', 'y', ' ', 'e', 'x', 'p', 'e', 'c', 't', 's', ' ', 't', 'h', 'e', ' ', 'S', 'p', 'a', 'n', 'i', 's', 'h', ' ', 'I', 'n', 'q', 'u', 'i', 's', 'i', 't', 'i', 'o', 'n'] <class 'list'>\n"
     ]
    }
   ],
   "source": [
    "a = list(\"Nobody expects the Spanish Inquisition\")\n",
    "print( a, type(a) )     # Output: ['H', 'e', 'l', 'l', 'o'] <class 'list'>"
   ]
  },
  {
   "cell_type": "code",
   "execution_count": 77,
   "metadata": {},
   "outputs": [
    {
     "name": "stdout",
     "output_type": "stream",
     "text": [
      "[1, 2, 3, 4, 5] <class 'list'>\n"
     ]
    }
   ],
   "source": [
    "b = list( range(1,6) )\n",
    "print( b, type(b) ) "
   ]
  },
  {
   "cell_type": "markdown",
   "metadata": {},
   "source": [
    "## Splitting strings using `split()`\n",
    "\n",
    "```python\n",
    "s = input(\"Enter a few words: \")\n",
    "words = s.split()\n",
    "print(words)\n",
    "\n",
    "words = input(\"Enter a few comma-separated words: \").split(\",\")\n",
    "print(words)\n",
    "```\n",
    "\n",
    "- Usage\n",
    "\n",
    "```\n",
    "Enter a few words: Spam! Spam! Spam! Spam! Spam! Spam!\n",
    "['Spam!', 'Spam!', 'Spam!', 'Spam!', 'Spam!', 'Spam!']\n",
    "\n",
    "Enter a few comma-separated words: Egg,Sausage,Spam,Egg,Spam\n",
    "['Egg', 'Sausage', 'Spam', 'Egg', 'Spam']\n",
    "```\n",
    "\n",
    "- We can split a string into a list of words using the string method \\verb+split()+\n",
    "- `split()` uses by default whitespace (`\" \"`) to separate words, ...\n",
    "- ... but can be configured to use other strings (e.g. `split(\",\")`)  \n"
   ]
  },
  {
   "cell_type": "code",
   "execution_count": 78,
   "metadata": {},
   "outputs": [
    {
     "name": "stdout",
     "output_type": "stream",
     "text": [
      "Enter a few words: Här skriver jag olika saker\n",
      "['Här', 'skriver', 'jag', 'olika', 'saker']\n",
      "Enter a few comma-separated words: Med,komma,tecken\n",
      "['Med', 'komma', 'tecken']\n"
     ]
    }
   ],
   "source": [
    "s = input(\"Enter a few words: \")\n",
    "words = s.split()\n",
    "print(words)\n",
    "\n",
    "words = input(\"Enter a few comma-separated words: \").split(\",\")\n",
    "print(words)"
   ]
  },
  {
   "cell_type": "markdown",
   "metadata": {},
   "source": [
    "# List comprehension\n",
    "## Applying functions to lists\n",
    "\n",
    "- Three variants for applying function $f(x) = x^2$ to all elements of a list \n",
    "\n",
    "```python\n",
    "def square_list(a):\n",
    "    sq = []\n",
    "    for n in a:\n",
    "        sq.append( n*n )\n",
    "    return sq\n",
    "    \n",
    "def square(x): return x*x\n",
    "\n",
    "# Program starts\n",
    "lst = [1,2,3,4,5]\n",
    "sq = square_list(lst)\n",
    "print(sq)          # Output: [1, 4, 9, 16, 25]\n",
    "\n",
    "# Using list comprehensions\n",
    "sq = [square(p) for p in lst]\n",
    "print(sq)          # Output: [1, 4, 9, 16, 25]\n",
    "\n",
    "sq = [p*p for p in lst]\n",
    "print(sq)          # Output: [1, 4, 9, 16, 25]\n",
    "```"
   ]
  },
  {
   "cell_type": "code",
   "execution_count": 79,
   "metadata": {},
   "outputs": [],
   "source": [
    "def square_list(a):\n",
    "    sq = []\n",
    "    for n in a:\n",
    "        sq.append( n*n )\n",
    "    return sq"
   ]
  },
  {
   "cell_type": "code",
   "execution_count": 89,
   "metadata": {},
   "outputs": [
    {
     "data": {
      "text/plain": [
       "100"
      ]
     },
     "execution_count": 89,
     "metadata": {},
     "output_type": "execute_result"
    }
   ],
   "source": [
    "square(10)"
   ]
  },
  {
   "cell_type": "code",
   "execution_count": 88,
   "metadata": {},
   "outputs": [
    {
     "data": {
      "text/plain": [
       "[4, 16, 36, 100]"
      ]
     },
     "execution_count": 88,
     "metadata": {},
     "output_type": "execute_result"
    }
   ],
   "source": [
    "[square(p) for p in min_nummer_lista]"
   ]
  },
  {
   "cell_type": "code",
   "execution_count": 91,
   "metadata": {},
   "outputs": [
    {
     "data": {
      "text/plain": [
       "[4, 256, 46656]"
      ]
     },
     "execution_count": 91,
     "metadata": {},
     "output_type": "execute_result"
    }
   ],
   "source": [
    "[x**x for x in min_nummer_lista[:-1]]"
   ]
  },
  {
   "cell_type": "code",
   "execution_count": null,
   "metadata": {},
   "outputs": [],
   "source": []
  },
  {
   "cell_type": "code",
   "execution_count": null,
   "metadata": {},
   "outputs": [],
   "source": [
    "lst = [1,2,3,4,5]\n",
    "\n",
    "print(square_list(lst))\n",
    "\n",
    "##\n",
    "\n",
    "sq = square_list(lst)\n",
    "print(sq)  "
   ]
  },
  {
   "cell_type": "code",
   "execution_count": null,
   "metadata": {},
   "outputs": [],
   "source": [
    "# Using list comprehensions\n",
    "sq = [square(p) for p in lst]\n",
    "print(sq) "
   ]
  },
  {
   "cell_type": "code",
   "execution_count": null,
   "metadata": {},
   "outputs": [],
   "source": [
    "sq = [p*p for p in lst]\n",
    "print(sq) "
   ]
  },
  {
   "cell_type": "markdown",
   "metadata": {},
   "source": [
    "## List comprehensions\n",
    "\n",
    "```python\n",
    "from math import sqrt\n",
    "\n",
    "lst = list( range(1,6) )\n",
    "print(lst)        # [1, 2, 3, 4, 5]\n",
    "\n",
    "square = [n*n for n in lst]\n",
    "print(square)   # [1, 4, 9, 16, 25]\n",
    "\n",
    "root = [round(sqrt(n),2) for n in lst]\n",
    "print(root)\n",
    "```\n",
    "\n",
    "- `[n*n for n in lst]` is a **list comprehension**\n",
    "- We apply the function `n*n` on all elements in list `lst`\n",
    "- The result is a new list\n",
    "- They are a compact version of iterating over all elements and applying the function on each element."
   ]
  },
  {
   "cell_type": "markdown",
   "metadata": {},
   "source": [
    "## Advanced list comprehensions\n",
    "\n",
    "\n",
    "```python\n",
    "\n",
    "# Integers dividable by 7 in range 1 to 50\n",
    "div_7 = [n for n in range(1,51) if n%7==0]\n",
    "print(div_7)\n",
    "\n",
    "# Square all integers, remove everything else\n",
    "lst = [\"ABC\", 23.4,  7, True,  9, \"xyz\", 10]\n",
    "only_ints = [pow(x,2) for x in lst if type(x) == int]\n",
    "print(only_ints)\n",
    "```\n",
    "\n",
    "Output\n",
    "```[7, 14, 21, 28, 35, 42, 49]\n",
    "[49, 81, 100]\n",
    "```\n",
    "- We can add an \\verb+if+ clause to list comprehensions to filter the content\n",
    "- Only elements fulfilling the if criteria are added to list\n",
    "- `type(x) == int` -> type is an entity that can be used in boolean expressions "
   ]
  },
  {
   "cell_type": "code",
   "execution_count": 92,
   "metadata": {},
   "outputs": [
    {
     "data": {
      "text/plain": [
       "[7, 14, 21, 28, 35, 42, 49]"
      ]
     },
     "execution_count": 92,
     "metadata": {},
     "output_type": "execute_result"
    }
   ],
   "source": [
    "[n for n in range(1,51) if n%7==0]"
   ]
  },
  {
   "cell_type": "code",
   "execution_count": null,
   "metadata": {},
   "outputs": [],
   "source": [
    "# Square all integers, remove everything else\n",
    "lst = [\"ABC\", 23.4,  7, True,  9, \"xyz\", 10]\n",
    "only_ints = [pow(x,2) for x in lst if type(x) == int]\n",
    "print(only_ints)"
   ]
  },
  {
   "cell_type": "markdown",
   "metadata": {},
   "source": [
    "## Read multiple integers\n",
    "\n",
    "\n",
    "```python\n",
    "\n",
    "# Read multiple space separated integers from keyboard\n",
    "text = input(\"Enter integers separated by one whitespace: \")\n",
    "words = text.split()\n",
    "ints = [int(w) for w in words]\n",
    "\n",
    "print(f\"Largest number is {max(ints)}, smallest is {min(ints)}\")\n",
    "```\n",
    "\n",
    "Usage\n",
    "```\n",
    "\n",
    "Enter integers separated by one whitespace: 23 100 65 97 8 12\n",
    "Largest number is 100, smallest is 8\n",
    "```\n",
    "\n",
    "1. We read input as a single string `\"23 100 65 97 8 12\"+`\n",
    "2. We split the string into a list of words `[\"23\",\"100\",\"65\",\"97\",\"8\",\"12\"]`\n",
    "3. We convert each word (e.g. `\"23\"`) to an integer (e.g. `23`)\n",
    "4. We find smallest/largest element by applying min/max on the integer list\n"
   ]
  },
  {
   "cell_type": "code",
   "execution_count": 93,
   "metadata": {},
   "outputs": [
    {
     "name": "stdout",
     "output_type": "stream",
     "text": [
      "Enter integers separated by one whitespace: 23 100 65 97 8 12\n",
      "Largest number is 100, smallest is 8\n"
     ]
    }
   ],
   "source": [
    "# Read multiple space separated integers from keyboard\n",
    "text = input(\"Enter integers separated by one whitespace: \")\n",
    "words = text.split()\n",
    "ints = [int(w) for w in words]\n",
    "\n",
    "print(f\"Largest number is {max(ints)}, smallest is {min(ints)}\")"
   ]
  },
  {
   "cell_type": "markdown",
   "metadata": {},
   "source": [
    "## Two-dimensional lists (Matrix)\n",
    "\n",
    "\n",
    "```python\n",
    "# A two-dimensional list\n",
    "a = [ [1,2,3], [4,5,6], [7,8,9] ] # Format is 3x3\n",
    "\n",
    "print(a)       # [[1, 2, 3], [4, 5, 6], [7, 8, 9]]\n",
    "print(a[0][2]) # 1st row, 3rd column ==> 3\n",
    "print(a[1])    # Entire 2nd row ==> [4,5,6]\n",
    "\n",
    "a[2][2] = 99   # Replace 9 with 99\n",
    "print(a)       # [[1, 2, 3], [4, 5, 6], [7, 8, 99]]\n",
    "\n",
    "# A 4x3 matrix with only 1 elements \n",
    "b = [4*[1], 4*[1], 4*[1]]\n",
    "print(b)        # [[1, 1, 1, 1], [1, 1, 1, 1], [1, 1, 1, 1]]\n",
    "```\n",
    "\n",
    "- A two-dimensional list is called a matrix\n",
    "- It is a list containing other lists\n",
    "- We access individual elements using `a[0][2]`"
   ]
  },
  {
   "cell_type": "code",
   "execution_count": null,
   "metadata": {},
   "outputs": [],
   "source": [
    "a = [ [1,2,3], [4,5,6], [7,8,9] ] # Format is 3x3"
   ]
  },
  {
   "cell_type": "code",
   "execution_count": null,
   "metadata": {},
   "outputs": [],
   "source": [
    "a[0]"
   ]
  },
  {
   "cell_type": "markdown",
   "metadata": {},
   "source": [
    "## Simple list programming\n",
    "\n",
    "Exercise: Write a program `random_elements.py` that:\n",
    "- Creates a list containing 10 random floats in interval [-10,10]\n",
    "- Converts the list to an integer list (correctly rounded off)\n",
    "- Prints the smallest and largest elements in the integer list\n"
   ]
  },
  {
   "cell_type": "code",
   "execution_count": null,
   "metadata": {},
   "outputs": [],
   "source": [
    "import random\n",
    "\n",
    "# A list with ten random floats\n",
    "floats = []\n",
    "for i in range(10):\n",
    "    rnd = random.uniform(-10,10)\n",
    "    floats.append(rnd)\n",
    "\n",
    "# Correctly rounded off integers\n",
    "ints = []\n",
    "for f in floats:\n",
    "    ints.append( round(f) )  # NOTE We use append() repeatedly to build our lists.\n",
    "\n",
    "\n",
    "# Print largest and smallest\n",
    "lrg = max(ints)\n",
    "sml = min(ints)\n",
    "print(f\"\\nLargest element is {lrg}, smallest is {sml}\")\n",
    "\n",
    "\n"
   ]
  },
  {
   "cell_type": "markdown",
   "metadata": {},
   "source": [
    "### A much shorter version using list comprehensions\n",
    "\n",
    "(Version 2)"
   ]
  },
  {
   "cell_type": "code",
   "execution_count": null,
   "metadata": {},
   "outputs": [],
   "source": [
    "import random as rd\n",
    "\n",
    "# Ten random floats\n",
    "floats = [rd.uniform(-10,10) for i in range(10)]\n",
    "\n",
    "# Rounded of integers\n",
    "ints = [round(f) for f in floats]\n",
    "\n",
    "# Print largest and smallest\n",
    "print(f\"\\nLargest element is {max(ints)}, smallest is {min(ints)}\")"
   ]
  },
  {
   "cell_type": "code",
   "execution_count": null,
   "metadata": {},
   "outputs": [],
   "source": []
  }
 ],
 "metadata": {
  "kernelspec": {
   "display_name": "Python 3",
   "language": "python",
   "name": "python3"
  },
  "language_info": {
   "codemirror_mode": {
    "name": "ipython",
    "version": 3
   },
   "file_extension": ".py",
   "mimetype": "text/x-python",
   "name": "python",
   "nbconvert_exporter": "python",
   "pygments_lexer": "ipython3",
   "version": "3.8.3"
  }
 },
 "nbformat": 4,
 "nbformat_minor": 4
}
