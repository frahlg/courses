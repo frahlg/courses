{
 "cells": [
  {
   "cell_type": "markdown",
   "source": [
    "# File IO and Exceptions\n",
    "## 1DV501 - Introduction to Programming"
   ],
   "metadata": {}
  },
  {
   "cell_type": "markdown",
   "source": [
    "\n",
    "Recording of this lecture:\n",
    "https://www.youtube.com/watch?v=3sqDNuaDKww\n",
    "\n",
    "Recordings of lecture last year (2020):\n",
    "https://youtube.com/playlist?list=PLdXitOaYf2HAgjHNCfnosGw08AqzE2c4o\n"
   ],
   "metadata": {}
  },
  {
   "cell_type": "markdown",
   "source": [
    "### Sign up for the first Python Test on Friday, October 8.\n",
    "- Read information in Moodle.\n",
    "- **Registration is mandatory. Deadline October 5.**\n",
    "- Registration is now open in Moodle (Scroll down a bit to find it.)\n",
    "\n",
    "\n",
    "### For students staying in Sweden\n",
    "- The test will take place at Campus Växjö or at Campus Kalmar.\n",
    "- We will not allow any student living in Sweden to take the test remotely ...\n",
    "    - ...except students on the Physics distance program\n",
    "- Exact time and place for the test will be presented later on.\n",
    "\n",
    "### For students staying abroad\n",
    "- Will be given an opportunity to take the Python Test remotely.\n",
    "- The test will be monitored using Zoom. You will be asked to setup a webcam (or mobile phone) in such a way that you and your computer is in clear view during the test.\n",
    "\n",
    "- More instructions related to the distance version of the Python Test will be\n",
    "presented later on in Moodle."
   ],
   "metadata": {}
  },
  {
   "cell_type": "markdown",
   "source": [
    "## Today\n",
    "\n",
    "- Working with Files and Directories\n",
    "- File input/output (IO)\n",
    "    - Working text files\n",
    "    - Working with data files\n",
    "- Text Processing (Extra material, Assignment 3 preparation)\n",
    "\n",
    "**Reading instructions:** Chap. 9.3"
   ],
   "metadata": {}
  },
  {
   "cell_type": "markdown",
   "source": [
    "## Working with files and directories\n",
    "\n",
    "When programming we often need to access files and directories on our computer\n",
    "- For example, read data from a file in certain directory, or output processed text to a certain file in a certain directory.\n",
    "- The Python library os (operating system) can be used to quarry/access the file system on your computer.\n",
    "- For example, to print all the Python (.py) files in a certain directory.\n",
    "- The file system depends on your operating system (e.g. Mac or Windows) ⇒ The examples we show to today can look slightly different on different computers (operating systems)\n",
    "\n",
    "### The `os` module\n",
    "\n"
   ],
   "metadata": {}
  },
  {
   "cell_type": "markdown",
   "source": [
    "- Note . Windows and *nix systems differs in file structure / \\\n",
    "\n",
    "- Relative path -> the path relative to where your program runs.\n",
    "- Absolute path -> the actual full path of the file system.\n",
    "\n",
    "---\n",
    "\n",
    "- *Tips for advanced users. If you're running Windows, it's possible to install WSL (Windows Subsystem for Linux).*\n",
    "\n",
    "---"
   ],
   "metadata": {}
  },
  {
   "cell_type": "code",
   "execution_count": null,
   "source": [
    "import os\n",
    "path = os.getcwd()\n",
    "print(path)"
   ],
   "outputs": [],
   "metadata": {}
  },
  {
   "cell_type": "code",
   "execution_count": null,
   "source": [
    "os.chdir('figures')"
   ],
   "outputs": [],
   "metadata": {}
  },
  {
   "cell_type": "code",
   "execution_count": null,
   "source": [
    "os.getcwd()"
   ],
   "outputs": [],
   "metadata": {}
  },
  {
   "cell_type": "code",
   "execution_count": null,
   "source": [
    "os.chdir('..')"
   ],
   "outputs": [],
   "metadata": {}
  },
  {
   "cell_type": "code",
   "execution_count": null,
   "source": [
    "os.getcwd()"
   ],
   "outputs": [],
   "metadata": {}
  },
  {
   "cell_type": "code",
   "execution_count": null,
   "source": [
    "os.chdir('/Users/frahaa/dev/courses/1DV501')"
   ],
   "outputs": [],
   "metadata": {}
  },
  {
   "cell_type": "markdown",
   "source": [
    "- The `os` module gives support for queries related to files and directories\n",
    "- `os.getcwd()`  name of current working directory\n",
    "    - The virtual machine's start directory in this execution\n",
    "    - Not same as folder containing this program code\n",
    "    - Topmost directory inside Visual Studio Code \n",
    "- `os.chdir('figures')` change to child directory\n",
    "- `os.chdir('..')` change to parent directory\n"
   ],
   "metadata": {}
  },
  {
   "cell_type": "code",
   "execution_count": null,
   "source": [
    "import os                       # Operating system module\n",
    "os.chdir('/Users/frahaa/dev/courses/1DV501')\n",
    "\n",
    "path = os.getcwd()              # Get current working directory\n",
    "print(\"Current dir:\", path)     # ... /1DV501\n",
    "\n",
    "lst = os.listdir(path)  # List files and directories in path directory\n",
    "\n",
    "for s in lst:\n",
    "    print(s)       \n",
    "\n",
    "subdir = os.chdir('figures')\n",
    "print(\"\\nMoved to dir:\", os.getcwd())\n",
    "\n",
    "lst = os.listdir(subdir) # List files and folders in subdir\n",
    "\n",
    "for s in lst:\n",
    "    if s.endswith(\".py\"):     # Print files ending with \".py\"\n",
    "        print(s)              # time.py, tax.py, shortname.py, quote.py, "
   ],
   "outputs": [],
   "metadata": {}
  },
  {
   "cell_type": "markdown",
   "source": [
    "- `os.listdir(path)` List content (as strings) of directory `path`\n",
    "- Directory content -> files and directories \n",
    "- Hidden entities (e.g. `.vscode` or `.DS_Store`) have names starting with a `.` \n",
    "\n"
   ],
   "metadata": {}
  },
  {
   "cell_type": "markdown",
   "source": [
    "## Using `os.scandir()`\n",
    "\n"
   ],
   "metadata": {}
  },
  {
   "cell_type": "markdown",
   "source": [
    "`os.scandir()`\n",
    "\n",
    "`s.scandir(path='.')` Returns an iterator \n",
    "\n",
    "https://docs.python.org/3/library/os.html\n"
   ],
   "metadata": {}
  },
  {
   "cell_type": "code",
   "execution_count": null,
   "source": [
    "import os\n",
    "os.chdir('/Users/frahaa/dev/courses/1DV501')\n",
    "\n",
    "entries = os.scandir()\n",
    "\n",
    "for a in entries:\n",
    "    print('Class:', type(a))\n",
    "    print('Name:', a.name)\n",
    "    print('Ends with \\'g\\':', a.name.endswith('g'))\n",
    "    print('Is a file:', a.is_file())\n",
    "    print('Is a dir:', a.is_dir())\n",
    "    print()"
   ],
   "outputs": [],
   "metadata": {}
  },
  {
   "cell_type": "code",
   "execution_count": null,
   "source": [
    "# Example from PDF-slides\n",
    "import os\n",
    "os.chdir('/Users/frahaa/dev/courses/1DV501')\n",
    "\n",
    "def is_hidden(entry):\n",
    "    return entry.name.startswith(\".\")\n",
    "\n",
    "def print_entries(list_of_entries):\n",
    "    for entry in list_of_entries:\n",
    "        if entry.is_file() and not is_hidden(entry):\n",
    "            print(\"File: \", entry.name, type(entry) )\n",
    "        elif entry.is_dir() and not is_hidden(entry):\n",
    "            print(\"Dir: \", entry.name, entry.path)\n",
    "\n",
    "path = os.getcwd()\n",
    "entries = os.scandir(path)  # List of entries of type DirEntry\n",
    "print_entries(entries)      \n",
    "print()\n",
    "\n",
    "subdir = os.chdir('..')\n",
    "entries = os.scandir(subdir)  # List of entries of type DirEntry\n",
    "print_entries(entries)        "
   ],
   "outputs": [],
   "metadata": {}
  },
  {
   "cell_type": "markdown",
   "source": [
    "## Files and dirs, continued ...\n",
    "\n",
    "Note \"Portable Operating System Interface (POSIX)\"\n",
    "\n",
    "### The `os.listdir(...)` approach \n",
    "\n",
    "- `os.listdir(path)` -> all file and directory names in directory `path`\n",
    "- Problem: all names are given as `strings` -> hard to know if it is a file or a directory\n",
    "- Suitable approach when you quickly wants to find the content of a given directory\n",
    "\n",
    "### The `os.scandir(...)` approach \n",
    "\n",
    "- `os.scandir(path)` -> all files and directories in `path` as `DirEntry` objects\n",
    "- Each `DirEntry` object `entry`  comes with two attributes:\n",
    "    - `entry.name` -> short local name of file or directory\n",
    "    - `entry.path` -> fully qualified name of file or directory\n",
    "    and two methods\n",
    "\n",
    "- `entry.is_file()` -> True if `entry`  is a file \n",
    "- `entry.is_dir()` -> True if `entry`  is a directory\n",
    "\n",
    "- Suitable approach for more complex problems like:\n",
    "    - List all python files in a given directory\n",
    "    - Find all sub-directories (transitively)  of a given directory\n"
   ],
   "metadata": {}
  },
  {
   "cell_type": "code",
   "execution_count": null,
   "source": [
    "\n",
    "def count_dirs(path='.'):\n",
    "    c_ = 0\n",
    "    entries = os.scandir(path)\n",
    "    for entry in entries:\n",
    "        if entry.is_dir():\n",
    "            #print(entry.name)\n",
    "            c_ += 1 + count_dirs(entry.path)\n",
    "    return c_\n",
    "\n",
    "path = '/Users/frahaa/dev/courses/1DV501'\n",
    "print(f\"The path {path} contains {count_dirs(path)} subdirectories\")"
   ],
   "outputs": [],
   "metadata": {}
  },
  {
   "cell_type": "code",
   "execution_count": null,
   "source": [
    "path = '/Users/frahaa/dev'\n",
    "print(f\"Dir {path} contains {count_dirs(path)} subdirectories\")"
   ],
   "outputs": [],
   "metadata": {}
  },
  {
   "cell_type": "markdown",
   "source": [
    "- `count_dirs(path)` is a recursive function that visits all subdirectories\n",
    "- Visits all  subdirectories transitively -> subdirs to subdirs to subdirs ...\n",
    "- Difficult to handle without recursion (**perfect example when recursion is used**)\n"
   ],
   "metadata": {}
  },
  {
   "cell_type": "markdown",
   "source": [
    "## Reading text from file\n",
    "\n",
    "- `file =  open(path,\"r\")` open file `path` for reading (`r`)\n",
    "- `file` is here an object representing a connection to a file\n",
    "- `for line in file` -> read from file line by line\n",
    "\n",
    "\n"
   ],
   "metadata": {}
  },
  {
   "cell_type": "code",
   "execution_count": 8,
   "source": [
    "\n",
    "path = '/Users/frahaa/dev/courses/1DV501'\n",
    "path += '/data/holy_grail_script_scene1.txt'\n",
    "print(\"Reading from \",path)\n",
    "\n",
    "file =  open(path,\"r\")\n",
    "line_count = 0\n",
    "for line in file:\n",
    "    line_count += 1\n",
    "    print(line)\n",
    "file.close()\n",
    "print(\"Line count: \",line_count)\n",
    "\n"
   ],
   "outputs": [
    {
     "output_type": "stream",
     "name": "stdout",
     "text": [
      "Reading from  /Users/frahaa/dev/courses/1DV501/data/holy_grail_script_scene1.txt\n",
      "\n",
      "\n",
      "\n",
      "\n",
      "    [wind]\n",
      "\n",
      "    [clop clop clop]\n",
      "\n",
      "KING ARTHUR:  Whoa there!\n",
      "\n",
      "    [clop clop clop]\n",
      "\n",
      "SOLDIER #1:  Halt!  Who goes there?\n",
      "\n",
      "ARTHUR:  It is I, Arthur, son of Uther Pendragon, from the castle of Camelot.\n",
      "\n",
      "    King of the Britons, defeator of the Saxons, sovereign of all England!\n",
      "\n",
      "SOLDIER #1:  Pull the other one!\n",
      "\n",
      "ARTHUR:  I am,... and this is my trusty servant Patsy.  We have ridden the \n",
      "\n",
      "    length and breadth of the land in search of knights who will join me in my \n",
      "\n",
      "    court at Camelot.  I must speak with your lord and master.\n",
      "\n",
      "SOLDIER #1:  What?  Ridden on a horse?\n",
      "\n",
      "ARTHUR:  Yes!\n",
      "\n",
      "SOLDIER #1:  You're using coconuts!\n",
      "\n",
      "ARTHUR:  What?\n",
      "\n",
      "SOLDIER #1:  You've got two empty halves of coconut and you're bangin' 'em \n",
      "\n",
      "    together.\n",
      "\n",
      "ARTHUR:  So?  We have ridden since the snows of winter covered this land, \n",
      "\n",
      "    through the kingdom of Mercea, through--\n",
      "\n",
      "SOLDIER #1:  Where'd you get the coconuts?\n",
      "\n",
      "ARTHUR:  We found them.\n",
      "\n",
      "SOLDIER #1:  Found them?  In Mercea?  The coconut's tropical!\n",
      "\n",
      "ARTHUR:  What do you mean?\n",
      "\n",
      "SOLDIER #1:  Well, this is a temperate zone.\n",
      "\n",
      "ARTHUR:  The swallow may fly south with the sun or the house martin or the \n",
      "\n",
      "    plover may seek warmer climes in winter, yet these are not strangers to\n",
      "\n",
      "    our land?\n",
      "\n",
      "SOLDIER #1:  Are you suggesting coconuts migrate?\n",
      "\n",
      "ARTHUR:  Not at all.  They could be carried.\n",
      "\n",
      "\n",
      "\n",
      "\n",
      "\n",
      "Line count:  33\n"
     ]
    }
   ],
   "metadata": {}
  },
  {
   "cell_type": "markdown",
   "source": [
    " \n",
    "---\n",
    "\n",
    "\n",
    "- Ugly printout since `line` includes a `\"\\n\"` and the file ends with a empty lines.\n",
    "\n"
   ],
   "metadata": {}
  },
  {
   "cell_type": "code",
   "execution_count": 9,
   "source": [
    "#path = ...\n",
    "\n",
    "filelist=[]\n",
    "file =  open(path,\"r\")\n",
    "for x in file:\n",
    "    filelist.append(str(x).replace('\\n',''))\n",
    "file.close()"
   ],
   "outputs": [],
   "metadata": {}
  },
  {
   "cell_type": "code",
   "execution_count": 10,
   "source": [
    "filelist[3]"
   ],
   "outputs": [
    {
     "output_type": "execute_result",
     "data": {
      "text/plain": [
       "'    [clop clop clop]'"
      ]
     },
     "metadata": {},
     "execution_count": 10
    }
   ],
   "metadata": {}
  },
  {
   "cell_type": "code",
   "execution_count": 11,
   "source": [
    "file =  open(path,\"r\")\n",
    "\n",
    "type(file)"
   ],
   "outputs": [
    {
     "output_type": "execute_result",
     "data": {
      "text/plain": [
       "_io.TextIOWrapper"
      ]
     },
     "metadata": {},
     "execution_count": 11
    }
   ],
   "metadata": {}
  },
  {
   "cell_type": "markdown",
   "source": [
    "# Input/output modules\n",
    "\n",
    "https://docs.python.org/3/library/io.html\n",
    "\n",
    "The io module provides Python’s main facilities for dealing with various types of I/O. There are three main types of I/O: text I/O, binary I/O and raw I/O. These are generic categories, and various backing stores can be used for each of them. A concrete object belonging to any of these categories is called a file object. Other common terms are stream and file-like object."
   ],
   "metadata": {}
  },
  {
   "cell_type": "code",
   "execution_count": 18,
   "source": [
    "#file = 'test'\n",
    "file =  open(path,\"r\")\n",
    "\n",
    "for x in file:\n",
    "    print(x)\n",
    "\n",
    "file.close()"
   ],
   "outputs": [
    {
     "output_type": "stream",
     "name": "stdout",
     "text": [
      "\n",
      "\n",
      "\n",
      "\n",
      "    [wind]\n",
      "\n",
      "    [clop clop clop]\n",
      "\n",
      "KING ARTHUR:  Whoa there!\n",
      "\n",
      "    [clop clop clop]\n",
      "\n",
      "SOLDIER #1:  Halt!  Who goes there?\n",
      "\n",
      "ARTHUR:  It is I, Arthur, son of Uther Pendragon, from the castle of Camelot.\n",
      "\n",
      "    King of the Britons, defeator of the Saxons, sovereign of all England!\n",
      "\n",
      "SOLDIER #1:  Pull the other one!\n",
      "\n",
      "ARTHUR:  I am,... and this is my trusty servant Patsy.  We have ridden the \n",
      "\n",
      "    length and breadth of the land in search of knights who will join me in my \n",
      "\n",
      "    court at Camelot.  I must speak with your lord and master.\n",
      "\n",
      "SOLDIER #1:  What?  Ridden on a horse?\n",
      "\n",
      "ARTHUR:  Yes!\n",
      "\n",
      "SOLDIER #1:  You're using coconuts!\n",
      "\n",
      "ARTHUR:  What?\n",
      "\n",
      "SOLDIER #1:  You've got two empty halves of coconut and you're bangin' 'em \n",
      "\n",
      "    together.\n",
      "\n",
      "ARTHUR:  So?  We have ridden since the snows of winter covered this land, \n",
      "\n",
      "    through the kingdom of Mercea, through--\n",
      "\n",
      "SOLDIER #1:  Where'd you get the coconuts?\n",
      "\n",
      "ARTHUR:  We found them.\n",
      "\n",
      "SOLDIER #1:  Found them?  In Mercea?  The coconut's tropical!\n",
      "\n",
      "ARTHUR:  What do you mean?\n",
      "\n",
      "SOLDIER #1:  Well, this is a temperate zone.\n",
      "\n",
      "ARTHUR:  The swallow may fly south with the sun or the house martin or the \n",
      "\n",
      "    plover may seek warmer climes in winter, yet these are not strangers to\n",
      "\n",
      "    our land?\n",
      "\n",
      "SOLDIER #1:  Are you suggesting coconuts migrate?\n",
      "\n",
      "ARTHUR:  Not at all.  They could be carried.\n",
      "\n",
      "\n",
      "\n",
      "\n",
      "\n"
     ]
    }
   ],
   "metadata": {}
  },
  {
   "cell_type": "markdown",
   "source": [
    "- Ugly print problem solved by using `print(line.strip())` -> remove trailing `\"\\n\"`\n",
    "\n"
   ],
   "metadata": {}
  },
  {
   "cell_type": "code",
   "execution_count": 19,
   "source": [
    "\n",
    "path = '/Users/frahaa/dev/courses/1DV501'\n",
    "path += \"/data/holy_grail_script_scene1.txt\"\n",
    "\n",
    "file =  open(path,\"r\")\n",
    "full_text = \"\"\n",
    "for line in file:\n",
    "    full_text += line\n",
    "file.close()\n",
    "print(full_text)"
   ],
   "outputs": [
    {
     "output_type": "stream",
     "name": "stdout",
     "text": [
      "\n",
      "\n",
      "    [wind]\n",
      "    [clop clop clop]\n",
      "KING ARTHUR:  Whoa there!\n",
      "    [clop clop clop]\n",
      "SOLDIER #1:  Halt!  Who goes there?\n",
      "ARTHUR:  It is I, Arthur, son of Uther Pendragon, from the castle of Camelot.\n",
      "    King of the Britons, defeator of the Saxons, sovereign of all England!\n",
      "SOLDIER #1:  Pull the other one!\n",
      "ARTHUR:  I am,... and this is my trusty servant Patsy.  We have ridden the \n",
      "    length and breadth of the land in search of knights who will join me in my \n",
      "    court at Camelot.  I must speak with your lord and master.\n",
      "SOLDIER #1:  What?  Ridden on a horse?\n",
      "ARTHUR:  Yes!\n",
      "SOLDIER #1:  You're using coconuts!\n",
      "ARTHUR:  What?\n",
      "SOLDIER #1:  You've got two empty halves of coconut and you're bangin' 'em \n",
      "    together.\n",
      "ARTHUR:  So?  We have ridden since the snows of winter covered this land, \n",
      "    through the kingdom of Mercea, through--\n",
      "SOLDIER #1:  Where'd you get the coconuts?\n",
      "ARTHUR:  We found them.\n",
      "SOLDIER #1:  Found them?  In Mercea?  The coconut's tropical!\n",
      "ARTHUR:  What do you mean?\n",
      "SOLDIER #1:  Well, this is a temperate zone.\n",
      "ARTHUR:  The swallow may fly south with the sun or the house martin or the \n",
      "    plover may seek warmer climes in winter, yet these are not strangers to\n",
      "    our land?\n",
      "SOLDIER #1:  Are you suggesting coconuts migrate?\n",
      "ARTHUR:  Not at all.  They could be carried.\n",
      "\n",
      "\n",
      "\n"
     ]
    }
   ],
   "metadata": {}
  },
  {
   "cell_type": "markdown",
   "source": [
    "---\n",
    "\n",
    "- We first store entire text in a string (including linebreaks)\n",
    "\n",
    "- Reading text is easy, just remember:\n",
    "    - We read the text line by line,\n",
    "    -  Lines also includes a final `\"\\n\"` and\n",
    "    -  Empty lines are also included.\n",
    "\n",
    "---\n",
    "\n",
    "\n",
    "- It is important to close the file connections (`file.close()`) once reading/writing is done.\n",
    "- A non-closed connection might cause problems later on when you try to access a file.\n"
   ],
   "metadata": {}
  },
  {
   "cell_type": "markdown",
   "source": [
    "## Writing text to a file\n",
    "\n"
   ],
   "metadata": {}
  },
  {
   "cell_type": "code",
   "execution_count": null,
   "source": [
    "\n",
    "path = '/Users/frahaa/dev/courses/1DV501/output.txt'\n",
    "full_text = 'It is I, Arthur, son of Uther Pendragon, from the castle of Camelot. King of the Britons, defeator of the Saxons, sovereign of all England!'\n",
    "\n",
    "file = open(path,\"w\")\n",
    "file.write(full_text)\n",
    "file.close()\n"
   ],
   "outputs": [],
   "metadata": {}
  },
  {
   "cell_type": "code",
   "execution_count": null,
   "source": [
    "file = open(path,'r')\n",
    "for line in file:\n",
    "    print(line.strip())\n",
    "file.close()"
   ],
   "outputs": [],
   "metadata": {}
  },
  {
   "cell_type": "markdown",
   "source": [
    "- Write entire text to file.\n",
    "\n",
    "- Result: Text in file has same formatting as `full_text`.\n",
    "\n"
   ],
   "metadata": {}
  },
  {
   "cell_type": "code",
   "execution_count": null,
   "source": [
    "lines = [\"do\\n\",\"re\\n\",\"mi\\n\",\"fa\\n\",\"so\\n\",\"la\\n\"]\n",
    "\n",
    "file = open(path,\"w\")\n",
    "file.writelines(lines)\n",
    "file.close()\n"
   ],
   "outputs": [],
   "metadata": {}
  },
  {
   "cell_type": "code",
   "execution_count": null,
   "source": [
    "file = open(path,'r')\n",
    "for line in file:\n",
    "    print(line.strip())\n",
    "file.close()"
   ],
   "outputs": [],
   "metadata": {}
  },
  {
   "cell_type": "markdown",
   "source": [
    "- We write text line by line to file.\n",
    "- Result: do,re,mi,fa,so,la as six separate lines.\n",
    "\n",
    "- Writing text is also easy, just remember to handle the line breaks.\n",
    "---\n",
    "\n",
    "### Recommendations\n",
    "- Always look at the content of the file you are about to read to understand how it is organized\n",
    "- Always open the output file when writing to a file to inspect the result"
   ],
   "metadata": {}
  },
  {
   "cell_type": "markdown",
   "source": [
    "## Reading and Writing text - Summary\n",
    "\n",
    "We use `open(...)` to make a file connection\n",
    "-  `open(path,\"r\")` -> open file for reading. Program will crash is file doesn't exists (or is read protected)\n",
    "-  `open(path,\"w\")` -> open file for writing. The file will be created if it doesn't exist, or replaced if it does exist.\n",
    "-  `open(path,\"a\")` -> open file for appending -> add new text at the end of a file. The file will be created if it doesn't exist, or appended if it does exist.\n",
    "-  Default is `\"r\"` -> `open(path)` means open file for reading\n",
    "\n",
    "---\n",
    "\n",
    "- `file` in `file = open(...)` is a file object. File object usage:\n",
    "\n",
    "-  `for line in file:` -> read one line at the time\n",
    "-  `full_text = file.read()` -> read entire file content\n",
    "-  `file.write(full_text)` -> write entire text \n",
    "-  `file.writelines(lines)` where `lines` is a list of strings -> write line by line (but not adding any linebreaks) \n"
   ],
   "metadata": {}
  },
  {
   "cell_type": "markdown",
   "source": [
    "## Safe file handling with `with-as`\n",
    "\n"
   ],
   "metadata": {}
  },
  {
   "cell_type": "code",
   "execution_count": null,
   "source": [
    "path = '/Users/frahaa/dev/courses/1DV501/output3.txt'\n",
    "\n",
    "#with open(path, \"r\") as file:\n",
    "#   for line in file:\n",
    "#       print( line.strip() )     \n",
    "        \n",
    "\n",
    "# Safe file writing \n",
    "\n",
    "with open(path, \"a\") as file:\n",
    "   file.write(\"First line to add\\n\")\n",
    "   file.write(\"Last line to add\\n\")"
   ],
   "outputs": [],
   "metadata": {}
  },
  {
   "cell_type": "markdown",
   "source": [
    "- `with` and `as` are two Python keywords\n",
    "- The `with-as` statement includes file closing and was introduced to make sure that an open file is always closed (no matter what happens)\n",
    "- **Although a bit cryptic, it is the recommended approach to open a file.**\n"
   ],
   "metadata": {}
  },
  {
   "cell_type": "markdown",
   "source": [],
   "metadata": {}
  },
  {
   "cell_type": "markdown",
   "source": [
    "# Runtime Errors\n",
    "\n"
   ],
   "metadata": {}
  },
  {
   "cell_type": "code",
   "execution_count": null,
   "source": [
    "def div(a,b): \n",
    "   return a/b\n",
    "\n",
    "def m(a,b): \n",
    "   return div(a,b)\n",
    "\n",
    "# Program starts\n",
    "print( m(5,0) )\n",
    "\n",
    "print('do fancy stuff')"
   ],
   "outputs": [],
   "metadata": {}
  },
  {
   "cell_type": "markdown",
   "source": [
    "## Error message interpretation:\n",
    "\n",
    "1. From a call `print( m(5,0) )` in line 8\n",
    "2. via a call `div(a,b)` at line 5\n",
    "3. we had a `ZeroDivisionError` in line 2.\n",
    "\n",
    "Hence, the error message not only points out where the error occurred, it also describes the executions trace leading up to the error.\n"
   ],
   "metadata": {}
  },
  {
   "cell_type": "markdown",
   "source": [
    "## A first look at error handling\n",
    "\n"
   ],
   "metadata": {}
  },
  {
   "cell_type": "code",
   "execution_count": null,
   "source": [
    "a = [0,1,2]"
   ],
   "outputs": [],
   "metadata": {}
  },
  {
   "cell_type": "code",
   "execution_count": null,
   "source": [
    "a[10]"
   ],
   "outputs": [],
   "metadata": {}
  },
  {
   "cell_type": "code",
   "execution_count": null,
   "source": [
    "# Returns a given element in a list\n",
    "def get_element_at(lst,index):\n",
    "    if 0 <= index < len(lst):\n",
    "        return lst[index]\n",
    "    else: \n",
    "        return -99  # What else am I supposed to do?\n",
    "\n",
    "# Program starts\n",
    "a = list( range(10) )\n",
    "n = get_element_at(a,15) # Index out of range"
   ],
   "outputs": [],
   "metadata": {}
  },
  {
   "cell_type": "code",
   "execution_count": null,
   "source": [
    "get_element_at(a,10)"
   ],
   "outputs": [],
   "metadata": {}
  },
  {
   "cell_type": "markdown",
   "source": [],
   "metadata": {}
  },
  {
   "cell_type": "markdown",
   "source": [
    "- The function `get_element_at(lst,index)` returns -99 when used with an index out of range. Is this really the best way to handle a detected error? Or should we let the program crash?\n",
    "\n",
    "- In general, how do we handle errors due to an incorrect use of a function?\n"
   ],
   "metadata": {}
  },
  {
   "cell_type": "markdown",
   "source": [
    "## Exceptions - A first example\n",
    "\n"
   ],
   "metadata": {}
  },
  {
   "cell_type": "code",
   "execution_count": null,
   "source": [
    "x = 5 * y"
   ],
   "outputs": [],
   "metadata": {}
  },
  {
   "cell_type": "code",
   "execution_count": null,
   "source": [
    "try:\n",
    "  x = 5*y            # y is not defined\n",
    "  print(\" x =\", x)\n",
    "except NameError:\n",
    "  print(\"An exception occurred\")"
   ],
   "outputs": [],
   "metadata": {}
  },
  {
   "cell_type": "markdown",
   "source": [
    "- `try` and `except`  are two Python keywords used for exception handling\n",
    "- Errors occurring in the `try` block can be handled in the `except` block\n",
    "- Using this approach we can avoid ugly traceback printouts.\n",
    "- We can also decide to take some action (e.g. try again) when an error occurs.  \n"
   ],
   "metadata": {}
  },
  {
   "cell_type": "markdown",
   "source": [
    "## Another exception example \n",
    "\n"
   ],
   "metadata": {}
  },
  {
   "cell_type": "code",
   "execution_count": null,
   "source": [
    "def div(a,b):\n",
    "    return a/b  # Error if b = 0\n",
    "\n",
    "def m(a,b): return div(a,b)\n",
    "\n",
    "# Program starts\n",
    "try: \n",
    "    x, y = 1e100,0\n",
    "    div = m(x,y)\n",
    "    print(f\"{x} divided by {y} is {div}\")\n",
    "except ZeroDivisionError:\n",
    "    print(f'{m(x,y+1e-90)}') # or ... 0.0000000...1\n"
   ],
   "outputs": [],
   "metadata": {}
  },
  {
   "cell_type": "markdown",
   "source": [
    "- Errors occurring due to code or calls executed in the `try` block \n",
    "- ... can be handled in the enclosing `except` block\n",
    "- The execution jumps directly from the error (in function `div(a,b)`) to the `except` block -> `print(f\"{x} ...\")` is not executed."
   ],
   "metadata": {}
  },
  {
   "cell_type": "markdown",
   "source": [
    "## One more exception example"
   ],
   "metadata": {}
  },
  {
   "cell_type": "code",
   "execution_count": null,
   "source": [
    "repeat = True\n",
    "while repeat:\n",
    "    x = int( input(\"Enter integer x: \"))\n",
    "    y = int( input(\"Enter integer y: \"))\n",
    "    try: \n",
    "        result = x/y       # Error if y = 0\n",
    "        print(f\"{x} divided by {y} is {result}\")\n",
    "        repeat = False\n",
    "    except ZeroDivisionError:\n",
    "        print(\"Dividing by zero, try again ...\\n\")"
   ],
   "outputs": [],
   "metadata": {}
  },
  {
   "cell_type": "markdown",
   "source": [
    "- The program will keep asking the user for input as long y is zero. \n",
    "- Each time zero is entered for y, the error message `Dividing by zero, try again ...` will be displayed."
   ],
   "metadata": {}
  },
  {
   "cell_type": "markdown",
   "source": [
    "## Raising exceptions\n",
    "\n"
   ],
   "metadata": {}
  },
  {
   "cell_type": "code",
   "execution_count": null,
   "source": [
    "\n",
    "# A function with error handling\n",
    "def get_element_at(lst,p):\n",
    "    if 0 <= p < len(lst):\n",
    "        return lst\n",
    "    else: \n",
    "        err_msg = f\"Gör om gör rätt [0,{len(lst)-1}]\"\n",
    "        raise IndexError(err_msg)  # We raise an exception\n",
    "\n",
    "# Program starts\n",
    "try:\n",
    "    a = list( range(10) )\n",
    "    n = get_element_at(a,15) # Index out of range\n",
    "except IndexError as e:\n",
    "    print(\"An error has occurred!\")\n",
    "    print(type(e),\" ==> \",e)"
   ],
   "outputs": [],
   "metadata": {}
  },
  {
   "cell_type": "code",
   "execution_count": null,
   "source": [
    "get_element_at(a,15)"
   ],
   "outputs": [],
   "metadata": {}
  },
  {
   "cell_type": "markdown",
   "source": [
    "## Raising exceptions - A tedious example"
   ],
   "metadata": {}
  },
  {
   "cell_type": "code",
   "execution_count": null,
   "source": [
    "def input_odd_int():\n",
    "    s = input(\"Enter an odd integer: \")\n",
    "    try:\n",
    "        n = int(s)\n",
    "    except ValueError: \n",
    "        raise ValueError(\"The input must be an integer!\")\n",
    "    if n%2 == 0:\n",
    "        raise ValueError(\"The integer must be odd!\")\n",
    "    return n\n",
    "    \n",
    "# Program starts\n",
    "try:\n",
    "    n = input_odd_int()\n",
    "    print(\"A valid input is:\", n)\n",
    "except ValueError as e:\n",
    "    print(type(e),\"==>\",e)"
   ],
   "outputs": [],
   "metadata": {}
  },
  {
   "cell_type": "code",
   "execution_count": null,
   "source": [
    "input_odd_int()"
   ],
   "outputs": [],
   "metadata": {}
  },
  {
   "cell_type": "markdown",
   "source": [
    "- A function that raises a `ValueError` if input is a non-integer or an even number.\n",
    "- Do **not** use this approach in assignment if not explicitly asked for."
   ],
   "metadata": {}
  },
  {
   "cell_type": "markdown",
   "source": [
    "## Exceptions: Basics\n",
    "\n",
    "\n",
    "- Python handles all errors and abnormal conditions using *exceptions*.\n",
    "- An exception is an object that encapsulates information about an error.\n",
    "- Error -> program *raises* (or *throws*) an exception. (e.g., `raise IndexError(err_msg`)\n",
    "    - execution halts immediately\n",
    "    - call stack is unwounded until an appropriate enclosing exception handler is found (e.g., `except IndexError as e:`).\n",
    "- No enclosing exception handler\n",
    "    - The virtual machine catches exception, abruptly terminates program, and prints a stack trace\n",
    "---\n",
    "\n",
    "### Advantages\n",
    "\n",
    "\n",
    "- Uniform handling of all abnormal conditions\n",
    "\n",
    "**Separation of responsibilities:**\n",
    "\n",
    "- The programmer identifies problems and raises exceptions.\n",
    "- The client (or user) determines how to handle the problem\n",
    "    - (ignore and continue, recover, try again, exit, ...).\n",
    "\n",
    "\n",
    "- Here we talk about a **programmer** responsible for the development of a software component, and a **user** or **client** (most likely also a programmer) that uses the component. "
   ],
   "metadata": {}
  },
  {
   "cell_type": "markdown",
   "source": [
    "## Background\n",
    "\n",
    "- The programmer can't know how a user wants to deal with an error.\n",
    "- Different users and situations different types of error handling. \n",
    "\n",
    "\n",
    "**An Unspoken Contract**\n",
    "\n",
    " - The programmer is responsible for identifying errors and to notify the user by raising an exception.\n",
    "- The user/client decides how to handle the exception.\n",
    "\n",
    "\n",
    "**Example:** The function `get_element_at(lst,index)`\n",
    "\n",
    "- The programmer finds the faulty index (outside the range)\n",
    "    - `raise IndexError(\"Index out of range: \" + str(index))`\n",
    "\n",
    "\n",
    "- The function user can (if he/she likes) catch and handle the error\n"
   ],
   "metadata": {}
  },
  {
   "cell_type": "code",
   "execution_count": null,
   "source": [
    "try:\n",
    "    a = list( range(10) )\n",
    "    n = get_element_at(a,15) # Index out of range\n",
    "except IndexError as e:\n",
    "    print(\"An error has occurred!\")\n",
    "    print(type(e),\" ==> \",e)\n"
   ],
   "outputs": [],
   "metadata": {}
  },
  {
   "cell_type": "markdown",
   "source": [
    "## Handling multiple types of exceptions\n",
    "\n",
    "We might have several `except` blocks. Each one handling a specific type of error.\n",
    "\n",
    "\n",
    "```python\n",
    "\n",
    "try:\n",
    "    ...\n",
    "except IndexError as e:\n",
    "    \"Do somethong with e\"\n",
    "except ValueError as e:\n",
    "    \"Do somethong with e\"\n",
    "except Exception as e:\n",
    "    \"Do somethong with e\"\n",
    "finally: # Always executed\n",
    "    \"Save what is possible. Close database connections, networks and so on\"\n",
    "    \n",
    "\n",
    "```\n",
    "\n",
    "- Repeated `except` -> the first suitable is used.\n",
    "- `Exception` is the base class for all exceptions -> handles everything\n",
    "- The `finally` block is always executed. It is mainly used to save what possibly can be saved before the program crashes.\n",
    "\n"
   ],
   "metadata": {}
  },
  {
   "cell_type": "markdown",
   "source": [
    "## Built-in Errors to chose from\n",
    "\n",
    "There are a number of built-in errors to chose from:\n",
    "\n",
    "- IndexError is thrown when trying to access an item at an invalid index.\n",
    "- ImportError is thrown when a specified function can not be found.\n",
    "- TypeError is thrown when an operation or function is applied to an object of an inappropriate type.\n",
    "- NameError is thrown when an object could not be found.\n",
    "- ZeroDivisionError is thrown when the second operator in the division is zero.\n",
    "- ValueError is thrown when a function's argument is of an inappropriate type.\n",
    "- Exception handles all type of exceptions -> catches everything\n",
    "- ... and many more.\n",
    "\n",
    "---\n",
    "\n",
    "Hence, when you want to raise an exception, select a suitable error type, and put together a suitable error message. The just `raise ErrorType(err_msg)`.\n",
    "\n",
    "Always position `except Exception` last if you are catching multiple error types.\n"
   ],
   "metadata": {}
  },
  {
   "cell_type": "markdown",
   "source": [
    "## Handling IO Errors\n",
    "\n"
   ],
   "metadata": {}
  },
  {
   "cell_type": "code",
   "execution_count": null,
   "source": [
    "import os\n",
    "\n",
    "# Safe file reading handling IOErrors\n",
    "\n",
    "path = os.getcwd()\n",
    "path += \"/temp/holly_gräil.txt\" \n",
    "try:\n",
    "    with open(path, \"r\") as file:\n",
    "        for line in file:\n",
    "            print( line.strip() )\n",
    "except IOError as e:\n",
    "    print(type(e),\"==>\",e)\n",
    "    print(\"No such file: \",path)"
   ],
   "outputs": [],
   "metadata": {}
  },
  {
   "cell_type": "markdown",
   "source": [
    "- File IO often results in errors. For example, reading from a non-existing (or read protected) file.\n",
    "- Thus, enclosing all critical file IO operations with a try-except block is a very common programming pattern."
   ],
   "metadata": {}
  },
  {
   "cell_type": "markdown",
   "source": [
    "## Exceptions summary\n",
    "\n",
    "- By enclosing error prone code with a try-except block we can catch and handle errors.\n",
    "- By raising exceptions we can inform a user of an error\n",
    "- Basic idea: The programmer is responsible for identifying errors and to notify the user by raising an exception. The user/client decides how to handle the exception.\n",
    "\n",
    "### Are exceptions important?\n",
    "\n",
    "- Exception handling is very important in larger (commercial) systems since we don't want our customers to experience an ugly stack trace due to an unhandled exception. A commercial system should never crash.\n",
    "- It is less important for smaller projects when the user and programmer often is the same group of persons. After a crash we simply try to fix the problem and run the program again.\n",
    "- Python is very liberal when it comes to exception handling. The programmer decides when and if to handle a potential exception. Other languages (like Java) is much stricter. Certain operations (like File IO) must include exception handling.\n"
   ],
   "metadata": {}
  }
 ],
 "metadata": {
  "kernelspec": {
   "name": "python3",
   "display_name": "Python 3.8.11 64-bit ('base': conda)"
  },
  "language_info": {
   "codemirror_mode": {
    "name": "ipython",
    "version": 3
   },
   "file_extension": ".py",
   "mimetype": "text/x-python",
   "name": "python",
   "nbconvert_exporter": "python",
   "pygments_lexer": "ipython3",
   "version": "3.8.11"
  },
  "interpreter": {
   "hash": "dca0ade3e726a953b501b15e8e990130d2b7799f14cfd9f4271676035ebe5511"
  }
 },
 "nbformat": 4,
 "nbformat_minor": 4
}