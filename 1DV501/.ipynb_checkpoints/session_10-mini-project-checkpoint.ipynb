{
 "cells": [
  {
   "cell_type": "markdown",
   "metadata": {},
   "source": [
    "## Session 10\n",
    "\n",
    "# 1DV501\n",
    "\n"
   ]
  },
  {
   "cell_type": "markdown",
   "metadata": {},
   "source": [
    "## Mini-project\n",
    "\n",
    "- Rules\n",
    "- Teams\n",
    "- Presentation\n",
    "- Gitlab\n",
    "\n",
    "---\n",
    "\n",
    "- Mini-project Problem (four parts)\n",
    "- Measuring time \n",
    "- Plots using `matplotlib`\n",
    "- Recommended approach\n"
   ]
  },
  {
   "cell_type": "markdown",
   "metadata": {},
   "source": [
    "## Mini-project: Introduction\n",
    "\n",
    "The Python Mini-Project is a small project exercise where you in a team handle a given task which will presented orally and in a report by the end of the course.\n",
    "\n",
    "\n",
    "**Deadline**: Program dependent, October 28-30\n",
    "\n",
    "### Mini-project information\n",
    "\n",
    "- **The Mini-project** Moodle section is the main source of project information\n",
    "- Here we will publish: \n",
    "    - Information about teams and team members (Done!)\n",
    "- Rules (Done!)\n",
    "- Project task (Done!)\n",
    "- Gitlab instruction videos  (Done!)\n",
    "- Templates for written report (Not ready yet!) \n",
    "- Templates for oral presentation (Not ready yet!) \n",
    "- Detailed schedule for presentations (Not ready yet!)"
   ]
  },
  {
   "cell_type": "markdown",
   "metadata": {},
   "source": [
    "- You work in teams of two to three students. Your tutoring supervisor will assign you a team\n",
    "- By the end of the course you will present your results in an oral presentation and by a written report.\n",
    "- The written report should follow a given template.\n",
    "- All team members should be prepared to answer questions regarding all parts of the project.\n",
    "- Feel free to use information found on the Internet but:\n",
    "    - Give a proper reference to the source\n",
    "    - Be prepared to answer detailed questions, you must understand what you are doing\n",
    "    \n",
    "    \n",
    "NOTE. **Plagiarism is cheating!** Any sign of plagiarism -> all involved students fail (also students giving away their code).\n"
   ]
  },
  {
   "cell_type": "markdown",
   "metadata": {},
   "source": [
    "## Teams and Team Members\n",
    "\n",
    "Teams are put together (by your tutoring supervisor) following these criteria:\n",
    "\n",
    "- Each team has three members. We rather have 2+2 than four.\n",
    "- Campus students with campus students\n",
    "- Distance students with distance students\n",
    "- Kalmar students with Kalmar students\n",
    "- Swedish speaking students with Swedish speaking students\n",
    "- etc ...\n",
    "\n",
    "Thus, we will try to put together students having a similar study situation.\n",
    "\n",
    "**Important**: Contact your tutoring supervisor if ...\n",
    "\n",
    "    - You can not find your name in any list\n",
    "    - You end up in \"wrong\" team.\n",
    "    - You have questions about project teams\n",
    "\n",
    "The teams are now available in the Mini-project section in Moodle.\n"
   ]
  },
  {
   "cell_type": "markdown",
   "metadata": {},
   "source": [
    "## Written Report, Oral presentation\n",
    "\n",
    "\n",
    "The team effort is presented as:\n",
    "\n",
    "    - An oral presentation \n",
    "    - A written report\n",
    "    - Entire team code available in Gitlab\n",
    "\n",
    "- All of it should be available at the time of your oral presentation\n",
    "- Exact schedule for oral presentations will be presented later on (Roughly October 28-30, we might need to use more than one day due to shortage of suitable lecture rooms.)\n",
    "\n",
    "- Templates for written report and oral presentation will be presented in Moodle\n"
   ]
  },
  {
   "cell_type": "markdown",
   "metadata": {},
   "source": [
    "## Gitlab\n",
    "\n",
    "- Git is a distributed version-control system for tracking changes in source code during software development.\n",
    "- Git is designed for coordinating work among programmers, but it can be used to track changes in any set of files. \n",
    "- We use Gitlab to provide you with a Git system\n",
    "\n",
    "- Tobias Andersson-Gidlund has put together several instructions video to get you started with Gitlab.\n",
    "    - The Gitlab videos will soon be available in Moodle\n",
    "    - It is an excellent tool for projects with members working on a common code base -> **Start to use it!**"
   ]
  },
  {
   "cell_type": "markdown",
   "metadata": {},
   "source": [
    "## The Mini-project Task\n",
    "\n",
    "The project is about working with and analyzing large texts.  Another important part is to understand hashing and binary search trees.\n",
    "\n",
    "The problem can be divided in four parts:\n",
    "\n",
    "1. Divide the large texts into a sequence of words.\n",
    "2. Implement two data structures suitable for working with words as data: a) A hash based set, and b) a binary search tree based map (dictionary).  \n",
    "3. Use your two data structures to solve certain word related tasks\n",
    "4. Measure the time to perform certain operations on your map and set implementation. \n",
    "\n",
    "\n"
   ]
  },
  {
   "cell_type": "markdown",
   "metadata": {},
   "source": [
    "## Part 1: Divide text into words\n",
    "\n",
    "The project is about working with and analyzing large texts. As examples of large texts you have the two large text files you used in Assignment 3.\n",
    "\n",
    "### Part 1\n",
    "\n",
    "1. Divide the large texts into a sequence of words.\n",
    "2. As a part of your presentation you should define what you meant by a word and motivate your decision. \n",
    "3. However, as a rule, a word doesn't contain any digits, or symbols like \".\",  \",\", \"!\", \"?\", etc.,\n",
    "4. and we consider words like \"can't\" and \"John's\" as a single word"
   ]
  },
  {
   "cell_type": "markdown",
   "metadata": {},
   "source": [
    "## Part 2: Implement data structures\n",
    "\n",
    "Lecture 9 outlines the basic ideas of two techniques suitable for implementing tables (dictionaries) and sets:\n",
    "\n",
    "    - Binary search trees\n",
    "    - Hashing\n",
    "   \n",
    "### Your task is to implement:\n",
    "\n",
    "- a set `word_set.py` (suitable for words) based on hashing \n",
    "- a table `table.py` (key-value pairs) based on binary search trees.\n",
    "\n",
    "We want you to follow the simple (**non-class based**) idea for how to implement a data structure that was used in the linked list example in Lecture 9.\n",
    "\n",
    "### Part 2: Additional limitations\n",
    "\n",
    "\n",
    "- The nodes in the binary search tree based table implementation are lists of size 4 (`lkey,value,left-child,right-child`). \n",
    "- The hash-based set is built using a list to store the buckets where each bucket is another list. The initial bucket size is 10 and rehashing (double the bucket list size) takes place when the number of elements equals the number of buckets. \n",
    "\n",
    "Code skeletons outlining which functions we expect for each data structure are available in Moodle.\n"
   ]
  },
  {
   "cell_type": "markdown",
   "metadata": {},
   "source": [
    "## Part 3: Count word related entities\n",
    "\n",
    "Using your set and table implementation you should be able to handle a few word related questions:\n",
    "\n",
    "- By using the set you should be able to count how many unique words that are used in the texts.\n",
    "- By using the map you should be able count how many words of a given length a given text has, and  of present a histogram (plotted using `matplotlib`).\n",
    "- By using the map you should also be able to present a list of the top-10 most frequently used words.\n",
    "- and we consider words like \"can't\" and \"John's\" as a single word\n",
    "- You are not allowed to use Python's set and dictionary classes. However, it might be a good idea to compare your results with a similar program using them. The results should be the same."
   ]
  },
  {
   "cell_type": "markdown",
   "metadata": {},
   "source": [
    "## Part 4: Time Measurements\n",
    "\n",
    "\n",
    "Measure elapsed time in Python is easy using the function time() in the time module. However, measure the time of very fast operations often mean that you have to repeat the experiment very many times, or/and use very large sets of data. Finding a suitable experimental setup that highlights the feature you would like to study is often the hardest part.\n",
    "\n",
    "\n",
    "- Measure the time to look-up X thousand elements (keys) in maps of different sizes (larger than X) in your binary search tree based table implementation.\n",
    "- Measure also the max tree depth at the same sizes.\n",
    "- We expect two plots (using `matplotlib`) showing look-up time vs table size, and max depth vs table size`\n",
    "\n",
    "- Adding a new element to a hash table would (in theory) be independent of the table size if it wasn't for rehashing.\n",
    "- Try to design an experiment measuring the time it takes to add new elements to your hash set and how it correlates to the rehashing.\n",
    "- Measure also the max bucket size at various set sizes.\n",
    "- We expect a few plots (using matplotlib) showing how the time to add (say) 1000 unique elements differs at various table sizes due to the rehashing mechanism, we also expect a plot showing how the max bucket size  changes with the set sizes.\n",
    "\n",
    "We strongly suggest that you use the words in the text file `eng_news_100K-sentences.txt` as your data in the experiments. The file contains about 2 million words, out of which 80.000 are unique.\n"
   ]
  },
  {
   "cell_type": "markdown",
   "metadata": {},
   "source": [
    "## Recommended Approach\n",
    "\n",
    "\n",
    "For a team with three members we suggest the following start:\n",
    "\n",
    "- Member 1: Handle Part 1: Read arbitrary text and divide it in a sequence or words. Suggestion: Store the words (one on each line) in a separate file for future use.\n",
    "- Member 2: Implement `word_set.py` based on hashing.\n",
    "- Member 3: Implement `table.py` (key-value pairs) based on binary search trees. (This is the hardest part!)\n",
    "\n",
    "- Members 1: Try to solve exercises in Part 3 using Python's set and dictionary rather than your own implementation\n",
    "- ...\n",
    "\n",
    "\n",
    "**Remember: Writing the report takes a few days!**"
   ]
  },
  {
   "cell_type": "markdown",
   "metadata": {},
   "source": [
    "## Measuring time\n",
    "\n",
    "Measuring time in Python is easy using the `time` module\n",
    "\n",
    "```python\n",
    "\n",
    "import time\n",
    "\n",
    "start = time.time()               # Start clock\n",
    "\n",
    "  \"Do some that takes time \"\n",
    "elapsed = time.time() - start     # Elapsed time    \n",
    "print(\"Elapsed time in seconds is:\", elapsed)\n",
    "```\n",
    "\n"
   ]
  },
  {
   "cell_type": "markdown",
   "metadata": {},
   "source": [
    "- `time.time()` return the time in seconds since the epoch as a floating point number.\n",
    "- On Windows, Mac and most Unix systems, the epoch is January 1, 1970, 00:00:00 (UTC)\n",
    "- Expect it to be correct down to (at least) milliseconds\n",
    "\n",
    "\n",
    "## Advices\n",
    "\n",
    "- Do not trust time measurements of less than (say) 30 ms\n",
    "- Solution: Repeat experiment many times and compute average values\n",
    "\n",
    "\n",
    "```python\n",
    "\n",
    "repeat = 10\n",
    "before = time.time()\n",
    "for i in range(repeat):\n",
    "    ... do something\n",
    "after = time.time()\n",
    "estimated = (after-before)/10    # average time\n",
    "\n",
    "```\n"
   ]
  },
  {
   "cell_type": "markdown",
   "metadata": {},
   "source": [
    "\n",
    "\n",
    "\n",
    "- Measuring time for fast operations like binary search and hashing is very difficult. \n",
    "- Requires very large input sizes to get trustworthy time measurements\n",
    "- Large sizes -> memory problems -> garbage collection becomes a problem\n",
    "- Hence, play around with various input sizes and repetitions to get trustworthy time measurements\n",
    "- Trustworthy -> same results in repeated runs\n",
    "\n",
    "- Also remember\n",
    "    - Your experiment is not the only activity running on the computer\n",
    "    - Try to shut down other applications\n",
    "    - However, the operating system will still be working in the background\n",
    "\n",
    "\n",
    "Repeated runs give very different result -> something is wrong!\n"
   ]
  },
  {
   "cell_type": "markdown",
   "metadata": {},
   "source": [
    "## Simple x,y-plot using `matplotlib`\n",
    "\n",
    "\n",
    "- `matplotlib` is a very powerful plotting library for  Python\n",
    "\n",
    "\n",
    "- `matplotlib.pyplot` is a state-based interface to matplotlib. It provides a MATLAB-like way of plotting.\n",
    "\n",
    "pyplot is mainly intended for interactive plots and simple cases of programmatic plot generation:\n",
    "\n",
    "\n",
    "```python\n",
    "\n",
    "import matplotlib.pyplot as plt\n",
    "import math\n",
    "\n",
    "# x = 0.1, 0.2, 0.3, ..., 9.9, 10.0\n",
    "x = [n/10 for n in range(0,100)]\n",
    "y = [math.sin(i) for i in x]\n",
    "plt.plot(x, y)\n",
    "plt.show()\n",
    "```\n",
    "\n",
    "![](https://matplotlib.org/3.1.1/_images/anatomy.png)"
   ]
  },
  {
   "cell_type": "code",
   "execution_count": 1,
   "metadata": {},
   "outputs": [
    {
     "data": {
      "image/png": "[encoded data removed]",
      "text/plain": [
       "<Figure size 432x288 with 1 Axes>"
      ]
     },
     "metadata": {
      "needs_background": "light"
     },
     "output_type": "display_data"
    }
   ],
   "source": [
    "import matplotlib.pyplot as plt\n",
    "import math\n",
    "\n",
    "# x = 0.1, 0.2, 0.3, ..., 9.9, 10.0\n",
    "x = [n/10 for n in range(0,100)]\n",
    "y = [math.sin(i) for i in x]\n",
    "plt.plot(x, y)\n",
    "plt.show()"
   ]
  },
  {
   "cell_type": "markdown",
   "metadata": {},
   "source": [
    "## Adding titles and axis-labels\n",
    "\n"
   ]
  },
  {
   "cell_type": "code",
   "execution_count": 2,
   "metadata": {},
   "outputs": [
    {
     "data": {
      "image/png": "[encoded data removed]",
      "text/plain": [
       "<Figure size 432x288 with 1 Axes>"
      ]
     },
     "metadata": {
      "needs_background": "light"
     },
     "output_type": "display_data"
    }
   ],
   "source": [
    "\n",
    "# x = 0.25, 0.5, 0.75, ... , 10.0\n",
    "x = [n/4 for n in range(0,40)]\n",
    "y1 = [math.sin(i) for i in x]\n",
    "y2 = [math.cos(i) for i in x]\n",
    "plt.plot(x, y1,'ro')      \n",
    "plt.plot(x, y2, 'b+')    \n",
    "plt.title('Sinus and cosinus')\n",
    "plt.xlabel('x in range 0 to 10')\n",
    "plt.ylabel('sin(x) as red, cos(x) as blue')\n",
    "plt.show()\n",
    "\n"
   ]
  },
  {
   "cell_type": "markdown",
   "metadata": {},
   "source": [
    "- `ro` -> red circles, `b` -> blue plus\n",
    "- `title, xlabel, ylabel` -> figure title and x- and y-axis labels\n",
    "- Also, two times `plt.plot(...)` -> two plot in same figure\n",
    "\n"
   ]
  },
  {
   "cell_type": "markdown",
   "metadata": {},
   "source": [
    "## Two figures side-by-side\n",
    "\n",
    "- Two plot in one figure\n",
    "- Notice also the logaritmic y-scale on the 2nd figure "
   ]
  },
  {
   "cell_type": "code",
   "execution_count": 70,
   "metadata": {},
   "outputs": [
    {
     "data": {
      "image/png": "[encoded data removed]",
      "text/plain": [
       "<Figure size 432x288 with 2 Axes>"
      ]
     },
     "metadata": {
      "needs_background": "light"
     },
     "output_type": "display_data"
    }
   ],
   "source": [
    "fig, (ax1, ax2) = plt.subplots(1, 2) # Two plots called ax1 and ax2\n",
    "x = [n for n in range(0,20)]\n",
    "y = [i**5 for i in x]\n",
    "\n",
    "ax1.plot(x, y)\n",
    "ax1.set_xlabel('n in range 0 to 20')\n",
    "ax1.set_ylabel('n^5')\n",
    "ax1.set_title('n vs n^5, non-logarithmic y-axis')\n",
    "ax2.plot(x, y)\n",
    "ax2.set_xlabel('n in range 0 to 20')\n",
    "ax2.set_ylabel('n^5')\n",
    "ax2.set_title('n vs n^5, logarithmic y-axis')\n",
    "ax2.set_yscale('log')\n",
    "plt.show()\n"
   ]
  },
  {
   "cell_type": "code",
   "execution_count": 135,
   "metadata": {},
   "outputs": [
    {
     "data": {
      "text/plain": [
       "<matplotlib.collections.PathCollection at 0x7fa407f4dee0>"
      ]
     },
     "execution_count": 135,
     "metadata": {},
     "output_type": "execute_result"
    },
    {
     "data": {
      "image/png": "[encoded data removed]",
      "text/plain": [
       "<Figure size 1728x720 with 2 Axes>"
      ]
     },
     "metadata": {
      "needs_background": "light"
     },
     "output_type": "display_data"
    }
   ],
   "source": [
    "values= [13,3,4,12]\n",
    "categories = ['olika','saker','att','visa']\n",
    "\n",
    "plt.figure(figsize=(24,10))\n",
    "plt.subplot(121) # n rows, n cols, index\n",
    "plt.bar(categories,values)\n",
    "plt.subplot(122)\n",
    "plt.scatter(categories,values)"
   ]
  },
  {
   "cell_type": "code",
   "execution_count": 80,
   "metadata": {},
   "outputs": [],
   "source": [
    "\n",
    "####\n",
    "####\n",
    "plt.subplot(223)\n",
    "plt.plot(values)"
   ]
  },
  {
   "cell_type": "code",
   "execution_count": 81,
   "metadata": {},
   "outputs": [
    {
     "data": {
      "text/plain": [
       "1"
      ]
     },
     "execution_count": 81,
     "metadata": {},
     "output_type": "execute_result"
    }
   ],
   "source": [
    "a"
   ]
  },
  {
   "cell_type": "code",
   "execution_count": null,
   "metadata": {},
   "outputs": [],
   "source": [
    "\n"
   ]
  },
  {
   "cell_type": "markdown",
   "metadata": {},
   "source": [
    "## Simple bar charts\n",
    "\n"
   ]
  },
  {
   "cell_type": "code",
   "execution_count": 9,
   "metadata": {},
   "outputs": [
    {
     "name": "stdout",
     "output_type": "stream",
     "text": [
      "[29, 50, 67, 90, 149, 177, 143, 122, 91, 57, 25]\n"
     ]
    },
    {
     "data": {
      "image/png": "[encoded data removed]",
      "text/plain": [
       "<Figure size 432x288 with 1 Axes>"
      ]
     },
     "metadata": {
      "needs_background": "light"
     },
     "output_type": "display_data"
    }
   ],
   "source": [
    "# Frequencies for 10000 two dice rolls\n",
    "import random as rdm\n",
    "freq = 11*[0]\n",
    "for i in range(1000):\n",
    "    r = rdm.randint(1,6)+rdm.randint(1,6)\n",
    "    freq[r-2] += 1\n",
    "print(freq)\n",
    "\n",
    "# Show bar chart\n",
    "x_pos = list(range(1,12))   # [1,2,3,..., 10,11]\n",
    "labels = [str(n+1) for n in x_pos] # ['2','3', ... '11','12']\n",
    "plt.bar(x_pos, freq)\n",
    "plt.xticks(x_pos, labels)    # Give each position a label\n",
    "plt.title(\"Two dice frequencies, rolls = 1000\")\n",
    "plt.xlabel(\"Two dice sums\")\n",
    "plt.ylabel(\"Count\")\n",
    "plt.show()"
   ]
  },
  {
   "cell_type": "code",
   "execution_count": 51,
   "metadata": {},
   "outputs": [
    {
     "data": {
      "image/png": "[encoded data removed]",
      "text/plain": [
       "<Figure size 432x288 with 1 Axes>"
      ]
     },
     "metadata": {
      "needs_background": "light"
     },
     "output_type": "display_data"
    }
   ],
   "source": [
    "# The histogram function\n",
    "\n",
    "nums = []\n",
    "for i in range(50):\n",
    "    nums.append(rdm.randint(1,100))\n",
    "\n",
    "plt.hist(nums,rwidth=0.9,bins=50)\n",
    "plt.savefig('my_histogram.pdf')"
   ]
  },
  {
   "cell_type": "markdown",
   "metadata": {},
   "source": [
    "## Pyplot save your figure\n",
    "\n",
    "- You want your output in a file.\n",
    "- Always prefer a *vectorised* format.\n",
    "\n",
    "\n",
    "```python\n",
    "\n",
    "plt.savefig('filename.pdf')\n",
    "\n",
    "```\n",
    "\n",
    "![](figures/pyplot-render_export.png)\n",
    "\n",
    "\n",
    "\n"
   ]
  },
  {
   "cell_type": "code",
   "execution_count": 128,
   "metadata": {},
   "outputs": [
    {
     "data": {
      "text/plain": [
       "<matplotlib.collections.PathCollection at 0x7fa4060e26a0>"
      ]
     },
     "execution_count": 128,
     "metadata": {},
     "output_type": "execute_result"
    },
    {
     "data": {
      "image/png": "[encoded data removed]",
      "text/plain": [
       "<Figure size 1728x720 with 2 Axes>"
      ]
     },
     "metadata": {
      "needs_background": "light"
     },
     "output_type": "display_data"
    }
   ],
   "source": []
  },
  {
   "cell_type": "code",
   "execution_count": null,
   "metadata": {},
   "outputs": [],
   "source": []
  },
  {
   "cell_type": "code",
   "execution_count": null,
   "metadata": {},
   "outputs": [],
   "source": []
  },
  {
   "cell_type": "code",
   "execution_count": 68,
   "metadata": {},
   "outputs": [
    {
     "data": {
      "image/png": "[encoded data removed]",
      "text/plain": [
       "<Figure size 432x288 with 1 Axes>"
      ]
     },
     "metadata": {},
     "output_type": "display_data"
    }
   ],
   "source": [
    "# Bonus ....\n",
    "\n",
    "import matplotlib.pyplot as plt\n",
    "import numpy as np\n",
    "\n",
    "with plt.xkcd():\n",
    "    # Based on \"Stove Ownership\" from XKCD by Randall Munroe\n",
    "    # https://xkcd.com/418/\n",
    "\n",
    "    fig = plt.figure()\n",
    "    ax = fig.add_axes((0.1, 0.2, 0.8, 0.7))\n",
    "    ax.spines['right'].set_color('none')\n",
    "    ax.spines['top'].set_color('none')\n",
    "    ax.set_xticks([])\n",
    "    ax.set_yticks([])\n",
    "    ax.set_ylim([-30, 10])\n",
    "\n",
    "    data = np.ones(100)\n",
    "    data[70:] -= np.arange(30)\n",
    "\n",
    "    ax.annotate(\n",
    "        'The day the mini-project\\n was published in Moodle',\n",
    "        xy=(70, 0.1), arrowprops=dict(arrowstyle='->'), xytext=(14, -10))\n",
    "\n",
    "    ax.plot(data)\n",
    "\n",
    "    ax.set_xlabel('time')\n",
    "    ax.set_ylabel('my free time')\n",
    "    fig.text(\n",
    "        0.5, 0.05,\n",
    "        'xkcd() in matplotlib',\n",
    "        ha='center')"
   ]
  },
  {
   "cell_type": "code",
   "execution_count": null,
   "metadata": {},
   "outputs": [],
   "source": []
  }
 ],
 "metadata": {
  "kernelspec": {
   "display_name": "Python 3",
   "language": "python",
   "name": "python3"
  },
  "language_info": {
   "codemirror_mode": {
    "name": "ipython",
    "version": 3
   },
   "file_extension": ".py",
   "mimetype": "text/x-python",
   "name": "python",
   "nbconvert_exporter": "python",
   "pygments_lexer": "ipython3",
   "version": "3.8.3"
  }
 },
 "nbformat": 4,
 "nbformat_minor": 4
}
