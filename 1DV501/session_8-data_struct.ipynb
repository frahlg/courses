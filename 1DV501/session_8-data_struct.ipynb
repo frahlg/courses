{
 "cells": [
  {
   "cell_type": "markdown",
   "metadata": {
    "slideshow": {
     "slide_type": "slide"
    }
   },
   "source": [
    "# Tuples, sets, and dictionaries\n",
    "# Session 8\n",
    "## 1DV501\n"
   ]
  },
  {
   "cell_type": "markdown",
   "metadata": {
    "slideshow": {
     "slide_type": "slide"
    }
   },
   "source": [
    "Agenda\n",
    "\n",
    "- Data structures in general\n",
    "- Tuples\n",
    "- Sets\n",
    "- Dictionaries\n",
    "- Various left-overs\n",
    "- Mini-project information"
   ]
  },
  {
   "cell_type": "markdown",
   "metadata": {
    "slideshow": {
     "slide_type": "slide"
    }
   },
   "source": [
    "- We often need to handle large sets of data\n",
    "\n",
    "- A **data structure** is a model for storing/handling such data sets\n",
    "- Scenarios where data structures are needed\n",
    "\n",
    "\t- Students in a course\n",
    "\t- Measurements from an experiment\n",
    "\t- Queue to get an apartment at our campus\n",
    "\t- Telephone numbers in Kalmar\n",
    "\n",
    "---\n",
    "\n",
    "- Different scenarios require different data structure properties:\n",
    "\n",
    "    - Data should be ordered\n",
    "    - Not the same element twice \n",
    "    - Data come in pairs or have relations between them\n",
    "    - Important that look-up is fast\n",
    "    - In general: Important that operations X,Y,Z are fast\n",
    "\n",
    "---\n",
    "\n",
    "- Selecting data structure is a design decision -> might affect performance, modifiability, and program comprehension.\n"
   ]
  },
  {
   "cell_type": "markdown",
   "metadata": {
    "slideshow": {
     "slide_type": "slide"
    }
   },
   "source": [
    "# A Few Common Data Structures\n",
    "\n",
    "\n",
    "- **List** A *sequential* collection where each *element* has a position. In principal: a growing/flexible sequence of data\n",
    "\n",
    "- **Queue** A sequential collection with add and remove at different sides, a **FiFo** (First in, First out)\n",
    "\n",
    "- **Stack** A sequential collection with add and remove at the same side, a **LiFo** (Last in, First out) (stack overflow ..)\n",
    "\n",
    "- **Deque** A sequential collection with add and remove at both sides (Deque = Double-Ended Queue)\n",
    "\n",
    "- **Set** A non-ordered collection not containing the same element twice. Trying to add `X` twice, the second attempt is ignored\n",
    "\n",
    "- **Map** (or *Table* or **Dictionary**) A set of *key/value* pairs. Operations: `put(key,value)`, `get(key)` --> value\n",
    "\n",
    "- **Tree** Data ordered as a tree with a root (Will be presented later) Example: The file system on your hard drive\n",
    "\n",
    "- **Graph** Data (nodes) with binary relations (edges). Example: A road map with cities (nodes) and roads (edges) between them. *Not part of this course.*"
   ]
  },
  {
   "cell_type": "markdown",
   "metadata": {
    "slideshow": {
     "slide_type": "slide"
    }
   },
   "source": [
    "# Sequential Data Structures\n",
    "\n",
    "Sequential -> a sequence where each element has a position.\n",
    "\n",
    "\n",
    "## Stack\n",
    "\n",
    "### (Last in, first out) Add and remove at one side only.\n",
    "\n",
    "![](figures/stack.pdf)\n",
    "![](https://cdn.programiz.com/sites/tutorial2program/files/stack-of-plates_0.png)\n"
   ]
  },
  {
   "cell_type": "code",
   "execution_count": 1,
   "metadata": {},
   "outputs": [],
   "source": [
    "def sum_rec(n):\n",
    "    return n + sum_rec(n-1)"
   ]
  },
  {
   "cell_type": "code",
   "execution_count": 2,
   "metadata": {},
   "outputs": [
    {
     "ename": "RecursionError",
     "evalue": "maximum recursion depth exceeded",
     "output_type": "error",
     "traceback": [
      "\u001b[0;31m---------------------------------------------------------------------------\u001b[0m",
      "\u001b[0;31mRecursionError\u001b[0m                            Traceback (most recent call last)",
      "\u001b[0;32m<ipython-input-2-67d8e8849a46>\u001b[0m in \u001b[0;36m<module>\u001b[0;34m\u001b[0m\n\u001b[0;32m----> 1\u001b[0;31m \u001b[0msum_rec\u001b[0m\u001b[0;34m(\u001b[0m\u001b[0;36m5\u001b[0m\u001b[0;34m)\u001b[0m\u001b[0;34m\u001b[0m\u001b[0;34m\u001b[0m\u001b[0m\n\u001b[0m",
      "\u001b[0;32m<ipython-input-1-d4795d2efaed>\u001b[0m in \u001b[0;36msum_rec\u001b[0;34m(n)\u001b[0m\n\u001b[1;32m      1\u001b[0m \u001b[0;32mdef\u001b[0m \u001b[0msum_rec\u001b[0m\u001b[0;34m(\u001b[0m\u001b[0mn\u001b[0m\u001b[0;34m)\u001b[0m\u001b[0;34m:\u001b[0m\u001b[0;34m\u001b[0m\u001b[0;34m\u001b[0m\u001b[0m\n\u001b[0;32m----> 2\u001b[0;31m     \u001b[0;32mreturn\u001b[0m \u001b[0mn\u001b[0m \u001b[0;34m+\u001b[0m \u001b[0msum_rec\u001b[0m\u001b[0;34m(\u001b[0m\u001b[0mn\u001b[0m\u001b[0;34m-\u001b[0m\u001b[0;36m1\u001b[0m\u001b[0;34m)\u001b[0m\u001b[0;34m\u001b[0m\u001b[0;34m\u001b[0m\u001b[0m\n\u001b[0m",
      "... last 1 frames repeated, from the frame below ...\n",
      "\u001b[0;32m<ipython-input-1-d4795d2efaed>\u001b[0m in \u001b[0;36msum_rec\u001b[0;34m(n)\u001b[0m\n\u001b[1;32m      1\u001b[0m \u001b[0;32mdef\u001b[0m \u001b[0msum_rec\u001b[0m\u001b[0;34m(\u001b[0m\u001b[0mn\u001b[0m\u001b[0;34m)\u001b[0m\u001b[0;34m:\u001b[0m\u001b[0;34m\u001b[0m\u001b[0;34m\u001b[0m\u001b[0m\n\u001b[0;32m----> 2\u001b[0;31m     \u001b[0;32mreturn\u001b[0m \u001b[0mn\u001b[0m \u001b[0;34m+\u001b[0m \u001b[0msum_rec\u001b[0m\u001b[0;34m(\u001b[0m\u001b[0mn\u001b[0m\u001b[0;34m-\u001b[0m\u001b[0;36m1\u001b[0m\u001b[0;34m)\u001b[0m\u001b[0;34m\u001b[0m\u001b[0;34m\u001b[0m\u001b[0m\n\u001b[0m",
      "\u001b[0;31mRecursionError\u001b[0m: maximum recursion depth exceeded"
     ]
    }
   ],
   "source": [
    "sum_rec(5)"
   ]
  },
  {
   "cell_type": "markdown",
   "metadata": {},
   "source": [
    "### Recursion limit in Python is 1000, which is the height of the Python interpreter stack!"
   ]
  },
  {
   "cell_type": "markdown",
   "metadata": {},
   "source": [
    "\n",
    "\n",
    "## Queue\n",
    "\n",
    "### (First in, first out) Add at one side, remove at the other.\n",
    "\n",
    "![](figures/queue.pdf)\n",
    "\n",
    "\n",
    "**Note:** Stack and Queue has a very limited set of operations. They are the most simple data structure."
   ]
  },
  {
   "cell_type": "markdown",
   "metadata": {
    "slideshow": {
     "slide_type": "slide"
    }
   },
   "source": [
    "## Deque\n",
    "\n",
    "(Double-ended Queue) Add and remove at both sides.\n",
    "\n",
    "![](figures/deque.pdf)\n",
    "\n",
    "\n",
    "## List\n",
    "(Add and remove everywhere)\n",
    "\n",
    "![](figures/list.pdf)\n",
    "\n",
    "\n",
    "\n",
    "- **Note:** List is the most general sequential data structure\n",
    "\n",
    "\n",
    "- Q: Why not always use a list?\n",
    "    - A specialized data structure can be more efficient (time, memory, speed).\n",
    "    - A specialized structure provides a more precise model, easier to understand for someone who reads the code\n"
   ]
  },
  {
   "cell_type": "markdown",
   "metadata": {
    "slideshow": {
     "slide_type": "slide"
    }
   },
   "source": [
    "## Tree\n",
    "\n",
    "\n",
    "\n",
    "\n",
    "![](figures/tree1.jpg)"
   ]
  },
  {
   "cell_type": "markdown",
   "metadata": {},
   "source": [
    "## Graph\n",
    "\n",
    "\n",
    "![](figures/graph.jpg)\n",
    "\n",
    "- A set of **nodes** connected with **edges**\n",
    "- All nodes can connect to any other nodes\n",
    "- Edges might have **labels** adding information to the connection\n",
    "\n",
    "\n",
    "Graphs are very good at displaying networks, or any data set where the different data points (nodes) are connected with each other. \n"
   ]
  },
  {
   "cell_type": "markdown",
   "metadata": {},
   "source": [
    "## Data Structures - Definition\n",
    "\n",
    "\n",
    "A data structure is defined by:\n",
    "- a name\n",
    "- the type of data that can be stored\n",
    "- a number of operation definitions\n",
    "\n",
    "\n",
    "**Note:** What type of implementation that is used is not a part of the definition.\n",
    "\n",
    "---\n",
    "\n",
    "\n",
    "\n",
    "Example:\n",
    "\n",
    "- Name: StringStack\n",
    "- Data type: Strings\n",
    "- Operations\n",
    "    - push: Add a string at the top of the stack\n",
    "\t- pop: Return (and remove) the string at the top of the stack\n",
    "\t- peek: Return (without removing) the string at the top of the stack\n",
    "\t- size: Returns the current number of strings in the stack\n",
    "\n",
    "**Note:** This is more of a *description* rather than a formal definition. \n",
    "We can use mathematics (so-called formal specifications) to properly define the semantics of each operation.\n",
    "\n",
    "\n",
    "![](https://cdn.programiz.com/sites/tutorial2program/files/stack.png)"
   ]
  },
  {
   "cell_type": "markdown",
   "metadata": {},
   "source": [
    "## Introduction to tuples\n",
    "\n",
    "\n",
    "- Tuples are a sequential data structure\n",
    "- Tuples are created using parentheses like `(1,2,3,4,5)`\n",
    "- Elements can be accessed individually (e.g.`tpl[2]`) or as slices  (e.g. `tpl[1:3]`)\n",
    "- Easy to iterate over all elements: `for n in tpl: ...`\n",
    "\n"
   ]
  },
  {
   "cell_type": "code",
   "execution_count": 3,
   "metadata": {},
   "outputs": [
    {
     "name": "stdout",
     "output_type": "stream",
     "text": [
      "(1, 2, 3, 4, 5) <class 'tuple'>\n",
      "3 <class 'int'>\n",
      "(2, 3) <class 'tuple'>\n",
      "1 2 3 4 5 \n"
     ]
    }
   ],
   "source": [
    "tpl = (1,2,3,4,5)     # Create a new tuple\n",
    "print(tpl, type(tpl)) \n",
    "\n",
    "a = tpl[2]         # Access element at position 2\n",
    "print(a, type(a))  \n",
    "\n",
    "b = tpl[1:3]       # Slice elements at positions 2 and 3\n",
    "print(b, type(b)) \n",
    "\n",
    "for n in tpl:      # Iterate over all tuple element\n",
    "    print(n, end=\" \")\n",
    "print()           "
   ]
  },
  {
   "cell_type": "code",
   "execution_count": 4,
   "metadata": {},
   "outputs": [
    {
     "name": "stdout",
     "output_type": "stream",
     "text": [
      "(1, 3, 5, 2, 4, 6, 0, 0, 0, 0, 0, 0)\n",
      "1 <class 'int'>\n",
      "(2,) <class 'tuple'>\n",
      "(1, 1, 1) <class 'tuple'>\n",
      "() <class 'tuple'>\n"
     ]
    }
   ],
   "source": [
    "odd = (1,3,5)     # Create a new tuple object\n",
    "even = (2,4,6)\n",
    "zero = 3*(0,0)    # Tuple multiplication\n",
    "\n",
    "tpl = odd+even+zero  # Tuple concatenation\n",
    "print(tpl)           # (1, 3, 5, 2, 4, 6, 0, 0, 0, 0, 0, 0)\n",
    "\n",
    "one = (1)\n",
    "two = (2,)           # Notice comma inside parentheses\n",
    "three = 3*(1,)\n",
    "empty = ()\n",
    "print(one, type(one))    # 1 <class 'int'>\n",
    "print(two, type(two))    # (2,) <class 'tuple'>\n",
    "print(three,type(three)) # (1, 1, 1) <class 'tuple'>\n",
    "print(empty,type(empty)) # () <class 'tuple'>"
   ]
  },
  {
   "cell_type": "code",
   "execution_count": 6,
   "metadata": {},
   "outputs": [
    {
     "name": "stdout",
     "output_type": "stream",
     "text": [
      "(1, 2, 1, 2, 1, 2)\n"
     ]
    }
   ],
   "source": [
    "print(3*(1,2))"
   ]
  },
  {
   "cell_type": "markdown",
   "metadata": {},
   "source": [
    "- Tuples can be concatenated and multiplied to form new tuples \n",
    "- `()` is the empty tuple and `(2,)` is tuple with one element\n",
    "\n",
    "**Notice:** You need a comma to create tuples with only one element, Python interprets `(1)` as the integer 1."
   ]
  },
  {
   "cell_type": "markdown",
   "metadata": {},
   "source": [
    "# Tuples are immutable\n",
    "\n",
    "\n",
    "Immutable -> can not be modified once created"
   ]
  },
  {
   "cell_type": "code",
   "execution_count": 7,
   "metadata": {},
   "outputs": [
    {
     "ename": "TypeError",
     "evalue": "'tuple' object does not support item assignment",
     "output_type": "error",
     "traceback": [
      "\u001b[0;31m---------------------------------------------------------------------------\u001b[0m",
      "\u001b[0;31mTypeError\u001b[0m                                 Traceback (most recent call last)",
      "\u001b[0;32m<ipython-input-7-c56a4a19a829>\u001b[0m in \u001b[0;36m<module>\u001b[0;34m\u001b[0m\n\u001b[1;32m      1\u001b[0m \u001b[0mtpl\u001b[0m \u001b[0;34m=\u001b[0m \u001b[0;34m(\u001b[0m\u001b[0;36m1\u001b[0m\u001b[0;34m,\u001b[0m\u001b[0;36m2\u001b[0m\u001b[0;34m,\u001b[0m\u001b[0;36m3\u001b[0m\u001b[0;34m,\u001b[0m\u001b[0;36m4\u001b[0m\u001b[0;34m,\u001b[0m\u001b[0;36m5\u001b[0m\u001b[0;34m)\u001b[0m     \u001b[0;31m# Create a new tuple\u001b[0m\u001b[0;34m\u001b[0m\u001b[0;34m\u001b[0m\u001b[0m\n\u001b[1;32m      2\u001b[0m \u001b[0;34m\u001b[0m\u001b[0m\n\u001b[0;32m----> 3\u001b[0;31m \u001b[0mtpl\u001b[0m\u001b[0;34m[\u001b[0m\u001b[0;36m2\u001b[0m\u001b[0;34m]\u001b[0m \u001b[0;34m=\u001b[0m \u001b[0;36m99\u001b[0m    \u001b[0;31m# Error since immutable\u001b[0m\u001b[0;34m\u001b[0m\u001b[0;34m\u001b[0m\u001b[0m\n\u001b[0m\u001b[1;32m      4\u001b[0m \u001b[0;32mdel\u001b[0m \u001b[0mtpl\u001b[0m\u001b[0;34m[\u001b[0m\u001b[0;36m2\u001b[0m\u001b[0;34m]\u001b[0m     \u001b[0;31m# Error since immutable\u001b[0m\u001b[0;34m\u001b[0m\u001b[0;34m\u001b[0m\u001b[0m\n",
      "\u001b[0;31mTypeError\u001b[0m: 'tuple' object does not support item assignment"
     ]
    }
   ],
   "source": [
    "tpl = (1,2,3,4,5)     # Create a new tuple\n",
    "\n",
    "tpl[2] = 99    # Error since immutable\n",
    "del tpl[2]     # Error since immutable"
   ]
  },
  {
   "cell_type": "markdown",
   "metadata": {},
   "source": [
    "## Tuples have only two methods"
   ]
  },
  {
   "cell_type": "code",
   "execution_count": 8,
   "metadata": {},
   "outputs": [
    {
     "name": "stdout",
     "output_type": "stream",
     "text": [
      "3\n",
      "2\n"
     ]
    }
   ],
   "source": [
    "tpl = (2,2,5,5,5)     # Create a new tuple\n",
    "\n",
    "print( tpl.count(5))  # 3, Number of times 5 occurs in tuple\n",
    "print( tpl.index(5))  # 2, First position of 5\n"
   ]
  },
  {
   "cell_type": "code",
   "execution_count": null,
   "metadata": {},
   "outputs": [],
   "source": []
  },
  {
   "cell_type": "markdown",
   "metadata": {},
   "source": [
    "## Heterogeneous data\n",
    "\n",
    "Tuples (like lists) can hold heterogeneous data types\n"
   ]
  },
  {
   "cell_type": "code",
   "execution_count": 9,
   "metadata": {},
   "outputs": [],
   "source": [
    "tpl = (2,(5,6,7), \"Hello\", [89,10]) "
   ]
  },
  {
   "cell_type": "code",
   "execution_count": 13,
   "metadata": {},
   "outputs": [
    {
     "data": {
      "text/plain": [
       "90"
      ]
     },
     "execution_count": 13,
     "metadata": {},
     "output_type": "execute_result"
    }
   ],
   "source": [
    "tpl[3][0]"
   ]
  },
  {
   "cell_type": "markdown",
   "metadata": {},
   "source": [
    "## Lists vs Tuples\n",
    "\n",
    "\n",
    "![](figures/list_vs_tuple.png)\n",
    "\n",
    "- Tuples are a lighweight version of lists.\n",
    "- The most significant difference is that tuples are immutable.\n"
   ]
  },
  {
   "cell_type": "markdown",
   "metadata": {},
   "source": [
    "## Convert between tuple and list\n",
    "\n",
    "Convert between tuple and list is easy using `list()` and `tuple()`\n",
    "\n"
   ]
  },
  {
   "cell_type": "code",
   "execution_count": 14,
   "metadata": {},
   "outputs": [
    {
     "name": "stdout",
     "output_type": "stream",
     "text": [
      "[1, 2, 3, 4, 5] (1, 2, 3, 4, 5)\n",
      "[10, 20, 30, 40, 50] (10, 20, 30, 40, 50)\n"
     ]
    }
   ],
   "source": [
    "lst = list( range(1,6) )        # Range to list\n",
    "tpl = tuple(lst)                # List to tuple\n",
    "print(lst, tpl)     # [1, 2, 3, 4, 5] (1, 2, 3, 4, 5)\n",
    "   \n",
    "tpl = tuple( range(10,51,10) )  # Range to tuple\n",
    "lst = list( tpl)                # Tuple to list\n",
    "print(lst, tpl)     # [10, 20, 30, 40, 50] (10, 20, 30, 40, 50)"
   ]
  },
  {
   "cell_type": "markdown",
   "metadata": {},
   "source": [
    "## Built-in functions work as expected for tuples"
   ]
  },
  {
   "cell_type": "code",
   "execution_count": 15,
   "metadata": {},
   "outputs": [
    {
     "name": "stdout",
     "output_type": "stream",
     "text": [
      "(0, 1, 2, 3, 4)\n",
      "5\n",
      "0\n",
      "4\n",
      "10\n"
     ]
    }
   ],
   "source": [
    "tpl = tuple( range(5) )\n",
    "print(tpl)          # (0, 1, 2, 3, 4)\n",
    "print( len(tpl) )   # 5\n",
    "print( min(tpl) )   # 0\n",
    "print( max(tpl) )   # 4\n",
    "print( sum(tpl) )   # 10"
   ]
  },
  {
   "cell_type": "markdown",
   "metadata": {},
   "source": [
    "## Unpacking tuples\n",
    "\n",
    "- Unpacking -> assign tuple content to variables.\n",
    "\n",
    "- Functions returning multiple values are actually returning tuples.\n"
   ]
  },
  {
   "cell_type": "code",
   "execution_count": 16,
   "metadata": {},
   "outputs": [
    {
     "name": "stdout",
     "output_type": "stream",
     "text": [
      "1 2 3\n"
     ]
    }
   ],
   "source": [
    "tpl = (1,2,3)      # Create tuple\n",
    "a, b, c = tpl      # Unpacking tuple\n",
    "print(a,b,c)       # Output: 1 2 3\n"
   ]
  },
  {
   "cell_type": "code",
   "execution_count": 22,
   "metadata": {},
   "outputs": [],
   "source": [
    "a, b = (0,1,2)[0:2]"
   ]
  },
  {
   "cell_type": "code",
   "execution_count": 20,
   "metadata": {},
   "outputs": [
    {
     "data": {
      "text/plain": [
       "0"
      ]
     },
     "execution_count": 20,
     "metadata": {},
     "output_type": "execute_result"
    }
   ],
   "source": [
    "a"
   ]
  },
  {
   "cell_type": "code",
   "execution_count": 23,
   "metadata": {},
   "outputs": [
    {
     "name": "stdout",
     "output_type": "stream",
     "text": [
      "(5, 6, 7) <class 'tuple'>\n",
      "5 6 7\n"
     ]
    }
   ],
   "source": [
    "def m():  # Function returning three values\n",
    "    x, y, z = 5, 6, 7\n",
    "    return x,y,z\n",
    "\n",
    "# Program starts\n",
    "p = m()             # Receive multiple values as a tuple\n",
    "print(p, type(p))   # (5, 6, 7) <class 'tuple'>\n",
    "\n",
    "x,y,z = m()         # Unpack received tuple\n",
    "print(x,y,z)        # Output: 5 6 7"
   ]
  },
  {
   "cell_type": "markdown",
   "metadata": {},
   "source": [
    "- Hence, tuples and multi-assignments are closely connected\n"
   ]
  },
  {
   "cell_type": "markdown",
   "metadata": {},
   "source": [
    "## Tuples - A poor man's lists?\n",
    "\n",
    "Why bother with tuples when we have lists? After all, lists can do everything tuples can and much more.\\\\\n",
    "\n",
    "**Tuple advantages**\n",
    "- Tuple are immutable -> less error prone\n",
    "- Tuple access (e.g. `a = tpl[6]`) is faster\n",
    "- Tuple creation is faster\n",
    "- Tuple iteration is faster\n",
    "- Tuples consume less memory\n",
    "\n",
    "Hence, use tuples if possible for large data sets and time consuming operations.\n",
    "\n",
    "Recommendation: Use tuples when you know the sequence size in advance and have no need for updating the sequence. "
   ]
  },
  {
   "cell_type": "markdown",
   "metadata": {},
   "source": [
    "## Introduction to Sets\n",
    "\n",
    "- **Set:** A non-sequential data structure with no duplicate elements\n"
   ]
  },
  {
   "cell_type": "code",
   "execution_count": 36,
   "metadata": {},
   "outputs": [],
   "source": [
    "st = {11,4,3,2,1,2,3,4,4,4,4,4,10,11,11,11,11}"
   ]
  },
  {
   "cell_type": "code",
   "execution_count": 37,
   "metadata": {},
   "outputs": [
    {
     "name": "stdout",
     "output_type": "stream",
     "text": [
      "Set content: {1, 2, 3, 4, 10, 11}\n"
     ]
    }
   ],
   "source": [
    "print(\"Set content:\", st) "
   ]
  },
  {
   "cell_type": "markdown",
   "metadata": {},
   "source": [
    "Notice: All duplicate elements are removed"
   ]
  },
  {
   "cell_type": "code",
   "execution_count": 31,
   "metadata": {},
   "outputs": [
    {
     "name": "stdout",
     "output_type": "stream",
     "text": [
      "6 {2, 4, 5, 6, 7, 8}\n"
     ]
    }
   ],
   "source": [
    "# Starting from an empty set\n",
    "\n",
    "import random as rnd\n",
    "\n",
    "st = set()                  # New empty set\n",
    "for i in range(10):         # Ten random integers in range 1 to 10\n",
    "    r = rnd.randint(1,10)\n",
    "    st.add(r)               # Add if not already in set\n",
    "print(len(st), st)"
   ]
  },
  {
   "cell_type": "code",
   "execution_count": null,
   "metadata": {},
   "outputs": [],
   "source": []
  },
  {
   "cell_type": "markdown",
   "metadata": {},
   "source": [
    "- Non empty sets are created using curly brackets (e.g. `{1,2,3}`)\n",
    "- An empty set is created using `set()` (not `{}`, `{}` is reserved for dictionaries)\n",
    "- Sets are mutable -> we can add more elements using `st.add(r)`\n"
   ]
  },
  {
   "cell_type": "markdown",
   "metadata": {},
   "source": [
    "## Sets: No element order\n",
    "\n",
    "\n",
    "**Notice:** Output in no particular order -> sets are not ordered"
   ]
  },
  {
   "cell_type": "code",
   "execution_count": 33,
   "metadata": {},
   "outputs": [
    {
     "name": "stdout",
     "output_type": "stream",
     "text": [
      "{'Coconut', 'Dead parrot', 'Spam', 'Egg', 'King Arthur'}\n",
      "{2.3, 4.17, 4, -1.1}\n",
      "{17, 3, -1, 6}\n",
      "{1, 99, 3, 4, 5, 6}\n"
     ]
    }
   ],
   "source": [
    "strings = {\"Spam\", \"Egg\", \"Spam\", \"Spam\", \"King Arthur\", \"Coconut\", \"Dead parrot\"}\n",
    "print(strings)\n",
    "\n",
    "floats = {4.17, 2.3, -1.1, 2.3,4}\n",
    "print(floats)\n",
    "\n",
    "ints1 = {3, 17, -1, 6, 3}\n",
    "print(ints1)     \n",
    "\n",
    "ints2 = {5,4,3,99,1,6}\n",
    "print(ints2)"
   ]
  },
  {
   "cell_type": "code",
   "execution_count": 40,
   "metadata": {},
   "outputs": [
    {
     "name": "stdout",
     "output_type": "stream",
     "text": [
      "Coconut\n",
      "Dead parrot\n",
      "Spam\n",
      "Egg\n",
      "King Arthur\n"
     ]
    }
   ],
   "source": [
    "for s in strings:\n",
    "    print(s)"
   ]
  },
  {
   "cell_type": "markdown",
   "metadata": {},
   "source": [
    "- Set iteration similar to list, tuple, and string iteration (but in arbitrary order)\n"
   ]
  },
  {
   "cell_type": "markdown",
   "metadata": {},
   "source": [
    "## Sets: Non-sequential\n",
    "\n",
    "Sets are non-sequential and non-ordered, elements have no positions, no indexing and, no slicing."
   ]
  },
  {
   "cell_type": "code",
   "execution_count": 41,
   "metadata": {},
   "outputs": [
    {
     "ename": "TypeError",
     "evalue": "'set' object is not subscriptable",
     "output_type": "error",
     "traceback": [
      "\u001b[0;31m---------------------------------------------------------------------------\u001b[0m",
      "\u001b[0;31mTypeError\u001b[0m                                 Traceback (most recent call last)",
      "\u001b[0;32m<ipython-input-41-469dcd951e52>\u001b[0m in \u001b[0;36m<module>\u001b[0;34m\u001b[0m\n\u001b[1;32m      1\u001b[0m \u001b[0mints\u001b[0m \u001b[0;34m=\u001b[0m \u001b[0;34m{\u001b[0m\u001b[0;36m1\u001b[0m\u001b[0;34m,\u001b[0m\u001b[0;36m3\u001b[0m\u001b[0;34m,\u001b[0m\u001b[0;36m5\u001b[0m\u001b[0;34m,\u001b[0m\u001b[0;36m7\u001b[0m\u001b[0;34m,\u001b[0m\u001b[0;36m9\u001b[0m\u001b[0;34m,\u001b[0m\u001b[0;36m11\u001b[0m\u001b[0;34m}\u001b[0m\u001b[0;34m\u001b[0m\u001b[0;34m\u001b[0m\u001b[0m\n\u001b[1;32m      2\u001b[0m \u001b[0;34m\u001b[0m\u001b[0m\n\u001b[0;32m----> 3\u001b[0;31m \u001b[0ma\u001b[0m \u001b[0;34m=\u001b[0m \u001b[0mints\u001b[0m\u001b[0;34m[\u001b[0m\u001b[0;36m2\u001b[0m\u001b[0;34m]\u001b[0m         \u001b[0;31m# Error\u001b[0m\u001b[0;34m\u001b[0m\u001b[0;34m\u001b[0m\u001b[0m\n\u001b[0m\u001b[1;32m      4\u001b[0m \u001b[0msub\u001b[0m \u001b[0;34m=\u001b[0m \u001b[0mints\u001b[0m\u001b[0;34m[\u001b[0m\u001b[0;36m1\u001b[0m\u001b[0;34m:\u001b[0m\u001b[0;36m3\u001b[0m\u001b[0;34m]\u001b[0m     \u001b[0;31m# Error\u001b[0m\u001b[0;34m\u001b[0m\u001b[0;34m\u001b[0m\u001b[0m\n",
      "\u001b[0;31mTypeError\u001b[0m: 'set' object is not subscriptable"
     ]
    }
   ],
   "source": [
    "ints = {1,3,5,7,9,11}\n",
    "\n",
    "a = ints[2]         # Error\n",
    "sub = ints[1:3]     # Error"
   ]
  },
  {
   "cell_type": "markdown",
   "metadata": {},
   "source": [
    "- No positions, no indexing (e.g. `ints[2]`) and, no slicing (e.g. `ints[1:3]`)\n",
    "- No first element, no last element\n",
    "- Iteration order is arbitrary\n"
   ]
  },
  {
   "cell_type": "markdown",
   "metadata": {},
   "source": [
    "## Sets operations\n",
    "\n",
    "- Set is a class, comes with many methods\n"
   ]
  },
  {
   "cell_type": "code",
   "execution_count": 42,
   "metadata": {},
   "outputs": [
    {
     "name": "stdout",
     "output_type": "stream",
     "text": [
      "5 is in the list\n",
      "{1, 2, 3, 4, 5, 6, 7, 8}\n",
      "{1, 2, 3, 4, 6, 7, 8}\n",
      "set() {1, 2, 3, 4, 6, 7, 8}\n"
     ]
    }
   ],
   "source": [
    "ints = {1,3,5,7}\n",
    "\n",
    "ints.add(8)     # Add 8 if not already in set\n",
    "\n",
    "if 5 in ints:   # Check if 5 is in set\n",
    "    print(\"5 is in the list\")\n",
    "\n",
    "ints.update({2,4,6,8}) # Add a set of elements\n",
    "print(ints)     # {1, 2, 3, 4, 5, 6, 7, 8}\n",
    "\n",
    "ints.remove(5)    # Removes 5 from set, KeyError if not present\n",
    "ints.discard(10)  # Removes x from set if present\n",
    "print(ints)       # {1, 2, 3, 4, 6, 7, 8}\n",
    "\n",
    "cp = ints.copy()  # New set with same elements as ints\n",
    "ints.clear()      # Remove all elements from ints\n",
    "print(ints, cp)   # set() {1, 2, 3, 4, 6, 7, 8}}\n"
   ]
  },
  {
   "cell_type": "markdown",
   "metadata": {},
   "source": [
    "## Sets as mathematical set\n",
    "\n",
    "Python sets support mathematical set operations like union, intersection, ...\n",
    "\n",
    "- `s.issubset(t)`: test whether every element in s is in t -> boolean result\n",
    "- `s.issuperset(t)`: test whether every element in t is in s -> boolean result\n",
    "- `s.union(t)`: new set with elements from both s and t\n",
    "- `s.intersection(t)`: new set with elements common to s and t\n",
    "- `s.difference(t)`: new set with elements in s but not in t\n",
    "- `s.symmetric_difference(t)`: new set with elements in either s or t but not both\n",
    "\n",
    "**Not part of this course**, but feel free to use them if you are comfortable with mathematical set operations`\n",
    "\n"
   ]
  },
  {
   "cell_type": "markdown",
   "metadata": {},
   "source": [
    "## Python Set - Summary\n",
    "\n",
    "- Sets in Python are a non-sequential and non-ordered data structure with no duplicate elements\n",
    "\n",
    "- Empty sets are created using `set()`\n",
    "- Non-empty sets are created using curly brackets like `{3,1,2}`\n",
    "- Sets are mutable -> we can add and remove elements using set methods \n",
    "- Non-ordered -> arbitrary iteration and print-out order\n",
    "- Set iteration is simple: `for s in myset: ...`\n",
    "- Sets support mathematical set operations like union and intersection\n",
    "\n",
    "### When to use sets\n",
    "\n",
    "- No duplicate elements is sometimes a very useful property\n",
    "- Count number of different X -> add all X to a set and check the set size\n",
    "- Looking up an element (i.e. `x in myset`) is much faster for sets compared to lists or tuples. Implementing sets will be a part of the mini-project."
   ]
  },
  {
   "cell_type": "markdown",
   "metadata": {},
   "source": [
    "## Introduction to Dictionaries\n",
    "\n"
   ]
  },
  {
   "cell_type": "code",
   "execution_count": 43,
   "metadata": {},
   "outputs": [
    {
     "name": "stdout",
     "output_type": "stream",
     "text": [
      "Age of Ola: 55\n",
      "{'Jonas': 26, 'Ola': 55, 'Tobias': 43, 'Morgan': 45, 'Fredrik': 39}\n"
     ]
    }
   ],
   "source": [
    "# Create dictionary\n",
    "dct = {\"Jonas\":56, \"Ola\": 55, \"Tobias\":43, \"Morgan\":45, \"Fredrik\":39} \n",
    "\n",
    "age = dct[\"Ola\"]                    # Look up value for key \"Ola\"\n",
    "print(\"Age of Ola:\", age)           \n",
    "\n",
    "dct[\"Jonas\"] = 26                   # Assign \"Jonas\" a new value\n",
    "print(dct)                          # Print dictionary content"
   ]
  },
  {
   "cell_type": "markdown",
   "metadata": {},
   "source": [
    "- A **dictionary** in Python is set of **key-value** pairs\n",
    "- Often called **map** or **table** in other programming languages\n",
    "- Here (`'Jonas': 56`) and (`'Ola': 55`) are two key-value pairs\n",
    "- `age = dic[\"Ola\"]` -> We look ur the value corresponding to key `\"Ola\"`\n",
    "- A dictionary is designed for a speedy look up of the value for a certain key."
   ]
  },
  {
   "cell_type": "markdown",
   "metadata": {},
   "source": [
    "## Dictionaries: add and look-up\n",
    "\n"
   ]
  },
  {
   "cell_type": "code",
   "execution_count": 44,
   "metadata": {},
   "outputs": [
    {
     "ename": "KeyError",
     "evalue": "'Simon'",
     "output_type": "error",
     "traceback": [
      "\u001b[0;31m---------------------------------------------------------------------------\u001b[0m",
      "\u001b[0;31mKeyError\u001b[0m                                  Traceback (most recent call last)",
      "\u001b[0;32m<ipython-input-44-2d801863cdaf>\u001b[0m in \u001b[0;36m<module>\u001b[0;34m\u001b[0m\n\u001b[1;32m      5\u001b[0m \u001b[0;34m\u001b[0m\u001b[0m\n\u001b[1;32m      6\u001b[0m \u001b[0mold\u001b[0m \u001b[0;34m=\u001b[0m \u001b[0mdct\u001b[0m\u001b[0;34m[\u001b[0m\u001b[0;34m\"Jonas\"\u001b[0m\u001b[0;34m]\u001b[0m       \u001b[0;31m# Look up value for \"Jonas\" ==> OK\u001b[0m\u001b[0;34m\u001b[0m\u001b[0;34m\u001b[0m\u001b[0m\n\u001b[0;32m----> 7\u001b[0;31m \u001b[0myoung\u001b[0m \u001b[0;34m=\u001b[0m \u001b[0mdct\u001b[0m\u001b[0;34m[\u001b[0m\u001b[0;34m\"Simon\"\u001b[0m\u001b[0;34m]\u001b[0m     \u001b[0;31m# Look up non-existing key ==> KeyError\u001b[0m\u001b[0;34m\u001b[0m\u001b[0;34m\u001b[0m\u001b[0m\n\u001b[0m",
      "\u001b[0;31mKeyError\u001b[0m: 'Simon'"
     ]
    }
   ],
   "source": [
    "dct = {\"Jonas\":46, \"Ola\": 68, \"Tobias\":33, \"Morgan\":45, \"Fredrik\":39} \n",
    "\n",
    "dct[\"Jesper\"] = 50       # Add new key-value pair\n",
    "dct[\"Jonas\"] = 57        # Assign key \"Jonas\" a new value\n",
    "\n",
    "old = dct[\"Jonas\"]       # Look up value for \"Jonas\" ==> OK\n",
    "young = dct[\"Simon\"]     # Look up non-existing key ==> KeyError "
   ]
  },
  {
   "cell_type": "markdown",
   "metadata": {},
   "source": [
    "- `dct[\"Jesper\"] = 50` -> Add new key-value pair since \"Jesper\" is a new key\n",
    "- `dct[\"Jonas\"] = 50` -> Assign a new value since \"Jonas\" is an existing key\n",
    "- `old = dct[\"Jonas\"]` -> Look up value for \"Jonas\" -> OK since an existing key\n",
    "-  `young = dct[\"Simon\"]` -> KeyError since key \"Simon\" is missing \n"
   ]
  },
  {
   "cell_type": "markdown",
   "metadata": {},
   "source": [
    "## Starting from an empty dictionary\n",
    "\n"
   ]
  },
  {
   "cell_type": "code",
   "execution_count": 45,
   "metadata": {},
   "outputs": [
    {
     "name": "stdout",
     "output_type": "stream",
     "text": [
      "{10: 100, 11: 121, 12: 144, 13: 169, 14: 196, 15: 225}\n",
      "Dictionary size: 6\n"
     ]
    }
   ],
   "source": [
    "dct = {}   # An empty dictionary (NOTE, note a set().)\n",
    "\n",
    "for i in range(10,16):  # 10, 11, 12, 13, 14, 15\n",
    "    sq = i*i\n",
    "    dct[i] = sq      # Add new key-value pair\n",
    "\n",
    "print(dct)           \n",
    "print(\"Dictionary size:\", len(dct))\n"
   ]
  },
  {
   "cell_type": "code",
   "execution_count": 46,
   "metadata": {},
   "outputs": [
    {
     "data": {
      "text/plain": [
       "144"
      ]
     },
     "execution_count": 46,
     "metadata": {},
     "output_type": "execute_result"
    }
   ],
   "source": [
    "dct[12]"
   ]
  },
  {
   "cell_type": "markdown",
   "metadata": {},
   "source": [
    "- `dct = {}` -> We create a new empty dictionary\n",
    "    - Hence, `{}` is an empty dictionary and  `set()` is an empty set\n",
    "    \n",
    "- Dictionary can handle all types of keys and values\n",
    "- Heterogeneous types: `{8: 44, True:  right ,  Beta : 100, 3.4: True,  Alpha :  up }`\n",
    "- `len(dct)` -> Dictionary size -> Number of key-value pairs\n"
   ]
  },
  {
   "cell_type": "code",
   "execution_count": 51,
   "metadata": {},
   "outputs": [],
   "source": [
    "dct = {\"King\": \"Arthur\",\"Passphrase\":{\"Gate\":[0,1,3],\"Tower\":\"Green\"}}"
   ]
  },
  {
   "cell_type": "code",
   "execution_count": 53,
   "metadata": {},
   "outputs": [
    {
     "data": {
      "text/plain": [
       "3"
      ]
     },
     "execution_count": 53,
     "metadata": {},
     "output_type": "execute_result"
    }
   ],
   "source": [
    "dct[\"Passphrase\"]['Gate'][2]"
   ]
  },
  {
   "cell_type": "markdown",
   "metadata": {},
   "source": [
    "## Iterating over dictionary pairs\n",
    "\n"
   ]
  },
  {
   "cell_type": "code",
   "execution_count": 55,
   "metadata": {},
   "outputs": [
    {
     "name": "stdout",
     "output_type": "stream",
     "text": [
      "Fred Ella Owen Zoe \n",
      "44 39 40 41 \n",
      "('Fred', 44) ('Ella', 39) ('Owen', 40) ('Zoe', 41) \n"
     ]
    }
   ],
   "source": [
    "d = {\"Fred\" : 44, \"Ella\" : 39, \"Owen\" : 40, \"Zoe\" : 41}\n",
    "\n",
    "for k in d.keys():        # Iterate over keys\n",
    "    print(k, end= \" \")    # Fred Ella Owen Zoe\n",
    "print()\n",
    "\n",
    "for v in d.values():      # Iterate over values\n",
    "    print(v, end= \" \")    # 44 39 40 41 \n",
    "print()\n",
    "\n",
    "for k in d.items():     # Iterate over  key-value pairs\n",
    "    print(k, end= \" \") # Fred 44 Ella 39 Owen 40 Zoe 41\n",
    "print()\n"
   ]
  },
  {
   "cell_type": "markdown",
   "metadata": {},
   "source": [
    "- Methods `d.keys()` and `d.values()` give access to keys and values\n",
    "- Method `d.items()` gives access to key-value pairs\n",
    "- Iteration is non-ordered -> they can come out in any order"
   ]
  },
  {
   "cell_type": "markdown",
   "metadata": {},
   "source": [
    "## Use dictionary for counting\n",
    "\n",
    "Problem: Generate 1000 random integers in range 1-10 and print how many of each number that is generated.\n"
   ]
  },
  {
   "cell_type": "code",
   "execution_count": 59,
   "metadata": {},
   "outputs": [
    {
     "name": "stdout",
     "output_type": "stream",
     "text": [
      "6\t90\n",
      "2\t90\n",
      "8\t87\n",
      "3\t84\n",
      "1\t76\n",
      "4\t86\n",
      "11\t88\n",
      "7\t81\n",
      "10\t79\n",
      "5\t75\n",
      "9\t95\n",
      "12\t69\n"
     ]
    }
   ],
   "source": [
    "import random as rnd\n",
    "\n",
    "count = {}     # An empty dictionary\n",
    "for i in range(1000):\n",
    "    r = rnd.randint(1,12)\n",
    "    if r not in count:  # If r not in dictionary ...\n",
    "        count[r] = 0    # ... add with count zero\n",
    "    count[r] += 1       # Update count for key r\n",
    "\n",
    "for k,v in count.items():  \n",
    "    print(f\"{k}\\t{v}\")  # tab separated k,v print"
   ]
  },
  {
   "cell_type": "markdown",
   "metadata": {},
   "source": [
    "- Dictionaries are excellent for counting how many x,y,z, ... we have found.\n",
    "- Just remember to initialize a new key-value pair (x,0) the first time you see a new x."
   ]
  },
  {
   "cell_type": "markdown",
   "metadata": {},
   "source": [
    "## Grouping elements using dictionaries\n",
    "\n",
    "Problem: Generate 20 random integers in range 1-100\n",
    "and group them as *odd* or *even*."
   ]
  },
  {
   "cell_type": "code",
   "execution_count": 60,
   "metadata": {},
   "outputs": [
    {
     "name": "stdout",
     "output_type": "stream",
     "text": [
      "odd\t[83, 45, 13, 71, 89, 91, 99, 11]\n",
      "even\t[18, 96, 20, 90, 84, 50, 66, 82, 68, 26, 12, 34]\n"
     ]
    }
   ],
   "source": [
    "import random as rnd\n",
    "\n",
    "# Initialize groups with two empty lists\n",
    "groups = {\"odd\":[], \"even\":[]}\n",
    "\n",
    "for i in range(20):\n",
    "    r = rnd.randint(1,100)\n",
    "    if r % 2 == 0:\n",
    "        groups[\"even\"] += [r]   # Add r to even list\n",
    "    else:\n",
    "        groups[\"odd\"] += [r]    # Add r to odd list\n",
    "\n",
    "for k,v in groups.items():\n",
    "    print(f\"{k}\\t{v}\")     # Tab separated print"
   ]
  },
  {
   "cell_type": "markdown",
   "metadata": {},
   "source": [
    "## Dictionary Comprehensions\n",
    "\n",
    "- List Comprehensions -> a short (and fast) way to construct new lists\n",
    "- Dictionary Comprehensions -> a short (and fast) way to construct new dictionaries"
   ]
  },
  {
   "cell_type": "code",
   "execution_count": 62,
   "metadata": {},
   "outputs": [
    {
     "name": "stdout",
     "output_type": "stream",
     "text": [
      "[8, 64, 216, 512, 1000]\n",
      "{2: 8, 4: 8, 6: 8, 8: 8, 10: 8}\n"
     ]
    }
   ],
   "source": [
    "# List comprehension\n",
    "lst = [n**3 for n in range(2,11,2)]    # n = 2,4,6,8,10 \n",
    "print(lst)\n",
    "\n",
    "# Dictionary comprehension\n",
    "dct = {n:2**3 for n in range(2,11,2)}\n",
    "print(dct)"
   ]
  },
  {
   "cell_type": "markdown",
   "metadata": {},
   "source": [
    "- Hence, we generate pairs (`n:n**3`) rather than single elements (`n**3`) when we use dictionary comprehensions. The result is a new dictionary."
   ]
  },
  {
   "cell_type": "markdown",
   "metadata": {},
   "source": [
    "## Data Structure Summary\n",
    "\n",
    "- Lists, tuples, sets, and dictionaries are all data structures \n",
    "- Each of them has their own set of properties\n",
    "- Lists are sequential, mutable and very flexible\n",
    "- Tuples (a fast and light version of lists) are sequential and immutable\n",
    "- Sets are non-ordered, non-sequential, has no duplicate elements, and provides a fast look up (compared to lists and tuples)\n",
    "- Dictionaries are a non-ordered collection of key-value pairs designed to provide a fast look up of values for a certain key.\n",
    "\n",
    "---\n",
    "\n",
    "\n",
    "- Consider the data structures as tools in a toolbox. Learn their properties and how to use them. \n",
    "- List are most frequently used, shortly followed by dictionaries. **They are both great!**"
   ]
  },
  {
   "cell_type": "markdown",
   "metadata": {},
   "source": [
    "## The `zip` function\n",
    "\n",
    "- Sequential data like strings, lists, and tuples can be zipped\n",
    "- `zip(a,b)` -> form a sequence of tuple pairs, one element from each of a and b.\n",
    "- The shorter sequence decides the length of the result\n",
    "- The zip result can be a list (using `list()`) or a tuple (using `tuple()`)\n"
   ]
  },
  {
   "cell_type": "code",
   "execution_count": 63,
   "metadata": {},
   "outputs": [
    {
     "name": "stdout",
     "output_type": "stream",
     "text": [
      "[('Jonas', 56), ('Ola', 55), ('Tobias', 43), ('Morgan', 45)]\n"
     ]
    }
   ],
   "source": [
    "teachers = (\"Jonas\", \"Ola\", \"Tobias\", \"Morgan\", \"Fredrik\") # Tuple\n",
    "ages = (56, 55, 43, 45)   # No age for Fredrik! . Tuple\n",
    "\n",
    "lst = list( zip(teachers,ages) )  # Create list of tuples\n",
    "print(lst)"
   ]
  },
  {
   "cell_type": "code",
   "execution_count": 64,
   "metadata": {},
   "outputs": [
    {
     "name": "stdout",
     "output_type": "stream",
     "text": [
      "((1, 56), (2, 55), (3, 43), (4, 45)) <class 'tuple'>\n"
     ]
    }
   ],
   "source": [
    "lst = [1,2,3,4]\n",
    "tpl = tuple( zip(lst,ages) )      # Zip list and tuple ==> tuple of tuples\n",
    "print(tpl, type(tpl))                        \n",
    "       "
   ]
  },
  {
   "cell_type": "code",
   "execution_count": 65,
   "metadata": {},
   "outputs": [
    {
     "name": "stdout",
     "output_type": "stream",
     "text": [
      "[(1, 'H'), (2, 'e'), (3, 'l'), (4, 'l')] <class 'list'>\n"
     ]
    }
   ],
   "source": [
    "s = \"Hello world\"\n",
    "lst = [1,2,3,4]\n",
    "\n",
    "lst = list( zip(lst,s) )       # Zip list and string ==> tuple\n",
    "print(lst, type(lst))   "
   ]
  },
  {
   "cell_type": "markdown",
   "metadata": {},
   "source": [
    "## The `join` method for strings\n",
    "\n",
    "`string_name.join(iterable`\n",
    "\n",
    "- The `join()` method takes iterable objects. Examples are List, Tuple, String, Dictionary and Set\n"
   ]
  },
  {
   "cell_type": "code",
   "execution_count": 66,
   "metadata": {},
   "outputs": [
    {
     "name": "stdout",
     "output_type": "stream",
     "text": [
      "Jonas x Ola x Tobias x Morgan x Fredrik\n"
     ]
    }
   ],
   "source": [
    "teachers = (\"Jonas\", \"Ola\", \"Tobias\", \"Morgan\", \"Fredrik\")\n",
    "print( \" x \".join(teachers) )\n"
   ]
  },
  {
   "cell_type": "code",
   "execution_count": 67,
   "metadata": {},
   "outputs": [
    {
     "name": "stdout",
     "output_type": "stream",
     "text": [
      "att - fler - exempel - visa\n"
     ]
    }
   ],
   "source": [
    "s = {'fler','exempel','att','visa'}\n",
    "\n",
    "print(' - '.join(s))"
   ]
  },
  {
   "cell_type": "code",
   "execution_count": 68,
   "metadata": {},
   "outputs": [
    {
     "name": "stdout",
     "output_type": "stream",
     "text": [
      "1 --> 2 --> 3 --> 4\n"
     ]
    }
   ],
   "source": [
    "lst = [1,2,3,4]\n",
    "as_strings = [str(n) for n in lst]\n",
    "print( \" --> \".join(as_strings))"
   ]
  },
  {
   "cell_type": "code",
   "execution_count": 69,
   "metadata": {},
   "outputs": [
    {
     "data": {
      "text/plain": [
       "['1', '2', '3', '4']"
      ]
     },
     "execution_count": 69,
     "metadata": {},
     "output_type": "execute_result"
    }
   ],
   "source": [
    "as_strings"
   ]
  },
  {
   "cell_type": "code",
   "execution_count": 70,
   "metadata": {},
   "outputs": [
    {
     "name": "stdout",
     "output_type": "stream",
     "text": [
      "H ------> e ------> l ------> l ------> o\n"
     ]
    }
   ],
   "source": [
    "s = \"Hello\"\n",
    "print( \" ------> \".join(s)) "
   ]
  },
  {
   "cell_type": "markdown",
   "metadata": {},
   "source": [
    "- The `join()` string method returns a string by joining all the elements of a string sequence, separated by a string separator.\n",
    "- Syntax: `sep_string.join( string_sequence )` where `string_sequence` is a sequence (list, tuple or string) containing strings, and `sep_string` is the string that will separate the elements in `string_sequence` once they been joined"
   ]
  },
  {
   "cell_type": "markdown",
   "metadata": {},
   "source": [
    "## The keywords `None` and `pass`"
   ]
  },
  {
   "cell_type": "code",
   "execution_count": 74,
   "metadata": {},
   "outputs": [
    {
     "name": "stdout",
     "output_type": "stream",
     "text": [
      "None\n",
      "None\n"
     ]
    }
   ],
   "source": [
    "def is_positive(n):\n",
    "    if n == 0:\n",
    "        return    # Will return None\n",
    "    else:\n",
    "        return n > 0\n",
    "\n",
    "def tricky_function():\n",
    "    return\n",
    "# Function with no return value\n",
    "    # Not yet implemented                   # Compilation error if removed\n",
    "\n",
    "# Program starts\n",
    "print( is_positive(0) )    # Output: None\n",
    "\n",
    "p = tricky_function()\n",
    "print(p)                   # Output: None"
   ]
  },
  {
   "cell_type": "markdown",
   "metadata": {},
   "source": [
    "- The keyword `pass` is a null (empty) statement. Not ignored by the interpreter but nothing will happens. The pass statement is useful when you don't write the implementation of a function but you want to implement it in the future.\n",
    "- The `None` keyword is used to define a null value, or no value at all. Operations on None will give an error."
   ]
  },
  {
   "cell_type": "code",
   "execution_count": 72,
   "metadata": {},
   "outputs": [],
   "source": [
    "# Not recommended at all ! :) \n",
    "\n",
    "try:\n",
    "    5/0\n",
    "    y = not_defined_variable\n",
    "    file = open('non_existing_file.txt','r')\n",
    "except Exception:\n",
    "    pass"
   ]
  },
  {
   "cell_type": "markdown",
   "metadata": {},
   "source": [
    "\n",
    "# Lecture 8 completed -> only the mini-project remains\n"
   ]
  },
  {
   "cell_type": "code",
   "execution_count": null,
   "metadata": {},
   "outputs": [],
   "source": []
  }
 ],
 "metadata": {
  "kernelspec": {
   "display_name": "Python 3",
   "language": "python",
   "name": "python3"
  },
  "language_info": {
   "codemirror_mode": {
    "name": "ipython",
    "version": 3
   },
   "file_extension": ".py",
   "mimetype": "text/x-python",
   "name": "python",
   "nbconvert_exporter": "python",
   "pygments_lexer": "ipython3",
   "version": "3.8.3"
  }
 },
 "nbformat": 4,
 "nbformat_minor": 4
}
