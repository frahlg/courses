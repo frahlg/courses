{
 "cells": [
  {
   "cell_type": "markdown",
   "metadata": {},
   "source": [
    "# Session 6\n",
    "# 1DV501 Intro to programming\n",
    "\n",
    "\n",
    "\n"
   ]
  },
  {
   "cell_type": "code",
   "execution_count": null,
   "metadata": {},
   "outputs": [],
   "source": []
  },
  {
   "cell_type": "markdown",
   "metadata": {},
   "source": [
    "\n",
    "## Classes and Objects\n",
    "\n",
    "Primitive types (e.g. `int`) have simple values (e.g. 237+)  and operations (e.g. `|+, -, *, /`).\n",
    "\n",
    "Entities like for example a bank account have more complex values, they require a mixture of multiple values to be correctly described\n",
    "\n",
    "- A class is a definition of a more complex type\n",
    "- Values of a class are called objects (or instances of a class)\n",
    "\n",
    "| class bank_account | Object 1 | Object 2 | Object 3 |\n",
    "| --- | --- | --- | ---| \n",
    "| Owner: | Jonas | Henrik | Nils |\n",
    "| No: | 4758-8696  | 3246-9744 | 5432-2347\n",
    "| Balance: | 34.345 kr | 8.456kr | 97.654kr\n",
    "\n",
    "- Classes (e.g. **bank_account** have more complex values(e.g. Jonas, 4758-8696, 34.345kr)\n",
    "- The current values associated with an objects (e.g. Jonas, 4758-8696, 34.345kr) is called the **object state**"
   ]
  },
  {
   "cell_type": "markdown",
   "metadata": {},
   "source": [
    "## Methods\n",
    "\n",
    "- Types like `int` have simple values like `237` and operations like`*+`\n",
    "- Classes have complex values and a set of operators called **methods**\n",
    "- The class `string` has for example a method called `upper()`\n",
    "\n",
    "```python\n",
    "s = \"Hello\"       # \"Hello\" is an object of type/class string\n",
    "\n",
    "s = s.upper()     # Apply method on string object \"Hello\"\n",
    "print(s)          # Output: HELLO\n",
    "```"
   ]
  },
  {
   "cell_type": "code",
   "execution_count": 2,
   "metadata": {},
   "outputs": [
    {
     "name": "stdout",
     "output_type": "stream",
     "text": [
      "HELLO\n"
     ]
    }
   ],
   "source": [
    "s = \"Hello\"       # \"Hello\" is an object of type/class string\n",
    "\n",
    "s = s.upper()     # Apply method on string object \"Hello\"\n",
    "print(s)          # Output: HELLO"
   ]
  },
  {
   "cell_type": "markdown",
   "metadata": {},
   "source": [
    "- A class defines properties of a given type of objects\n",
    "- A class definition (often a separate file) is a bit of code defining:\n",
    "\n",
    "    - Attributes: The data we associate with the class (for example owner, account number, and saldo for a back account)\n",
    "    - Methods: Operations we can do on an object (for example `update_balance` on `bank_account` object)"
   ]
  },
  {
   "cell_type": "markdown",
   "metadata": {},
   "source": [
    "## Method Calls\n",
    "- Classes come with a specific set of operators called \\textbf{methods}\n",
    "- The methods of class A can only be applied on objects of class A \n",
    "- Methods are called (applied) on variables referencing an object\n",
    "```python\n",
    "s = \"Hello\"             # \"hello\" is an object of class string\n",
    "print( s.upper() )      # Output: HELLO\n",
    "```\n"
   ]
  },
  {
   "cell_type": "markdown",
   "metadata": {},
   "source": [
    "- General pattern for a method call\n",
    "\n",
    "![](figures/method_call.png)\n",
    "\n",
    "- In this lecture we look at a few common classes from the Python library\n",
    "- We will *not* create our own classes"
   ]
  },
  {
   "cell_type": "markdown",
   "metadata": {},
   "source": [
    "## String objects and methods\n",
    "\n",
    "### The string class `str`\n",
    "\n",
    "\n",
    "- Strings are objects of a predefined class `str\n",
    "```python\n",
    "print( type(\"Hello\") )      # Output: <class 'str'>\n",
    "```\n",
    "- We create new string objects using double `\"Hi\"` or single quotes`'Hi'`\n",
    "- The string class `str` has many methods \n",
    "\n",
    "```python\n",
    "\n",
    "s = \"Hello\"  \n",
    "\n",
    "print( s.upper() )           # Output: HELLO\n",
    "print( s.count(\"l\") )        # Output: 2\n",
    "print( s.find(\"lo\") )        # Output: 3\n",
    "print( s.endswith(\"xxx\") )   # Output: False\n",
    "print( s.isalpha() )         # Output: True\n",
    "```\n",
    "\n",
    "- `s.count(\"l\")`  number of \"l\" in string `s`\n",
    "- `s.find(\"lo\")` first position of \"lo\" in string `s`\n",
    "- `s.endswith(\"xxx\"` is `True` if string `s` ends with \"xxx\"\n",
    "- `s.isalpha()` `True` if string `s` only contains letters"
   ]
  },
  {
   "cell_type": "markdown",
   "metadata": {},
   "source": [
    "## The Python Standard Library\n",
    "\n",
    "- The string class `str` comes with many methods \n",
    "- It is hard to remember all details about all method`\n",
    " \n",
    "- The official documentation for the string class is:\n",
    "- https://docs.python.org/3/library/\n",
    "- The documentation is called the **Python Standard Library**\n",
    "\n",
    "- The website documents all Python's built-in types, classes and functions\n",
    "- Hard reading since designed for professionals\n",
    "- **This documentation (and your IDE) will be your only help at the Python Test** -->Get familiar with it!"
   ]
  },
  {
   "cell_type": "markdown",
   "metadata": {},
   "source": [
    "## Methods vs Built-in Function\n",
    "\n",
    "- Many built-in functions in Python can also be applied on strings\n",
    "\n",
    "```python\n",
    "s = \"abcABC\" \n",
    "\n",
    "print( len(s) )          # Output:6\n",
    "print( min(s) )          # Output: A\n",
    "print( max(s) )          # Output: c\n",
    "print( min(\"aA1\"))       # Output: 1\n",
    "print( min(\"aA 1{\")).    # Output: \" \"   (whitespace)\n",
    "print( max(\"aA 1{\"))     # Output: {\n",
    "```\n",
    "\n",
    "- `min(s)` -> first character in alphabetical order\n",
    "- `max(s)` -> last character in alphabetical order\n",
    "- alphabetical order: First digits, than upper case, then lower case, other character are sorted based on their ASCII number\n",
    "- Notice also how built-in functions are applied (e.g. `len(s)`) compared to how methods are applied (e.g. `s.upper()`)"
   ]
  },
  {
   "cell_type": "markdown",
   "metadata": {},
   "source": [
    "### fractions — Rational numbers\n",
    "\n",
    "Source code: Lib/fractions.py\n",
    "\n",
    "https://docs.python.org/3/library/fractions.html\n",
    "\n",
    "The fractions module provides support for rational number arithmetic.\n",
    "\n",
    "A **Fraction instance** can be **constructed** from a pair of integers, from another rational number, or from a string.\n",
    "\n",
    "```\n",
    "class fractions.Fraction(numerator=0, denominator=1)\n",
    "class fractions.Fraction(other_fraction)\n",
    "class fractions.Fraction(float)\n",
    "class fractions.Fraction(decimal)\n",
    "class fractions.Fraction(string)\n",
    "```\n",
    "\n",
    "The first version requires that numerator and denominator are *instances* of numbers. Rational and returns a new Fraction instance with value numerator/denominator. "
   ]
  },
  {
   "cell_type": "markdown",
   "metadata": {},
   "source": [
    "# Fraction objects and methods\n",
    "\n",
    "## The class `Fraction`\n",
    "\n",
    "- The module fractions contains a class Fraction\n",
    "\n",
    "```python\n",
    "from fractions import Fraction\n",
    "\n",
    "f1 = Fraction(1,2)        # Create Fraction object 1/2\n",
    "f2 = Fraction(1,3)\n",
    "fsum = f1+f2              # Store 1/2 + 1/3 in variable fsum \n",
    "\n",
    "print(f1, type(f1))       # Output: 1/2 <class 'fractions.Fraction'>\n",
    "print(fsum)               # Output: 5/6\n",
    "print(fsum.numerator)     # Output: 5\n",
    "print(fsum.denominator)   # Output: 6\n",
    "```\n",
    "\n",
    "- We create a Fraction object 1/2 by calling a method `Fraction(1,2)`\n",
    "- Methods used to create new objects are called **constructors**\n",
    "- Creating a new object of class A using a constructor named A, is the standard approach\n",
    "- `fsum.numerator` is not a method call, we are accessing the attribute called `numerator` -> the data values representing the object state\n"
   ]
  },
  {
   "cell_type": "markdown",
   "metadata": {},
   "source": [
    "\n",
    "--- \n",
    "\n",
    "`limit_denominator(max_denominator=1000000)`\n",
    "\n",
    "Finds and returns the closest Fraction to self that has denominator at most *max_denominator*.\n",
    "\n",
    "- This method is useful for finding rational approximations to a given floating-point number:\n"
   ]
  },
  {
   "cell_type": "code",
   "execution_count": 45,
   "metadata": {},
   "outputs": [
    {
     "data": {
      "text/plain": [
       "Fraction(22, 7)"
      ]
     },
     "execution_count": 45,
     "metadata": {},
     "output_type": "execute_result"
    }
   ],
   "source": [
    "from fractions import Fraction\n",
    "Fraction('3.1415926535897932').limit_denominator(10)"
   ]
  },
  {
   "cell_type": "code",
   "execution_count": 62,
   "metadata": {},
   "outputs": [
    {
     "data": {
      "text/plain": [
       "Fraction(355, 113)"
      ]
     },
     "execution_count": 62,
     "metadata": {},
     "output_type": "execute_result"
    }
   ],
   "source": [
    "from math import pi\n",
    "Fraction(pi).limit_denominator(1000)"
   ]
  },
  {
   "cell_type": "markdown",
   "metadata": {},
   "source": [
    "- We introduce class `Fraction` just to show how a typical class is used\n",
    "- Objects in a typical class are created using constructors \n",
    "- String objects created using `\" \"` or `' '` is an exception\n",
    "    - The string object creation (and lists and tuples objects) is simplified since their creation is very common"
   ]
  },
  {
   "cell_type": "markdown",
   "metadata": {},
   "source": [
    "# Working with lists\n",
    "\n",
    "\n",
    "## Data Structures -- Introduction\n",
    "\n",
    "- We often need to handle large sets of data\n",
    "- A *data structure* is a model for storing/handling such data sets\n",
    "- Scenarios where data structures are needed \n",
    "    1. Students in a course\n",
    "    2. Measurements from an experiment\n",
    "    3. Queue to get an apartment at our campus\n",
    "    4. Telephone numbers in Stockholm\n",
    "\n",
    "---\n",
    "\n",
    "- Different scenarios require different data structure properties \n",
    "\n",
    "    1. Data should be ordered\n",
    "    2. Not the same element twice \n",
    "    3. Important that look-up is fast\n",
    "    4. In general: Important that operations X,Y,Z are fast\n",
    "\n",
    "\n",
    "- Selecting data structure is a design decision -> might affect performance, modifiability, and program comprehension.\n",
    "\n",
    "- **Today**: Lists, later on tuples, sets, and dictionaries"
   ]
  },
  {
   "cell_type": "markdown",
   "metadata": {},
   "source": [
    "## Introducing lists\n",
    "\n",
    "```python\n",
    "l = [1,2,3,4,5]             # A list containing 1,2,3,4,5\n",
    "\n",
    "print( l, type(l) )         # Output: [1, 2, 3, 4, 5] <class 'list'>\n",
    "print( l[0], type(l[0]) )   # Output: 1 <class 'int'>\n",
    "```\n",
    "\n",
    "\n",
    "- A list like `[1,2,3,4,5]` is an object of class `list`\n",
    "- We create lists using enclosing square brackets\n",
    "- They represent a sequence of data, each value is called an `element` \n",
    "- We can access individual element using square brackets like `l[0]` \n",
    "\n",
    "- The first position is 0 -> `l[0]` is the first element\n",
    "- `[1,2,3,4,5]` is an integer list, but we can create lists of any type (or with mixed types)\n",
    "- `list` is a built-in type -> no need for any import statement\n"
   ]
  },
  {
   "cell_type": "markdown",
   "metadata": {},
   "source": [
    "## Manipulating lists\n",
    "\n",
    "```python\n",
    "lst = [1,2,3,4,5]\n",
    "\n",
    "lst[2] = 99                # Replace element at position 2\n",
    "print(lst)                 # Output: [1, 2, 99, 4, 5]\n",
    "\n",
    "# Iterate over all list indices\n",
    "for i in range( len(lst) ):\n",
    "    print( lst[i], end=\" \")         # Output: 1 2 99 4 5\n",
    "print()\n",
    "\n",
    "# Iterate over all list elements\n",
    "for n in lst:\n",
    "    print( n, end=\" \")               # Output: 1 2 99 4 5\n",
    "print()\n",
    "```\n",
    "\n",
    "\n",
    "- We can replace a list element using `lst[2] = 99`\n",
    "- Iteration using indices: `for i in range( len(lst) ):`  \n",
    "- Iteration using element directly: `for n in lst:`\n",
    "\n",
    "---\n",
    "\n"
   ]
  },
  {
   "cell_type": "code",
   "execution_count": 72,
   "metadata": {},
   "outputs": [
    {
     "name": "stdout",
     "output_type": "stream",
     "text": [
      "Yes, there is a three\n",
      "And no King Arthur\n"
     ]
    }
   ],
   "source": [
    "my_list = [1,3,4,'Batman',2.5]\n",
    "if 3 in my_list: print('Yes, there is a three')\n",
    "if not 'King Arthur' in my_list: print('And no King Arthur')"
   ]
  },
  {
   "cell_type": "markdown",
   "metadata": {},
   "source": [
    "## Building lists\n",
    "\n",
    "Python supports several ways of building a list besides enumerating all elements\n",
    "\n",
    "\n",
    "```python\n",
    "odd = [1,3,5]\n",
    "even = [2,4,6]\n",
    "zeros = 3*[0]                # List multiplication \n",
    "\n",
    "lst = odd + even + zeros    # List concatenation*\n",
    "print(lst)        # Output: [1, 3, 5, 2, 4, 6, 0, 0, 0]\n",
    "\n",
    "lst += [10]\n",
    "print(lst)        # Output: [1, 3, 5, 2, 4, 6, 0, 0, 0, 10]\n",
    "\n",
    "for i in range(100,141,10):\n",
    "    odd += [i]\n",
    "print(odd)        # [1, 3, 5, 100, 110, 120, 130, 140]\n",
    "```\n",
    "\n",
    "\n",
    "- Hence, we can construct new lists by adding two (or more) lists\n",
    "- Very much like string concatenation and string multiplication. You will see that strings and lists have a lot of properties in common. \n",
    "\n",
    "\n",
    "*the action of linking things together in a series"
   ]
  },
  {
   "cell_type": "markdown",
   "metadata": {},
   "source": [
    "## Example with list methods\n",
    "\n",
    "- The list class comes with several methods\n",
    "\n",
    "```python\n",
    "animals = ['dog', 'cat', 'rabbit', 'wolf']\n",
    "animals.append('tiger')  # Add 'tiger' at the end of the list\n",
    "print(animals)           # ['dog', 'cat', 'rabbit', 'wolf', 'tiger']\n",
    "\n",
    "animals.insert(0,'fox')  # Insert 'fox' at position 0\n",
    "print(animals)           # ['fox', 'dog', 'cat', 'rabbit', 'wolf', 'tiger']\n",
    "\n",
    "animals.remove('rabbit') # Remove first instance of 'rabbit'\n",
    "print(animals)           # ['fox', 'dog', 'cat', 'wolf', 'tiger']\n",
    "\n",
    "animals.pop(1).          # Remove element at position 1\n",
    "print(animals)           # ['fox', 'cat', 'wolf', 'tiger']\n",
    "\n",
    "animals.sort()           # Sort alphabetically\n",
    "print(animals)           # ['cat', 'fox', 'tiger', 'wolf']\n",
    "\n",
    "```\n",
    "\n",
    "- All these methods manipulates (changes) the list content. \n"
   ]
  },
  {
   "cell_type": "markdown",
   "metadata": {},
   "source": [
    "## More list methods\n",
    "\n",
    "List methods in addition to `append, insert, remove, pop` and `sort`\n",
    "\n",
    "- `count()`: Returns the number of elements in the list\n",
    "- `index()`: Returns the position where n first occurs\n",
    "-  `reverse()`: Reverses the order of the elements in the list\n",
    "-  `copy()`: Returns a copy of the list (a new list)\n",
    "-  `clear()`: Removes all elements from the list\n",
    "- `extend( list 2)`: Appends `list2` to this list"
   ]
  },
  {
   "cell_type": "markdown",
   "metadata": {},
   "source": [
    "## Example starting with an empty list\n",
    "\n",
    "```python\n",
    "from random import randint\n",
    "\n",
    "numbers = []                 # We start with an empty list\n",
    "for i in range(10):\n",
    "    rn = randint(1,100)\n",
    "    numbers.append( rn )     # Append one element at the time\n",
    "print( numbers )             # [26, 90, 77, 82, 30, 48, 100, 85, 55, 88]\n",
    "\n",
    "numbers.reverse()            # Reverse order of element\n",
    "print( numbers )             # [88, 55, 85, 100, 48, 30, 82, 77, 90, 26]\n",
    "\n",
    "numbers.sort()               # Sort in ascending order\n",
    "print( numbers )             # [26, 30, 48, 55, 77, 82, 85, 88, 90, 100]\n",
    "\n",
    "numbers.sort(reverse = True) # Sort in descending order\n",
    "print( numbers )             # [100, 90, 88, 85, 82, 77, 55, 48, 30, 26]\n",
    "```\n",
    "\n",
    "- We start with an empty list (`numbers = []`) and add new random numbers one at the time (`numbers.append( rn )`)\n",
    "- By overriding  default `reverse = True` in `sort` we change the sorting order"
   ]
  },
  {
   "cell_type": "code",
   "execution_count": 98,
   "metadata": {},
   "outputs": [
    {
     "name": "stdout",
     "output_type": "stream",
     "text": [
      "Random: \t [51, 20, 94, 62, 86, 79, 30, 51, 27, 85]\n",
      "Reverse: \t [85, 27, 51, 30, 79, 86, 62, 94, 20, 51]\n",
      "Ascending: \t [20, 27, 30, 51, 51, 62, 79, 85, 86, 94]\n",
      "Descending: \t [94, 86, 85, 79, 62, 51, 51, 30, 27, 20]\n"
     ]
    }
   ],
   "source": [
    "from random import randint\n",
    "\n",
    "numbers = []                 # We start with an empty list\n",
    "for i in range(10):\n",
    "    rn = randint(1,100)\n",
    "    numbers.append( rn )     # Append one element at the time\n",
    "print('Random: \\t', numbers )             #\n",
    "\n",
    "\n",
    "numbers.reverse()            # Reverse order of element\n",
    "print('Reverse: \\t', numbers )             #\n",
    "\n",
    "numbers.sort()               # Sort in ascending order\n",
    "print('Ascending: \\t', numbers )             #\n",
    "\n",
    "numbers.sort(reverse = True) # Sort in descending order\n",
    "print('Descending: \\t', numbers )             #\n"
   ]
  },
  {
   "cell_type": "markdown",
   "metadata": {},
   "source": [
    "# Slicing sequences\n",
    "\n",
    "## Sequences\n",
    "\n",
    "Strings and lists are both sequences and have a lot in common \n",
    "\n",
    "### String\n",
    "```python\n",
    "s = \"abcdef\"\n",
    "\n",
    "print( len(s) )       # 5\n",
    "print( max(s) )       # e\n",
    "print( min(s) )       # a\n",
    "print( s[3])          # d\n",
    "print( s[1:3])        # bc\n",
    "\n",
    "for c in s:\n",
    "    print(c, end=\" \") # a b c d e\n",
    "print()\n",
    "```\n",
    "\n",
    "---\n",
    "\n",
    "### List\n",
    "\n",
    "```python\n",
    "a = [1,2,3,4,5,6]\n",
    "\n",
    "print( len(a) )        # 5\n",
    "print( max(a) )        # 5\n",
    "print( min(a) )        # 1\n",
    "print( a[3])           # 4\n",
    "print( a[1:3])         # [2, 3]\n",
    "\n",
    "for n in a:\n",
    "    print(n, end=\" \")  # 1 2 3 4 5\n",
    "print()\n",
    "```\n",
    "\n",
    "\n",
    "- Something that works for strings often works for list.\n",
    "- However, certain things doesn't make sense in both cases, for example\n",
    "    - `split()` doesn't make sense for a list\n",
    "    - `sum()` doesn't make sense for a string\n"
   ]
  },
  {
   "cell_type": "markdown",
   "metadata": {},
   "source": [
    "## Slicing sequences\n",
    "\n",
    "Accessing certain parts using slicing works for all sequences\n",
    "\n",
    "- Accessing certain parts using slicing works for all sequences\n",
    "- Similar to range a slice looks like `[start: stop: step]`\n",
    "- ... where all of them has certain default values\n",
    "- Default values: `start = 0`, `stop = len(...)+1`, `step = 1`\n",
    "- Remember that \\verb+stop+ is not included when used \n",
    "- Example: Various slices for list `a = [0,1,2,3,4,5,6,7,8,9]`\n",
    "\n",
    "```\n",
    "\n",
    "a[2:5] ==> [2, 3, 4]\n",
    "a[2:9:2] ==> [2, 4, 6, 8]\n",
    "a[6:2:-1] ==> [6, 5, 4, 3]\n",
    "a[:6:] ==> [0, 1, 2, 3, 4, 5]  (Uses default for start and step)\n",
    "a[5::] ==> [5, 6, 7, 8, 9]     (Uses default for stop and step\n",
    "a[::] ==> [0, 1, 2, 3, 4, 5, 6, 7, 8, 9] (All default ==> list copy)\n",
    "a[::-1] ==> [9, 8, 7, 6, 5, 4, 3, 2, 1, 0] (Reverse copy)\n",
    "```\n",
    "\n",
    "- Remember that it also works for strings\n",
    "- `a[::-1]` looks rather cryptic but is frequently used to reverse sequences"
   ]
  },
  {
   "cell_type": "markdown",
   "metadata": {},
   "source": [
    "## Example: Reversing strings\n",
    "\n",
    "- Two variants to reverse a string\n",
    "\n",
    "```python\n",
    "def reverse(s):\n",
    "    rev = \"\"\n",
    "    for c in s:   # Add characters in reverse order\n",
    "        rev = c + rev\n",
    "    return rev\n",
    "\n",
    "# Program starts\n",
    "s = \"Python\"\n",
    "rev1 = reverse(s)  # Call function reverse(s)\n",
    "print(rev1)        # Output: nohtyP\n",
    "\n",
    "rev2 = s[::-1]     # Slicing\n",
    "print(rev2)        # Output: nohtyP\n",
    "```\n",
    "\n",
    "- Version 1: We build a new string by adding the characters in reverse order\n",
    "- Version 2: We apply the slice `s[::-1]` -> the entire string (`start = 0`, `stop = len(s)+1`) in reverse order (`step = -1`)"
   ]
  },
  {
   "cell_type": "code",
   "execution_count": 1,
   "metadata": {},
   "outputs": [],
   "source": [
    "def reverse(s):\n",
    "    rev = \"\"\n",
    "    for c in s:   # Add characters in reverse order\n",
    "        rev = c + rev\n",
    "    return rev"
   ]
  },
  {
   "cell_type": "code",
   "execution_count": 6,
   "metadata": {},
   "outputs": [
    {
     "data": {
      "text/plain": [
       "'ruhtrA gniK ma I'"
      ]
     },
     "execution_count": 6,
     "metadata": {},
     "output_type": "execute_result"
    }
   ],
   "source": [
    "reverse('I am King Arthur')"
   ]
  },
  {
   "cell_type": "code",
   "execution_count": 7,
   "metadata": {},
   "outputs": [
    {
     "data": {
      "text/plain": [
       "'ruhtrA gniK ma I'"
      ]
     },
     "execution_count": 7,
     "metadata": {},
     "output_type": "execute_result"
    }
   ],
   "source": [
    "reverse('I am King Arthur')"
   ]
  },
  {
   "cell_type": "code",
   "execution_count": 15,
   "metadata": {},
   "outputs": [
    {
     "data": {
      "text/plain": [
       "'ruhtrA gniK ma I'"
      ]
     },
     "execution_count": 15,
     "metadata": {},
     "output_type": "execute_result"
    }
   ],
   "source": [
    "'I am King Arthur'[::-1]"
   ]
  },
  {
   "cell_type": "markdown",
   "metadata": {},
   "source": [
    "## Search using keyword `in`\n",
    "\n",
    "```python\n",
    "def contains(s,l):\n",
    "    for c in s:\n",
    "        if c == l:\n",
    "            return True\n",
    "    return False\n",
    "\n",
    "# Program starts\n",
    "s = \"Python\"\n",
    "c = 'y'\n",
    "if contains(s,c):\n",
    "    print(s, \"contains\", c)  # Output: Python contains y\n",
    "\n",
    "if c in s:    # Search for char c in string s\n",
    "    print(s, \"contains\", c)  # Output: Python contains y\n",
    "\n",
    "a = [1,2,3,4,5]\n",
    "n = 3\n",
    "if n in a:    # Search for number n in list a\n",
    "    print(a, \"contains\", n)  # Output: [1, 2, 3, 4, 5] contains 3\n",
    "```\n",
    "\n",
    "- Hence, the keyword `in` can also be used to search for elements in a sequence"
   ]
  },
  {
   "cell_type": "markdown",
   "metadata": {},
   "source": [
    "## Convert ranges and strings to lists\n",
    "\n",
    "\n",
    "The function `list()` can convert strings and ranges to lists\n",
    "\n",
    "```python\n",
    "a = list(\"Hello\")\n",
    "print( a, type(a) )     # Output: ['H', 'e', 'l', 'l', 'o'] <class 'list'>\n",
    "\n",
    "b = list( range(1,6) )\n",
    "print( b, type(b) )    # Output: [1, 2, 3, 4, 5] <class 'list'>\n",
    "````\n",
    "\n",
    "- `list()` is a convertion function like `int(), float(), str()`, and `bool()`\n",
    "- `list(x)` tries to convert `x` into a list \n",
    "- `list(...)` works for strings and ranges and a few other contsructs"
   ]
  },
  {
   "cell_type": "markdown",
   "metadata": {},
   "source": [
    "## Splitting strings using `split()`\n",
    "\n",
    "```python\n",
    "s = input(\"Enter a few words: \")\n",
    "words = s.split()\n",
    "print(words)\n",
    "\n",
    "s = input(\"Enter a few comma-separated words: \").split(\",\")\n",
    "print(words)\n",
    "```\n",
    "\n",
    "- Usage\n",
    "\n",
    "```\n",
    "Enter a few words: Do Re Mi Fa So La\n",
    "['Do', 'Re', 'Mi', 'Fa', 'So', 'La']\n",
    "Enter a few comma-separated words: Do,Re,Mi,Fa,So,La\n",
    "['Do', 'Re', 'Mi', 'Fa', 'So', 'La']\n",
    "```\n",
    "\n",
    "- We can split a string into a list of words using the string method \\verb+split()+\n",
    "- `split()` uses by default whitespace (`\" \"`) to separate words, ...\n",
    "- ... but can be configured to use other strings (e.g. `split(\",\")`)  \n"
   ]
  },
  {
   "cell_type": "markdown",
   "metadata": {},
   "source": [
    "# List comprehension\n",
    "## Applying functions to lists\n",
    "\n",
    "- Three variants for applying function $f(x) = x^2$ to all elements of a list \n",
    "\n",
    "```python\n",
    "def square_list(a):\n",
    "    sq = []\n",
    "    for n in a:\n",
    "        sq.append( n*n )\n",
    "    return sq\n",
    "    \n",
    "def square(x): return x*x\n",
    "\n",
    "# Program starts\n",
    "lst = [1,2,3,4,5]\n",
    "sq = square_list(lst)\n",
    "print(sq)          # Output: [1, 4, 9, 16, 25]\n",
    "\n",
    "# Using list comprehensions\n",
    "sq = [square(p) for p in lst]\n",
    "print(sq)          # Output: [1, 4, 9, 16, 25]\n",
    "\n",
    "sq = [p*p for p in lst]\n",
    "print(sq)          # Output: [1, 4, 9, 16, 25]\n",
    "```"
   ]
  },
  {
   "cell_type": "code",
   "execution_count": 17,
   "metadata": {},
   "outputs": [],
   "source": [
    "def square_list(a):\n",
    "    sq = []\n",
    "    for n in a:\n",
    "        sq.append( n*n )\n",
    "    return sq\n",
    "\n",
    "def square(x): return x*x"
   ]
  },
  {
   "cell_type": "code",
   "execution_count": 24,
   "metadata": {},
   "outputs": [
    {
     "name": "stdout",
     "output_type": "stream",
     "text": [
      "[1, 4, 9, 16, 25]\n",
      "[1, 4, 9, 16, 25]\n"
     ]
    }
   ],
   "source": [
    "lst = [1,2,3,4,5]\n",
    "\n",
    "print(square_list(lst))\n",
    "\n",
    "##\n",
    "\n",
    "sq = square_list(lst)\n",
    "print(sq)  "
   ]
  },
  {
   "cell_type": "code",
   "execution_count": 19,
   "metadata": {},
   "outputs": [
    {
     "name": "stdout",
     "output_type": "stream",
     "text": [
      "[1, 4, 9, 16, 25]\n"
     ]
    }
   ],
   "source": [
    "# Using list comprehensions\n",
    "sq = [square(p) for p in lst]\n",
    "print(sq) "
   ]
  },
  {
   "cell_type": "code",
   "execution_count": 22,
   "metadata": {},
   "outputs": [
    {
     "name": "stdout",
     "output_type": "stream",
     "text": [
      "[1, 4, 9, 16, 25]\n"
     ]
    }
   ],
   "source": [
    "sq = [p*p for p in lst]\n",
    "print(sq) "
   ]
  },
  {
   "cell_type": "markdown",
   "metadata": {},
   "source": [
    "## List comprehensions\n",
    "\n",
    "```python\n",
    "from math import sqrt\n",
    "\n",
    "lst = list( range(1,6) )\n",
    "print(lst)        # [1, 2, 3, 4, 5]\n",
    "\n",
    "square = [n*n for n in lst]\n",
    "print(square)   # [1, 4, 9, 16, 25]\n",
    "\n",
    "root = [round(sqrt(n),2) for n in lst]\n",
    "print(root)\n",
    "```\n",
    "\n",
    "- `[n*n for n in lst]` is a **list comprehension**\n",
    "- We apply the function `n*n` on all elements in list `lst`\n",
    "- The result is a new list\n",
    "- They are a compact version of iterating over all elements and applying the function on each element."
   ]
  },
  {
   "cell_type": "markdown",
   "metadata": {},
   "source": [
    "## Advanced list comprehensions\n",
    "\n",
    "\n",
    "```python\n",
    "\n",
    "# Integers dividable by 7 in range 1 to 50\n",
    "div_7 = [n for n in range(1,51) if n%7==0]\n",
    "print(div_7)\n",
    "\n",
    "# Square all integers, remove everything else\n",
    "lst = [\"ABC\", 23.4,  7, True,  9, \"xyz\", 10]\n",
    "only_ints = [pow(x,2) for x in lst if type(x) == int]\n",
    "print(only_ints)\n",
    "```\n",
    "\n",
    "Output\n",
    "```[7, 14, 21, 28, 35, 42, 49]\n",
    "[49, 81, 100]\n",
    "```\n",
    "- We can add an \\verb+if+ clause to list comprehensions to filter the content\n",
    "- Only elements fulfilling the if criteria are added to list\n",
    "- `type(x) == int` -> type is an entity that can be used in boolean expressions "
   ]
  },
  {
   "cell_type": "code",
   "execution_count": 25,
   "metadata": {},
   "outputs": [
    {
     "name": "stdout",
     "output_type": "stream",
     "text": [
      "[49, 81, 100]\n"
     ]
    }
   ],
   "source": [
    "# Square all integers, remove everything else\n",
    "lst = [\"ABC\", 23.4,  7, True,  9, \"xyz\", 10]\n",
    "only_ints = [pow(x,2) for x in lst if type(x) == int]\n",
    "print(only_ints)"
   ]
  },
  {
   "cell_type": "markdown",
   "metadata": {},
   "source": [
    "## Read multiple integers\n",
    "\n",
    "\n",
    "```python\n",
    "\n",
    "# Read multiple space separated integers from keyboard\n",
    "text = input(\"Enter integers separated by one whitespace: \")\n",
    "words = text.split()\n",
    "ints = [int(w) for w in words]\n",
    "\n",
    "print(f\"Largest number is {max(ints)}, smallest is {min(ints)}\")\n",
    "```\n",
    "\n",
    "Usage\n",
    "```\n",
    "\n",
    "Enter integers separated by one whitespace: 23 100 65 97 8 12\n",
    "Largest number is 100, smallest is 8\n",
    "```\n",
    "\n",
    "1. We read input as a single string `\"23 100 65 97 8 12\"+`\n",
    "2. We split the string into a list of words `[\"23\",\"100\",\"65\",\"97\",\"8\",\"12\"]`\n",
    "3. We convert each word (e.g. `\"23\"`) to an integer (e.g. `23`)\n",
    "4. We find smallest/largest element by applying min/max on the integer list\n"
   ]
  },
  {
   "cell_type": "code",
   "execution_count": 26,
   "metadata": {},
   "outputs": [
    {
     "name": "stdout",
     "output_type": "stream",
     "text": [
      "Enter integers separated by one whitespace: 32 31 100 23 45 99\n",
      "Largest number is 100, smallest is 23\n"
     ]
    }
   ],
   "source": [
    "# Read multiple space separated integers from keyboard\n",
    "text = input(\"Enter integers separated by one whitespace: \")\n",
    "words = text.split()\n",
    "ints = [int(w) for w in words]\n",
    "\n",
    "print(f\"Largest number is {max(ints)}, smallest is {min(ints)}\")"
   ]
  },
  {
   "cell_type": "markdown",
   "metadata": {},
   "source": [
    "## Two-dimensional lists (Matrix)\n",
    "\n",
    "\n",
    "```python\n",
    "# A two-dimensional list\n",
    "a = [ [1,2,3], [4,5,6], [7,8,9] ] # Format is 3x3\n",
    "\n",
    "print(a)       # [[1, 2, 3], [4, 5, 6], [7, 8, 9]]\n",
    "print(a[0][2]) # 1st row, 3rd column ==> 3\n",
    "print(a[1])    # Entire 2nd row ==> [4,5,6]\n",
    "\n",
    "a[2][2] = 99   # Replace 9 with 99\n",
    "print(a)       # [[1, 2, 3], [4, 5, 6], [7, 8, 99]]\n",
    "\n",
    "# A 4x3 matrix with only 1 elements \n",
    "b = [4*[1], 4*[1], 4*[1]]\n",
    "print(b)        # [[1, 1, 1, 1], [1, 1, 1, 1], [1, 1, 1, 1]]\n",
    "```\n",
    "\n",
    "- A two-dimensional list is called a matrix\n",
    "- It is a list containing other lists\n",
    "- We access individual elements using `a[0][2]`"
   ]
  },
  {
   "cell_type": "code",
   "execution_count": 27,
   "metadata": {},
   "outputs": [],
   "source": [
    "a = [ [1,2,3], [4,5,6], [7,8,9] ] # Format is 3x3"
   ]
  },
  {
   "cell_type": "code",
   "execution_count": 30,
   "metadata": {},
   "outputs": [
    {
     "data": {
      "text/plain": [
       "[1, 2, 3]"
      ]
     },
     "execution_count": 30,
     "metadata": {},
     "output_type": "execute_result"
    }
   ],
   "source": [
    "a[0]"
   ]
  },
  {
   "cell_type": "markdown",
   "metadata": {},
   "source": [
    "## Simple list programming\n",
    "\n",
    "Exercise: Write a program `random_elements.py` that:\n",
    "- Creates a list containing 10 random floats in interval [-10,10]\n",
    "- Converts the list to an integer list (correctly rounded off)\n",
    "- Prints the smallest and largest elements in the integer list\n"
   ]
  },
  {
   "cell_type": "code",
   "execution_count": 34,
   "metadata": {},
   "outputs": [
    {
     "name": "stdout",
     "output_type": "stream",
     "text": [
      "\n",
      "Largest element is 10, smallest is -10\n"
     ]
    }
   ],
   "source": [
    "import random\n",
    "\n",
    "# A list with ten random floats\n",
    "floats = []\n",
    "for i in range(10):\n",
    "    rnd = random.uniform(-10,10)\n",
    "    floats.append(rnd)\n",
    "\n",
    "# Correctly rounded off integers\n",
    "ints = []\n",
    "for f in floats:\n",
    "    ints.append( round(f) )  # NOTE We use append() repeatedly to build our lists.\n",
    "\n",
    "\n",
    "# Print largest and smallest\n",
    "lrg = max(ints)\n",
    "sml = min(ints)\n",
    "print(f\"\\nLargest element is {lrg}, smallest is {sml}\")\n",
    "\n",
    "\n"
   ]
  },
  {
   "cell_type": "markdown",
   "metadata": {},
   "source": [
    "### A much shorter version using list comprehensions\n",
    "\n",
    "(Version 2)"
   ]
  },
  {
   "cell_type": "code",
   "execution_count": 36,
   "metadata": {},
   "outputs": [
    {
     "name": "stdout",
     "output_type": "stream",
     "text": [
      "\n",
      "Largest element is 8, smallest is -5\n"
     ]
    }
   ],
   "source": [
    "import random as rd\n",
    "\n",
    "# Ten random floats\n",
    "floats = [rd.uniform(-10,10) for i in range(10)]\n",
    "\n",
    "# Rounded of integers\n",
    "ints = [round(f) for f in floats]\n",
    "\n",
    "# Print largest and smallest\n",
    "print(f\"\\nLargest element is {max(ints)}, smallest is {min(ints)}\")"
   ]
  },
  {
   "cell_type": "code",
   "execution_count": 4,
   "metadata": {},
   "outputs": [],
   "source": [
    "f1 = Fraction(4,234)"
   ]
  },
  {
   "cell_type": "code",
   "execution_count": 5,
   "metadata": {},
   "outputs": [],
   "source": [
    "f2 = Fraction(53/212)"
   ]
  },
  {
   "cell_type": "code",
   "execution_count": 17,
   "metadata": {},
   "outputs": [
    {
     "data": {
      "text/plain": [
       "125"
      ]
     },
     "execution_count": 17,
     "metadata": {},
     "output_type": "execute_result"
    }
   ],
   "source": [
    "(f1+f2).numerator"
   ]
  },
  {
   "cell_type": "code",
   "execution_count": 38,
   "metadata": {},
   "outputs": [
    {
     "data": {
      "text/plain": [
       "Fraction(6004799503160661, 9007199254740992)"
      ]
     },
     "execution_count": 38,
     "metadata": {},
     "output_type": "execute_result"
    }
   ],
   "source": []
  },
  {
   "cell_type": "code",
   "execution_count": 25,
   "metadata": {},
   "outputs": [
    {
     "data": {
      "text/plain": [
       "Fraction(2, 117)"
      ]
     },
     "execution_count": 25,
     "metadata": {},
     "output_type": "execute_result"
    }
   ],
   "source": [
    "f1"
   ]
  },
  {
   "cell_type": "code",
   "execution_count": null,
   "metadata": {},
   "outputs": [],
   "source": []
  }
 ],
 "metadata": {
  "kernelspec": {
   "display_name": "Python 3",
   "language": "python",
   "name": "python3"
  },
  "language_info": {
   "codemirror_mode": {
    "name": "ipython",
    "version": 3
   },
   "file_extension": ".py",
   "mimetype": "text/x-python",
   "name": "python",
   "nbconvert_exporter": "python",
   "pygments_lexer": "ipython3",
   "version": "3.7.7"
  }
 },
 "nbformat": 4,
 "nbformat_minor": 4
}
